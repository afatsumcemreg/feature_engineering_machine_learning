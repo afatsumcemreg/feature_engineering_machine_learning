{
 "cells": [
  {
   "cell_type": "markdown",
   "id": "4303d73d",
   "metadata": {
    "papermill": {
     "duration": 0.008782,
     "end_time": "2022-12-04T18:18:52.371005",
     "exception": false,
     "start_time": "2022-12-04T18:18:52.362223",
     "status": "completed"
    },
    "tags": []
   },
   "source": [
    "# Error Evaluation for Regression Models\n",
    "\n",
    "# Problem\n",
    "### Employees' years of experience and salary information are given.\n",
    "### Create the linear regression model equation according to the given bias and weight.\n",
    "### Bias = 275\n",
    "### Weight = 90\n",
    "### Equation: y' = b+wx\n",
    "### Estimate the salary for all years of experience in the table according to the model equation you created.\n",
    "### Calculate MSE, RMSE, MAE, and R2 scores to measure the success of the model"
   ]
  },
  {
   "cell_type": "code",
   "execution_count": 1,
   "id": "4e08bf0e",
   "metadata": {
    "_cell_guid": "b1076dfc-b9ad-4769-8c92-a6c4dae69d19",
    "_uuid": "8f2839f25d086af736a60e9eeb907d3b93b6e0e5",
    "execution": {
     "iopub.execute_input": "2022-12-04T18:18:52.389623Z",
     "iopub.status.busy": "2022-12-04T18:18:52.388178Z",
     "iopub.status.idle": "2022-12-04T18:18:53.402362Z",
     "shell.execute_reply": "2022-12-04T18:18:53.401465Z"
    },
    "papermill": {
     "duration": 1.026202,
     "end_time": "2022-12-04T18:18:53.405059",
     "exception": false,
     "start_time": "2022-12-04T18:18:52.378857",
     "status": "completed"
    },
    "tags": []
   },
   "outputs": [],
   "source": [
    "import numpy as np # linear algebra\n",
    "import pandas as pd # data processing, CSV file I/O (e.g. pd.read_csv)\n",
    "import warnings\n",
    "from sklearn.metrics import mean_absolute_error, mean_squared_error, r2_score\n",
    "warnings.filterwarnings('ignore')"
   ]
  },
  {
   "cell_type": "code",
   "execution_count": 2,
   "id": "0366235c",
   "metadata": {
    "execution": {
     "iopub.execute_input": "2022-12-04T18:18:53.421940Z",
     "iopub.status.busy": "2022-12-04T18:18:53.421556Z",
     "iopub.status.idle": "2022-12-04T18:18:53.784292Z",
     "shell.execute_reply": "2022-12-04T18:18:53.783165Z"
    },
    "papermill": {
     "duration": 0.374756,
     "end_time": "2022-12-04T18:18:53.787510",
     "exception": false,
     "start_time": "2022-12-04T18:18:53.412754",
     "status": "completed"
    },
    "tags": []
   },
   "outputs": [
    {
     "data": {
      "text/html": [
       "<div>\n",
       "<style scoped>\n",
       "    .dataframe tbody tr th:only-of-type {\n",
       "        vertical-align: middle;\n",
       "    }\n",
       "\n",
       "    .dataframe tbody tr th {\n",
       "        vertical-align: top;\n",
       "    }\n",
       "\n",
       "    .dataframe thead th {\n",
       "        text-align: right;\n",
       "    }\n",
       "</style>\n",
       "<table border=\"1\" class=\"dataframe\">\n",
       "  <thead>\n",
       "    <tr style=\"text-align: right;\">\n",
       "      <th></th>\n",
       "      <th>experience_year</th>\n",
       "      <th>salary</th>\n",
       "      <th>salary_prediction</th>\n",
       "      <th>errors</th>\n",
       "      <th>squared_error</th>\n",
       "      <th>absolute_error</th>\n",
       "    </tr>\n",
       "  </thead>\n",
       "  <tbody>\n",
       "    <tr>\n",
       "      <th>0</th>\n",
       "      <td>5</td>\n",
       "      <td>600</td>\n",
       "      <td>NaN</td>\n",
       "      <td>NaN</td>\n",
       "      <td>NaN</td>\n",
       "      <td>NaN</td>\n",
       "    </tr>\n",
       "    <tr>\n",
       "      <th>1</th>\n",
       "      <td>7</td>\n",
       "      <td>900</td>\n",
       "      <td>NaN</td>\n",
       "      <td>NaN</td>\n",
       "      <td>NaN</td>\n",
       "      <td>NaN</td>\n",
       "    </tr>\n",
       "    <tr>\n",
       "      <th>2</th>\n",
       "      <td>3</td>\n",
       "      <td>550</td>\n",
       "      <td>NaN</td>\n",
       "      <td>NaN</td>\n",
       "      <td>NaN</td>\n",
       "      <td>NaN</td>\n",
       "    </tr>\n",
       "    <tr>\n",
       "      <th>3</th>\n",
       "      <td>3</td>\n",
       "      <td>500</td>\n",
       "      <td>NaN</td>\n",
       "      <td>NaN</td>\n",
       "      <td>NaN</td>\n",
       "      <td>NaN</td>\n",
       "    </tr>\n",
       "    <tr>\n",
       "      <th>4</th>\n",
       "      <td>2</td>\n",
       "      <td>400</td>\n",
       "      <td>NaN</td>\n",
       "      <td>NaN</td>\n",
       "      <td>NaN</td>\n",
       "      <td>NaN</td>\n",
       "    </tr>\n",
       "    <tr>\n",
       "      <th>5</th>\n",
       "      <td>7</td>\n",
       "      <td>950</td>\n",
       "      <td>NaN</td>\n",
       "      <td>NaN</td>\n",
       "      <td>NaN</td>\n",
       "      <td>NaN</td>\n",
       "    </tr>\n",
       "    <tr>\n",
       "      <th>6</th>\n",
       "      <td>3</td>\n",
       "      <td>540</td>\n",
       "      <td>NaN</td>\n",
       "      <td>NaN</td>\n",
       "      <td>NaN</td>\n",
       "      <td>NaN</td>\n",
       "    </tr>\n",
       "    <tr>\n",
       "      <th>7</th>\n",
       "      <td>10</td>\n",
       "      <td>1200</td>\n",
       "      <td>NaN</td>\n",
       "      <td>NaN</td>\n",
       "      <td>NaN</td>\n",
       "      <td>NaN</td>\n",
       "    </tr>\n",
       "    <tr>\n",
       "      <th>8</th>\n",
       "      <td>6</td>\n",
       "      <td>900</td>\n",
       "      <td>NaN</td>\n",
       "      <td>NaN</td>\n",
       "      <td>NaN</td>\n",
       "      <td>NaN</td>\n",
       "    </tr>\n",
       "    <tr>\n",
       "      <th>9</th>\n",
       "      <td>4</td>\n",
       "      <td>550</td>\n",
       "      <td>NaN</td>\n",
       "      <td>NaN</td>\n",
       "      <td>NaN</td>\n",
       "      <td>NaN</td>\n",
       "    </tr>\n",
       "    <tr>\n",
       "      <th>10</th>\n",
       "      <td>8</td>\n",
       "      <td>1100</td>\n",
       "      <td>NaN</td>\n",
       "      <td>NaN</td>\n",
       "      <td>NaN</td>\n",
       "      <td>NaN</td>\n",
       "    </tr>\n",
       "    <tr>\n",
       "      <th>11</th>\n",
       "      <td>1</td>\n",
       "      <td>460</td>\n",
       "      <td>NaN</td>\n",
       "      <td>NaN</td>\n",
       "      <td>NaN</td>\n",
       "      <td>NaN</td>\n",
       "    </tr>\n",
       "    <tr>\n",
       "      <th>12</th>\n",
       "      <td>1</td>\n",
       "      <td>400</td>\n",
       "      <td>NaN</td>\n",
       "      <td>NaN</td>\n",
       "      <td>NaN</td>\n",
       "      <td>NaN</td>\n",
       "    </tr>\n",
       "    <tr>\n",
       "      <th>13</th>\n",
       "      <td>9</td>\n",
       "      <td>1000</td>\n",
       "      <td>NaN</td>\n",
       "      <td>NaN</td>\n",
       "      <td>NaN</td>\n",
       "      <td>NaN</td>\n",
       "    </tr>\n",
       "    <tr>\n",
       "      <th>14</th>\n",
       "      <td>1</td>\n",
       "      <td>380</td>\n",
       "      <td>NaN</td>\n",
       "      <td>NaN</td>\n",
       "      <td>NaN</td>\n",
       "      <td>NaN</td>\n",
       "    </tr>\n",
       "  </tbody>\n",
       "</table>\n",
       "</div>"
      ],
      "text/plain": [
       "    experience_year  salary  salary_prediction  errors  squared_error  \\\n",
       "0                 5     600                NaN     NaN            NaN   \n",
       "1                 7     900                NaN     NaN            NaN   \n",
       "2                 3     550                NaN     NaN            NaN   \n",
       "3                 3     500                NaN     NaN            NaN   \n",
       "4                 2     400                NaN     NaN            NaN   \n",
       "5                 7     950                NaN     NaN            NaN   \n",
       "6                 3     540                NaN     NaN            NaN   \n",
       "7                10    1200                NaN     NaN            NaN   \n",
       "8                 6     900                NaN     NaN            NaN   \n",
       "9                 4     550                NaN     NaN            NaN   \n",
       "10                8    1100                NaN     NaN            NaN   \n",
       "11                1     460                NaN     NaN            NaN   \n",
       "12                1     400                NaN     NaN            NaN   \n",
       "13                9    1000                NaN     NaN            NaN   \n",
       "14                1     380                NaN     NaN            NaN   \n",
       "\n",
       "    absolute_error  \n",
       "0              NaN  \n",
       "1              NaN  \n",
       "2              NaN  \n",
       "3              NaN  \n",
       "4              NaN  \n",
       "5              NaN  \n",
       "6              NaN  \n",
       "7              NaN  \n",
       "8              NaN  \n",
       "9              NaN  \n",
       "10             NaN  \n",
       "11             NaN  \n",
       "12             NaN  \n",
       "13             NaN  \n",
       "14             NaN  "
      ]
     },
     "execution_count": 2,
     "metadata": {},
     "output_type": "execute_result"
    }
   ],
   "source": [
    "df = pd.read_excel('/kaggle/input/evaluation-regression-model/evaluation_regression_model.xlsx')\n",
    "df"
   ]
  },
  {
   "cell_type": "markdown",
   "id": "2acee416",
   "metadata": {
    "papermill": {
     "duration": 0.007434,
     "end_time": "2022-12-04T18:18:53.802783",
     "exception": false,
     "start_time": "2022-12-04T18:18:53.795349",
     "status": "completed"
    },
    "tags": []
   },
   "source": [
    "## Let's get the lineer model equation and predict the salary\n",
    "\n",
    "### salary_prediction = bias + weight * experince_year\n",
    "### salary_prediction = 275 + 90 * experience_year"
   ]
  },
  {
   "cell_type": "markdown",
   "id": "46d31e12",
   "metadata": {
    "papermill": {
     "duration": 0.00733,
     "end_time": "2022-12-04T18:18:53.817644",
     "exception": false,
     "start_time": "2022-12-04T18:18:53.810314",
     "status": "completed"
    },
    "tags": []
   },
   "source": []
  },
  {
   "cell_type": "code",
   "execution_count": 3,
   "id": "36122907",
   "metadata": {
    "execution": {
     "iopub.execute_input": "2022-12-04T18:18:53.835878Z",
     "iopub.status.busy": "2022-12-04T18:18:53.835499Z",
     "iopub.status.idle": "2022-12-04T18:18:53.854712Z",
     "shell.execute_reply": "2022-12-04T18:18:53.853565Z"
    },
    "papermill": {
     "duration": 0.031807,
     "end_time": "2022-12-04T18:18:53.856925",
     "exception": false,
     "start_time": "2022-12-04T18:18:53.825118",
     "status": "completed"
    },
    "tags": []
   },
   "outputs": [
    {
     "data": {
      "text/html": [
       "<div>\n",
       "<style scoped>\n",
       "    .dataframe tbody tr th:only-of-type {\n",
       "        vertical-align: middle;\n",
       "    }\n",
       "\n",
       "    .dataframe tbody tr th {\n",
       "        vertical-align: top;\n",
       "    }\n",
       "\n",
       "    .dataframe thead th {\n",
       "        text-align: right;\n",
       "    }\n",
       "</style>\n",
       "<table border=\"1\" class=\"dataframe\">\n",
       "  <thead>\n",
       "    <tr style=\"text-align: right;\">\n",
       "      <th></th>\n",
       "      <th>experience_year</th>\n",
       "      <th>salary</th>\n",
       "      <th>salary_prediction</th>\n",
       "      <th>errors</th>\n",
       "      <th>squared_error</th>\n",
       "      <th>absolute_error</th>\n",
       "    </tr>\n",
       "  </thead>\n",
       "  <tbody>\n",
       "    <tr>\n",
       "      <th>0</th>\n",
       "      <td>5</td>\n",
       "      <td>600</td>\n",
       "      <td>725</td>\n",
       "      <td>NaN</td>\n",
       "      <td>NaN</td>\n",
       "      <td>NaN</td>\n",
       "    </tr>\n",
       "    <tr>\n",
       "      <th>1</th>\n",
       "      <td>7</td>\n",
       "      <td>900</td>\n",
       "      <td>905</td>\n",
       "      <td>NaN</td>\n",
       "      <td>NaN</td>\n",
       "      <td>NaN</td>\n",
       "    </tr>\n",
       "    <tr>\n",
       "      <th>2</th>\n",
       "      <td>3</td>\n",
       "      <td>550</td>\n",
       "      <td>545</td>\n",
       "      <td>NaN</td>\n",
       "      <td>NaN</td>\n",
       "      <td>NaN</td>\n",
       "    </tr>\n",
       "    <tr>\n",
       "      <th>3</th>\n",
       "      <td>3</td>\n",
       "      <td>500</td>\n",
       "      <td>545</td>\n",
       "      <td>NaN</td>\n",
       "      <td>NaN</td>\n",
       "      <td>NaN</td>\n",
       "    </tr>\n",
       "    <tr>\n",
       "      <th>4</th>\n",
       "      <td>2</td>\n",
       "      <td>400</td>\n",
       "      <td>455</td>\n",
       "      <td>NaN</td>\n",
       "      <td>NaN</td>\n",
       "      <td>NaN</td>\n",
       "    </tr>\n",
       "    <tr>\n",
       "      <th>5</th>\n",
       "      <td>7</td>\n",
       "      <td>950</td>\n",
       "      <td>905</td>\n",
       "      <td>NaN</td>\n",
       "      <td>NaN</td>\n",
       "      <td>NaN</td>\n",
       "    </tr>\n",
       "    <tr>\n",
       "      <th>6</th>\n",
       "      <td>3</td>\n",
       "      <td>540</td>\n",
       "      <td>545</td>\n",
       "      <td>NaN</td>\n",
       "      <td>NaN</td>\n",
       "      <td>NaN</td>\n",
       "    </tr>\n",
       "    <tr>\n",
       "      <th>7</th>\n",
       "      <td>10</td>\n",
       "      <td>1200</td>\n",
       "      <td>1175</td>\n",
       "      <td>NaN</td>\n",
       "      <td>NaN</td>\n",
       "      <td>NaN</td>\n",
       "    </tr>\n",
       "    <tr>\n",
       "      <th>8</th>\n",
       "      <td>6</td>\n",
       "      <td>900</td>\n",
       "      <td>815</td>\n",
       "      <td>NaN</td>\n",
       "      <td>NaN</td>\n",
       "      <td>NaN</td>\n",
       "    </tr>\n",
       "    <tr>\n",
       "      <th>9</th>\n",
       "      <td>4</td>\n",
       "      <td>550</td>\n",
       "      <td>635</td>\n",
       "      <td>NaN</td>\n",
       "      <td>NaN</td>\n",
       "      <td>NaN</td>\n",
       "    </tr>\n",
       "    <tr>\n",
       "      <th>10</th>\n",
       "      <td>8</td>\n",
       "      <td>1100</td>\n",
       "      <td>995</td>\n",
       "      <td>NaN</td>\n",
       "      <td>NaN</td>\n",
       "      <td>NaN</td>\n",
       "    </tr>\n",
       "    <tr>\n",
       "      <th>11</th>\n",
       "      <td>1</td>\n",
       "      <td>460</td>\n",
       "      <td>365</td>\n",
       "      <td>NaN</td>\n",
       "      <td>NaN</td>\n",
       "      <td>NaN</td>\n",
       "    </tr>\n",
       "    <tr>\n",
       "      <th>12</th>\n",
       "      <td>1</td>\n",
       "      <td>400</td>\n",
       "      <td>365</td>\n",
       "      <td>NaN</td>\n",
       "      <td>NaN</td>\n",
       "      <td>NaN</td>\n",
       "    </tr>\n",
       "    <tr>\n",
       "      <th>13</th>\n",
       "      <td>9</td>\n",
       "      <td>1000</td>\n",
       "      <td>1085</td>\n",
       "      <td>NaN</td>\n",
       "      <td>NaN</td>\n",
       "      <td>NaN</td>\n",
       "    </tr>\n",
       "    <tr>\n",
       "      <th>14</th>\n",
       "      <td>1</td>\n",
       "      <td>380</td>\n",
       "      <td>365</td>\n",
       "      <td>NaN</td>\n",
       "      <td>NaN</td>\n",
       "      <td>NaN</td>\n",
       "    </tr>\n",
       "  </tbody>\n",
       "</table>\n",
       "</div>"
      ],
      "text/plain": [
       "    experience_year  salary  salary_prediction  errors  squared_error  \\\n",
       "0                 5     600                725     NaN            NaN   \n",
       "1                 7     900                905     NaN            NaN   \n",
       "2                 3     550                545     NaN            NaN   \n",
       "3                 3     500                545     NaN            NaN   \n",
       "4                 2     400                455     NaN            NaN   \n",
       "5                 7     950                905     NaN            NaN   \n",
       "6                 3     540                545     NaN            NaN   \n",
       "7                10    1200               1175     NaN            NaN   \n",
       "8                 6     900                815     NaN            NaN   \n",
       "9                 4     550                635     NaN            NaN   \n",
       "10                8    1100                995     NaN            NaN   \n",
       "11                1     460                365     NaN            NaN   \n",
       "12                1     400                365     NaN            NaN   \n",
       "13                9    1000               1085     NaN            NaN   \n",
       "14                1     380                365     NaN            NaN   \n",
       "\n",
       "    absolute_error  \n",
       "0              NaN  \n",
       "1              NaN  \n",
       "2              NaN  \n",
       "3              NaN  \n",
       "4              NaN  \n",
       "5              NaN  \n",
       "6              NaN  \n",
       "7              NaN  \n",
       "8              NaN  \n",
       "9              NaN  \n",
       "10             NaN  \n",
       "11             NaN  \n",
       "12             NaN  \n",
       "13             NaN  \n",
       "14             NaN  "
      ]
     },
     "execution_count": 3,
     "metadata": {},
     "output_type": "execute_result"
    }
   ],
   "source": [
    "bias = 275\n",
    "weight = 90\n",
    "df['salary_prediction'] = bias + weight*df['experience_year']\n",
    "df"
   ]
  },
  {
   "cell_type": "markdown",
   "id": "8bc0e19f",
   "metadata": {
    "papermill": {
     "duration": 0.007717,
     "end_time": "2022-12-04T18:18:53.872620",
     "exception": false,
     "start_time": "2022-12-04T18:18:53.864903",
     "status": "completed"
    },
    "tags": []
   },
   "source": [
    "### Now, we predicted the salary using the given model equation. Let's calculate the errors"
   ]
  },
  {
   "cell_type": "code",
   "execution_count": 4,
   "id": "186d2e02",
   "metadata": {
    "execution": {
     "iopub.execute_input": "2022-12-04T18:18:53.889930Z",
     "iopub.status.busy": "2022-12-04T18:18:53.889528Z",
     "iopub.status.idle": "2022-12-04T18:18:53.903824Z",
     "shell.execute_reply": "2022-12-04T18:18:53.902782Z"
    },
    "papermill": {
     "duration": 0.025535,
     "end_time": "2022-12-04T18:18:53.906039",
     "exception": false,
     "start_time": "2022-12-04T18:18:53.880504",
     "status": "completed"
    },
    "tags": []
   },
   "outputs": [
    {
     "data": {
      "text/html": [
       "<div>\n",
       "<style scoped>\n",
       "    .dataframe tbody tr th:only-of-type {\n",
       "        vertical-align: middle;\n",
       "    }\n",
       "\n",
       "    .dataframe tbody tr th {\n",
       "        vertical-align: top;\n",
       "    }\n",
       "\n",
       "    .dataframe thead th {\n",
       "        text-align: right;\n",
       "    }\n",
       "</style>\n",
       "<table border=\"1\" class=\"dataframe\">\n",
       "  <thead>\n",
       "    <tr style=\"text-align: right;\">\n",
       "      <th></th>\n",
       "      <th>experience_year</th>\n",
       "      <th>salary</th>\n",
       "      <th>salary_prediction</th>\n",
       "      <th>errors</th>\n",
       "      <th>squared_error</th>\n",
       "      <th>absolute_error</th>\n",
       "    </tr>\n",
       "  </thead>\n",
       "  <tbody>\n",
       "    <tr>\n",
       "      <th>0</th>\n",
       "      <td>5</td>\n",
       "      <td>600</td>\n",
       "      <td>725</td>\n",
       "      <td>-125</td>\n",
       "      <td>NaN</td>\n",
       "      <td>NaN</td>\n",
       "    </tr>\n",
       "    <tr>\n",
       "      <th>1</th>\n",
       "      <td>7</td>\n",
       "      <td>900</td>\n",
       "      <td>905</td>\n",
       "      <td>-5</td>\n",
       "      <td>NaN</td>\n",
       "      <td>NaN</td>\n",
       "    </tr>\n",
       "    <tr>\n",
       "      <th>2</th>\n",
       "      <td>3</td>\n",
       "      <td>550</td>\n",
       "      <td>545</td>\n",
       "      <td>5</td>\n",
       "      <td>NaN</td>\n",
       "      <td>NaN</td>\n",
       "    </tr>\n",
       "    <tr>\n",
       "      <th>3</th>\n",
       "      <td>3</td>\n",
       "      <td>500</td>\n",
       "      <td>545</td>\n",
       "      <td>-45</td>\n",
       "      <td>NaN</td>\n",
       "      <td>NaN</td>\n",
       "    </tr>\n",
       "    <tr>\n",
       "      <th>4</th>\n",
       "      <td>2</td>\n",
       "      <td>400</td>\n",
       "      <td>455</td>\n",
       "      <td>-55</td>\n",
       "      <td>NaN</td>\n",
       "      <td>NaN</td>\n",
       "    </tr>\n",
       "    <tr>\n",
       "      <th>5</th>\n",
       "      <td>7</td>\n",
       "      <td>950</td>\n",
       "      <td>905</td>\n",
       "      <td>45</td>\n",
       "      <td>NaN</td>\n",
       "      <td>NaN</td>\n",
       "    </tr>\n",
       "    <tr>\n",
       "      <th>6</th>\n",
       "      <td>3</td>\n",
       "      <td>540</td>\n",
       "      <td>545</td>\n",
       "      <td>-5</td>\n",
       "      <td>NaN</td>\n",
       "      <td>NaN</td>\n",
       "    </tr>\n",
       "    <tr>\n",
       "      <th>7</th>\n",
       "      <td>10</td>\n",
       "      <td>1200</td>\n",
       "      <td>1175</td>\n",
       "      <td>25</td>\n",
       "      <td>NaN</td>\n",
       "      <td>NaN</td>\n",
       "    </tr>\n",
       "    <tr>\n",
       "      <th>8</th>\n",
       "      <td>6</td>\n",
       "      <td>900</td>\n",
       "      <td>815</td>\n",
       "      <td>85</td>\n",
       "      <td>NaN</td>\n",
       "      <td>NaN</td>\n",
       "    </tr>\n",
       "    <tr>\n",
       "      <th>9</th>\n",
       "      <td>4</td>\n",
       "      <td>550</td>\n",
       "      <td>635</td>\n",
       "      <td>-85</td>\n",
       "      <td>NaN</td>\n",
       "      <td>NaN</td>\n",
       "    </tr>\n",
       "    <tr>\n",
       "      <th>10</th>\n",
       "      <td>8</td>\n",
       "      <td>1100</td>\n",
       "      <td>995</td>\n",
       "      <td>105</td>\n",
       "      <td>NaN</td>\n",
       "      <td>NaN</td>\n",
       "    </tr>\n",
       "    <tr>\n",
       "      <th>11</th>\n",
       "      <td>1</td>\n",
       "      <td>460</td>\n",
       "      <td>365</td>\n",
       "      <td>95</td>\n",
       "      <td>NaN</td>\n",
       "      <td>NaN</td>\n",
       "    </tr>\n",
       "    <tr>\n",
       "      <th>12</th>\n",
       "      <td>1</td>\n",
       "      <td>400</td>\n",
       "      <td>365</td>\n",
       "      <td>35</td>\n",
       "      <td>NaN</td>\n",
       "      <td>NaN</td>\n",
       "    </tr>\n",
       "    <tr>\n",
       "      <th>13</th>\n",
       "      <td>9</td>\n",
       "      <td>1000</td>\n",
       "      <td>1085</td>\n",
       "      <td>-85</td>\n",
       "      <td>NaN</td>\n",
       "      <td>NaN</td>\n",
       "    </tr>\n",
       "    <tr>\n",
       "      <th>14</th>\n",
       "      <td>1</td>\n",
       "      <td>380</td>\n",
       "      <td>365</td>\n",
       "      <td>15</td>\n",
       "      <td>NaN</td>\n",
       "      <td>NaN</td>\n",
       "    </tr>\n",
       "  </tbody>\n",
       "</table>\n",
       "</div>"
      ],
      "text/plain": [
       "    experience_year  salary  salary_prediction  errors  squared_error  \\\n",
       "0                 5     600                725    -125            NaN   \n",
       "1                 7     900                905      -5            NaN   \n",
       "2                 3     550                545       5            NaN   \n",
       "3                 3     500                545     -45            NaN   \n",
       "4                 2     400                455     -55            NaN   \n",
       "5                 7     950                905      45            NaN   \n",
       "6                 3     540                545      -5            NaN   \n",
       "7                10    1200               1175      25            NaN   \n",
       "8                 6     900                815      85            NaN   \n",
       "9                 4     550                635     -85            NaN   \n",
       "10                8    1100                995     105            NaN   \n",
       "11                1     460                365      95            NaN   \n",
       "12                1     400                365      35            NaN   \n",
       "13                9    1000               1085     -85            NaN   \n",
       "14                1     380                365      15            NaN   \n",
       "\n",
       "    absolute_error  \n",
       "0              NaN  \n",
       "1              NaN  \n",
       "2              NaN  \n",
       "3              NaN  \n",
       "4              NaN  \n",
       "5              NaN  \n",
       "6              NaN  \n",
       "7              NaN  \n",
       "8              NaN  \n",
       "9              NaN  \n",
       "10             NaN  \n",
       "11             NaN  \n",
       "12             NaN  \n",
       "13             NaN  \n",
       "14             NaN  "
      ]
     },
     "execution_count": 4,
     "metadata": {},
     "output_type": "execute_result"
    }
   ],
   "source": [
    "df['errors'] = df['salary'] - df['salary_prediction']\n",
    "df"
   ]
  },
  {
   "cell_type": "markdown",
   "id": "18799e26",
   "metadata": {
    "papermill": {
     "duration": 0.007961,
     "end_time": "2022-12-04T18:18:53.922461",
     "exception": false,
     "start_time": "2022-12-04T18:18:53.914500",
     "status": "completed"
    },
    "tags": []
   },
   "source": [
    "### The subsequent step is to calculate the squared errors. Let's make it"
   ]
  },
  {
   "cell_type": "code",
   "execution_count": 5,
   "id": "68abed12",
   "metadata": {
    "execution": {
     "iopub.execute_input": "2022-12-04T18:18:53.940546Z",
     "iopub.status.busy": "2022-12-04T18:18:53.940123Z",
     "iopub.status.idle": "2022-12-04T18:18:53.954480Z",
     "shell.execute_reply": "2022-12-04T18:18:53.952905Z"
    },
    "papermill": {
     "duration": 0.026008,
     "end_time": "2022-12-04T18:18:53.956709",
     "exception": false,
     "start_time": "2022-12-04T18:18:53.930701",
     "status": "completed"
    },
    "tags": []
   },
   "outputs": [
    {
     "data": {
      "text/html": [
       "<div>\n",
       "<style scoped>\n",
       "    .dataframe tbody tr th:only-of-type {\n",
       "        vertical-align: middle;\n",
       "    }\n",
       "\n",
       "    .dataframe tbody tr th {\n",
       "        vertical-align: top;\n",
       "    }\n",
       "\n",
       "    .dataframe thead th {\n",
       "        text-align: right;\n",
       "    }\n",
       "</style>\n",
       "<table border=\"1\" class=\"dataframe\">\n",
       "  <thead>\n",
       "    <tr style=\"text-align: right;\">\n",
       "      <th></th>\n",
       "      <th>experience_year</th>\n",
       "      <th>salary</th>\n",
       "      <th>salary_prediction</th>\n",
       "      <th>errors</th>\n",
       "      <th>squared_error</th>\n",
       "      <th>absolute_error</th>\n",
       "    </tr>\n",
       "  </thead>\n",
       "  <tbody>\n",
       "    <tr>\n",
       "      <th>0</th>\n",
       "      <td>5</td>\n",
       "      <td>600</td>\n",
       "      <td>725</td>\n",
       "      <td>-125</td>\n",
       "      <td>15625</td>\n",
       "      <td>NaN</td>\n",
       "    </tr>\n",
       "    <tr>\n",
       "      <th>1</th>\n",
       "      <td>7</td>\n",
       "      <td>900</td>\n",
       "      <td>905</td>\n",
       "      <td>-5</td>\n",
       "      <td>25</td>\n",
       "      <td>NaN</td>\n",
       "    </tr>\n",
       "    <tr>\n",
       "      <th>2</th>\n",
       "      <td>3</td>\n",
       "      <td>550</td>\n",
       "      <td>545</td>\n",
       "      <td>5</td>\n",
       "      <td>25</td>\n",
       "      <td>NaN</td>\n",
       "    </tr>\n",
       "    <tr>\n",
       "      <th>3</th>\n",
       "      <td>3</td>\n",
       "      <td>500</td>\n",
       "      <td>545</td>\n",
       "      <td>-45</td>\n",
       "      <td>2025</td>\n",
       "      <td>NaN</td>\n",
       "    </tr>\n",
       "    <tr>\n",
       "      <th>4</th>\n",
       "      <td>2</td>\n",
       "      <td>400</td>\n",
       "      <td>455</td>\n",
       "      <td>-55</td>\n",
       "      <td>3025</td>\n",
       "      <td>NaN</td>\n",
       "    </tr>\n",
       "    <tr>\n",
       "      <th>5</th>\n",
       "      <td>7</td>\n",
       "      <td>950</td>\n",
       "      <td>905</td>\n",
       "      <td>45</td>\n",
       "      <td>2025</td>\n",
       "      <td>NaN</td>\n",
       "    </tr>\n",
       "    <tr>\n",
       "      <th>6</th>\n",
       "      <td>3</td>\n",
       "      <td>540</td>\n",
       "      <td>545</td>\n",
       "      <td>-5</td>\n",
       "      <td>25</td>\n",
       "      <td>NaN</td>\n",
       "    </tr>\n",
       "    <tr>\n",
       "      <th>7</th>\n",
       "      <td>10</td>\n",
       "      <td>1200</td>\n",
       "      <td>1175</td>\n",
       "      <td>25</td>\n",
       "      <td>625</td>\n",
       "      <td>NaN</td>\n",
       "    </tr>\n",
       "    <tr>\n",
       "      <th>8</th>\n",
       "      <td>6</td>\n",
       "      <td>900</td>\n",
       "      <td>815</td>\n",
       "      <td>85</td>\n",
       "      <td>7225</td>\n",
       "      <td>NaN</td>\n",
       "    </tr>\n",
       "    <tr>\n",
       "      <th>9</th>\n",
       "      <td>4</td>\n",
       "      <td>550</td>\n",
       "      <td>635</td>\n",
       "      <td>-85</td>\n",
       "      <td>7225</td>\n",
       "      <td>NaN</td>\n",
       "    </tr>\n",
       "    <tr>\n",
       "      <th>10</th>\n",
       "      <td>8</td>\n",
       "      <td>1100</td>\n",
       "      <td>995</td>\n",
       "      <td>105</td>\n",
       "      <td>11025</td>\n",
       "      <td>NaN</td>\n",
       "    </tr>\n",
       "    <tr>\n",
       "      <th>11</th>\n",
       "      <td>1</td>\n",
       "      <td>460</td>\n",
       "      <td>365</td>\n",
       "      <td>95</td>\n",
       "      <td>9025</td>\n",
       "      <td>NaN</td>\n",
       "    </tr>\n",
       "    <tr>\n",
       "      <th>12</th>\n",
       "      <td>1</td>\n",
       "      <td>400</td>\n",
       "      <td>365</td>\n",
       "      <td>35</td>\n",
       "      <td>1225</td>\n",
       "      <td>NaN</td>\n",
       "    </tr>\n",
       "    <tr>\n",
       "      <th>13</th>\n",
       "      <td>9</td>\n",
       "      <td>1000</td>\n",
       "      <td>1085</td>\n",
       "      <td>-85</td>\n",
       "      <td>7225</td>\n",
       "      <td>NaN</td>\n",
       "    </tr>\n",
       "    <tr>\n",
       "      <th>14</th>\n",
       "      <td>1</td>\n",
       "      <td>380</td>\n",
       "      <td>365</td>\n",
       "      <td>15</td>\n",
       "      <td>225</td>\n",
       "      <td>NaN</td>\n",
       "    </tr>\n",
       "  </tbody>\n",
       "</table>\n",
       "</div>"
      ],
      "text/plain": [
       "    experience_year  salary  salary_prediction  errors  squared_error  \\\n",
       "0                 5     600                725    -125          15625   \n",
       "1                 7     900                905      -5             25   \n",
       "2                 3     550                545       5             25   \n",
       "3                 3     500                545     -45           2025   \n",
       "4                 2     400                455     -55           3025   \n",
       "5                 7     950                905      45           2025   \n",
       "6                 3     540                545      -5             25   \n",
       "7                10    1200               1175      25            625   \n",
       "8                 6     900                815      85           7225   \n",
       "9                 4     550                635     -85           7225   \n",
       "10                8    1100                995     105          11025   \n",
       "11                1     460                365      95           9025   \n",
       "12                1     400                365      35           1225   \n",
       "13                9    1000               1085     -85           7225   \n",
       "14                1     380                365      15            225   \n",
       "\n",
       "    absolute_error  \n",
       "0              NaN  \n",
       "1              NaN  \n",
       "2              NaN  \n",
       "3              NaN  \n",
       "4              NaN  \n",
       "5              NaN  \n",
       "6              NaN  \n",
       "7              NaN  \n",
       "8              NaN  \n",
       "9              NaN  \n",
       "10             NaN  \n",
       "11             NaN  \n",
       "12             NaN  \n",
       "13             NaN  \n",
       "14             NaN  "
      ]
     },
     "execution_count": 5,
     "metadata": {},
     "output_type": "execute_result"
    }
   ],
   "source": [
    "df['squared_error'] = np.power(df['errors'].values, 2)\n",
    "df"
   ]
  },
  {
   "cell_type": "markdown",
   "id": "5e231118",
   "metadata": {
    "papermill": {
     "duration": 0.008363,
     "end_time": "2022-12-04T18:18:53.974066",
     "exception": false,
     "start_time": "2022-12-04T18:18:53.965703",
     "status": "completed"
    },
    "tags": []
   },
   "source": [
    "### Then, let's estimate the absolute errors"
   ]
  },
  {
   "cell_type": "code",
   "execution_count": 6,
   "id": "3499bc00",
   "metadata": {
    "execution": {
     "iopub.execute_input": "2022-12-04T18:18:53.992863Z",
     "iopub.status.busy": "2022-12-04T18:18:53.992435Z",
     "iopub.status.idle": "2022-12-04T18:18:54.005509Z",
     "shell.execute_reply": "2022-12-04T18:18:54.004459Z"
    },
    "papermill": {
     "duration": 0.025098,
     "end_time": "2022-12-04T18:18:54.007823",
     "exception": false,
     "start_time": "2022-12-04T18:18:53.982725",
     "status": "completed"
    },
    "tags": []
   },
   "outputs": [
    {
     "data": {
      "text/html": [
       "<div>\n",
       "<style scoped>\n",
       "    .dataframe tbody tr th:only-of-type {\n",
       "        vertical-align: middle;\n",
       "    }\n",
       "\n",
       "    .dataframe tbody tr th {\n",
       "        vertical-align: top;\n",
       "    }\n",
       "\n",
       "    .dataframe thead th {\n",
       "        text-align: right;\n",
       "    }\n",
       "</style>\n",
       "<table border=\"1\" class=\"dataframe\">\n",
       "  <thead>\n",
       "    <tr style=\"text-align: right;\">\n",
       "      <th></th>\n",
       "      <th>experience_year</th>\n",
       "      <th>salary</th>\n",
       "      <th>salary_prediction</th>\n",
       "      <th>errors</th>\n",
       "      <th>squared_error</th>\n",
       "      <th>absolute_error</th>\n",
       "    </tr>\n",
       "  </thead>\n",
       "  <tbody>\n",
       "    <tr>\n",
       "      <th>0</th>\n",
       "      <td>5</td>\n",
       "      <td>600</td>\n",
       "      <td>725</td>\n",
       "      <td>-125</td>\n",
       "      <td>15625</td>\n",
       "      <td>125</td>\n",
       "    </tr>\n",
       "    <tr>\n",
       "      <th>1</th>\n",
       "      <td>7</td>\n",
       "      <td>900</td>\n",
       "      <td>905</td>\n",
       "      <td>-5</td>\n",
       "      <td>25</td>\n",
       "      <td>5</td>\n",
       "    </tr>\n",
       "    <tr>\n",
       "      <th>2</th>\n",
       "      <td>3</td>\n",
       "      <td>550</td>\n",
       "      <td>545</td>\n",
       "      <td>5</td>\n",
       "      <td>25</td>\n",
       "      <td>5</td>\n",
       "    </tr>\n",
       "    <tr>\n",
       "      <th>3</th>\n",
       "      <td>3</td>\n",
       "      <td>500</td>\n",
       "      <td>545</td>\n",
       "      <td>-45</td>\n",
       "      <td>2025</td>\n",
       "      <td>45</td>\n",
       "    </tr>\n",
       "    <tr>\n",
       "      <th>4</th>\n",
       "      <td>2</td>\n",
       "      <td>400</td>\n",
       "      <td>455</td>\n",
       "      <td>-55</td>\n",
       "      <td>3025</td>\n",
       "      <td>55</td>\n",
       "    </tr>\n",
       "    <tr>\n",
       "      <th>5</th>\n",
       "      <td>7</td>\n",
       "      <td>950</td>\n",
       "      <td>905</td>\n",
       "      <td>45</td>\n",
       "      <td>2025</td>\n",
       "      <td>45</td>\n",
       "    </tr>\n",
       "    <tr>\n",
       "      <th>6</th>\n",
       "      <td>3</td>\n",
       "      <td>540</td>\n",
       "      <td>545</td>\n",
       "      <td>-5</td>\n",
       "      <td>25</td>\n",
       "      <td>5</td>\n",
       "    </tr>\n",
       "    <tr>\n",
       "      <th>7</th>\n",
       "      <td>10</td>\n",
       "      <td>1200</td>\n",
       "      <td>1175</td>\n",
       "      <td>25</td>\n",
       "      <td>625</td>\n",
       "      <td>25</td>\n",
       "    </tr>\n",
       "    <tr>\n",
       "      <th>8</th>\n",
       "      <td>6</td>\n",
       "      <td>900</td>\n",
       "      <td>815</td>\n",
       "      <td>85</td>\n",
       "      <td>7225</td>\n",
       "      <td>85</td>\n",
       "    </tr>\n",
       "    <tr>\n",
       "      <th>9</th>\n",
       "      <td>4</td>\n",
       "      <td>550</td>\n",
       "      <td>635</td>\n",
       "      <td>-85</td>\n",
       "      <td>7225</td>\n",
       "      <td>85</td>\n",
       "    </tr>\n",
       "    <tr>\n",
       "      <th>10</th>\n",
       "      <td>8</td>\n",
       "      <td>1100</td>\n",
       "      <td>995</td>\n",
       "      <td>105</td>\n",
       "      <td>11025</td>\n",
       "      <td>105</td>\n",
       "    </tr>\n",
       "    <tr>\n",
       "      <th>11</th>\n",
       "      <td>1</td>\n",
       "      <td>460</td>\n",
       "      <td>365</td>\n",
       "      <td>95</td>\n",
       "      <td>9025</td>\n",
       "      <td>95</td>\n",
       "    </tr>\n",
       "    <tr>\n",
       "      <th>12</th>\n",
       "      <td>1</td>\n",
       "      <td>400</td>\n",
       "      <td>365</td>\n",
       "      <td>35</td>\n",
       "      <td>1225</td>\n",
       "      <td>35</td>\n",
       "    </tr>\n",
       "    <tr>\n",
       "      <th>13</th>\n",
       "      <td>9</td>\n",
       "      <td>1000</td>\n",
       "      <td>1085</td>\n",
       "      <td>-85</td>\n",
       "      <td>7225</td>\n",
       "      <td>85</td>\n",
       "    </tr>\n",
       "    <tr>\n",
       "      <th>14</th>\n",
       "      <td>1</td>\n",
       "      <td>380</td>\n",
       "      <td>365</td>\n",
       "      <td>15</td>\n",
       "      <td>225</td>\n",
       "      <td>15</td>\n",
       "    </tr>\n",
       "  </tbody>\n",
       "</table>\n",
       "</div>"
      ],
      "text/plain": [
       "    experience_year  salary  salary_prediction  errors  squared_error  \\\n",
       "0                 5     600                725    -125          15625   \n",
       "1                 7     900                905      -5             25   \n",
       "2                 3     550                545       5             25   \n",
       "3                 3     500                545     -45           2025   \n",
       "4                 2     400                455     -55           3025   \n",
       "5                 7     950                905      45           2025   \n",
       "6                 3     540                545      -5             25   \n",
       "7                10    1200               1175      25            625   \n",
       "8                 6     900                815      85           7225   \n",
       "9                 4     550                635     -85           7225   \n",
       "10                8    1100                995     105          11025   \n",
       "11                1     460                365      95           9025   \n",
       "12                1     400                365      35           1225   \n",
       "13                9    1000               1085     -85           7225   \n",
       "14                1     380                365      15            225   \n",
       "\n",
       "    absolute_error  \n",
       "0              125  \n",
       "1                5  \n",
       "2                5  \n",
       "3               45  \n",
       "4               55  \n",
       "5               45  \n",
       "6                5  \n",
       "7               25  \n",
       "8               85  \n",
       "9               85  \n",
       "10             105  \n",
       "11              95  \n",
       "12              35  \n",
       "13              85  \n",
       "14              15  "
      ]
     },
     "execution_count": 6,
     "metadata": {},
     "output_type": "execute_result"
    }
   ],
   "source": [
    "df['absolute_error'] = np.abs(df['errors'].values)\n",
    "df"
   ]
  },
  {
   "cell_type": "markdown",
   "id": "6ce77fd5",
   "metadata": {
    "papermill": {
     "duration": 0.008596,
     "end_time": "2022-12-04T18:18:54.025605",
     "exception": false,
     "start_time": "2022-12-04T18:18:54.017009",
     "status": "completed"
    },
    "tags": []
   },
   "source": [
    "# Mean Squared Error (MSE)"
   ]
  },
  {
   "cell_type": "markdown",
   "id": "dfae7997",
   "metadata": {
    "papermill": {
     "duration": 0.008723,
     "end_time": "2022-12-04T18:18:54.043243",
     "exception": false,
     "start_time": "2022-12-04T18:18:54.034520",
     "status": "completed"
    },
    "tags": []
   },
   "source": [
    "### Let's calculate thr MSE using the parameters computed in the above table"
   ]
  },
  {
   "cell_type": "markdown",
   "id": "360c104f",
   "metadata": {
    "papermill": {
     "duration": 0.008489,
     "end_time": "2022-12-04T18:18:54.060617",
     "exception": false,
     "start_time": "2022-12-04T18:18:54.052128",
     "status": "completed"
    },
    "tags": []
   },
   "source": [
    "### First, we should calculate the sum of squared error (SSE) as follows"
   ]
  },
  {
   "cell_type": "code",
   "execution_count": 7,
   "id": "f0ccc030",
   "metadata": {
    "execution": {
     "iopub.execute_input": "2022-12-04T18:18:54.080042Z",
     "iopub.status.busy": "2022-12-04T18:18:54.079624Z",
     "iopub.status.idle": "2022-12-04T18:18:54.085461Z",
     "shell.execute_reply": "2022-12-04T18:18:54.084473Z"
    },
    "papermill": {
     "duration": 0.018806,
     "end_time": "2022-12-04T18:18:54.088268",
     "exception": false,
     "start_time": "2022-12-04T18:18:54.069462",
     "status": "completed"
    },
    "tags": []
   },
   "outputs": [
    {
     "name": "stdout",
     "output_type": "stream",
     "text": [
      "The sum squared error (SSE) value is 66575\n"
     ]
    }
   ],
   "source": [
    "SSE = df['squared_error'].sum()\n",
    "print('The sum squared error (SSE) value is', SSE)"
   ]
  },
  {
   "cell_type": "markdown",
   "id": "ed745837",
   "metadata": {
    "papermill": {
     "duration": 0.008653,
     "end_time": "2022-12-04T18:18:54.106022",
     "exception": false,
     "start_time": "2022-12-04T18:18:54.097369",
     "status": "completed"
    },
    "tags": []
   },
   "source": [
    "### Now, let's get the observation number (n)"
   ]
  },
  {
   "cell_type": "code",
   "execution_count": 8,
   "id": "6458849a",
   "metadata": {
    "execution": {
     "iopub.execute_input": "2022-12-04T18:18:54.125325Z",
     "iopub.status.busy": "2022-12-04T18:18:54.124949Z",
     "iopub.status.idle": "2022-12-04T18:18:54.130684Z",
     "shell.execute_reply": "2022-12-04T18:18:54.129634Z"
    },
    "papermill": {
     "duration": 0.018954,
     "end_time": "2022-12-04T18:18:54.133828",
     "exception": false,
     "start_time": "2022-12-04T18:18:54.114874",
     "status": "completed"
    },
    "tags": []
   },
   "outputs": [
    {
     "name": "stdout",
     "output_type": "stream",
     "text": [
      "The number of observation is 15\n"
     ]
    }
   ],
   "source": [
    "N_OBS = df.shape[0]\n",
    "print('The number of observation is', N_OBS)"
   ]
  },
  {
   "cell_type": "markdown",
   "id": "fa388e76",
   "metadata": {
    "papermill": {
     "duration": 0.008752,
     "end_time": "2022-12-04T18:18:54.152836",
     "exception": false,
     "start_time": "2022-12-04T18:18:54.144084",
     "status": "completed"
    },
    "tags": []
   },
   "source": [
    "### Now, it is so easy. Let's calculate the MSE by dividing the sse value by the number of observations"
   ]
  },
  {
   "cell_type": "code",
   "execution_count": 9,
   "id": "1b9e4361",
   "metadata": {
    "execution": {
     "iopub.execute_input": "2022-12-04T18:18:54.172620Z",
     "iopub.status.busy": "2022-12-04T18:18:54.172202Z",
     "iopub.status.idle": "2022-12-04T18:18:54.178408Z",
     "shell.execute_reply": "2022-12-04T18:18:54.177129Z"
    },
    "papermill": {
     "duration": 0.019046,
     "end_time": "2022-12-04T18:18:54.180884",
     "exception": false,
     "start_time": "2022-12-04T18:18:54.161838",
     "status": "completed"
    },
    "tags": []
   },
   "outputs": [
    {
     "name": "stdout",
     "output_type": "stream",
     "text": [
      "The MSE is 4438.3\n"
     ]
    }
   ],
   "source": [
    "MSE = round(SSE/N_OBS, 1)\n",
    "print('The MSE is', MSE)"
   ]
  },
  {
   "cell_type": "markdown",
   "id": "d6baddd8",
   "metadata": {
    "papermill": {
     "duration": 0.00927,
     "end_time": "2022-12-04T18:18:54.199378",
     "exception": false,
     "start_time": "2022-12-04T18:18:54.190108",
     "status": "completed"
    },
    "tags": []
   },
   "source": [
    "# Root Mean Square Error (RMSE)"
   ]
  },
  {
   "cell_type": "markdown",
   "id": "32478b3a",
   "metadata": {
    "papermill": {
     "duration": 0.008888,
     "end_time": "2022-12-04T18:18:54.217999",
     "exception": false,
     "start_time": "2022-12-04T18:18:54.209111",
     "status": "completed"
    },
    "tags": []
   },
   "source": [
    "### Let's calculate the RMSE by using the calculated MSE value"
   ]
  },
  {
   "cell_type": "code",
   "execution_count": 10,
   "id": "42062009",
   "metadata": {
    "execution": {
     "iopub.execute_input": "2022-12-04T18:18:54.238257Z",
     "iopub.status.busy": "2022-12-04T18:18:54.237874Z",
     "iopub.status.idle": "2022-12-04T18:18:54.243343Z",
     "shell.execute_reply": "2022-12-04T18:18:54.242298Z"
    },
    "papermill": {
     "duration": 0.019017,
     "end_time": "2022-12-04T18:18:54.246298",
     "exception": false,
     "start_time": "2022-12-04T18:18:54.227281",
     "status": "completed"
    },
    "tags": []
   },
   "outputs": [
    {
     "name": "stdout",
     "output_type": "stream",
     "text": [
      "The root mean squared error (RMSE) value is 66.62\n"
     ]
    }
   ],
   "source": [
    "RMSE = round(np.sqrt(MSE), 2)\n",
    "print('The root mean squared error (RMSE) value is', RMSE)"
   ]
  },
  {
   "cell_type": "markdown",
   "id": "96d60b28",
   "metadata": {
    "papermill": {
     "duration": 0.008922,
     "end_time": "2022-12-04T18:18:54.264513",
     "exception": false,
     "start_time": "2022-12-04T18:18:54.255591",
     "status": "completed"
    },
    "tags": []
   },
   "source": [
    "# Mean Absolute Error (MAE)"
   ]
  },
  {
   "cell_type": "markdown",
   "id": "236bde2a",
   "metadata": {
    "papermill": {
     "duration": 0.008715,
     "end_time": "2022-12-04T18:18:54.282288",
     "exception": false,
     "start_time": "2022-12-04T18:18:54.273573",
     "status": "completed"
    },
    "tags": []
   },
   "source": [
    "### To calculate the MAE value, we need the sum of absolute error and number of observation."
   ]
  },
  {
   "cell_type": "markdown",
   "id": "cce687ec",
   "metadata": {
    "papermill": {
     "duration": 0.008793,
     "end_time": "2022-12-04T18:18:54.300388",
     "exception": false,
     "start_time": "2022-12-04T18:18:54.291595",
     "status": "completed"
    },
    "tags": []
   },
   "source": [
    "### Let's get the sum of absolute error (SAE)"
   ]
  },
  {
   "cell_type": "code",
   "execution_count": 11,
   "id": "74050c0a",
   "metadata": {
    "execution": {
     "iopub.execute_input": "2022-12-04T18:18:54.320307Z",
     "iopub.status.busy": "2022-12-04T18:18:54.319934Z",
     "iopub.status.idle": "2022-12-04T18:18:54.325893Z",
     "shell.execute_reply": "2022-12-04T18:18:54.324816Z"
    },
    "papermill": {
     "duration": 0.019185,
     "end_time": "2022-12-04T18:18:54.328681",
     "exception": false,
     "start_time": "2022-12-04T18:18:54.309496",
     "status": "completed"
    },
    "tags": []
   },
   "outputs": [
    {
     "name": "stdout",
     "output_type": "stream",
     "text": [
      "The sum of absolute eror (SAE) is 815\n"
     ]
    }
   ],
   "source": [
    "SAE = df['absolute_error'].sum()\n",
    "print('The sum of absolute eror (SAE) is', SAE)"
   ]
  },
  {
   "cell_type": "markdown",
   "id": "5a1a9c1d",
   "metadata": {
    "papermill": {
     "duration": 0.009867,
     "end_time": "2022-12-04T18:18:54.348755",
     "exception": false,
     "start_time": "2022-12-04T18:18:54.338888",
     "status": "completed"
    },
    "tags": []
   },
   "source": [
    "### Now, let's get the MAE value"
   ]
  },
  {
   "cell_type": "code",
   "execution_count": 12,
   "id": "2985f688",
   "metadata": {
    "execution": {
     "iopub.execute_input": "2022-12-04T18:18:54.369606Z",
     "iopub.status.busy": "2022-12-04T18:18:54.368785Z",
     "iopub.status.idle": "2022-12-04T18:18:54.374388Z",
     "shell.execute_reply": "2022-12-04T18:18:54.373109Z"
    },
    "papermill": {
     "duration": 0.018795,
     "end_time": "2022-12-04T18:18:54.376919",
     "exception": false,
     "start_time": "2022-12-04T18:18:54.358124",
     "status": "completed"
    },
    "tags": []
   },
   "outputs": [
    {
     "name": "stdout",
     "output_type": "stream",
     "text": [
      "The mean absolute error (MAE) is 54.33\n"
     ]
    }
   ],
   "source": [
    "MAE = SAE/N_OBS\n",
    "print('The mean absolute error (MAE) is', round(MAE, 2))"
   ]
  },
  {
   "cell_type": "markdown",
   "id": "1d28e777",
   "metadata": {
    "papermill": {
     "duration": 0.009103,
     "end_time": "2022-12-04T18:18:54.395246",
     "exception": false,
     "start_time": "2022-12-04T18:18:54.386143",
     "status": "completed"
    },
    "tags": []
   },
   "source": [
    "# Let's calcaluate them all using sklearn metrics nad NumPy"
   ]
  },
  {
   "cell_type": "markdown",
   "id": "8766d2b8",
   "metadata": {
    "papermill": {
     "duration": 0.008847,
     "end_time": "2022-12-04T18:18:54.413280",
     "exception": false,
     "start_time": "2022-12-04T18:18:54.404433",
     "status": "completed"
    },
    "tags": []
   },
   "source": [
    "## MSE"
   ]
  },
  {
   "cell_type": "code",
   "execution_count": 13,
   "id": "28f5d430",
   "metadata": {
    "execution": {
     "iopub.execute_input": "2022-12-04T18:18:54.433501Z",
     "iopub.status.busy": "2022-12-04T18:18:54.433081Z",
     "iopub.status.idle": "2022-12-04T18:18:54.439797Z",
     "shell.execute_reply": "2022-12-04T18:18:54.438652Z"
    },
    "papermill": {
     "duration": 0.020681,
     "end_time": "2022-12-04T18:18:54.443383",
     "exception": false,
     "start_time": "2022-12-04T18:18:54.422702",
     "status": "completed"
    },
    "tags": []
   },
   "outputs": [
    {
     "name": "stdout",
     "output_type": "stream",
     "text": [
      "The mean squared error (MSE) is 4438.33\n"
     ]
    }
   ],
   "source": [
    "MAE = round(mean_squared_error(df['salary'], df['salary_prediction']), 2)\n",
    "print('The mean squared error (MSE) is', MAE)"
   ]
  },
  {
   "cell_type": "markdown",
   "id": "111c4dcb",
   "metadata": {
    "papermill": {
     "duration": 0.012036,
     "end_time": "2022-12-04T18:18:54.467049",
     "exception": false,
     "start_time": "2022-12-04T18:18:54.455013",
     "status": "completed"
    },
    "tags": []
   },
   "source": [
    "## RMSE"
   ]
  },
  {
   "cell_type": "code",
   "execution_count": 14,
   "id": "ce63e2f0",
   "metadata": {
    "execution": {
     "iopub.execute_input": "2022-12-04T18:18:54.494510Z",
     "iopub.status.busy": "2022-12-04T18:18:54.493780Z",
     "iopub.status.idle": "2022-12-04T18:18:54.500102Z",
     "shell.execute_reply": "2022-12-04T18:18:54.498998Z"
    },
    "papermill": {
     "duration": 0.022454,
     "end_time": "2022-12-04T18:18:54.502459",
     "exception": false,
     "start_time": "2022-12-04T18:18:54.480005",
     "status": "completed"
    },
    "tags": []
   },
   "outputs": [
    {
     "name": "stdout",
     "output_type": "stream",
     "text": [
      "The root mean squared error (RMSE) is 66.62\n"
     ]
    }
   ],
   "source": [
    "RMSE = round(np.sqrt(MAE), 2)\n",
    "print('The root mean squared error (RMSE) is', RMSE)"
   ]
  },
  {
   "cell_type": "markdown",
   "id": "aa57d37b",
   "metadata": {
    "papermill": {
     "duration": 0.010079,
     "end_time": "2022-12-04T18:18:54.524469",
     "exception": false,
     "start_time": "2022-12-04T18:18:54.514390",
     "status": "completed"
    },
    "tags": []
   },
   "source": [
    "## MAE"
   ]
  },
  {
   "cell_type": "code",
   "execution_count": 15,
   "id": "cb9d8c15",
   "metadata": {
    "execution": {
     "iopub.execute_input": "2022-12-04T18:18:54.545772Z",
     "iopub.status.busy": "2022-12-04T18:18:54.545329Z",
     "iopub.status.idle": "2022-12-04T18:18:54.551737Z",
     "shell.execute_reply": "2022-12-04T18:18:54.550649Z"
    },
    "papermill": {
     "duration": 0.020053,
     "end_time": "2022-12-04T18:18:54.554092",
     "exception": false,
     "start_time": "2022-12-04T18:18:54.534039",
     "status": "completed"
    },
    "tags": []
   },
   "outputs": [
    {
     "name": "stdout",
     "output_type": "stream",
     "text": [
      "The mean absolute error (MAE) is 54.33\n"
     ]
    }
   ],
   "source": [
    "MAE = round(mean_absolute_error(df['salary'], df['salary_prediction']), 2)\n",
    "print('The mean absolute error (MAE) is', MAE)"
   ]
  },
  {
   "cell_type": "markdown",
   "id": "dda3885c",
   "metadata": {
    "papermill": {
     "duration": 0.008963,
     "end_time": "2022-12-04T18:18:54.572259",
     "exception": false,
     "start_time": "2022-12-04T18:18:54.563296",
     "status": "completed"
    },
    "tags": []
   },
   "source": [
    "# Let's calulate the R2 value by using the actual and predicted salary values"
   ]
  },
  {
   "cell_type": "code",
   "execution_count": 16,
   "id": "c8ba3c2e",
   "metadata": {
    "execution": {
     "iopub.execute_input": "2022-12-04T18:18:54.592583Z",
     "iopub.status.busy": "2022-12-04T18:18:54.592185Z",
     "iopub.status.idle": "2022-12-04T18:18:54.598259Z",
     "shell.execute_reply": "2022-12-04T18:18:54.597149Z"
    },
    "papermill": {
     "duration": 0.019649,
     "end_time": "2022-12-04T18:18:54.601075",
     "exception": false,
     "start_time": "2022-12-04T18:18:54.581426",
     "status": "completed"
    },
    "tags": []
   },
   "outputs": [
    {
     "name": "stdout",
     "output_type": "stream",
     "text": [
      "The R2 score is 0.94\n"
     ]
    }
   ],
   "source": [
    "R2_Score = round(r2_score(df['salary'], df['salary_prediction']), 2)\n",
    "print('The R2 score is', R2_Score)"
   ]
  },
  {
   "cell_type": "markdown",
   "id": "7e8bb48b",
   "metadata": {
    "papermill": {
     "duration": 0.009347,
     "end_time": "2022-12-04T18:18:54.620978",
     "exception": false,
     "start_time": "2022-12-04T18:18:54.611631",
     "status": "completed"
    },
    "tags": []
   },
   "source": [
    "# **Thank you for checking my notebook!**"
   ]
  }
 ],
 "metadata": {
  "kernelspec": {
   "display_name": "Python 3",
   "language": "python",
   "name": "python3"
  },
  "language_info": {
   "codemirror_mode": {
    "name": "ipython",
    "version": 3
   },
   "file_extension": ".py",
   "mimetype": "text/x-python",
   "name": "python",
   "nbconvert_exporter": "python",
   "pygments_lexer": "ipython3",
   "version": "3.7.12"
  },
  "papermill": {
   "default_parameters": {},
   "duration": 11.191899,
   "end_time": "2022-12-04T18:18:55.351268",
   "environment_variables": {},
   "exception": null,
   "input_path": "__notebook__.ipynb",
   "output_path": "__notebook__.ipynb",
   "parameters": {},
   "start_time": "2022-12-04T18:18:44.159369",
   "version": "2.3.4"
  }
 },
 "nbformat": 4,
 "nbformat_minor": 5
}
