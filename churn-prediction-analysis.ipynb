{
 "cells": [
  {
   "cell_type": "markdown",
   "id": "ecb4413e",
   "metadata": {
    "papermill": {
     "duration": 0.026872,
     "end_time": "2022-12-04T16:14:04.287027",
     "exception": false,
     "start_time": "2022-12-04T16:14:04.260155",
     "status": "completed"
    },
    "tags": []
   },
   "source": [
    "# **Exploratory Data Analysis, Feature Engineering, and Developing a Machine Learning Model to Prevent Telco Customer Churn**\n",
    "\n",
    "# Business Problem\n",
    "\n",
    "### It is requested to develop a machine learning model that can predict customers who will leave the company. You are expected to perform the necessary data analysis and feature engineering steps before developing the model.\n",
    "\n",
    "# Dataset Story\n",
    "\n",
    "### Telco customer churn data includes information about a fictitious telecom company that provided home phone and Internet services to 7043 California customers in the third quarter. It includes which customers have left, stayed or signed up for the service.\n",
    "\n",
    "# Some information on the dataset\n",
    "\n",
    "* Each row represents a unique customer.\n",
    "* Variables contain information about customer service, account and demographic data.\n",
    "* Services that customers sign up for - phone, multiple lines, internet, online security, online backup, device protection, tech support, and streaming TV and movies\n",
    "* Customer account information – how long they have been a customer, contract, payment method, paperless invoicing, monthly fees and total fees\n",
    "* Demographic information about customers - gender, age range and whether they have partners and dependents\n",
    "\n",
    "# Variables \n",
    "\n",
    "### 21 Variables 7043 Observations\n",
    "\n",
    "*  CustomerId : Customer ID\n",
    "*  Gender : Gender\n",
    "*  SeniorCitizen : Whether the client is old (1, 0)\n",
    "*  Partner : Whether the customer has a partner (Yes, No) ? whether to be married\n",
    "*  Dependents : Whether the customer has dependents (Yes, No) (Child, mother, father, grandmother)\n",
    "*  tenure : The number of months the customer has stayed with the company\n",
    "*  PhoneService : Whether the customer has phone service (Yes, No)\n",
    "*  MultipleLines : Whether the customer has more than one line (Yes, No, No Telephone service)\n",
    "*  InternetService: Customer's internet service provider (DSL, Fiber optic, No)\n",
    "*  OnlineSecurity : Whether the customer has online security (Yes, No, no Internet service)\n",
    "*  OnlineBackup : Whether the customer has an online backup (Yes, No, no Internet service)\n",
    "*  DeviceProtection : Whether the customer has device protection (Yes, No, no Internet service)\n",
    "*  TechSupport : Whether the customer receives technical support (Yes, No, no Internet service)\n",
    "*  StreamingTV : Indicates whether the customer is broadcasting TV (Yes, No, no Internet service) Indicates whether the customer uses the Internet service to stream television programs from a third-party provider\n",
    "*  StreamingMovies : Whether the customer is streaming movies (Yes, No, no Internet service) Indicates whether the customer is using the Internet service to stream movies from a third-party provider\n",
    "*  Contract : Contract duration of the client (Month to month, One year, Two years)\n",
    "*  PaperlessBilling : Whether the customer has a paperless invoice (Yes, No)\n",
    "*  PaymentMethod : Customer's payment method (Electronic check, Postal check, Bank transfer (automatic), Credit card (automatic))\n",
    "*  MonthlyCharges : The amount charged monthly from the customer\n",
    "*  TotalCharges : The total amount charged from the customer\n",
    "*  Churn : Whether the customer uses (Yes or No) - Customers who left in the last month or quarter"
   ]
  },
  {
   "cell_type": "markdown",
   "id": "189a2620",
   "metadata": {
    "papermill": {
     "duration": 0.024189,
     "end_time": "2022-12-04T16:14:04.336252",
     "exception": false,
     "start_time": "2022-12-04T16:14:04.312063",
     "status": "completed"
    },
    "tags": []
   },
   "source": [
    "# Importing the libraries"
   ]
  },
  {
   "cell_type": "code",
   "execution_count": 1,
   "id": "dbb56adc",
   "metadata": {
    "_cell_guid": "b1076dfc-b9ad-4769-8c92-a6c4dae69d19",
    "_uuid": "8f2839f25d086af736a60e9eeb907d3b93b6e0e5",
    "execution": {
     "iopub.execute_input": "2022-12-04T16:14:04.388603Z",
     "iopub.status.busy": "2022-12-04T16:14:04.387379Z",
     "iopub.status.idle": "2022-12-04T16:14:07.176324Z",
     "shell.execute_reply": "2022-12-04T16:14:07.175344Z"
    },
    "papermill": {
     "duration": 2.818227,
     "end_time": "2022-12-04T16:14:07.179055",
     "exception": false,
     "start_time": "2022-12-04T16:14:04.360828",
     "status": "completed"
    },
    "tags": []
   },
   "outputs": [
    {
     "data": {
      "text/html": [
       "<style type='text/css'>\n",
       ".datatable table.frame { margin-bottom: 0; }\n",
       ".datatable table.frame thead { border-bottom: none; }\n",
       ".datatable table.frame tr.coltypes td {  color: #FFFFFF;  line-height: 6px;  padding: 0 0.5em;}\n",
       ".datatable .bool    { background: #DDDD99; }\n",
       ".datatable .object  { background: #565656; }\n",
       ".datatable .int     { background: #5D9E5D; }\n",
       ".datatable .float   { background: #4040CC; }\n",
       ".datatable .str     { background: #CC4040; }\n",
       ".datatable .time    { background: #40CC40; }\n",
       ".datatable .row_index {  background: var(--jp-border-color3);  border-right: 1px solid var(--jp-border-color0);  color: var(--jp-ui-font-color3);  font-size: 9px;}\n",
       ".datatable .frame tbody td { text-align: left; }\n",
       ".datatable .frame tr.coltypes .row_index {  background: var(--jp-border-color0);}\n",
       ".datatable th:nth-child(2) { padding-left: 12px; }\n",
       ".datatable .hellipsis {  color: var(--jp-cell-editor-border-color);}\n",
       ".datatable .vellipsis {  background: var(--jp-layout-color0);  color: var(--jp-cell-editor-border-color);}\n",
       ".datatable .na {  color: var(--jp-cell-editor-border-color);  font-size: 80%;}\n",
       ".datatable .sp {  opacity: 0.25;}\n",
       ".datatable .footer { font-size: 9px; }\n",
       ".datatable .frame_dimensions {  background: var(--jp-border-color3);  border-top: 1px solid var(--jp-border-color0);  color: var(--jp-ui-font-color3);  display: inline-block;  opacity: 0.6;  padding: 1px 10px 1px 5px;}\n",
       ".datatable .frame thead tr.colnames {  background-image: url('data:image/png;base64,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');  background-repeat: repeat-x;  background-size: 14px;  height: 28px;}\n",
       "</style>\n"
      ],
      "text/plain": [
       "<IPython.core.display.HTML object>"
      ]
     },
     "metadata": {},
     "output_type": "display_data"
    }
   ],
   "source": [
    "import numpy as np\n",
    "import pandas as pd\n",
    "import seaborn as sns\n",
    "from matplotlib import pyplot as plt\n",
    "from catboost import CatBoostClassifier\n",
    "from sklearn.linear_model import LogisticRegression\n",
    "from lightgbm import LGBMClassifier\n",
    "from xgboost import XGBClassifier\n",
    "from sklearn.ensemble import RandomForestClassifier\n",
    "from sklearn.tree import DecisionTreeClassifier\n",
    "from sklearn.ensemble import GradientBoostingClassifier\n",
    "from sklearn.metrics import accuracy_score\n",
    "from sklearn.model_selection import train_test_split, cross_validate, GridSearchCV\n",
    "from sklearn.neighbors import LocalOutlierFactor\n",
    "from sklearn.preprocessing import StandardScaler\n",
    "import warnings\n",
    "warnings.filterwarnings('ignore')\n",
    "pd.set_option('display.max_columns', None)\n",
    "pd.set_option('display.max_rows', None)\n",
    "pd.set_option('display.float_format', lambda x: '%.3f' % x)\n",
    "pd.set_option('display.width', 500)"
   ]
  },
  {
   "cell_type": "markdown",
   "id": "58608be2",
   "metadata": {
    "papermill": {
     "duration": 0.024603,
     "end_time": "2022-12-04T16:14:07.228710",
     "exception": false,
     "start_time": "2022-12-04T16:14:07.204107",
     "status": "completed"
    },
    "tags": []
   },
   "source": [
    "# Importing the dataset"
   ]
  },
  {
   "cell_type": "code",
   "execution_count": 2,
   "id": "0facfec4",
   "metadata": {
    "execution": {
     "iopub.execute_input": "2022-12-04T16:14:07.280857Z",
     "iopub.status.busy": "2022-12-04T16:14:07.279671Z",
     "iopub.status.idle": "2022-12-04T16:14:07.373792Z",
     "shell.execute_reply": "2022-12-04T16:14:07.372679Z"
    },
    "papermill": {
     "duration": 0.122751,
     "end_time": "2022-12-04T16:14:07.376246",
     "exception": false,
     "start_time": "2022-12-04T16:14:07.253495",
     "status": "completed"
    },
    "tags": []
   },
   "outputs": [
    {
     "data": {
      "text/html": [
       "<div>\n",
       "<style scoped>\n",
       "    .dataframe tbody tr th:only-of-type {\n",
       "        vertical-align: middle;\n",
       "    }\n",
       "\n",
       "    .dataframe tbody tr th {\n",
       "        vertical-align: top;\n",
       "    }\n",
       "\n",
       "    .dataframe thead th {\n",
       "        text-align: right;\n",
       "    }\n",
       "</style>\n",
       "<table border=\"1\" class=\"dataframe\">\n",
       "  <thead>\n",
       "    <tr style=\"text-align: right;\">\n",
       "      <th></th>\n",
       "      <th>customerid</th>\n",
       "      <th>gender</th>\n",
       "      <th>seniorcitizen</th>\n",
       "      <th>partner</th>\n",
       "      <th>dependents</th>\n",
       "      <th>tenure</th>\n",
       "      <th>phoneservice</th>\n",
       "      <th>multiplelines</th>\n",
       "      <th>internetservice</th>\n",
       "      <th>onlinesecurity</th>\n",
       "      <th>onlinebackup</th>\n",
       "      <th>deviceprotection</th>\n",
       "      <th>techsupport</th>\n",
       "      <th>streamingtv</th>\n",
       "      <th>streamingmovies</th>\n",
       "      <th>contract</th>\n",
       "      <th>paperlessbilling</th>\n",
       "      <th>paymentmethod</th>\n",
       "      <th>monthlycharges</th>\n",
       "      <th>totalcharges</th>\n",
       "      <th>churn</th>\n",
       "    </tr>\n",
       "  </thead>\n",
       "  <tbody>\n",
       "    <tr>\n",
       "      <th>0</th>\n",
       "      <td>7590-VHVEG</td>\n",
       "      <td>Female</td>\n",
       "      <td>0</td>\n",
       "      <td>Yes</td>\n",
       "      <td>No</td>\n",
       "      <td>1</td>\n",
       "      <td>No</td>\n",
       "      <td>No phone service</td>\n",
       "      <td>DSL</td>\n",
       "      <td>No</td>\n",
       "      <td>Yes</td>\n",
       "      <td>No</td>\n",
       "      <td>No</td>\n",
       "      <td>No</td>\n",
       "      <td>No</td>\n",
       "      <td>Month-to-month</td>\n",
       "      <td>Yes</td>\n",
       "      <td>Electronic check</td>\n",
       "      <td>29.850</td>\n",
       "      <td>29.85</td>\n",
       "      <td>No</td>\n",
       "    </tr>\n",
       "    <tr>\n",
       "      <th>1</th>\n",
       "      <td>5575-GNVDE</td>\n",
       "      <td>Male</td>\n",
       "      <td>0</td>\n",
       "      <td>No</td>\n",
       "      <td>No</td>\n",
       "      <td>34</td>\n",
       "      <td>Yes</td>\n",
       "      <td>No</td>\n",
       "      <td>DSL</td>\n",
       "      <td>Yes</td>\n",
       "      <td>No</td>\n",
       "      <td>Yes</td>\n",
       "      <td>No</td>\n",
       "      <td>No</td>\n",
       "      <td>No</td>\n",
       "      <td>One year</td>\n",
       "      <td>No</td>\n",
       "      <td>Mailed check</td>\n",
       "      <td>56.950</td>\n",
       "      <td>1889.5</td>\n",
       "      <td>No</td>\n",
       "    </tr>\n",
       "    <tr>\n",
       "      <th>2</th>\n",
       "      <td>3668-QPYBK</td>\n",
       "      <td>Male</td>\n",
       "      <td>0</td>\n",
       "      <td>No</td>\n",
       "      <td>No</td>\n",
       "      <td>2</td>\n",
       "      <td>Yes</td>\n",
       "      <td>No</td>\n",
       "      <td>DSL</td>\n",
       "      <td>Yes</td>\n",
       "      <td>Yes</td>\n",
       "      <td>No</td>\n",
       "      <td>No</td>\n",
       "      <td>No</td>\n",
       "      <td>No</td>\n",
       "      <td>Month-to-month</td>\n",
       "      <td>Yes</td>\n",
       "      <td>Mailed check</td>\n",
       "      <td>53.850</td>\n",
       "      <td>108.15</td>\n",
       "      <td>Yes</td>\n",
       "    </tr>\n",
       "    <tr>\n",
       "      <th>3</th>\n",
       "      <td>7795-CFOCW</td>\n",
       "      <td>Male</td>\n",
       "      <td>0</td>\n",
       "      <td>No</td>\n",
       "      <td>No</td>\n",
       "      <td>45</td>\n",
       "      <td>No</td>\n",
       "      <td>No phone service</td>\n",
       "      <td>DSL</td>\n",
       "      <td>Yes</td>\n",
       "      <td>No</td>\n",
       "      <td>Yes</td>\n",
       "      <td>Yes</td>\n",
       "      <td>No</td>\n",
       "      <td>No</td>\n",
       "      <td>One year</td>\n",
       "      <td>No</td>\n",
       "      <td>Bank transfer (automatic)</td>\n",
       "      <td>42.300</td>\n",
       "      <td>1840.75</td>\n",
       "      <td>No</td>\n",
       "    </tr>\n",
       "    <tr>\n",
       "      <th>4</th>\n",
       "      <td>9237-HQITU</td>\n",
       "      <td>Female</td>\n",
       "      <td>0</td>\n",
       "      <td>No</td>\n",
       "      <td>No</td>\n",
       "      <td>2</td>\n",
       "      <td>Yes</td>\n",
       "      <td>No</td>\n",
       "      <td>Fiber optic</td>\n",
       "      <td>No</td>\n",
       "      <td>No</td>\n",
       "      <td>No</td>\n",
       "      <td>No</td>\n",
       "      <td>No</td>\n",
       "      <td>No</td>\n",
       "      <td>Month-to-month</td>\n",
       "      <td>Yes</td>\n",
       "      <td>Electronic check</td>\n",
       "      <td>70.700</td>\n",
       "      <td>151.65</td>\n",
       "      <td>Yes</td>\n",
       "    </tr>\n",
       "  </tbody>\n",
       "</table>\n",
       "</div>"
      ],
      "text/plain": [
       "   customerid  gender  seniorcitizen partner dependents  tenure phoneservice     multiplelines internetservice onlinesecurity onlinebackup deviceprotection techsupport streamingtv streamingmovies        contract paperlessbilling              paymentmethod  monthlycharges totalcharges churn\n",
       "0  7590-VHVEG  Female              0     Yes         No       1           No  No phone service             DSL             No          Yes               No          No          No              No  Month-to-month              Yes           Electronic check          29.850        29.85    No\n",
       "1  5575-GNVDE    Male              0      No         No      34          Yes                No             DSL            Yes           No              Yes          No          No              No        One year               No               Mailed check          56.950       1889.5    No\n",
       "2  3668-QPYBK    Male              0      No         No       2          Yes                No             DSL            Yes          Yes               No          No          No              No  Month-to-month              Yes               Mailed check          53.850       108.15   Yes\n",
       "3  7795-CFOCW    Male              0      No         No      45           No  No phone service             DSL            Yes           No              Yes         Yes          No              No        One year               No  Bank transfer (automatic)          42.300      1840.75    No\n",
       "4  9237-HQITU  Female              0      No         No       2          Yes                No     Fiber optic             No           No               No          No          No              No  Month-to-month              Yes           Electronic check          70.700       151.65   Yes"
      ]
     },
     "execution_count": 2,
     "metadata": {},
     "output_type": "execute_result"
    }
   ],
   "source": [
    "def load():\n",
    "    data = pd.read_csv(\"/kaggle/input/telco-churn-dataset/Telco-Customer-Churn.csv\")\n",
    "    data.columns = [col.lower() for col in data.columns]\n",
    "    return data\n",
    "\n",
    "df = load()\n",
    "df.head()"
   ]
  },
  {
   "cell_type": "markdown",
   "id": "4f5910f5",
   "metadata": {
    "papermill": {
     "duration": 0.024967,
     "end_time": "2022-12-04T16:14:07.426865",
     "exception": false,
     "start_time": "2022-12-04T16:14:07.401898",
     "status": "completed"
    },
    "tags": []
   },
   "source": [
    "# Exploratory data analysis (EDA)"
   ]
  },
  {
   "cell_type": "markdown",
   "id": "f56787e0",
   "metadata": {
    "papermill": {
     "duration": 0.025506,
     "end_time": "2022-12-04T16:14:07.477460",
     "exception": false,
     "start_time": "2022-12-04T16:14:07.451954",
     "status": "completed"
    },
    "tags": []
   },
   "source": [
    "## Let's check the dataframe"
   ]
  },
  {
   "cell_type": "code",
   "execution_count": 3,
   "id": "d092d6ce",
   "metadata": {
    "execution": {
     "iopub.execute_input": "2022-12-04T16:14:07.546980Z",
     "iopub.status.busy": "2022-12-04T16:14:07.546252Z",
     "iopub.status.idle": "2022-12-04T16:14:07.670362Z",
     "shell.execute_reply": "2022-12-04T16:14:07.669027Z"
    },
    "papermill": {
     "duration": 0.164076,
     "end_time": "2022-12-04T16:14:07.673465",
     "exception": false,
     "start_time": "2022-12-04T16:14:07.509389",
     "status": "completed"
    },
    "tags": []
   },
   "outputs": [
    {
     "name": "stdout",
     "output_type": "stream",
     "text": [
      "************************************************************************ HEAD ************************************************************************\n"
     ]
    },
    {
     "data": {
      "text/html": [
       "<div>\n",
       "<style scoped>\n",
       "    .dataframe tbody tr th:only-of-type {\n",
       "        vertical-align: middle;\n",
       "    }\n",
       "\n",
       "    .dataframe tbody tr th {\n",
       "        vertical-align: top;\n",
       "    }\n",
       "\n",
       "    .dataframe thead th {\n",
       "        text-align: right;\n",
       "    }\n",
       "</style>\n",
       "<table border=\"1\" class=\"dataframe\">\n",
       "  <thead>\n",
       "    <tr style=\"text-align: right;\">\n",
       "      <th></th>\n",
       "      <th>customerid</th>\n",
       "      <th>gender</th>\n",
       "      <th>seniorcitizen</th>\n",
       "      <th>partner</th>\n",
       "      <th>dependents</th>\n",
       "      <th>tenure</th>\n",
       "      <th>phoneservice</th>\n",
       "      <th>multiplelines</th>\n",
       "      <th>internetservice</th>\n",
       "      <th>onlinesecurity</th>\n",
       "      <th>onlinebackup</th>\n",
       "      <th>deviceprotection</th>\n",
       "      <th>techsupport</th>\n",
       "      <th>streamingtv</th>\n",
       "      <th>streamingmovies</th>\n",
       "      <th>contract</th>\n",
       "      <th>paperlessbilling</th>\n",
       "      <th>paymentmethod</th>\n",
       "      <th>monthlycharges</th>\n",
       "      <th>totalcharges</th>\n",
       "      <th>churn</th>\n",
       "    </tr>\n",
       "  </thead>\n",
       "  <tbody>\n",
       "    <tr>\n",
       "      <th>0</th>\n",
       "      <td>7590-VHVEG</td>\n",
       "      <td>Female</td>\n",
       "      <td>0</td>\n",
       "      <td>Yes</td>\n",
       "      <td>No</td>\n",
       "      <td>1</td>\n",
       "      <td>No</td>\n",
       "      <td>No phone service</td>\n",
       "      <td>DSL</td>\n",
       "      <td>No</td>\n",
       "      <td>Yes</td>\n",
       "      <td>No</td>\n",
       "      <td>No</td>\n",
       "      <td>No</td>\n",
       "      <td>No</td>\n",
       "      <td>Month-to-month</td>\n",
       "      <td>Yes</td>\n",
       "      <td>Electronic check</td>\n",
       "      <td>29.850</td>\n",
       "      <td>29.85</td>\n",
       "      <td>No</td>\n",
       "    </tr>\n",
       "    <tr>\n",
       "      <th>1</th>\n",
       "      <td>5575-GNVDE</td>\n",
       "      <td>Male</td>\n",
       "      <td>0</td>\n",
       "      <td>No</td>\n",
       "      <td>No</td>\n",
       "      <td>34</td>\n",
       "      <td>Yes</td>\n",
       "      <td>No</td>\n",
       "      <td>DSL</td>\n",
       "      <td>Yes</td>\n",
       "      <td>No</td>\n",
       "      <td>Yes</td>\n",
       "      <td>No</td>\n",
       "      <td>No</td>\n",
       "      <td>No</td>\n",
       "      <td>One year</td>\n",
       "      <td>No</td>\n",
       "      <td>Mailed check</td>\n",
       "      <td>56.950</td>\n",
       "      <td>1889.5</td>\n",
       "      <td>No</td>\n",
       "    </tr>\n",
       "    <tr>\n",
       "      <th>2</th>\n",
       "      <td>3668-QPYBK</td>\n",
       "      <td>Male</td>\n",
       "      <td>0</td>\n",
       "      <td>No</td>\n",
       "      <td>No</td>\n",
       "      <td>2</td>\n",
       "      <td>Yes</td>\n",
       "      <td>No</td>\n",
       "      <td>DSL</td>\n",
       "      <td>Yes</td>\n",
       "      <td>Yes</td>\n",
       "      <td>No</td>\n",
       "      <td>No</td>\n",
       "      <td>No</td>\n",
       "      <td>No</td>\n",
       "      <td>Month-to-month</td>\n",
       "      <td>Yes</td>\n",
       "      <td>Mailed check</td>\n",
       "      <td>53.850</td>\n",
       "      <td>108.15</td>\n",
       "      <td>Yes</td>\n",
       "    </tr>\n",
       "    <tr>\n",
       "      <th>3</th>\n",
       "      <td>7795-CFOCW</td>\n",
       "      <td>Male</td>\n",
       "      <td>0</td>\n",
       "      <td>No</td>\n",
       "      <td>No</td>\n",
       "      <td>45</td>\n",
       "      <td>No</td>\n",
       "      <td>No phone service</td>\n",
       "      <td>DSL</td>\n",
       "      <td>Yes</td>\n",
       "      <td>No</td>\n",
       "      <td>Yes</td>\n",
       "      <td>Yes</td>\n",
       "      <td>No</td>\n",
       "      <td>No</td>\n",
       "      <td>One year</td>\n",
       "      <td>No</td>\n",
       "      <td>Bank transfer (automatic)</td>\n",
       "      <td>42.300</td>\n",
       "      <td>1840.75</td>\n",
       "      <td>No</td>\n",
       "    </tr>\n",
       "    <tr>\n",
       "      <th>4</th>\n",
       "      <td>9237-HQITU</td>\n",
       "      <td>Female</td>\n",
       "      <td>0</td>\n",
       "      <td>No</td>\n",
       "      <td>No</td>\n",
       "      <td>2</td>\n",
       "      <td>Yes</td>\n",
       "      <td>No</td>\n",
       "      <td>Fiber optic</td>\n",
       "      <td>No</td>\n",
       "      <td>No</td>\n",
       "      <td>No</td>\n",
       "      <td>No</td>\n",
       "      <td>No</td>\n",
       "      <td>No</td>\n",
       "      <td>Month-to-month</td>\n",
       "      <td>Yes</td>\n",
       "      <td>Electronic check</td>\n",
       "      <td>70.700</td>\n",
       "      <td>151.65</td>\n",
       "      <td>Yes</td>\n",
       "    </tr>\n",
       "  </tbody>\n",
       "</table>\n",
       "</div>"
      ],
      "text/plain": [
       "   customerid  gender  seniorcitizen partner dependents  tenure phoneservice     multiplelines internetservice onlinesecurity onlinebackup deviceprotection techsupport streamingtv streamingmovies        contract paperlessbilling              paymentmethod  monthlycharges totalcharges churn\n",
       "0  7590-VHVEG  Female              0     Yes         No       1           No  No phone service             DSL             No          Yes               No          No          No              No  Month-to-month              Yes           Electronic check          29.850        29.85    No\n",
       "1  5575-GNVDE    Male              0      No         No      34          Yes                No             DSL            Yes           No              Yes          No          No              No        One year               No               Mailed check          56.950       1889.5    No\n",
       "2  3668-QPYBK    Male              0      No         No       2          Yes                No             DSL            Yes          Yes               No          No          No              No  Month-to-month              Yes               Mailed check          53.850       108.15   Yes\n",
       "3  7795-CFOCW    Male              0      No         No      45           No  No phone service             DSL            Yes           No              Yes         Yes          No              No        One year               No  Bank transfer (automatic)          42.300      1840.75    No\n",
       "4  9237-HQITU  Female              0      No         No       2          Yes                No     Fiber optic             No           No               No          No          No              No  Month-to-month              Yes           Electronic check          70.700       151.65   Yes"
      ]
     },
     "metadata": {},
     "output_type": "display_data"
    },
    {
     "name": "stdout",
     "output_type": "stream",
     "text": [
      "\n",
      " ************************************************************************ TAIL ************************************************************************\n"
     ]
    },
    {
     "data": {
      "text/html": [
       "<div>\n",
       "<style scoped>\n",
       "    .dataframe tbody tr th:only-of-type {\n",
       "        vertical-align: middle;\n",
       "    }\n",
       "\n",
       "    .dataframe tbody tr th {\n",
       "        vertical-align: top;\n",
       "    }\n",
       "\n",
       "    .dataframe thead th {\n",
       "        text-align: right;\n",
       "    }\n",
       "</style>\n",
       "<table border=\"1\" class=\"dataframe\">\n",
       "  <thead>\n",
       "    <tr style=\"text-align: right;\">\n",
       "      <th></th>\n",
       "      <th>customerid</th>\n",
       "      <th>gender</th>\n",
       "      <th>seniorcitizen</th>\n",
       "      <th>partner</th>\n",
       "      <th>dependents</th>\n",
       "      <th>tenure</th>\n",
       "      <th>phoneservice</th>\n",
       "      <th>multiplelines</th>\n",
       "      <th>internetservice</th>\n",
       "      <th>onlinesecurity</th>\n",
       "      <th>onlinebackup</th>\n",
       "      <th>deviceprotection</th>\n",
       "      <th>techsupport</th>\n",
       "      <th>streamingtv</th>\n",
       "      <th>streamingmovies</th>\n",
       "      <th>contract</th>\n",
       "      <th>paperlessbilling</th>\n",
       "      <th>paymentmethod</th>\n",
       "      <th>monthlycharges</th>\n",
       "      <th>totalcharges</th>\n",
       "      <th>churn</th>\n",
       "    </tr>\n",
       "  </thead>\n",
       "  <tbody>\n",
       "    <tr>\n",
       "      <th>7038</th>\n",
       "      <td>6840-RESVB</td>\n",
       "      <td>Male</td>\n",
       "      <td>0</td>\n",
       "      <td>Yes</td>\n",
       "      <td>Yes</td>\n",
       "      <td>24</td>\n",
       "      <td>Yes</td>\n",
       "      <td>Yes</td>\n",
       "      <td>DSL</td>\n",
       "      <td>Yes</td>\n",
       "      <td>No</td>\n",
       "      <td>Yes</td>\n",
       "      <td>Yes</td>\n",
       "      <td>Yes</td>\n",
       "      <td>Yes</td>\n",
       "      <td>One year</td>\n",
       "      <td>Yes</td>\n",
       "      <td>Mailed check</td>\n",
       "      <td>84.800</td>\n",
       "      <td>1990.5</td>\n",
       "      <td>No</td>\n",
       "    </tr>\n",
       "    <tr>\n",
       "      <th>7039</th>\n",
       "      <td>2234-XADUH</td>\n",
       "      <td>Female</td>\n",
       "      <td>0</td>\n",
       "      <td>Yes</td>\n",
       "      <td>Yes</td>\n",
       "      <td>72</td>\n",
       "      <td>Yes</td>\n",
       "      <td>Yes</td>\n",
       "      <td>Fiber optic</td>\n",
       "      <td>No</td>\n",
       "      <td>Yes</td>\n",
       "      <td>Yes</td>\n",
       "      <td>No</td>\n",
       "      <td>Yes</td>\n",
       "      <td>Yes</td>\n",
       "      <td>One year</td>\n",
       "      <td>Yes</td>\n",
       "      <td>Credit card (automatic)</td>\n",
       "      <td>103.200</td>\n",
       "      <td>7362.9</td>\n",
       "      <td>No</td>\n",
       "    </tr>\n",
       "    <tr>\n",
       "      <th>7040</th>\n",
       "      <td>4801-JZAZL</td>\n",
       "      <td>Female</td>\n",
       "      <td>0</td>\n",
       "      <td>Yes</td>\n",
       "      <td>Yes</td>\n",
       "      <td>11</td>\n",
       "      <td>No</td>\n",
       "      <td>No phone service</td>\n",
       "      <td>DSL</td>\n",
       "      <td>Yes</td>\n",
       "      <td>No</td>\n",
       "      <td>No</td>\n",
       "      <td>No</td>\n",
       "      <td>No</td>\n",
       "      <td>No</td>\n",
       "      <td>Month-to-month</td>\n",
       "      <td>Yes</td>\n",
       "      <td>Electronic check</td>\n",
       "      <td>29.600</td>\n",
       "      <td>346.45</td>\n",
       "      <td>No</td>\n",
       "    </tr>\n",
       "    <tr>\n",
       "      <th>7041</th>\n",
       "      <td>8361-LTMKD</td>\n",
       "      <td>Male</td>\n",
       "      <td>1</td>\n",
       "      <td>Yes</td>\n",
       "      <td>No</td>\n",
       "      <td>4</td>\n",
       "      <td>Yes</td>\n",
       "      <td>Yes</td>\n",
       "      <td>Fiber optic</td>\n",
       "      <td>No</td>\n",
       "      <td>No</td>\n",
       "      <td>No</td>\n",
       "      <td>No</td>\n",
       "      <td>No</td>\n",
       "      <td>No</td>\n",
       "      <td>Month-to-month</td>\n",
       "      <td>Yes</td>\n",
       "      <td>Mailed check</td>\n",
       "      <td>74.400</td>\n",
       "      <td>306.6</td>\n",
       "      <td>Yes</td>\n",
       "    </tr>\n",
       "    <tr>\n",
       "      <th>7042</th>\n",
       "      <td>3186-AJIEK</td>\n",
       "      <td>Male</td>\n",
       "      <td>0</td>\n",
       "      <td>No</td>\n",
       "      <td>No</td>\n",
       "      <td>66</td>\n",
       "      <td>Yes</td>\n",
       "      <td>No</td>\n",
       "      <td>Fiber optic</td>\n",
       "      <td>Yes</td>\n",
       "      <td>No</td>\n",
       "      <td>Yes</td>\n",
       "      <td>Yes</td>\n",
       "      <td>Yes</td>\n",
       "      <td>Yes</td>\n",
       "      <td>Two year</td>\n",
       "      <td>Yes</td>\n",
       "      <td>Bank transfer (automatic)</td>\n",
       "      <td>105.650</td>\n",
       "      <td>6844.5</td>\n",
       "      <td>No</td>\n",
       "    </tr>\n",
       "  </tbody>\n",
       "</table>\n",
       "</div>"
      ],
      "text/plain": [
       "      customerid  gender  seniorcitizen partner dependents  tenure phoneservice     multiplelines internetservice onlinesecurity onlinebackup deviceprotection techsupport streamingtv streamingmovies        contract paperlessbilling              paymentmethod  monthlycharges totalcharges churn\n",
       "7038  6840-RESVB    Male              0     Yes        Yes      24          Yes               Yes             DSL            Yes           No              Yes         Yes         Yes             Yes        One year              Yes               Mailed check          84.800       1990.5    No\n",
       "7039  2234-XADUH  Female              0     Yes        Yes      72          Yes               Yes     Fiber optic             No          Yes              Yes          No         Yes             Yes        One year              Yes    Credit card (automatic)         103.200       7362.9    No\n",
       "7040  4801-JZAZL  Female              0     Yes        Yes      11           No  No phone service             DSL            Yes           No               No          No          No              No  Month-to-month              Yes           Electronic check          29.600       346.45    No\n",
       "7041  8361-LTMKD    Male              1     Yes         No       4          Yes               Yes     Fiber optic             No           No               No          No          No              No  Month-to-month              Yes               Mailed check          74.400        306.6   Yes\n",
       "7042  3186-AJIEK    Male              0      No         No      66          Yes                No     Fiber optic            Yes           No              Yes         Yes         Yes             Yes        Two year              Yes  Bank transfer (automatic)         105.650       6844.5    No"
      ]
     },
     "metadata": {},
     "output_type": "display_data"
    },
    {
     "name": "stdout",
     "output_type": "stream",
     "text": [
      "\n",
      " *********************************************************************** SHAPE ************************************************************************\n",
      "(7043, 21)\n",
      "\n",
      " *********************************************************************** DTYPE ************************************************************************\n",
      "customerid           object\n",
      "gender               object\n",
      "seniorcitizen         int64\n",
      "partner              object\n",
      "dependents           object\n",
      "tenure                int64\n",
      "phoneservice         object\n",
      "multiplelines        object\n",
      "internetservice      object\n",
      "onlinesecurity       object\n",
      "onlinebackup         object\n",
      "deviceprotection     object\n",
      "techsupport          object\n",
      "streamingtv          object\n",
      "streamingmovies      object\n",
      "contract             object\n",
      "paperlessbilling     object\n",
      "paymentmethod        object\n",
      "monthlycharges      float64\n",
      "totalcharges         object\n",
      "churn                object\n",
      "dtype: object\n",
      "\n",
      " ********************************************************************** COLUMNS ***********************************************************************\n",
      "Index(['customerid', 'gender', 'seniorcitizen', 'partner', 'dependents', 'tenure', 'phoneservice', 'multiplelines', 'internetservice', 'onlinesecurity', 'onlinebackup', 'deviceprotection', 'techsupport', 'streamingtv', 'streamingmovies', 'contract', 'paperlessbilling', 'paymentmethod', 'monthlycharges', 'totalcharges', 'churn'], dtype='object')\n",
      "\n",
      " ******************************************************************** DATASET INFO ********************************************************************\n",
      "<class 'pandas.core.frame.DataFrame'>\n",
      "RangeIndex: 7043 entries, 0 to 7042\n",
      "Data columns (total 21 columns):\n",
      " #   Column            Non-Null Count  Dtype  \n",
      "---  ------            --------------  -----  \n",
      " 0   customerid        7043 non-null   object \n",
      " 1   gender            7043 non-null   object \n",
      " 2   seniorcitizen     7043 non-null   int64  \n",
      " 3   partner           7043 non-null   object \n",
      " 4   dependents        7043 non-null   object \n",
      " 5   tenure            7043 non-null   int64  \n",
      " 6   phoneservice      7043 non-null   object \n",
      " 7   multiplelines     7043 non-null   object \n",
      " 8   internetservice   7043 non-null   object \n",
      " 9   onlinesecurity    7043 non-null   object \n",
      " 10  onlinebackup      7043 non-null   object \n",
      " 11  deviceprotection  7043 non-null   object \n",
      " 12  techsupport       7043 non-null   object \n",
      " 13  streamingtv       7043 non-null   object \n",
      " 14  streamingmovies   7043 non-null   object \n",
      " 15  contract          7043 non-null   object \n",
      " 16  paperlessbilling  7043 non-null   object \n",
      " 17  paymentmethod     7043 non-null   object \n",
      " 18  monthlycharges    7043 non-null   float64\n",
      " 19  totalcharges      7043 non-null   object \n",
      " 20  churn             7043 non-null   object \n",
      "dtypes: float64(1), int64(2), object(18)\n",
      "memory usage: 1.1+ MB\n",
      "None\n",
      "\n",
      " ****************************************************************** ANY NULL VALUES *******************************************************************\n",
      "False\n",
      "\n",
      " ******************************************************************** NULL VALUES *********************************************************************\n",
      "customerid          0\n",
      "deviceprotection    0\n",
      "totalcharges        0\n",
      "monthlycharges      0\n",
      "paymentmethod       0\n",
      "paperlessbilling    0\n",
      "contract            0\n",
      "streamingmovies     0\n",
      "streamingtv         0\n",
      "techsupport         0\n",
      "onlinebackup        0\n",
      "gender              0\n",
      "onlinesecurity      0\n",
      "internetservice     0\n",
      "multiplelines       0\n",
      "phoneservice        0\n",
      "tenure              0\n",
      "dependents          0\n",
      "partner             0\n",
      "seniorcitizen       0\n",
      "churn               0\n",
      "dtype: int64\n",
      "\n",
      " *************************************************************** DESCRIPTIVE STATISTICS ***************************************************************\n"
     ]
    },
    {
     "data": {
      "text/html": [
       "<div>\n",
       "<style scoped>\n",
       "    .dataframe tbody tr th:only-of-type {\n",
       "        vertical-align: middle;\n",
       "    }\n",
       "\n",
       "    .dataframe tbody tr th {\n",
       "        vertical-align: top;\n",
       "    }\n",
       "\n",
       "    .dataframe thead th {\n",
       "        text-align: right;\n",
       "    }\n",
       "</style>\n",
       "<table border=\"1\" class=\"dataframe\">\n",
       "  <thead>\n",
       "    <tr style=\"text-align: right;\">\n",
       "      <th></th>\n",
       "      <th>count</th>\n",
       "      <th>mean</th>\n",
       "      <th>std</th>\n",
       "      <th>min</th>\n",
       "      <th>5%</th>\n",
       "      <th>10%</th>\n",
       "      <th>25%</th>\n",
       "      <th>50%</th>\n",
       "      <th>75%</th>\n",
       "      <th>90%</th>\n",
       "      <th>95%</th>\n",
       "      <th>99%</th>\n",
       "      <th>max</th>\n",
       "    </tr>\n",
       "  </thead>\n",
       "  <tbody>\n",
       "    <tr>\n",
       "      <th>seniorcitizen</th>\n",
       "      <td>7043.000</td>\n",
       "      <td>0.162</td>\n",
       "      <td>0.369</td>\n",
       "      <td>0.000</td>\n",
       "      <td>0.000</td>\n",
       "      <td>0.000</td>\n",
       "      <td>0.000</td>\n",
       "      <td>0.000</td>\n",
       "      <td>0.000</td>\n",
       "      <td>1.000</td>\n",
       "      <td>1.000</td>\n",
       "      <td>1.000</td>\n",
       "      <td>1.000</td>\n",
       "    </tr>\n",
       "    <tr>\n",
       "      <th>tenure</th>\n",
       "      <td>7043.000</td>\n",
       "      <td>32.371</td>\n",
       "      <td>24.559</td>\n",
       "      <td>0.000</td>\n",
       "      <td>1.000</td>\n",
       "      <td>2.000</td>\n",
       "      <td>9.000</td>\n",
       "      <td>29.000</td>\n",
       "      <td>55.000</td>\n",
       "      <td>69.000</td>\n",
       "      <td>72.000</td>\n",
       "      <td>72.000</td>\n",
       "      <td>72.000</td>\n",
       "    </tr>\n",
       "    <tr>\n",
       "      <th>monthlycharges</th>\n",
       "      <td>7043.000</td>\n",
       "      <td>64.762</td>\n",
       "      <td>30.090</td>\n",
       "      <td>18.250</td>\n",
       "      <td>19.650</td>\n",
       "      <td>20.050</td>\n",
       "      <td>35.500</td>\n",
       "      <td>70.350</td>\n",
       "      <td>89.850</td>\n",
       "      <td>102.600</td>\n",
       "      <td>107.400</td>\n",
       "      <td>114.729</td>\n",
       "      <td>118.750</td>\n",
       "    </tr>\n",
       "  </tbody>\n",
       "</table>\n",
       "</div>"
      ],
      "text/plain": [
       "                  count   mean    std    min     5%    10%    25%    50%    75%     90%     95%     99%     max\n",
       "seniorcitizen  7043.000  0.162  0.369  0.000  0.000  0.000  0.000  0.000  0.000   1.000   1.000   1.000   1.000\n",
       "tenure         7043.000 32.371 24.559  0.000  1.000  2.000  9.000 29.000 55.000  69.000  72.000  72.000  72.000\n",
       "monthlycharges 7043.000 64.762 30.090 18.250 19.650 20.050 35.500 70.350 89.850 102.600 107.400 114.729 118.750"
      ]
     },
     "metadata": {},
     "output_type": "display_data"
    }
   ],
   "source": [
    "def check_dataframe(dataframe, head=5):\n",
    "    print(' head '.upper().center(150, \"*\"))\n",
    "    display(dataframe.head(head))\n",
    "    print('\\n',' tail '.upper().center(150, \"*\"))\n",
    "    display(dataframe.tail(head))\n",
    "    print('\\n',' shape '.upper().center(150, \"*\"))\n",
    "    print(dataframe.shape)\n",
    "    print('\\n',' dtype '.upper().center(150, \"*\"))\n",
    "    print(dataframe.dtypes)\n",
    "    print('\\n',' columns '.upper().center(150, \"*\"))\n",
    "    print(dataframe.columns)\n",
    "    print('\\n',' dataset info '.upper().center(150, \"*\"))\n",
    "    print(dataframe.info())\n",
    "    print('\\n',' any null values '.upper().center(150, \"*\"))\n",
    "    print(dataframe.isnull().values.any())\n",
    "    print('\\n',' null values '.upper().center(150, \"*\"))\n",
    "    print(dataframe.isnull().sum().sort_values(ascending=False))\n",
    "    print('\\n',' descriptive statistics '.upper().center(150, \"*\"))\n",
    "    display(dataframe.describe([0.05, 0.10, 0.25, 0.50, 0.75, 0.90, 0.95, 0.99]).T)\n",
    "\n",
    "\n",
    "check_dataframe(df)"
   ]
  },
  {
   "cell_type": "markdown",
   "id": "f4ec97a7",
   "metadata": {
    "papermill": {
     "duration": 0.025721,
     "end_time": "2022-12-04T16:14:07.726175",
     "exception": false,
     "start_time": "2022-12-04T16:14:07.700454",
     "status": "completed"
    },
    "tags": []
   },
   "source": [
    "### The variable 'totalcharges' must be a numerical variable. Let's fix it. "
   ]
  },
  {
   "cell_type": "code",
   "execution_count": 4,
   "id": "a9375e0f",
   "metadata": {
    "execution": {
     "iopub.execute_input": "2022-12-04T16:14:07.781008Z",
     "iopub.status.busy": "2022-12-04T16:14:07.779995Z",
     "iopub.status.idle": "2022-12-04T16:14:07.792367Z",
     "shell.execute_reply": "2022-12-04T16:14:07.791048Z"
    },
    "papermill": {
     "duration": 0.042537,
     "end_time": "2022-12-04T16:14:07.794801",
     "exception": false,
     "start_time": "2022-12-04T16:14:07.752264",
     "status": "completed"
    },
    "tags": []
   },
   "outputs": [
    {
     "data": {
      "text/plain": [
       "dtype('float64')"
      ]
     },
     "execution_count": 4,
     "metadata": {},
     "output_type": "execute_result"
    }
   ],
   "source": [
    "df['totalcharges'] = pd.to_numeric(df['totalcharges'], errors='coerce')\n",
    "df['totalcharges'].dtype"
   ]
  },
  {
   "cell_type": "markdown",
   "id": "630c927b",
   "metadata": {
    "papermill": {
     "duration": 0.026252,
     "end_time": "2022-12-04T16:14:07.847646",
     "exception": false,
     "start_time": "2022-12-04T16:14:07.821394",
     "status": "completed"
    },
    "tags": []
   },
   "source": [
    "### The dependent variable 'churn' must be numeric but categoric. Let's fix it"
   ]
  },
  {
   "cell_type": "code",
   "execution_count": 5,
   "id": "ab64859d",
   "metadata": {
    "execution": {
     "iopub.execute_input": "2022-12-04T16:14:07.902905Z",
     "iopub.status.busy": "2022-12-04T16:14:07.902506Z",
     "iopub.status.idle": "2022-12-04T16:14:07.929710Z",
     "shell.execute_reply": "2022-12-04T16:14:07.928341Z"
    },
    "papermill": {
     "duration": 0.05728,
     "end_time": "2022-12-04T16:14:07.932050",
     "exception": false,
     "start_time": "2022-12-04T16:14:07.874770",
     "status": "completed"
    },
    "tags": []
   },
   "outputs": [
    {
     "data": {
      "text/html": [
       "<div>\n",
       "<style scoped>\n",
       "    .dataframe tbody tr th:only-of-type {\n",
       "        vertical-align: middle;\n",
       "    }\n",
       "\n",
       "    .dataframe tbody tr th {\n",
       "        vertical-align: top;\n",
       "    }\n",
       "\n",
       "    .dataframe thead th {\n",
       "        text-align: right;\n",
       "    }\n",
       "</style>\n",
       "<table border=\"1\" class=\"dataframe\">\n",
       "  <thead>\n",
       "    <tr style=\"text-align: right;\">\n",
       "      <th></th>\n",
       "      <th>customerid</th>\n",
       "      <th>gender</th>\n",
       "      <th>seniorcitizen</th>\n",
       "      <th>partner</th>\n",
       "      <th>dependents</th>\n",
       "      <th>tenure</th>\n",
       "      <th>phoneservice</th>\n",
       "      <th>multiplelines</th>\n",
       "      <th>internetservice</th>\n",
       "      <th>onlinesecurity</th>\n",
       "      <th>onlinebackup</th>\n",
       "      <th>deviceprotection</th>\n",
       "      <th>techsupport</th>\n",
       "      <th>streamingtv</th>\n",
       "      <th>streamingmovies</th>\n",
       "      <th>contract</th>\n",
       "      <th>paperlessbilling</th>\n",
       "      <th>paymentmethod</th>\n",
       "      <th>monthlycharges</th>\n",
       "      <th>totalcharges</th>\n",
       "      <th>churn</th>\n",
       "    </tr>\n",
       "  </thead>\n",
       "  <tbody>\n",
       "    <tr>\n",
       "      <th>0</th>\n",
       "      <td>7590-VHVEG</td>\n",
       "      <td>Female</td>\n",
       "      <td>0</td>\n",
       "      <td>Yes</td>\n",
       "      <td>No</td>\n",
       "      <td>1</td>\n",
       "      <td>No</td>\n",
       "      <td>No phone service</td>\n",
       "      <td>DSL</td>\n",
       "      <td>No</td>\n",
       "      <td>Yes</td>\n",
       "      <td>No</td>\n",
       "      <td>No</td>\n",
       "      <td>No</td>\n",
       "      <td>No</td>\n",
       "      <td>Month-to-month</td>\n",
       "      <td>Yes</td>\n",
       "      <td>Electronic check</td>\n",
       "      <td>29.850</td>\n",
       "      <td>29.850</td>\n",
       "      <td>0</td>\n",
       "    </tr>\n",
       "    <tr>\n",
       "      <th>1</th>\n",
       "      <td>5575-GNVDE</td>\n",
       "      <td>Male</td>\n",
       "      <td>0</td>\n",
       "      <td>No</td>\n",
       "      <td>No</td>\n",
       "      <td>34</td>\n",
       "      <td>Yes</td>\n",
       "      <td>No</td>\n",
       "      <td>DSL</td>\n",
       "      <td>Yes</td>\n",
       "      <td>No</td>\n",
       "      <td>Yes</td>\n",
       "      <td>No</td>\n",
       "      <td>No</td>\n",
       "      <td>No</td>\n",
       "      <td>One year</td>\n",
       "      <td>No</td>\n",
       "      <td>Mailed check</td>\n",
       "      <td>56.950</td>\n",
       "      <td>1889.500</td>\n",
       "      <td>0</td>\n",
       "    </tr>\n",
       "    <tr>\n",
       "      <th>2</th>\n",
       "      <td>3668-QPYBK</td>\n",
       "      <td>Male</td>\n",
       "      <td>0</td>\n",
       "      <td>No</td>\n",
       "      <td>No</td>\n",
       "      <td>2</td>\n",
       "      <td>Yes</td>\n",
       "      <td>No</td>\n",
       "      <td>DSL</td>\n",
       "      <td>Yes</td>\n",
       "      <td>Yes</td>\n",
       "      <td>No</td>\n",
       "      <td>No</td>\n",
       "      <td>No</td>\n",
       "      <td>No</td>\n",
       "      <td>Month-to-month</td>\n",
       "      <td>Yes</td>\n",
       "      <td>Mailed check</td>\n",
       "      <td>53.850</td>\n",
       "      <td>108.150</td>\n",
       "      <td>1</td>\n",
       "    </tr>\n",
       "    <tr>\n",
       "      <th>3</th>\n",
       "      <td>7795-CFOCW</td>\n",
       "      <td>Male</td>\n",
       "      <td>0</td>\n",
       "      <td>No</td>\n",
       "      <td>No</td>\n",
       "      <td>45</td>\n",
       "      <td>No</td>\n",
       "      <td>No phone service</td>\n",
       "      <td>DSL</td>\n",
       "      <td>Yes</td>\n",
       "      <td>No</td>\n",
       "      <td>Yes</td>\n",
       "      <td>Yes</td>\n",
       "      <td>No</td>\n",
       "      <td>No</td>\n",
       "      <td>One year</td>\n",
       "      <td>No</td>\n",
       "      <td>Bank transfer (automatic)</td>\n",
       "      <td>42.300</td>\n",
       "      <td>1840.750</td>\n",
       "      <td>0</td>\n",
       "    </tr>\n",
       "    <tr>\n",
       "      <th>4</th>\n",
       "      <td>9237-HQITU</td>\n",
       "      <td>Female</td>\n",
       "      <td>0</td>\n",
       "      <td>No</td>\n",
       "      <td>No</td>\n",
       "      <td>2</td>\n",
       "      <td>Yes</td>\n",
       "      <td>No</td>\n",
       "      <td>Fiber optic</td>\n",
       "      <td>No</td>\n",
       "      <td>No</td>\n",
       "      <td>No</td>\n",
       "      <td>No</td>\n",
       "      <td>No</td>\n",
       "      <td>No</td>\n",
       "      <td>Month-to-month</td>\n",
       "      <td>Yes</td>\n",
       "      <td>Electronic check</td>\n",
       "      <td>70.700</td>\n",
       "      <td>151.650</td>\n",
       "      <td>1</td>\n",
       "    </tr>\n",
       "  </tbody>\n",
       "</table>\n",
       "</div>"
      ],
      "text/plain": [
       "   customerid  gender  seniorcitizen partner dependents  tenure phoneservice     multiplelines internetservice onlinesecurity onlinebackup deviceprotection techsupport streamingtv streamingmovies        contract paperlessbilling              paymentmethod  monthlycharges  totalcharges  churn\n",
       "0  7590-VHVEG  Female              0     Yes         No       1           No  No phone service             DSL             No          Yes               No          No          No              No  Month-to-month              Yes           Electronic check          29.850        29.850      0\n",
       "1  5575-GNVDE    Male              0      No         No      34          Yes                No             DSL            Yes           No              Yes          No          No              No        One year               No               Mailed check          56.950      1889.500      0\n",
       "2  3668-QPYBK    Male              0      No         No       2          Yes                No             DSL            Yes          Yes               No          No          No              No  Month-to-month              Yes               Mailed check          53.850       108.150      1\n",
       "3  7795-CFOCW    Male              0      No         No      45           No  No phone service             DSL            Yes           No              Yes         Yes          No              No        One year               No  Bank transfer (automatic)          42.300      1840.750      0\n",
       "4  9237-HQITU  Female              0      No         No       2          Yes                No     Fiber optic             No           No               No          No          No              No  Month-to-month              Yes           Electronic check          70.700       151.650      1"
      ]
     },
     "execution_count": 5,
     "metadata": {},
     "output_type": "execute_result"
    }
   ],
   "source": [
    "df['churn'] = df['churn'].apply(lambda x: 1 if x == 'Yes' else 0)\n",
    "df.head()"
   ]
  },
  {
   "cell_type": "markdown",
   "id": "b37f7a95",
   "metadata": {
    "papermill": {
     "duration": 0.026563,
     "end_time": "2022-12-04T16:14:07.985427",
     "exception": false,
     "start_time": "2022-12-04T16:14:07.958864",
     "status": "completed"
    },
    "tags": []
   },
   "source": [
    "### Let's check dataframe again"
   ]
  },
  {
   "cell_type": "code",
   "execution_count": 6,
   "id": "1c57f7e1",
   "metadata": {
    "execution": {
     "iopub.execute_input": "2022-12-04T16:14:08.041060Z",
     "iopub.status.busy": "2022-12-04T16:14:08.040406Z",
     "iopub.status.idle": "2022-12-04T16:14:08.131054Z",
     "shell.execute_reply": "2022-12-04T16:14:08.128739Z"
    },
    "papermill": {
     "duration": 0.121563,
     "end_time": "2022-12-04T16:14:08.134029",
     "exception": false,
     "start_time": "2022-12-04T16:14:08.012466",
     "status": "completed"
    },
    "tags": []
   },
   "outputs": [
    {
     "name": "stdout",
     "output_type": "stream",
     "text": [
      "************************************************************************ HEAD ************************************************************************\n"
     ]
    },
    {
     "data": {
      "text/html": [
       "<div>\n",
       "<style scoped>\n",
       "    .dataframe tbody tr th:only-of-type {\n",
       "        vertical-align: middle;\n",
       "    }\n",
       "\n",
       "    .dataframe tbody tr th {\n",
       "        vertical-align: top;\n",
       "    }\n",
       "\n",
       "    .dataframe thead th {\n",
       "        text-align: right;\n",
       "    }\n",
       "</style>\n",
       "<table border=\"1\" class=\"dataframe\">\n",
       "  <thead>\n",
       "    <tr style=\"text-align: right;\">\n",
       "      <th></th>\n",
       "      <th>customerid</th>\n",
       "      <th>gender</th>\n",
       "      <th>seniorcitizen</th>\n",
       "      <th>partner</th>\n",
       "      <th>dependents</th>\n",
       "      <th>tenure</th>\n",
       "      <th>phoneservice</th>\n",
       "      <th>multiplelines</th>\n",
       "      <th>internetservice</th>\n",
       "      <th>onlinesecurity</th>\n",
       "      <th>onlinebackup</th>\n",
       "      <th>deviceprotection</th>\n",
       "      <th>techsupport</th>\n",
       "      <th>streamingtv</th>\n",
       "      <th>streamingmovies</th>\n",
       "      <th>contract</th>\n",
       "      <th>paperlessbilling</th>\n",
       "      <th>paymentmethod</th>\n",
       "      <th>monthlycharges</th>\n",
       "      <th>totalcharges</th>\n",
       "      <th>churn</th>\n",
       "    </tr>\n",
       "  </thead>\n",
       "  <tbody>\n",
       "    <tr>\n",
       "      <th>0</th>\n",
       "      <td>7590-VHVEG</td>\n",
       "      <td>Female</td>\n",
       "      <td>0</td>\n",
       "      <td>Yes</td>\n",
       "      <td>No</td>\n",
       "      <td>1</td>\n",
       "      <td>No</td>\n",
       "      <td>No phone service</td>\n",
       "      <td>DSL</td>\n",
       "      <td>No</td>\n",
       "      <td>Yes</td>\n",
       "      <td>No</td>\n",
       "      <td>No</td>\n",
       "      <td>No</td>\n",
       "      <td>No</td>\n",
       "      <td>Month-to-month</td>\n",
       "      <td>Yes</td>\n",
       "      <td>Electronic check</td>\n",
       "      <td>29.850</td>\n",
       "      <td>29.850</td>\n",
       "      <td>0</td>\n",
       "    </tr>\n",
       "    <tr>\n",
       "      <th>1</th>\n",
       "      <td>5575-GNVDE</td>\n",
       "      <td>Male</td>\n",
       "      <td>0</td>\n",
       "      <td>No</td>\n",
       "      <td>No</td>\n",
       "      <td>34</td>\n",
       "      <td>Yes</td>\n",
       "      <td>No</td>\n",
       "      <td>DSL</td>\n",
       "      <td>Yes</td>\n",
       "      <td>No</td>\n",
       "      <td>Yes</td>\n",
       "      <td>No</td>\n",
       "      <td>No</td>\n",
       "      <td>No</td>\n",
       "      <td>One year</td>\n",
       "      <td>No</td>\n",
       "      <td>Mailed check</td>\n",
       "      <td>56.950</td>\n",
       "      <td>1889.500</td>\n",
       "      <td>0</td>\n",
       "    </tr>\n",
       "    <tr>\n",
       "      <th>2</th>\n",
       "      <td>3668-QPYBK</td>\n",
       "      <td>Male</td>\n",
       "      <td>0</td>\n",
       "      <td>No</td>\n",
       "      <td>No</td>\n",
       "      <td>2</td>\n",
       "      <td>Yes</td>\n",
       "      <td>No</td>\n",
       "      <td>DSL</td>\n",
       "      <td>Yes</td>\n",
       "      <td>Yes</td>\n",
       "      <td>No</td>\n",
       "      <td>No</td>\n",
       "      <td>No</td>\n",
       "      <td>No</td>\n",
       "      <td>Month-to-month</td>\n",
       "      <td>Yes</td>\n",
       "      <td>Mailed check</td>\n",
       "      <td>53.850</td>\n",
       "      <td>108.150</td>\n",
       "      <td>1</td>\n",
       "    </tr>\n",
       "    <tr>\n",
       "      <th>3</th>\n",
       "      <td>7795-CFOCW</td>\n",
       "      <td>Male</td>\n",
       "      <td>0</td>\n",
       "      <td>No</td>\n",
       "      <td>No</td>\n",
       "      <td>45</td>\n",
       "      <td>No</td>\n",
       "      <td>No phone service</td>\n",
       "      <td>DSL</td>\n",
       "      <td>Yes</td>\n",
       "      <td>No</td>\n",
       "      <td>Yes</td>\n",
       "      <td>Yes</td>\n",
       "      <td>No</td>\n",
       "      <td>No</td>\n",
       "      <td>One year</td>\n",
       "      <td>No</td>\n",
       "      <td>Bank transfer (automatic)</td>\n",
       "      <td>42.300</td>\n",
       "      <td>1840.750</td>\n",
       "      <td>0</td>\n",
       "    </tr>\n",
       "    <tr>\n",
       "      <th>4</th>\n",
       "      <td>9237-HQITU</td>\n",
       "      <td>Female</td>\n",
       "      <td>0</td>\n",
       "      <td>No</td>\n",
       "      <td>No</td>\n",
       "      <td>2</td>\n",
       "      <td>Yes</td>\n",
       "      <td>No</td>\n",
       "      <td>Fiber optic</td>\n",
       "      <td>No</td>\n",
       "      <td>No</td>\n",
       "      <td>No</td>\n",
       "      <td>No</td>\n",
       "      <td>No</td>\n",
       "      <td>No</td>\n",
       "      <td>Month-to-month</td>\n",
       "      <td>Yes</td>\n",
       "      <td>Electronic check</td>\n",
       "      <td>70.700</td>\n",
       "      <td>151.650</td>\n",
       "      <td>1</td>\n",
       "    </tr>\n",
       "  </tbody>\n",
       "</table>\n",
       "</div>"
      ],
      "text/plain": [
       "   customerid  gender  seniorcitizen partner dependents  tenure phoneservice     multiplelines internetservice onlinesecurity onlinebackup deviceprotection techsupport streamingtv streamingmovies        contract paperlessbilling              paymentmethod  monthlycharges  totalcharges  churn\n",
       "0  7590-VHVEG  Female              0     Yes         No       1           No  No phone service             DSL             No          Yes               No          No          No              No  Month-to-month              Yes           Electronic check          29.850        29.850      0\n",
       "1  5575-GNVDE    Male              0      No         No      34          Yes                No             DSL            Yes           No              Yes          No          No              No        One year               No               Mailed check          56.950      1889.500      0\n",
       "2  3668-QPYBK    Male              0      No         No       2          Yes                No             DSL            Yes          Yes               No          No          No              No  Month-to-month              Yes               Mailed check          53.850       108.150      1\n",
       "3  7795-CFOCW    Male              0      No         No      45           No  No phone service             DSL            Yes           No              Yes         Yes          No              No        One year               No  Bank transfer (automatic)          42.300      1840.750      0\n",
       "4  9237-HQITU  Female              0      No         No       2          Yes                No     Fiber optic             No           No               No          No          No              No  Month-to-month              Yes           Electronic check          70.700       151.650      1"
      ]
     },
     "metadata": {},
     "output_type": "display_data"
    },
    {
     "name": "stdout",
     "output_type": "stream",
     "text": [
      "\n",
      " ************************************************************************ TAIL ************************************************************************\n"
     ]
    },
    {
     "data": {
      "text/html": [
       "<div>\n",
       "<style scoped>\n",
       "    .dataframe tbody tr th:only-of-type {\n",
       "        vertical-align: middle;\n",
       "    }\n",
       "\n",
       "    .dataframe tbody tr th {\n",
       "        vertical-align: top;\n",
       "    }\n",
       "\n",
       "    .dataframe thead th {\n",
       "        text-align: right;\n",
       "    }\n",
       "</style>\n",
       "<table border=\"1\" class=\"dataframe\">\n",
       "  <thead>\n",
       "    <tr style=\"text-align: right;\">\n",
       "      <th></th>\n",
       "      <th>customerid</th>\n",
       "      <th>gender</th>\n",
       "      <th>seniorcitizen</th>\n",
       "      <th>partner</th>\n",
       "      <th>dependents</th>\n",
       "      <th>tenure</th>\n",
       "      <th>phoneservice</th>\n",
       "      <th>multiplelines</th>\n",
       "      <th>internetservice</th>\n",
       "      <th>onlinesecurity</th>\n",
       "      <th>onlinebackup</th>\n",
       "      <th>deviceprotection</th>\n",
       "      <th>techsupport</th>\n",
       "      <th>streamingtv</th>\n",
       "      <th>streamingmovies</th>\n",
       "      <th>contract</th>\n",
       "      <th>paperlessbilling</th>\n",
       "      <th>paymentmethod</th>\n",
       "      <th>monthlycharges</th>\n",
       "      <th>totalcharges</th>\n",
       "      <th>churn</th>\n",
       "    </tr>\n",
       "  </thead>\n",
       "  <tbody>\n",
       "    <tr>\n",
       "      <th>7038</th>\n",
       "      <td>6840-RESVB</td>\n",
       "      <td>Male</td>\n",
       "      <td>0</td>\n",
       "      <td>Yes</td>\n",
       "      <td>Yes</td>\n",
       "      <td>24</td>\n",
       "      <td>Yes</td>\n",
       "      <td>Yes</td>\n",
       "      <td>DSL</td>\n",
       "      <td>Yes</td>\n",
       "      <td>No</td>\n",
       "      <td>Yes</td>\n",
       "      <td>Yes</td>\n",
       "      <td>Yes</td>\n",
       "      <td>Yes</td>\n",
       "      <td>One year</td>\n",
       "      <td>Yes</td>\n",
       "      <td>Mailed check</td>\n",
       "      <td>84.800</td>\n",
       "      <td>1990.500</td>\n",
       "      <td>0</td>\n",
       "    </tr>\n",
       "    <tr>\n",
       "      <th>7039</th>\n",
       "      <td>2234-XADUH</td>\n",
       "      <td>Female</td>\n",
       "      <td>0</td>\n",
       "      <td>Yes</td>\n",
       "      <td>Yes</td>\n",
       "      <td>72</td>\n",
       "      <td>Yes</td>\n",
       "      <td>Yes</td>\n",
       "      <td>Fiber optic</td>\n",
       "      <td>No</td>\n",
       "      <td>Yes</td>\n",
       "      <td>Yes</td>\n",
       "      <td>No</td>\n",
       "      <td>Yes</td>\n",
       "      <td>Yes</td>\n",
       "      <td>One year</td>\n",
       "      <td>Yes</td>\n",
       "      <td>Credit card (automatic)</td>\n",
       "      <td>103.200</td>\n",
       "      <td>7362.900</td>\n",
       "      <td>0</td>\n",
       "    </tr>\n",
       "    <tr>\n",
       "      <th>7040</th>\n",
       "      <td>4801-JZAZL</td>\n",
       "      <td>Female</td>\n",
       "      <td>0</td>\n",
       "      <td>Yes</td>\n",
       "      <td>Yes</td>\n",
       "      <td>11</td>\n",
       "      <td>No</td>\n",
       "      <td>No phone service</td>\n",
       "      <td>DSL</td>\n",
       "      <td>Yes</td>\n",
       "      <td>No</td>\n",
       "      <td>No</td>\n",
       "      <td>No</td>\n",
       "      <td>No</td>\n",
       "      <td>No</td>\n",
       "      <td>Month-to-month</td>\n",
       "      <td>Yes</td>\n",
       "      <td>Electronic check</td>\n",
       "      <td>29.600</td>\n",
       "      <td>346.450</td>\n",
       "      <td>0</td>\n",
       "    </tr>\n",
       "    <tr>\n",
       "      <th>7041</th>\n",
       "      <td>8361-LTMKD</td>\n",
       "      <td>Male</td>\n",
       "      <td>1</td>\n",
       "      <td>Yes</td>\n",
       "      <td>No</td>\n",
       "      <td>4</td>\n",
       "      <td>Yes</td>\n",
       "      <td>Yes</td>\n",
       "      <td>Fiber optic</td>\n",
       "      <td>No</td>\n",
       "      <td>No</td>\n",
       "      <td>No</td>\n",
       "      <td>No</td>\n",
       "      <td>No</td>\n",
       "      <td>No</td>\n",
       "      <td>Month-to-month</td>\n",
       "      <td>Yes</td>\n",
       "      <td>Mailed check</td>\n",
       "      <td>74.400</td>\n",
       "      <td>306.600</td>\n",
       "      <td>1</td>\n",
       "    </tr>\n",
       "    <tr>\n",
       "      <th>7042</th>\n",
       "      <td>3186-AJIEK</td>\n",
       "      <td>Male</td>\n",
       "      <td>0</td>\n",
       "      <td>No</td>\n",
       "      <td>No</td>\n",
       "      <td>66</td>\n",
       "      <td>Yes</td>\n",
       "      <td>No</td>\n",
       "      <td>Fiber optic</td>\n",
       "      <td>Yes</td>\n",
       "      <td>No</td>\n",
       "      <td>Yes</td>\n",
       "      <td>Yes</td>\n",
       "      <td>Yes</td>\n",
       "      <td>Yes</td>\n",
       "      <td>Two year</td>\n",
       "      <td>Yes</td>\n",
       "      <td>Bank transfer (automatic)</td>\n",
       "      <td>105.650</td>\n",
       "      <td>6844.500</td>\n",
       "      <td>0</td>\n",
       "    </tr>\n",
       "  </tbody>\n",
       "</table>\n",
       "</div>"
      ],
      "text/plain": [
       "      customerid  gender  seniorcitizen partner dependents  tenure phoneservice     multiplelines internetservice onlinesecurity onlinebackup deviceprotection techsupport streamingtv streamingmovies        contract paperlessbilling              paymentmethod  monthlycharges  totalcharges  churn\n",
       "7038  6840-RESVB    Male              0     Yes        Yes      24          Yes               Yes             DSL            Yes           No              Yes         Yes         Yes             Yes        One year              Yes               Mailed check          84.800      1990.500      0\n",
       "7039  2234-XADUH  Female              0     Yes        Yes      72          Yes               Yes     Fiber optic             No          Yes              Yes          No         Yes             Yes        One year              Yes    Credit card (automatic)         103.200      7362.900      0\n",
       "7040  4801-JZAZL  Female              0     Yes        Yes      11           No  No phone service             DSL            Yes           No               No          No          No              No  Month-to-month              Yes           Electronic check          29.600       346.450      0\n",
       "7041  8361-LTMKD    Male              1     Yes         No       4          Yes               Yes     Fiber optic             No           No               No          No          No              No  Month-to-month              Yes               Mailed check          74.400       306.600      1\n",
       "7042  3186-AJIEK    Male              0      No         No      66          Yes                No     Fiber optic            Yes           No              Yes         Yes         Yes             Yes        Two year              Yes  Bank transfer (automatic)         105.650      6844.500      0"
      ]
     },
     "metadata": {},
     "output_type": "display_data"
    },
    {
     "name": "stdout",
     "output_type": "stream",
     "text": [
      "\n",
      " *********************************************************************** SHAPE ************************************************************************\n",
      "(7043, 21)\n",
      "\n",
      " *********************************************************************** DTYPE ************************************************************************\n",
      "customerid           object\n",
      "gender               object\n",
      "seniorcitizen         int64\n",
      "partner              object\n",
      "dependents           object\n",
      "tenure                int64\n",
      "phoneservice         object\n",
      "multiplelines        object\n",
      "internetservice      object\n",
      "onlinesecurity       object\n",
      "onlinebackup         object\n",
      "deviceprotection     object\n",
      "techsupport          object\n",
      "streamingtv          object\n",
      "streamingmovies      object\n",
      "contract             object\n",
      "paperlessbilling     object\n",
      "paymentmethod        object\n",
      "monthlycharges      float64\n",
      "totalcharges        float64\n",
      "churn                 int64\n",
      "dtype: object\n",
      "\n",
      " ********************************************************************** COLUMNS ***********************************************************************\n",
      "Index(['customerid', 'gender', 'seniorcitizen', 'partner', 'dependents', 'tenure', 'phoneservice', 'multiplelines', 'internetservice', 'onlinesecurity', 'onlinebackup', 'deviceprotection', 'techsupport', 'streamingtv', 'streamingmovies', 'contract', 'paperlessbilling', 'paymentmethod', 'monthlycharges', 'totalcharges', 'churn'], dtype='object')\n",
      "\n",
      " ******************************************************************** DATASET INFO ********************************************************************\n",
      "<class 'pandas.core.frame.DataFrame'>\n",
      "RangeIndex: 7043 entries, 0 to 7042\n",
      "Data columns (total 21 columns):\n",
      " #   Column            Non-Null Count  Dtype  \n",
      "---  ------            --------------  -----  \n",
      " 0   customerid        7043 non-null   object \n",
      " 1   gender            7043 non-null   object \n",
      " 2   seniorcitizen     7043 non-null   int64  \n",
      " 3   partner           7043 non-null   object \n",
      " 4   dependents        7043 non-null   object \n",
      " 5   tenure            7043 non-null   int64  \n",
      " 6   phoneservice      7043 non-null   object \n",
      " 7   multiplelines     7043 non-null   object \n",
      " 8   internetservice   7043 non-null   object \n",
      " 9   onlinesecurity    7043 non-null   object \n",
      " 10  onlinebackup      7043 non-null   object \n",
      " 11  deviceprotection  7043 non-null   object \n",
      " 12  techsupport       7043 non-null   object \n",
      " 13  streamingtv       7043 non-null   object \n",
      " 14  streamingmovies   7043 non-null   object \n",
      " 15  contract          7043 non-null   object \n",
      " 16  paperlessbilling  7043 non-null   object \n",
      " 17  paymentmethod     7043 non-null   object \n",
      " 18  monthlycharges    7043 non-null   float64\n",
      " 19  totalcharges      7032 non-null   float64\n",
      " 20  churn             7043 non-null   int64  \n",
      "dtypes: float64(2), int64(3), object(16)\n",
      "memory usage: 1.1+ MB\n",
      "None\n",
      "\n",
      " ****************************************************************** ANY NULL VALUES *******************************************************************\n",
      "True\n",
      "\n",
      " ******************************************************************** NULL VALUES *********************************************************************\n",
      "totalcharges        11\n",
      "customerid           0\n",
      "deviceprotection     0\n",
      "monthlycharges       0\n",
      "paymentmethod        0\n",
      "paperlessbilling     0\n",
      "contract             0\n",
      "streamingmovies      0\n",
      "streamingtv          0\n",
      "techsupport          0\n",
      "onlinebackup         0\n",
      "gender               0\n",
      "onlinesecurity       0\n",
      "internetservice      0\n",
      "multiplelines        0\n",
      "phoneservice         0\n",
      "tenure               0\n",
      "dependents           0\n",
      "partner              0\n",
      "seniorcitizen        0\n",
      "churn                0\n",
      "dtype: int64\n",
      "\n",
      " *************************************************************** DESCRIPTIVE STATISTICS ***************************************************************\n"
     ]
    },
    {
     "data": {
      "text/html": [
       "<div>\n",
       "<style scoped>\n",
       "    .dataframe tbody tr th:only-of-type {\n",
       "        vertical-align: middle;\n",
       "    }\n",
       "\n",
       "    .dataframe tbody tr th {\n",
       "        vertical-align: top;\n",
       "    }\n",
       "\n",
       "    .dataframe thead th {\n",
       "        text-align: right;\n",
       "    }\n",
       "</style>\n",
       "<table border=\"1\" class=\"dataframe\">\n",
       "  <thead>\n",
       "    <tr style=\"text-align: right;\">\n",
       "      <th></th>\n",
       "      <th>count</th>\n",
       "      <th>mean</th>\n",
       "      <th>std</th>\n",
       "      <th>min</th>\n",
       "      <th>5%</th>\n",
       "      <th>10%</th>\n",
       "      <th>25%</th>\n",
       "      <th>50%</th>\n",
       "      <th>75%</th>\n",
       "      <th>90%</th>\n",
       "      <th>95%</th>\n",
       "      <th>99%</th>\n",
       "      <th>max</th>\n",
       "    </tr>\n",
       "  </thead>\n",
       "  <tbody>\n",
       "    <tr>\n",
       "      <th>seniorcitizen</th>\n",
       "      <td>7043.000</td>\n",
       "      <td>0.162</td>\n",
       "      <td>0.369</td>\n",
       "      <td>0.000</td>\n",
       "      <td>0.000</td>\n",
       "      <td>0.000</td>\n",
       "      <td>0.000</td>\n",
       "      <td>0.000</td>\n",
       "      <td>0.000</td>\n",
       "      <td>1.000</td>\n",
       "      <td>1.000</td>\n",
       "      <td>1.000</td>\n",
       "      <td>1.000</td>\n",
       "    </tr>\n",
       "    <tr>\n",
       "      <th>tenure</th>\n",
       "      <td>7043.000</td>\n",
       "      <td>32.371</td>\n",
       "      <td>24.559</td>\n",
       "      <td>0.000</td>\n",
       "      <td>1.000</td>\n",
       "      <td>2.000</td>\n",
       "      <td>9.000</td>\n",
       "      <td>29.000</td>\n",
       "      <td>55.000</td>\n",
       "      <td>69.000</td>\n",
       "      <td>72.000</td>\n",
       "      <td>72.000</td>\n",
       "      <td>72.000</td>\n",
       "    </tr>\n",
       "    <tr>\n",
       "      <th>monthlycharges</th>\n",
       "      <td>7043.000</td>\n",
       "      <td>64.762</td>\n",
       "      <td>30.090</td>\n",
       "      <td>18.250</td>\n",
       "      <td>19.650</td>\n",
       "      <td>20.050</td>\n",
       "      <td>35.500</td>\n",
       "      <td>70.350</td>\n",
       "      <td>89.850</td>\n",
       "      <td>102.600</td>\n",
       "      <td>107.400</td>\n",
       "      <td>114.729</td>\n",
       "      <td>118.750</td>\n",
       "    </tr>\n",
       "    <tr>\n",
       "      <th>totalcharges</th>\n",
       "      <td>7032.000</td>\n",
       "      <td>2283.300</td>\n",
       "      <td>2266.771</td>\n",
       "      <td>18.800</td>\n",
       "      <td>49.605</td>\n",
       "      <td>84.600</td>\n",
       "      <td>401.450</td>\n",
       "      <td>1397.475</td>\n",
       "      <td>3794.738</td>\n",
       "      <td>5976.640</td>\n",
       "      <td>6923.590</td>\n",
       "      <td>8039.883</td>\n",
       "      <td>8684.800</td>\n",
       "    </tr>\n",
       "    <tr>\n",
       "      <th>churn</th>\n",
       "      <td>7043.000</td>\n",
       "      <td>0.265</td>\n",
       "      <td>0.442</td>\n",
       "      <td>0.000</td>\n",
       "      <td>0.000</td>\n",
       "      <td>0.000</td>\n",
       "      <td>0.000</td>\n",
       "      <td>0.000</td>\n",
       "      <td>1.000</td>\n",
       "      <td>1.000</td>\n",
       "      <td>1.000</td>\n",
       "      <td>1.000</td>\n",
       "      <td>1.000</td>\n",
       "    </tr>\n",
       "  </tbody>\n",
       "</table>\n",
       "</div>"
      ],
      "text/plain": [
       "                  count     mean      std    min     5%    10%     25%      50%      75%      90%      95%      99%      max\n",
       "seniorcitizen  7043.000    0.162    0.369  0.000  0.000  0.000   0.000    0.000    0.000    1.000    1.000    1.000    1.000\n",
       "tenure         7043.000   32.371   24.559  0.000  1.000  2.000   9.000   29.000   55.000   69.000   72.000   72.000   72.000\n",
       "monthlycharges 7043.000   64.762   30.090 18.250 19.650 20.050  35.500   70.350   89.850  102.600  107.400  114.729  118.750\n",
       "totalcharges   7032.000 2283.300 2266.771 18.800 49.605 84.600 401.450 1397.475 3794.738 5976.640 6923.590 8039.883 8684.800\n",
       "churn          7043.000    0.265    0.442  0.000  0.000  0.000   0.000    0.000    1.000    1.000    1.000    1.000    1.000"
      ]
     },
     "metadata": {},
     "output_type": "display_data"
    }
   ],
   "source": [
    "check_dataframe(df)"
   ]
  },
  {
   "cell_type": "markdown",
   "id": "21ce3494",
   "metadata": {
    "papermill": {
     "duration": 0.027824,
     "end_time": "2022-12-04T16:14:08.190287",
     "exception": false,
     "start_time": "2022-12-04T16:14:08.162463",
     "status": "completed"
    },
    "tags": []
   },
   "source": [
    "### Now, you see that ther are some missing values in the variable 'totalcharges'"
   ]
  },
  {
   "cell_type": "markdown",
   "id": "9b90af8a",
   "metadata": {
    "papermill": {
     "duration": 0.027809,
     "end_time": "2022-12-04T16:14:08.246030",
     "exception": false,
     "start_time": "2022-12-04T16:14:08.218221",
     "status": "completed"
    },
    "tags": []
   },
   "source": [
    "## Let's grab the categorical, numerical, and cardinal variables"
   ]
  },
  {
   "cell_type": "code",
   "execution_count": 7,
   "id": "5271f201",
   "metadata": {
    "execution": {
     "iopub.execute_input": "2022-12-04T16:14:08.303778Z",
     "iopub.status.busy": "2022-12-04T16:14:08.303332Z",
     "iopub.status.idle": "2022-12-04T16:14:08.342524Z",
     "shell.execute_reply": "2022-12-04T16:14:08.340717Z"
    },
    "papermill": {
     "duration": 0.07185,
     "end_time": "2022-12-04T16:14:08.345662",
     "exception": false,
     "start_time": "2022-12-04T16:14:08.273812",
     "status": "completed"
    },
    "tags": []
   },
   "outputs": [
    {
     "name": "stdout",
     "output_type": "stream",
     "text": [
      "Observations: 7043\n",
      "Variables: 21\n",
      "cat_cols: 17\n",
      "num_cols: 3\n",
      "cat_but_car: 1\n",
      "num_but_cat: 2\n"
     ]
    }
   ],
   "source": [
    "def grab_col_names(dataframe, cat_th=10, car_th=20):\n",
    "    # categorical variables\n",
    "    cat_cols = [col for col in dataframe.columns if dataframe[col].dtypes == 'O']\n",
    "    num_but_cat = [col for col in dataframe.columns if\n",
    "                   dataframe[col].nunique() < cat_th and dataframe[col].dtypes != 'O']\n",
    "    cat_but_car = [col for col in dataframe.columns if\n",
    "                   dataframe[col].nunique() > car_th and dataframe[col].dtypes == 'O']\n",
    "    cat_cols = cat_cols + num_but_cat\n",
    "    cat_cols = [col for col in cat_cols if col not in cat_but_car]\n",
    "\n",
    "    # numerical variables\n",
    "    num_cols = [col for col in dataframe.columns if dataframe[col].dtypes != 'O']\n",
    "    num_cols = [col for col in num_cols if col not in num_but_cat]\n",
    "\n",
    "    # reporting section\n",
    "    print(f'Observations: {dataframe.shape[0]}')\n",
    "    print(f'Variables: {dataframe.shape[1]}')\n",
    "    print(f'cat_cols: {len(cat_cols)}')\n",
    "    print(f'num_cols: {len(num_cols)}')\n",
    "    print(f'cat_but_car: {len(cat_but_car)}')\n",
    "    print(f'num_but_cat: {len(num_but_cat)}')\n",
    "\n",
    "    # keeping the calculated values\n",
    "    return cat_cols, num_cols, cat_but_car, num_but_cat\n",
    "\n",
    "cat_cols, num_cols, cat_but_car, num_but_cat = grab_col_names(df)"
   ]
  },
  {
   "cell_type": "code",
   "execution_count": 8,
   "id": "33de80d2",
   "metadata": {
    "execution": {
     "iopub.execute_input": "2022-12-04T16:14:08.403921Z",
     "iopub.status.busy": "2022-12-04T16:14:08.403483Z",
     "iopub.status.idle": "2022-12-04T16:14:08.410351Z",
     "shell.execute_reply": "2022-12-04T16:14:08.409579Z"
    },
    "papermill": {
     "duration": 0.038647,
     "end_time": "2022-12-04T16:14:08.412607",
     "exception": false,
     "start_time": "2022-12-04T16:14:08.373960",
     "status": "completed"
    },
    "tags": []
   },
   "outputs": [
    {
     "data": {
      "text/plain": [
       "['gender',\n",
       " 'partner',\n",
       " 'dependents',\n",
       " 'phoneservice',\n",
       " 'multiplelines',\n",
       " 'internetservice',\n",
       " 'onlinesecurity',\n",
       " 'onlinebackup',\n",
       " 'deviceprotection',\n",
       " 'techsupport',\n",
       " 'streamingtv',\n",
       " 'streamingmovies',\n",
       " 'contract',\n",
       " 'paperlessbilling',\n",
       " 'paymentmethod',\n",
       " 'seniorcitizen',\n",
       " 'churn']"
      ]
     },
     "execution_count": 8,
     "metadata": {},
     "output_type": "execute_result"
    }
   ],
   "source": [
    "cat_cols"
   ]
  },
  {
   "cell_type": "code",
   "execution_count": 9,
   "id": "76ecfeaa",
   "metadata": {
    "execution": {
     "iopub.execute_input": "2022-12-04T16:14:08.470738Z",
     "iopub.status.busy": "2022-12-04T16:14:08.470255Z",
     "iopub.status.idle": "2022-12-04T16:14:08.477650Z",
     "shell.execute_reply": "2022-12-04T16:14:08.476053Z"
    },
    "papermill": {
     "duration": 0.039033,
     "end_time": "2022-12-04T16:14:08.479913",
     "exception": false,
     "start_time": "2022-12-04T16:14:08.440880",
     "status": "completed"
    },
    "tags": []
   },
   "outputs": [
    {
     "data": {
      "text/plain": [
       "['tenure', 'monthlycharges', 'totalcharges']"
      ]
     },
     "execution_count": 9,
     "metadata": {},
     "output_type": "execute_result"
    }
   ],
   "source": [
    "num_cols"
   ]
  },
  {
   "cell_type": "code",
   "execution_count": 10,
   "id": "ab6f49b8",
   "metadata": {
    "execution": {
     "iopub.execute_input": "2022-12-04T16:14:08.538104Z",
     "iopub.status.busy": "2022-12-04T16:14:08.537646Z",
     "iopub.status.idle": "2022-12-04T16:14:08.544153Z",
     "shell.execute_reply": "2022-12-04T16:14:08.543114Z"
    },
    "papermill": {
     "duration": 0.038259,
     "end_time": "2022-12-04T16:14:08.546444",
     "exception": false,
     "start_time": "2022-12-04T16:14:08.508185",
     "status": "completed"
    },
    "tags": []
   },
   "outputs": [
    {
     "data": {
      "text/plain": [
       "['customerid']"
      ]
     },
     "execution_count": 10,
     "metadata": {},
     "output_type": "execute_result"
    }
   ],
   "source": [
    "cat_but_car"
   ]
  },
  {
   "cell_type": "code",
   "execution_count": 11,
   "id": "92b687ea",
   "metadata": {
    "execution": {
     "iopub.execute_input": "2022-12-04T16:14:08.606165Z",
     "iopub.status.busy": "2022-12-04T16:14:08.605753Z",
     "iopub.status.idle": "2022-12-04T16:14:08.612627Z",
     "shell.execute_reply": "2022-12-04T16:14:08.611457Z"
    },
    "papermill": {
     "duration": 0.039822,
     "end_time": "2022-12-04T16:14:08.615115",
     "exception": false,
     "start_time": "2022-12-04T16:14:08.575293",
     "status": "completed"
    },
    "tags": []
   },
   "outputs": [
    {
     "data": {
      "text/plain": [
       "['seniorcitizen', 'churn']"
      ]
     },
     "execution_count": 11,
     "metadata": {},
     "output_type": "execute_result"
    }
   ],
   "source": [
    "num_but_cat"
   ]
  },
  {
   "cell_type": "markdown",
   "id": "dfbdad05",
   "metadata": {
    "papermill": {
     "duration": 0.028126,
     "end_time": "2022-12-04T16:14:08.671803",
     "exception": false,
     "start_time": "2022-12-04T16:14:08.643677",
     "status": "completed"
    },
    "tags": []
   },
   "source": [
    "## Let's analyse the categorical variables"
   ]
  },
  {
   "cell_type": "code",
   "execution_count": 12,
   "id": "79d77732",
   "metadata": {
    "execution": {
     "iopub.execute_input": "2022-12-04T16:14:08.731173Z",
     "iopub.status.busy": "2022-12-04T16:14:08.730367Z",
     "iopub.status.idle": "2022-12-04T16:14:08.738646Z",
     "shell.execute_reply": "2022-12-04T16:14:08.737311Z"
    },
    "papermill": {
     "duration": 0.040232,
     "end_time": "2022-12-04T16:14:08.740964",
     "exception": false,
     "start_time": "2022-12-04T16:14:08.700732",
     "status": "completed"
    },
    "tags": []
   },
   "outputs": [],
   "source": [
    "def cat_summary(dataframe, col_name, plot=False):\n",
    "    \"\"\"\n",
    "    for col in cat_cols:\n",
    "        cat_summary(df, col, plot=True)\n",
    "    \"\"\"\n",
    "    print('\\n', '#' * 10, col_name.upper(), 10 * '#')\n",
    "    print(pd.DataFrame({\n",
    "        col_name.upper(): dataframe[col_name].value_counts(),\n",
    "        'RATIO (%)': round(100 * (dataframe[col_name].value_counts() / len(dataframe)), 2)\n",
    "    }))\n",
    "\n",
    "    if plot:\n",
    "        sns.countplot(x=dataframe[col_name])\n",
    "        plt.ylabel('COUNT')\n",
    "        plt.xlabel(col_name.upper())\n",
    "        plt.show(block=True)"
   ]
  },
  {
   "cell_type": "code",
   "execution_count": 13,
   "id": "b447322c",
   "metadata": {
    "execution": {
     "iopub.execute_input": "2022-12-04T16:14:08.799793Z",
     "iopub.status.busy": "2022-12-04T16:14:08.799231Z",
     "iopub.status.idle": "2022-12-04T16:14:12.058716Z",
     "shell.execute_reply": "2022-12-04T16:14:12.057814Z"
    },
    "papermill": {
     "duration": 3.291801,
     "end_time": "2022-12-04T16:14:12.061150",
     "exception": false,
     "start_time": "2022-12-04T16:14:08.769349",
     "status": "completed"
    },
    "tags": []
   },
   "outputs": [
    {
     "name": "stdout",
     "output_type": "stream",
     "text": [
      "\n",
      " ########## GENDER ##########\n",
      "        GENDER  RATIO (%)\n",
      "Male      3555     50.480\n",
      "Female    3488     49.520\n"
     ]
    },
    {
     "data": {
      "image/png": "[encoded data removed]",
      "text/plain": [
       "<Figure size 432x288 with 1 Axes>"
      ]
     },
     "metadata": {
      "needs_background": "light"
     },
     "output_type": "display_data"
    },
    {
     "name": "stdout",
     "output_type": "stream",
     "text": [
      "\n",
      " ########## PARTNER ##########\n",
      "     PARTNER  RATIO (%)\n",
      "No      3641     51.700\n",
      "Yes     3402     48.300\n"
     ]
    },
    {
     "data": {
      "image/png": "[encoded data removed]",
      "text/plain": [
       "<Figure size 432x288 with 1 Axes>"
      ]
     },
     "metadata": {
      "needs_background": "light"
     },
     "output_type": "display_data"
    },
    {
     "name": "stdout",
     "output_type": "stream",
     "text": [
      "\n",
      " ########## DEPENDENTS ##########\n",
      "     DEPENDENTS  RATIO (%)\n",
      "No         4933     70.040\n",
      "Yes        2110     29.960\n"
     ]
    },
    {
     "data": {
      "image/png": "[encoded data removed]",
      "text/plain": [
       "<Figure size 432x288 with 1 Axes>"
      ]
     },
     "metadata": {
      "needs_background": "light"
     },
     "output_type": "display_data"
    },
    {
     "name": "stdout",
     "output_type": "stream",
     "text": [
      "\n",
      " ########## PHONESERVICE ##########\n",
      "     PHONESERVICE  RATIO (%)\n",
      "Yes          6361     90.320\n",
      "No            682      9.680\n"
     ]
    },
    {
     "data": {
      "image/png": "[encoded data removed]",
      "text/plain": [
       "<Figure size 432x288 with 1 Axes>"
      ]
     },
     "metadata": {
      "needs_background": "light"
     },
     "output_type": "display_data"
    },
    {
     "name": "stdout",
     "output_type": "stream",
     "text": [
      "\n",
      " ########## MULTIPLELINES ##########\n",
      "                  MULTIPLELINES  RATIO (%)\n",
      "No                         3390     48.130\n",
      "Yes                        2971     42.180\n",
      "No phone service            682      9.680\n"
     ]
    },
    {
     "data": {
      "image/png": "[encoded data removed]",
      "text/plain": [
       "<Figure size 432x288 with 1 Axes>"
      ]
     },
     "metadata": {
      "needs_background": "light"
     },
     "output_type": "display_data"
    },
    {
     "name": "stdout",
     "output_type": "stream",
     "text": [
      "\n",
      " ########## INTERNETSERVICE ##########\n",
      "             INTERNETSERVICE  RATIO (%)\n",
      "Fiber optic             3096     43.960\n",
      "DSL                     2421     34.370\n",
      "No                      1526     21.670\n"
     ]
    },
    {
     "data": {
      "image/png": "[encoded data removed]",
      "text/plain": [
       "<Figure size 432x288 with 1 Axes>"
      ]
     },
     "metadata": {
      "needs_background": "light"
     },
     "output_type": "display_data"
    },
    {
     "name": "stdout",
     "output_type": "stream",
     "text": [
      "\n",
      " ########## ONLINESECURITY ##########\n",
      "                     ONLINESECURITY  RATIO (%)\n",
      "No                             3498     49.670\n",
      "Yes                            2019     28.670\n",
      "No internet service            1526     21.670\n"
     ]
    },
    {
     "data": {
      "image/png": "[encoded data removed]",
      "text/plain": [
       "<Figure size 432x288 with 1 Axes>"
      ]
     },
     "metadata": {
      "needs_background": "light"
     },
     "output_type": "display_data"
    },
    {
     "name": "stdout",
     "output_type": "stream",
     "text": [
      "\n",
      " ########## ONLINEBACKUP ##########\n",
      "                     ONLINEBACKUP  RATIO (%)\n",
      "No                           3088     43.840\n",
      "Yes                          2429     34.490\n",
      "No internet service          1526     21.670\n"
     ]
    },
    {
     "data": {
      "image/png": "[encoded data removed]",
      "text/plain": [
       "<Figure size 432x288 with 1 Axes>"
      ]
     },
     "metadata": {
      "needs_background": "light"
     },
     "output_type": "display_data"
    },
    {
     "name": "stdout",
     "output_type": "stream",
     "text": [
      "\n",
      " ########## DEVICEPROTECTION ##########\n",
      "                     DEVICEPROTECTION  RATIO (%)\n",
      "No                               3095     43.940\n",
      "Yes                              2422     34.390\n",
      "No internet service              1526     21.670\n"
     ]
    },
    {
     "data": {
      "image/png": "[encoded data removed]",
      "text/plain": [
       "<Figure size 432x288 with 1 Axes>"
      ]
     },
     "metadata": {
      "needs_background": "light"
     },
     "output_type": "display_data"
    },
    {
     "name": "stdout",
     "output_type": "stream",
     "text": [
      "\n",
      " ########## TECHSUPPORT ##########\n",
      "                     TECHSUPPORT  RATIO (%)\n",
      "No                          3473     49.310\n",
      "Yes                         2044     29.020\n",
      "No internet service         1526     21.670\n"
     ]
    },
    {
     "data": {
      "image/png": "[encoded data removed]",
      "text/plain": [
       "<Figure size 432x288 with 1 Axes>"
      ]
     },
     "metadata": {
      "needs_background": "light"
     },
     "output_type": "display_data"
    },
    {
     "name": "stdout",
     "output_type": "stream",
     "text": [
      "\n",
      " ########## STREAMINGTV ##########\n",
      "                     STREAMINGTV  RATIO (%)\n",
      "No                          2810     39.900\n",
      "Yes                         2707     38.440\n",
      "No internet service         1526     21.670\n"
     ]
    },
    {
     "data": {
      "image/png": "[encoded data removed]",
      "text/plain": [
       "<Figure size 432x288 with 1 Axes>"
      ]
     },
     "metadata": {
      "needs_background": "light"
     },
     "output_type": "display_data"
    },
    {
     "name": "stdout",
     "output_type": "stream",
     "text": [
      "\n",
      " ########## STREAMINGMOVIES ##########\n",
      "                     STREAMINGMOVIES  RATIO (%)\n",
      "No                              2785     39.540\n",
      "Yes                             2732     38.790\n",
      "No internet service             1526     21.670\n"
     ]
    },
    {
     "data": {
      "image/png": "[encoded data removed]",
      "text/plain": [
       "<Figure size 432x288 with 1 Axes>"
      ]
     },
     "metadata": {
      "needs_background": "light"
     },
     "output_type": "display_data"
    },
    {
     "name": "stdout",
     "output_type": "stream",
     "text": [
      "\n",
      " ########## CONTRACT ##########\n",
      "                CONTRACT  RATIO (%)\n",
      "Month-to-month      3875     55.020\n",
      "Two year            1695     24.070\n",
      "One year            1473     20.910\n"
     ]
    },
    {
     "data": {
      "image/png": "[encoded data removed]",
      "text/plain": [
       "<Figure size 432x288 with 1 Axes>"
      ]
     },
     "metadata": {
      "needs_background": "light"
     },
     "output_type": "display_data"
    },
    {
     "name": "stdout",
     "output_type": "stream",
     "text": [
      "\n",
      " ########## PAPERLESSBILLING ##########\n",
      "     PAPERLESSBILLING  RATIO (%)\n",
      "Yes              4171     59.220\n",
      "No               2872     40.780\n"
     ]
    },
    {
     "data": {
      "image/png": "[encoded data removed]",
      "text/plain": [
       "<Figure size 432x288 with 1 Axes>"
      ]
     },
     "metadata": {
      "needs_background": "light"
     },
     "output_type": "display_data"
    },
    {
     "name": "stdout",
     "output_type": "stream",
     "text": [
      "\n",
      " ########## PAYMENTMETHOD ##########\n",
      "                           PAYMENTMETHOD  RATIO (%)\n",
      "Electronic check                    2365     33.580\n",
      "Mailed check                        1612     22.890\n",
      "Bank transfer (automatic)           1544     21.920\n",
      "Credit card (automatic)             1522     21.610\n"
     ]
    },
    {
     "data": {
      "image/png": "[encoded data removed]",
      "text/plain": [
       "<Figure size 432x288 with 1 Axes>"
      ]
     },
     "metadata": {
      "needs_background": "light"
     },
     "output_type": "display_data"
    },
    {
     "name": "stdout",
     "output_type": "stream",
     "text": [
      "\n",
      " ########## SENIORCITIZEN ##########\n",
      "   SENIORCITIZEN  RATIO (%)\n",
      "0           5901     83.790\n",
      "1           1142     16.210\n"
     ]
    },
    {
     "data": {
      "image/png": "[encoded data removed]",
      "text/plain": [
       "<Figure size 432x288 with 1 Axes>"
      ]
     },
     "metadata": {
      "needs_background": "light"
     },
     "output_type": "display_data"
    },
    {
     "name": "stdout",
     "output_type": "stream",
     "text": [
      "\n",
      " ########## CHURN ##########\n",
      "   CHURN  RATIO (%)\n",
      "0   5174     73.460\n",
      "1   1869     26.540\n"
     ]
    },
    {
     "data": {
      "image/png": "[encoded data removed]",
      "text/plain": [
       "<Figure size 432x288 with 1 Axes>"
      ]
     },
     "metadata": {
      "needs_background": "light"
     },
     "output_type": "display_data"
    }
   ],
   "source": [
    "for col in cat_cols:\n",
    "    cat_summary(df, col, plot=True)"
   ]
  },
  {
   "cell_type": "markdown",
   "id": "1c421d4e",
   "metadata": {
    "papermill": {
     "duration": 0.034285,
     "end_time": "2022-12-04T16:14:12.130536",
     "exception": false,
     "start_time": "2022-12-04T16:14:12.096251",
     "status": "completed"
    },
    "tags": []
   },
   "source": [
    "## Let's analyse the numerical variables"
   ]
  },
  {
   "cell_type": "code",
   "execution_count": 14,
   "id": "61bed9d1",
   "metadata": {
    "execution": {
     "iopub.execute_input": "2022-12-04T16:14:12.200013Z",
     "iopub.status.busy": "2022-12-04T16:14:12.198888Z",
     "iopub.status.idle": "2022-12-04T16:14:12.207032Z",
     "shell.execute_reply": "2022-12-04T16:14:12.205884Z"
    },
    "papermill": {
     "duration": 0.045788,
     "end_time": "2022-12-04T16:14:12.209710",
     "exception": false,
     "start_time": "2022-12-04T16:14:12.163922",
     "status": "completed"
    },
    "tags": []
   },
   "outputs": [],
   "source": [
    "def num_summary(dataframe, numerical_col, plot=False):\n",
    "    \"\"\"\n",
    "    for col in num_cols:\n",
    "        num_summary(df, col, plot=True)\n",
    "    \"\"\"\n",
    "    print('#' * 10, numerical_col.upper(), '#' * 10)\n",
    "    print(pd.DataFrame({\n",
    "        numerical_col.upper(): round(dataframe[numerical_col].describe().T, 2)\n",
    "    }))\n",
    "\n",
    "    if plot:\n",
    "        plt.figure(figsize=(10, 5))\n",
    "        plt.subplot(1, 2, 1)\n",
    "        sns.boxplot(y=dataframe[numerical_col])\n",
    "        plt.ylabel(numerical_col.upper())\n",
    "        plt.subplot(1, 2, 2)\n",
    "        sns.histplot(x=dataframe[numerical_col])\n",
    "        plt.xlabel(numerical_col.upper())\n",
    "        plt.show(block=True)"
   ]
  },
  {
   "cell_type": "code",
   "execution_count": 15,
   "id": "2281bd9a",
   "metadata": {
    "execution": {
     "iopub.execute_input": "2022-12-04T16:14:12.278686Z",
     "iopub.status.busy": "2022-12-04T16:14:12.278285Z",
     "iopub.status.idle": "2022-12-04T16:14:13.279845Z",
     "shell.execute_reply": "2022-12-04T16:14:13.278645Z"
    },
    "papermill": {
     "duration": 1.038499,
     "end_time": "2022-12-04T16:14:13.282054",
     "exception": false,
     "start_time": "2022-12-04T16:14:12.243555",
     "status": "completed"
    },
    "tags": []
   },
   "outputs": [
    {
     "name": "stdout",
     "output_type": "stream",
     "text": [
      "########## TENURE ##########\n",
      "        TENURE\n",
      "count 7043.000\n",
      "mean    32.370\n",
      "std     24.560\n",
      "min      0.000\n",
      "25%      9.000\n",
      "50%     29.000\n",
      "75%     55.000\n",
      "max     72.000\n"
     ]
    },
    {
     "data": {
      "image/png": "[encoded data removed]",
      "text/plain": [
       "<Figure size 720x360 with 2 Axes>"
      ]
     },
     "metadata": {
      "needs_background": "light"
     },
     "output_type": "display_data"
    },
    {
     "name": "stdout",
     "output_type": "stream",
     "text": [
      "########## MONTHLYCHARGES ##########\n",
      "       MONTHLYCHARGES\n",
      "count        7043.000\n",
      "mean           64.760\n",
      "std            30.090\n",
      "min            18.250\n",
      "25%            35.500\n",
      "50%            70.350\n",
      "75%            89.850\n",
      "max           118.750\n"
     ]
    },
    {
     "data": {
      "image/png": "[encoded data removed]",
      "text/plain": [
       "<Figure size 720x360 with 2 Axes>"
      ]
     },
     "metadata": {
      "needs_background": "light"
     },
     "output_type": "display_data"
    },
    {
     "name": "stdout",
     "output_type": "stream",
     "text": [
      "########## TOTALCHARGES ##########\n",
      "       TOTALCHARGES\n",
      "count      7032.000\n",
      "mean       2283.300\n",
      "std        2266.770\n",
      "min          18.800\n",
      "25%         401.450\n",
      "50%        1397.480\n",
      "75%        3794.740\n",
      "max        8684.800\n"
     ]
    },
    {
     "data": {
      "image/png": "[encoded data removed]",
      "text/plain": [
       "<Figure size 720x360 with 2 Axes>"
      ]
     },
     "metadata": {
      "needs_background": "light"
     },
     "output_type": "display_data"
    }
   ],
   "source": [
    "for col in num_cols:\n",
    "    num_summary(df, col, plot=True)"
   ]
  },
  {
   "cell_type": "markdown",
   "id": "1b63b8cf",
   "metadata": {
    "papermill": {
     "duration": 0.035144,
     "end_time": "2022-12-04T16:14:13.352385",
     "exception": false,
     "start_time": "2022-12-04T16:14:13.317241",
     "status": "completed"
    },
    "tags": []
   },
   "source": [
    "## Let's analyse the target variable with categorical variables"
   ]
  },
  {
   "cell_type": "code",
   "execution_count": 16,
   "id": "d32f008e",
   "metadata": {
    "execution": {
     "iopub.execute_input": "2022-12-04T16:14:13.426306Z",
     "iopub.status.busy": "2022-12-04T16:14:13.425896Z",
     "iopub.status.idle": "2022-12-04T16:14:13.433275Z",
     "shell.execute_reply": "2022-12-04T16:14:13.432109Z"
    },
    "papermill": {
     "duration": 0.046454,
     "end_time": "2022-12-04T16:14:13.435508",
     "exception": false,
     "start_time": "2022-12-04T16:14:13.389054",
     "status": "completed"
    },
    "tags": []
   },
   "outputs": [],
   "source": [
    "def target_summary_with_cat(dataframe, target, categorical_col, plot=False):\n",
    "    print('\\n', '#' * 10, categorical_col.upper(), '#' * 10)\n",
    "    print(pd.DataFrame({\n",
    "        'TARGET_MEAN': round(dataframe.groupby(categorical_col)[target].mean(), 2)\n",
    "    }), end='\\n\\n')\n",
    "\n",
    "    if plot:\n",
    "        sns.barplot(x=dataframe[categorical_col], y=dataframe[target])\n",
    "        plt.xlabel(categorical_col.upper())\n",
    "        plt.ylabel(target.upper())\n",
    "        plt.show(block=True)"
   ]
  },
  {
   "cell_type": "code",
   "execution_count": 17,
   "id": "accef6c6",
   "metadata": {
    "execution": {
     "iopub.execute_input": "2022-12-04T16:14:13.506460Z",
     "iopub.status.busy": "2022-12-04T16:14:13.506055Z",
     "iopub.status.idle": "2022-12-04T16:14:18.949955Z",
     "shell.execute_reply": "2022-12-04T16:14:18.948625Z"
    },
    "papermill": {
     "duration": 5.482596,
     "end_time": "2022-12-04T16:14:18.952616",
     "exception": false,
     "start_time": "2022-12-04T16:14:13.470020",
     "status": "completed"
    },
    "tags": []
   },
   "outputs": [
    {
     "name": "stdout",
     "output_type": "stream",
     "text": [
      "\n",
      " ########## GENDER ##########\n",
      "        TARGET_MEAN\n",
      "gender             \n",
      "Female        0.270\n",
      "Male          0.260\n",
      "\n"
     ]
    },
    {
     "data": {
      "image/png": "[encoded data removed]",
      "text/plain": [
       "<Figure size 432x288 with 1 Axes>"
      ]
     },
     "metadata": {
      "needs_background": "light"
     },
     "output_type": "display_data"
    },
    {
     "name": "stdout",
     "output_type": "stream",
     "text": [
      "\n",
      " ########## PARTNER ##########\n",
      "         TARGET_MEAN\n",
      "partner             \n",
      "No             0.330\n",
      "Yes            0.200\n",
      "\n"
     ]
    },
    {
     "data": {
      "image/png": "[encoded data removed]",
      "text/plain": [
       "<Figure size 432x288 with 1 Axes>"
      ]
     },
     "metadata": {
      "needs_background": "light"
     },
     "output_type": "display_data"
    },
    {
     "name": "stdout",
     "output_type": "stream",
     "text": [
      "\n",
      " ########## DEPENDENTS ##########\n",
      "            TARGET_MEAN\n",
      "dependents             \n",
      "No                0.310\n",
      "Yes               0.150\n",
      "\n"
     ]
    },
    {
     "data": {
      "image/png": "[encoded data removed]",
      "text/plain": [
       "<Figure size 432x288 with 1 Axes>"
      ]
     },
     "metadata": {
      "needs_background": "light"
     },
     "output_type": "display_data"
    },
    {
     "name": "stdout",
     "output_type": "stream",
     "text": [
      "\n",
      " ########## PHONESERVICE ##########\n",
      "              TARGET_MEAN\n",
      "phoneservice             \n",
      "No                  0.250\n",
      "Yes                 0.270\n",
      "\n"
     ]
    },
    {
     "data": {
      "image/png": "[encoded data removed]",
      "text/plain": [
       "<Figure size 432x288 with 1 Axes>"
      ]
     },
     "metadata": {
      "needs_background": "light"
     },
     "output_type": "display_data"
    },
    {
     "name": "stdout",
     "output_type": "stream",
     "text": [
      "\n",
      " ########## MULTIPLELINES ##########\n",
      "                  TARGET_MEAN\n",
      "multiplelines                \n",
      "No                      0.250\n",
      "No phone service        0.250\n",
      "Yes                     0.290\n",
      "\n"
     ]
    },
    {
     "data": {
      "image/png": "[encoded data removed]",
      "text/plain": [
       "<Figure size 432x288 with 1 Axes>"
      ]
     },
     "metadata": {
      "needs_background": "light"
     },
     "output_type": "display_data"
    },
    {
     "name": "stdout",
     "output_type": "stream",
     "text": [
      "\n",
      " ########## INTERNETSERVICE ##########\n",
      "                 TARGET_MEAN\n",
      "internetservice             \n",
      "DSL                    0.190\n",
      "Fiber optic            0.420\n",
      "No                     0.070\n",
      "\n"
     ]
    },
    {
     "data": {
      "image/png": "[encoded data removed]",
      "text/plain": [
       "<Figure size 432x288 with 1 Axes>"
      ]
     },
     "metadata": {
      "needs_background": "light"
     },
     "output_type": "display_data"
    },
    {
     "name": "stdout",
     "output_type": "stream",
     "text": [
      "\n",
      " ########## ONLINESECURITY ##########\n",
      "                     TARGET_MEAN\n",
      "onlinesecurity                  \n",
      "No                         0.420\n",
      "No internet service        0.070\n",
      "Yes                        0.150\n",
      "\n"
     ]
    },
    {
     "data": {
      "image/png": "[encoded data removed]",
      "text/plain": [
       "<Figure size 432x288 with 1 Axes>"
      ]
     },
     "metadata": {
      "needs_background": "light"
     },
     "output_type": "display_data"
    },
    {
     "name": "stdout",
     "output_type": "stream",
     "text": [
      "\n",
      " ########## ONLINEBACKUP ##########\n",
      "                     TARGET_MEAN\n",
      "onlinebackup                    \n",
      "No                         0.400\n",
      "No internet service        0.070\n",
      "Yes                        0.220\n",
      "\n"
     ]
    },
    {
     "data": {
      "image/png": "[encoded data removed]",
      "text/plain": [
       "<Figure size 432x288 with 1 Axes>"
      ]
     },
     "metadata": {
      "needs_background": "light"
     },
     "output_type": "display_data"
    },
    {
     "name": "stdout",
     "output_type": "stream",
     "text": [
      "\n",
      " ########## DEVICEPROTECTION ##########\n",
      "                     TARGET_MEAN\n",
      "deviceprotection                \n",
      "No                         0.390\n",
      "No internet service        0.070\n",
      "Yes                        0.230\n",
      "\n"
     ]
    },
    {
     "data": {
      "image/png": "[encoded data removed]",
      "text/plain": [
       "<Figure size 432x288 with 1 Axes>"
      ]
     },
     "metadata": {
      "needs_background": "light"
     },
     "output_type": "display_data"
    },
    {
     "name": "stdout",
     "output_type": "stream",
     "text": [
      "\n",
      " ########## TECHSUPPORT ##########\n",
      "                     TARGET_MEAN\n",
      "techsupport                     \n",
      "No                         0.420\n",
      "No internet service        0.070\n",
      "Yes                        0.150\n",
      "\n"
     ]
    },
    {
     "data": {
      "image/png": "[encoded data removed]",
      "text/plain": [
       "<Figure size 432x288 with 1 Axes>"
      ]
     },
     "metadata": {
      "needs_background": "light"
     },
     "output_type": "display_data"
    },
    {
     "name": "stdout",
     "output_type": "stream",
     "text": [
      "\n",
      " ########## STREAMINGTV ##########\n",
      "                     TARGET_MEAN\n",
      "streamingtv                     \n",
      "No                         0.340\n",
      "No internet service        0.070\n",
      "Yes                        0.300\n",
      "\n"
     ]
    },
    {
     "data": {
      "image/png": "[encoded data removed]",
      "text/plain": [
       "<Figure size 432x288 with 1 Axes>"
      ]
     },
     "metadata": {
      "needs_background": "light"
     },
     "output_type": "display_data"
    },
    {
     "name": "stdout",
     "output_type": "stream",
     "text": [
      "\n",
      " ########## STREAMINGMOVIES ##########\n",
      "                     TARGET_MEAN\n",
      "streamingmovies                 \n",
      "No                         0.340\n",
      "No internet service        0.070\n",
      "Yes                        0.300\n",
      "\n"
     ]
    },
    {
     "data": {
      "image/png": "[encoded data removed]",
      "text/plain": [
       "<Figure size 432x288 with 1 Axes>"
      ]
     },
     "metadata": {
      "needs_background": "light"
     },
     "output_type": "display_data"
    },
    {
     "name": "stdout",
     "output_type": "stream",
     "text": [
      "\n",
      " ########## CONTRACT ##########\n",
      "                TARGET_MEAN\n",
      "contract                   \n",
      "Month-to-month        0.430\n",
      "One year              0.110\n",
      "Two year              0.030\n",
      "\n"
     ]
    },
    {
     "data": {
      "image/png": "[encoded data removed]",
      "text/plain": [
       "<Figure size 432x288 with 1 Axes>"
      ]
     },
     "metadata": {
      "needs_background": "light"
     },
     "output_type": "display_data"
    },
    {
     "name": "stdout",
     "output_type": "stream",
     "text": [
      "\n",
      " ########## PAPERLESSBILLING ##########\n",
      "                  TARGET_MEAN\n",
      "paperlessbilling             \n",
      "No                      0.160\n",
      "Yes                     0.340\n",
      "\n"
     ]
    },
    {
     "data": {
      "image/png": "[encoded data removed]",
      "text/plain": [
       "<Figure size 432x288 with 1 Axes>"
      ]
     },
     "metadata": {
      "needs_background": "light"
     },
     "output_type": "display_data"
    },
    {
     "name": "stdout",
     "output_type": "stream",
     "text": [
      "\n",
      " ########## PAYMENTMETHOD ##########\n",
      "                           TARGET_MEAN\n",
      "paymentmethod                         \n",
      "Bank transfer (automatic)        0.170\n",
      "Credit card (automatic)          0.150\n",
      "Electronic check                 0.450\n",
      "Mailed check                     0.190\n",
      "\n"
     ]
    },
    {
     "data": {
      "image/png": "[encoded data removed]",
      "text/plain": [
       "<Figure size 432x288 with 1 Axes>"
      ]
     },
     "metadata": {
      "needs_background": "light"
     },
     "output_type": "display_data"
    },
    {
     "name": "stdout",
     "output_type": "stream",
     "text": [
      "\n",
      " ########## SENIORCITIZEN ##########\n",
      "               TARGET_MEAN\n",
      "seniorcitizen             \n",
      "0                    0.240\n",
      "1                    0.420\n",
      "\n"
     ]
    },
    {
     "data": {
      "image/png": "[encoded data removed]",
      "text/plain": [
       "<Figure size 432x288 with 1 Axes>"
      ]
     },
     "metadata": {
      "needs_background": "light"
     },
     "output_type": "display_data"
    }
   ],
   "source": [
    "cat_cols = [col for col in cat_cols if 'churn' not in col]\n",
    "for col in cat_cols:\n",
    "    target_summary_with_cat(df, 'churn', col, plot=True)"
   ]
  },
  {
   "cell_type": "markdown",
   "id": "7b80ba97",
   "metadata": {
    "papermill": {
     "duration": 0.038813,
     "end_time": "2022-12-04T16:14:19.031041",
     "exception": false,
     "start_time": "2022-12-04T16:14:18.992228",
     "status": "completed"
    },
    "tags": []
   },
   "source": [
    "## Let's analyse the target variable with numerical variables"
   ]
  },
  {
   "cell_type": "code",
   "execution_count": 18,
   "id": "29ceff58",
   "metadata": {
    "execution": {
     "iopub.execute_input": "2022-12-04T16:14:19.112042Z",
     "iopub.status.busy": "2022-12-04T16:14:19.111639Z",
     "iopub.status.idle": "2022-12-04T16:14:19.118468Z",
     "shell.execute_reply": "2022-12-04T16:14:19.117420Z"
    },
    "papermill": {
     "duration": 0.04991,
     "end_time": "2022-12-04T16:14:19.120653",
     "exception": false,
     "start_time": "2022-12-04T16:14:19.070743",
     "status": "completed"
    },
    "tags": []
   },
   "outputs": [],
   "source": [
    "def target_summary_with_num(dataframe, target, numerical_col, plot=False):\n",
    "    print(dataframe.groupby(target).agg({numerical_col: \"mean\"}), end=\"\\n\\n\")\n",
    "\n",
    "    if plot:\n",
    "        sns.barplot(x=dataframe[target], y=dataframe[numerical_col])\n",
    "        plt.ylabel(numerical_col.upper())\n",
    "        plt.xlabel(target.upper())\n",
    "        plt.show(block=True)"
   ]
  },
  {
   "cell_type": "code",
   "execution_count": 19,
   "id": "4f792267",
   "metadata": {
    "execution": {
     "iopub.execute_input": "2022-12-04T16:14:19.201472Z",
     "iopub.status.busy": "2022-12-04T16:14:19.201082Z",
     "iopub.status.idle": "2022-12-04T16:14:20.097116Z",
     "shell.execute_reply": "2022-12-04T16:14:20.095925Z"
    },
    "papermill": {
     "duration": 0.939411,
     "end_time": "2022-12-04T16:14:20.099809",
     "exception": false,
     "start_time": "2022-12-04T16:14:19.160398",
     "status": "completed"
    },
    "tags": []
   },
   "outputs": [
    {
     "name": "stdout",
     "output_type": "stream",
     "text": [
      "       tenure\n",
      "churn        \n",
      "0      37.570\n",
      "1      17.979\n",
      "\n"
     ]
    },
    {
     "data": {
      "image/png": "[encoded data removed]",
      "text/plain": [
       "<Figure size 432x288 with 1 Axes>"
      ]
     },
     "metadata": {
      "needs_background": "light"
     },
     "output_type": "display_data"
    },
    {
     "name": "stdout",
     "output_type": "stream",
     "text": [
      "       monthlycharges\n",
      "churn                \n",
      "0              61.265\n",
      "1              74.441\n",
      "\n"
     ]
    },
    {
     "data": {
      "image/png": "[encoded data removed]",
      "text/plain": [
       "<Figure size 432x288 with 1 Axes>"
      ]
     },
     "metadata": {
      "needs_background": "light"
     },
     "output_type": "display_data"
    },
    {
     "name": "stdout",
     "output_type": "stream",
     "text": [
      "       totalcharges\n",
      "churn              \n",
      "0          2555.344\n",
      "1          1531.796\n",
      "\n"
     ]
    },
    {
     "data": {
      "image/png": "[encoded data removed]",
      "text/plain": [
       "<Figure size 432x288 with 1 Axes>"
      ]
     },
     "metadata": {
      "needs_background": "light"
     },
     "output_type": "display_data"
    }
   ],
   "source": [
    "for col in num_cols:\n",
    "    target_summary_with_num(df,'churn', col, plot=True)"
   ]
  },
  {
   "cell_type": "markdown",
   "id": "439343ec",
   "metadata": {
    "papermill": {
     "duration": 0.040725,
     "end_time": "2022-12-04T16:14:20.180706",
     "exception": false,
     "start_time": "2022-12-04T16:14:20.139981",
     "status": "completed"
    },
    "tags": []
   },
   "source": [
    "## Let's define a function giving the high correlated columns"
   ]
  },
  {
   "cell_type": "code",
   "execution_count": 20,
   "id": "74f0e135",
   "metadata": {
    "execution": {
     "iopub.execute_input": "2022-12-04T16:14:20.263526Z",
     "iopub.status.busy": "2022-12-04T16:14:20.263137Z",
     "iopub.status.idle": "2022-12-04T16:14:20.270177Z",
     "shell.execute_reply": "2022-12-04T16:14:20.269389Z"
    },
    "papermill": {
     "duration": 0.050997,
     "end_time": "2022-12-04T16:14:20.272265",
     "exception": false,
     "start_time": "2022-12-04T16:14:20.221268",
     "status": "completed"
    },
    "tags": []
   },
   "outputs": [],
   "source": [
    "def high_correlated_cols(dataframe, corr_th=0.90, plot=False):\n",
    "    corr = dataframe.corr()\n",
    "    cor_matrix = corr.abs()\n",
    "    upper_triangle_matrix = cor_matrix.where(np.triu(np.ones(cor_matrix.shape), k=1).astype(np.bool_))\n",
    "    drop_list = [col for col in upper_triangle_matrix.columns if any(upper_triangle_matrix[col] > corr_th)]\n",
    "\n",
    "    if plot:\n",
    "        plt.figure(figsize=(10, 8))\n",
    "        sns.heatmap(corr, cmap='RdBu', annot=True, annot_kws={'fontsize': 12})\n",
    "        plt.show(block=True)\n",
    "\n",
    "    return drop_list"
   ]
  },
  {
   "cell_type": "code",
   "execution_count": 21,
   "id": "b6f95f2d",
   "metadata": {
    "execution": {
     "iopub.execute_input": "2022-12-04T16:14:20.356155Z",
     "iopub.status.busy": "2022-12-04T16:14:20.355399Z",
     "iopub.status.idle": "2022-12-04T16:14:20.692754Z",
     "shell.execute_reply": "2022-12-04T16:14:20.691599Z"
    },
    "papermill": {
     "duration": 0.381403,
     "end_time": "2022-12-04T16:14:20.695112",
     "exception": false,
     "start_time": "2022-12-04T16:14:20.313709",
     "status": "completed"
    },
    "tags": []
   },
   "outputs": [
    {
     "data": {
      "image/png": "[encoded data removed]",
      "text/plain": [
       "<Figure size 720x576 with 2 Axes>"
      ]
     },
     "metadata": {
      "needs_background": "light"
     },
     "output_type": "display_data"
    },
    {
     "data": {
      "text/plain": [
       "[]"
      ]
     },
     "execution_count": 21,
     "metadata": {},
     "output_type": "execute_result"
    }
   ],
   "source": [
    "high_correlated_cols(df, plot=True)    # variables to be removed"
   ]
  },
  {
   "cell_type": "markdown",
   "id": "b614bcbe",
   "metadata": {
    "papermill": {
     "duration": 0.04087,
     "end_time": "2022-12-04T16:14:20.777719",
     "exception": false,
     "start_time": "2022-12-04T16:14:20.736849",
     "status": "completed"
    },
    "tags": []
   },
   "source": [
    "### You see that there is no columns to be deleted as there is no correlation higher than 0.90, which is a threshold value I determined. "
   ]
  },
  {
   "cell_type": "markdown",
   "id": "6fa474ce",
   "metadata": {
    "papermill": {
     "duration": 0.040955,
     "end_time": "2022-12-04T16:14:20.860018",
     "exception": false,
     "start_time": "2022-12-04T16:14:20.819063",
     "status": "completed"
    },
    "tags": []
   },
   "source": [
    "# Modeling before feature extraction and hyperparameter optimization"
   ]
  },
  {
   "cell_type": "markdown",
   "id": "f90a17d1",
   "metadata": {
    "papermill": {
     "duration": 0.041046,
     "end_time": "2022-12-04T16:14:20.943130",
     "exception": false,
     "start_time": "2022-12-04T16:14:20.902084",
     "status": "completed"
    },
    "tags": []
   },
   "source": [
    "### Let's drop the missing values"
   ]
  },
  {
   "cell_type": "code",
   "execution_count": 22,
   "id": "f5783185",
   "metadata": {
    "execution": {
     "iopub.execute_input": "2022-12-04T16:14:21.029432Z",
     "iopub.status.busy": "2022-12-04T16:14:21.028342Z",
     "iopub.status.idle": "2022-12-04T16:14:21.055417Z",
     "shell.execute_reply": "2022-12-04T16:14:21.054409Z"
    },
    "papermill": {
     "duration": 0.07318,
     "end_time": "2022-12-04T16:14:21.057931",
     "exception": false,
     "start_time": "2022-12-04T16:14:20.984751",
     "status": "completed"
    },
    "tags": []
   },
   "outputs": [
    {
     "name": "stdout",
     "output_type": "stream",
     "text": [
      "<class 'pandas.core.frame.DataFrame'>\n",
      "Int64Index: 7032 entries, 0 to 7042\n",
      "Data columns (total 21 columns):\n",
      " #   Column            Non-Null Count  Dtype  \n",
      "---  ------            --------------  -----  \n",
      " 0   customerid        7032 non-null   object \n",
      " 1   gender            7032 non-null   object \n",
      " 2   seniorcitizen     7032 non-null   int64  \n",
      " 3   partner           7032 non-null   object \n",
      " 4   dependents        7032 non-null   object \n",
      " 5   tenure            7032 non-null   int64  \n",
      " 6   phoneservice      7032 non-null   object \n",
      " 7   multiplelines     7032 non-null   object \n",
      " 8   internetservice   7032 non-null   object \n",
      " 9   onlinesecurity    7032 non-null   object \n",
      " 10  onlinebackup      7032 non-null   object \n",
      " 11  deviceprotection  7032 non-null   object \n",
      " 12  techsupport       7032 non-null   object \n",
      " 13  streamingtv       7032 non-null   object \n",
      " 14  streamingmovies   7032 non-null   object \n",
      " 15  contract          7032 non-null   object \n",
      " 16  paperlessbilling  7032 non-null   object \n",
      " 17  paymentmethod     7032 non-null   object \n",
      " 18  monthlycharges    7032 non-null   float64\n",
      " 19  totalcharges      7032 non-null   float64\n",
      " 20  churn             7032 non-null   int64  \n",
      "dtypes: float64(2), int64(3), object(16)\n",
      "memory usage: 1.2+ MB\n"
     ]
    }
   ],
   "source": [
    "df.dropna(inplace=True)\n",
    "df.info()"
   ]
  },
  {
   "cell_type": "markdown",
   "id": "9c761b82",
   "metadata": {
    "papermill": {
     "duration": 0.04077,
     "end_time": "2022-12-04T16:14:21.140361",
     "exception": false,
     "start_time": "2022-12-04T16:14:21.099591",
     "status": "completed"
    },
    "tags": []
   },
   "source": [
    "### Let's check the ordinality between the categorical columns"
   ]
  },
  {
   "cell_type": "code",
   "execution_count": 23,
   "id": "046df465",
   "metadata": {
    "execution": {
     "iopub.execute_input": "2022-12-04T16:14:21.225028Z",
     "iopub.status.busy": "2022-12-04T16:14:21.224266Z",
     "iopub.status.idle": "2022-12-04T16:14:21.228747Z",
     "shell.execute_reply": "2022-12-04T16:14:21.227946Z"
    },
    "papermill": {
     "duration": 0.049407,
     "end_time": "2022-12-04T16:14:21.230873",
     "exception": false,
     "start_time": "2022-12-04T16:14:21.181466",
     "status": "completed"
    },
    "tags": []
   },
   "outputs": [],
   "source": [
    "def ordinal_columns(dataframe, variable):\n",
    "    print(dataframe[variable].value_counts())"
   ]
  },
  {
   "cell_type": "code",
   "execution_count": 24,
   "id": "61cd7488",
   "metadata": {
    "execution": {
     "iopub.execute_input": "2022-12-04T16:14:21.315730Z",
     "iopub.status.busy": "2022-12-04T16:14:21.314968Z",
     "iopub.status.idle": "2022-12-04T16:14:21.338613Z",
     "shell.execute_reply": "2022-12-04T16:14:21.336678Z"
    },
    "papermill": {
     "duration": 0.069601,
     "end_time": "2022-12-04T16:14:21.341655",
     "exception": false,
     "start_time": "2022-12-04T16:14:21.272054",
     "status": "completed"
    },
    "tags": []
   },
   "outputs": [
    {
     "name": "stdout",
     "output_type": "stream",
     "text": [
      "----------------------------------------------------------------------------------------------------\n",
      "Male      3549\n",
      "Female    3483\n",
      "Name: gender, dtype: int64\n",
      "----------------------------------------------------------------------------------------------------\n",
      "No     3639\n",
      "Yes    3393\n",
      "Name: partner, dtype: int64\n",
      "----------------------------------------------------------------------------------------------------\n",
      "No     4933\n",
      "Yes    2099\n",
      "Name: dependents, dtype: int64\n",
      "----------------------------------------------------------------------------------------------------\n",
      "Yes    6352\n",
      "No      680\n",
      "Name: phoneservice, dtype: int64\n",
      "----------------------------------------------------------------------------------------------------\n",
      "No                  3385\n",
      "Yes                 2967\n",
      "No phone service     680\n",
      "Name: multiplelines, dtype: int64\n",
      "----------------------------------------------------------------------------------------------------\n",
      "Fiber optic    3096\n",
      "DSL            2416\n",
      "No             1520\n",
      "Name: internetservice, dtype: int64\n",
      "----------------------------------------------------------------------------------------------------\n",
      "No                     3497\n",
      "Yes                    2015\n",
      "No internet service    1520\n",
      "Name: onlinesecurity, dtype: int64\n",
      "----------------------------------------------------------------------------------------------------\n",
      "No                     3087\n",
      "Yes                    2425\n",
      "No internet service    1520\n",
      "Name: onlinebackup, dtype: int64\n",
      "----------------------------------------------------------------------------------------------------\n",
      "No                     3094\n",
      "Yes                    2418\n",
      "No internet service    1520\n",
      "Name: deviceprotection, dtype: int64\n",
      "----------------------------------------------------------------------------------------------------\n",
      "No                     3472\n",
      "Yes                    2040\n",
      "No internet service    1520\n",
      "Name: techsupport, dtype: int64\n",
      "----------------------------------------------------------------------------------------------------\n",
      "No                     2809\n",
      "Yes                    2703\n",
      "No internet service    1520\n",
      "Name: streamingtv, dtype: int64\n",
      "----------------------------------------------------------------------------------------------------\n",
      "No                     2781\n",
      "Yes                    2731\n",
      "No internet service    1520\n",
      "Name: streamingmovies, dtype: int64\n",
      "----------------------------------------------------------------------------------------------------\n",
      "Month-to-month    3875\n",
      "Two year          1685\n",
      "One year          1472\n",
      "Name: contract, dtype: int64\n",
      "----------------------------------------------------------------------------------------------------\n",
      "Yes    4168\n",
      "No     2864\n",
      "Name: paperlessbilling, dtype: int64\n",
      "----------------------------------------------------------------------------------------------------\n",
      "Electronic check             2365\n",
      "Mailed check                 1604\n",
      "Bank transfer (automatic)    1542\n",
      "Credit card (automatic)      1521\n",
      "Name: paymentmethod, dtype: int64\n",
      "----------------------------------------------------------------------------------------------------\n",
      "0    5890\n",
      "1    1142\n",
      "Name: seniorcitizen, dtype: int64\n"
     ]
    }
   ],
   "source": [
    "cat_cols = [col for col in cat_cols if 'churn' not in col]\n",
    "for col in cat_cols:\n",
    "    print('--'*50)\n",
    "    ordinal_columns(df, col)"
   ]
  },
  {
   "cell_type": "markdown",
   "id": "bd96e60d",
   "metadata": {
    "papermill": {
     "duration": 0.04135,
     "end_time": "2022-12-04T16:14:21.424653",
     "exception": false,
     "start_time": "2022-12-04T16:14:21.383303",
     "status": "completed"
    },
    "tags": []
   },
   "source": [
    "### As you see that there is no ordinality between the categorical clumns. Therefore, we can handle the whole categorical variables including binary columns using one hot encoder."
   ]
  },
  {
   "cell_type": "markdown",
   "id": "4586c681",
   "metadata": {
    "papermill": {
     "duration": 0.041431,
     "end_time": "2022-12-04T16:14:21.507384",
     "exception": false,
     "start_time": "2022-12-04T16:14:21.465953",
     "status": "completed"
    },
    "tags": []
   },
   "source": [
    "## Let's use one hot encoding"
   ]
  },
  {
   "cell_type": "code",
   "execution_count": 25,
   "id": "b4757b57",
   "metadata": {
    "execution": {
     "iopub.execute_input": "2022-12-04T16:14:21.593580Z",
     "iopub.status.busy": "2022-12-04T16:14:21.592748Z",
     "iopub.status.idle": "2022-12-04T16:14:21.598566Z",
     "shell.execute_reply": "2022-12-04T16:14:21.597547Z"
    },
    "papermill": {
     "duration": 0.050883,
     "end_time": "2022-12-04T16:14:21.600963",
     "exception": false,
     "start_time": "2022-12-04T16:14:21.550080",
     "status": "completed"
    },
    "tags": []
   },
   "outputs": [],
   "source": [
    "def one_hot_encoder(dataframe, categorical_cols, drop_first=False):\n",
    "    dataframe = pd.get_dummies(dataframe, columns=categorical_cols, drop_first=drop_first)\n",
    "    return dataframe"
   ]
  },
  {
   "cell_type": "code",
   "execution_count": 26,
   "id": "e3d5c1ba",
   "metadata": {
    "execution": {
     "iopub.execute_input": "2022-12-04T16:14:21.687025Z",
     "iopub.status.busy": "2022-12-04T16:14:21.686624Z",
     "iopub.status.idle": "2022-12-04T16:14:21.735797Z",
     "shell.execute_reply": "2022-12-04T16:14:21.734585Z"
    },
    "papermill": {
     "duration": 0.095829,
     "end_time": "2022-12-04T16:14:21.738329",
     "exception": false,
     "start_time": "2022-12-04T16:14:21.642500",
     "status": "completed"
    },
    "tags": []
   },
   "outputs": [
    {
     "data": {
      "text/html": [
       "<div>\n",
       "<style scoped>\n",
       "    .dataframe tbody tr th:only-of-type {\n",
       "        vertical-align: middle;\n",
       "    }\n",
       "\n",
       "    .dataframe tbody tr th {\n",
       "        vertical-align: top;\n",
       "    }\n",
       "\n",
       "    .dataframe thead th {\n",
       "        text-align: right;\n",
       "    }\n",
       "</style>\n",
       "<table border=\"1\" class=\"dataframe\">\n",
       "  <thead>\n",
       "    <tr style=\"text-align: right;\">\n",
       "      <th></th>\n",
       "      <th>customerid</th>\n",
       "      <th>tenure</th>\n",
       "      <th>monthlycharges</th>\n",
       "      <th>totalcharges</th>\n",
       "      <th>churn</th>\n",
       "      <th>gender_Male</th>\n",
       "      <th>partner_Yes</th>\n",
       "      <th>dependents_Yes</th>\n",
       "      <th>phoneservice_Yes</th>\n",
       "      <th>multiplelines_No phone service</th>\n",
       "      <th>multiplelines_Yes</th>\n",
       "      <th>internetservice_Fiber optic</th>\n",
       "      <th>internetservice_No</th>\n",
       "      <th>onlinesecurity_No internet service</th>\n",
       "      <th>onlinesecurity_Yes</th>\n",
       "      <th>onlinebackup_No internet service</th>\n",
       "      <th>onlinebackup_Yes</th>\n",
       "      <th>deviceprotection_No internet service</th>\n",
       "      <th>deviceprotection_Yes</th>\n",
       "      <th>techsupport_No internet service</th>\n",
       "      <th>techsupport_Yes</th>\n",
       "      <th>streamingtv_No internet service</th>\n",
       "      <th>streamingtv_Yes</th>\n",
       "      <th>streamingmovies_No internet service</th>\n",
       "      <th>streamingmovies_Yes</th>\n",
       "      <th>contract_One year</th>\n",
       "      <th>contract_Two year</th>\n",
       "      <th>paperlessbilling_Yes</th>\n",
       "      <th>paymentmethod_Credit card (automatic)</th>\n",
       "      <th>paymentmethod_Electronic check</th>\n",
       "      <th>paymentmethod_Mailed check</th>\n",
       "      <th>seniorcitizen_1</th>\n",
       "    </tr>\n",
       "  </thead>\n",
       "  <tbody>\n",
       "    <tr>\n",
       "      <th>0</th>\n",
       "      <td>7590-VHVEG</td>\n",
       "      <td>1</td>\n",
       "      <td>29.850</td>\n",
       "      <td>29.850</td>\n",
       "      <td>0</td>\n",
       "      <td>0</td>\n",
       "      <td>1</td>\n",
       "      <td>0</td>\n",
       "      <td>0</td>\n",
       "      <td>1</td>\n",
       "      <td>0</td>\n",
       "      <td>0</td>\n",
       "      <td>0</td>\n",
       "      <td>0</td>\n",
       "      <td>0</td>\n",
       "      <td>0</td>\n",
       "      <td>1</td>\n",
       "      <td>0</td>\n",
       "      <td>0</td>\n",
       "      <td>0</td>\n",
       "      <td>0</td>\n",
       "      <td>0</td>\n",
       "      <td>0</td>\n",
       "      <td>0</td>\n",
       "      <td>0</td>\n",
       "      <td>0</td>\n",
       "      <td>0</td>\n",
       "      <td>1</td>\n",
       "      <td>0</td>\n",
       "      <td>1</td>\n",
       "      <td>0</td>\n",
       "      <td>0</td>\n",
       "    </tr>\n",
       "    <tr>\n",
       "      <th>1</th>\n",
       "      <td>5575-GNVDE</td>\n",
       "      <td>34</td>\n",
       "      <td>56.950</td>\n",
       "      <td>1889.500</td>\n",
       "      <td>0</td>\n",
       "      <td>1</td>\n",
       "      <td>0</td>\n",
       "      <td>0</td>\n",
       "      <td>1</td>\n",
       "      <td>0</td>\n",
       "      <td>0</td>\n",
       "      <td>0</td>\n",
       "      <td>0</td>\n",
       "      <td>0</td>\n",
       "      <td>1</td>\n",
       "      <td>0</td>\n",
       "      <td>0</td>\n",
       "      <td>0</td>\n",
       "      <td>1</td>\n",
       "      <td>0</td>\n",
       "      <td>0</td>\n",
       "      <td>0</td>\n",
       "      <td>0</td>\n",
       "      <td>0</td>\n",
       "      <td>0</td>\n",
       "      <td>1</td>\n",
       "      <td>0</td>\n",
       "      <td>0</td>\n",
       "      <td>0</td>\n",
       "      <td>0</td>\n",
       "      <td>1</td>\n",
       "      <td>0</td>\n",
       "    </tr>\n",
       "    <tr>\n",
       "      <th>2</th>\n",
       "      <td>3668-QPYBK</td>\n",
       "      <td>2</td>\n",
       "      <td>53.850</td>\n",
       "      <td>108.150</td>\n",
       "      <td>1</td>\n",
       "      <td>1</td>\n",
       "      <td>0</td>\n",
       "      <td>0</td>\n",
       "      <td>1</td>\n",
       "      <td>0</td>\n",
       "      <td>0</td>\n",
       "      <td>0</td>\n",
       "      <td>0</td>\n",
       "      <td>0</td>\n",
       "      <td>1</td>\n",
       "      <td>0</td>\n",
       "      <td>1</td>\n",
       "      <td>0</td>\n",
       "      <td>0</td>\n",
       "      <td>0</td>\n",
       "      <td>0</td>\n",
       "      <td>0</td>\n",
       "      <td>0</td>\n",
       "      <td>0</td>\n",
       "      <td>0</td>\n",
       "      <td>0</td>\n",
       "      <td>0</td>\n",
       "      <td>1</td>\n",
       "      <td>0</td>\n",
       "      <td>0</td>\n",
       "      <td>1</td>\n",
       "      <td>0</td>\n",
       "    </tr>\n",
       "    <tr>\n",
       "      <th>3</th>\n",
       "      <td>7795-CFOCW</td>\n",
       "      <td>45</td>\n",
       "      <td>42.300</td>\n",
       "      <td>1840.750</td>\n",
       "      <td>0</td>\n",
       "      <td>1</td>\n",
       "      <td>0</td>\n",
       "      <td>0</td>\n",
       "      <td>0</td>\n",
       "      <td>1</td>\n",
       "      <td>0</td>\n",
       "      <td>0</td>\n",
       "      <td>0</td>\n",
       "      <td>0</td>\n",
       "      <td>1</td>\n",
       "      <td>0</td>\n",
       "      <td>0</td>\n",
       "      <td>0</td>\n",
       "      <td>1</td>\n",
       "      <td>0</td>\n",
       "      <td>1</td>\n",
       "      <td>0</td>\n",
       "      <td>0</td>\n",
       "      <td>0</td>\n",
       "      <td>0</td>\n",
       "      <td>1</td>\n",
       "      <td>0</td>\n",
       "      <td>0</td>\n",
       "      <td>0</td>\n",
       "      <td>0</td>\n",
       "      <td>0</td>\n",
       "      <td>0</td>\n",
       "    </tr>\n",
       "    <tr>\n",
       "      <th>4</th>\n",
       "      <td>9237-HQITU</td>\n",
       "      <td>2</td>\n",
       "      <td>70.700</td>\n",
       "      <td>151.650</td>\n",
       "      <td>1</td>\n",
       "      <td>0</td>\n",
       "      <td>0</td>\n",
       "      <td>0</td>\n",
       "      <td>1</td>\n",
       "      <td>0</td>\n",
       "      <td>0</td>\n",
       "      <td>1</td>\n",
       "      <td>0</td>\n",
       "      <td>0</td>\n",
       "      <td>0</td>\n",
       "      <td>0</td>\n",
       "      <td>0</td>\n",
       "      <td>0</td>\n",
       "      <td>0</td>\n",
       "      <td>0</td>\n",
       "      <td>0</td>\n",
       "      <td>0</td>\n",
       "      <td>0</td>\n",
       "      <td>0</td>\n",
       "      <td>0</td>\n",
       "      <td>0</td>\n",
       "      <td>0</td>\n",
       "      <td>1</td>\n",
       "      <td>0</td>\n",
       "      <td>1</td>\n",
       "      <td>0</td>\n",
       "      <td>0</td>\n",
       "    </tr>\n",
       "  </tbody>\n",
       "</table>\n",
       "</div>"
      ],
      "text/plain": [
       "   customerid  tenure  monthlycharges  totalcharges  churn  gender_Male  partner_Yes  dependents_Yes  phoneservice_Yes  multiplelines_No phone service  multiplelines_Yes  internetservice_Fiber optic  internetservice_No  onlinesecurity_No internet service  onlinesecurity_Yes  onlinebackup_No internet service  onlinebackup_Yes  deviceprotection_No internet service  deviceprotection_Yes  techsupport_No internet service  techsupport_Yes  streamingtv_No internet service  streamingtv_Yes  \\\n",
       "0  7590-VHVEG       1          29.850        29.850      0            0            1               0                 0                               1                  0                            0                   0                                   0                   0                                 0                 1                                     0                     0                                0                0                                0                0   \n",
       "1  5575-GNVDE      34          56.950      1889.500      0            1            0               0                 1                               0                  0                            0                   0                                   0                   1                                 0                 0                                     0                     1                                0                0                                0                0   \n",
       "2  3668-QPYBK       2          53.850       108.150      1            1            0               0                 1                               0                  0                            0                   0                                   0                   1                                 0                 1                                     0                     0                                0                0                                0                0   \n",
       "3  7795-CFOCW      45          42.300      1840.750      0            1            0               0                 0                               1                  0                            0                   0                                   0                   1                                 0                 0                                     0                     1                                0                1                                0                0   \n",
       "4  9237-HQITU       2          70.700       151.650      1            0            0               0                 1                               0                  0                            1                   0                                   0                   0                                 0                 0                                     0                     0                                0                0                                0                0   \n",
       "\n",
       "   streamingmovies_No internet service  streamingmovies_Yes  contract_One year  contract_Two year  paperlessbilling_Yes  paymentmethod_Credit card (automatic)  paymentmethod_Electronic check  paymentmethod_Mailed check  seniorcitizen_1  \n",
       "0                                    0                    0                  0                  0                     1                                      0                               1                           0                0  \n",
       "1                                    0                    0                  1                  0                     0                                      0                               0                           1                0  \n",
       "2                                    0                    0                  0                  0                     1                                      0                               0                           1                0  \n",
       "3                                    0                    0                  1                  0                     0                                      0                               0                           0                0  \n",
       "4                                    0                    0                  0                  0                     1                                      0                               1                           0                0  "
      ]
     },
     "execution_count": 26,
     "metadata": {},
     "output_type": "execute_result"
    }
   ],
   "source": [
    "dff = df.copy()\n",
    "dff = one_hot_encoder(dff, cat_cols, drop_first=True)\n",
    "dff.head()"
   ]
  },
  {
   "cell_type": "markdown",
   "id": "e984204b",
   "metadata": {
    "papermill": {
     "duration": 0.042475,
     "end_time": "2022-12-04T16:14:21.822710",
     "exception": false,
     "start_time": "2022-12-04T16:14:21.780235",
     "status": "completed"
    },
    "tags": []
   },
   "source": [
    "## Now, let's scale the numerical variables using StandardScaler method"
   ]
  },
  {
   "cell_type": "code",
   "execution_count": 27,
   "id": "7aa8a1bf",
   "metadata": {
    "execution": {
     "iopub.execute_input": "2022-12-04T16:14:21.909836Z",
     "iopub.status.busy": "2022-12-04T16:14:21.909147Z",
     "iopub.status.idle": "2022-12-04T16:14:21.937264Z",
     "shell.execute_reply": "2022-12-04T16:14:21.936163Z"
    },
    "papermill": {
     "duration": 0.074993,
     "end_time": "2022-12-04T16:14:21.939588",
     "exception": false,
     "start_time": "2022-12-04T16:14:21.864595",
     "status": "completed"
    },
    "tags": []
   },
   "outputs": [
    {
     "data": {
      "text/html": [
       "<div>\n",
       "<style scoped>\n",
       "    .dataframe tbody tr th:only-of-type {\n",
       "        vertical-align: middle;\n",
       "    }\n",
       "\n",
       "    .dataframe tbody tr th {\n",
       "        vertical-align: top;\n",
       "    }\n",
       "\n",
       "    .dataframe thead th {\n",
       "        text-align: right;\n",
       "    }\n",
       "</style>\n",
       "<table border=\"1\" class=\"dataframe\">\n",
       "  <thead>\n",
       "    <tr style=\"text-align: right;\">\n",
       "      <th></th>\n",
       "      <th>tenure</th>\n",
       "      <th>monthlycharges</th>\n",
       "      <th>totalcharges</th>\n",
       "      <th>churn</th>\n",
       "      <th>gender_Male</th>\n",
       "      <th>partner_Yes</th>\n",
       "      <th>dependents_Yes</th>\n",
       "      <th>phoneservice_Yes</th>\n",
       "      <th>multiplelines_No phone service</th>\n",
       "      <th>multiplelines_Yes</th>\n",
       "      <th>internetservice_Fiber optic</th>\n",
       "      <th>internetservice_No</th>\n",
       "      <th>onlinesecurity_No internet service</th>\n",
       "      <th>onlinesecurity_Yes</th>\n",
       "      <th>onlinebackup_No internet service</th>\n",
       "      <th>onlinebackup_Yes</th>\n",
       "      <th>deviceprotection_No internet service</th>\n",
       "      <th>deviceprotection_Yes</th>\n",
       "      <th>techsupport_No internet service</th>\n",
       "      <th>techsupport_Yes</th>\n",
       "      <th>streamingtv_No internet service</th>\n",
       "      <th>streamingtv_Yes</th>\n",
       "      <th>streamingmovies_No internet service</th>\n",
       "      <th>streamingmovies_Yes</th>\n",
       "      <th>contract_One year</th>\n",
       "      <th>contract_Two year</th>\n",
       "      <th>paperlessbilling_Yes</th>\n",
       "      <th>paymentmethod_Credit card (automatic)</th>\n",
       "      <th>paymentmethod_Electronic check</th>\n",
       "      <th>paymentmethod_Mailed check</th>\n",
       "      <th>seniorcitizen_1</th>\n",
       "    </tr>\n",
       "  </thead>\n",
       "  <tbody>\n",
       "    <tr>\n",
       "      <th>0</th>\n",
       "      <td>-1.280</td>\n",
       "      <td>-1.162</td>\n",
       "      <td>-0.994</td>\n",
       "      <td>0</td>\n",
       "      <td>0</td>\n",
       "      <td>1</td>\n",
       "      <td>0</td>\n",
       "      <td>0</td>\n",
       "      <td>1</td>\n",
       "      <td>0</td>\n",
       "      <td>0</td>\n",
       "      <td>0</td>\n",
       "      <td>0</td>\n",
       "      <td>0</td>\n",
       "      <td>0</td>\n",
       "      <td>1</td>\n",
       "      <td>0</td>\n",
       "      <td>0</td>\n",
       "      <td>0</td>\n",
       "      <td>0</td>\n",
       "      <td>0</td>\n",
       "      <td>0</td>\n",
       "      <td>0</td>\n",
       "      <td>0</td>\n",
       "      <td>0</td>\n",
       "      <td>0</td>\n",
       "      <td>1</td>\n",
       "      <td>0</td>\n",
       "      <td>1</td>\n",
       "      <td>0</td>\n",
       "      <td>0</td>\n",
       "    </tr>\n",
       "    <tr>\n",
       "      <th>1</th>\n",
       "      <td>0.064</td>\n",
       "      <td>-0.261</td>\n",
       "      <td>-0.174</td>\n",
       "      <td>0</td>\n",
       "      <td>1</td>\n",
       "      <td>0</td>\n",
       "      <td>0</td>\n",
       "      <td>1</td>\n",
       "      <td>0</td>\n",
       "      <td>0</td>\n",
       "      <td>0</td>\n",
       "      <td>0</td>\n",
       "      <td>0</td>\n",
       "      <td>1</td>\n",
       "      <td>0</td>\n",
       "      <td>0</td>\n",
       "      <td>0</td>\n",
       "      <td>1</td>\n",
       "      <td>0</td>\n",
       "      <td>0</td>\n",
       "      <td>0</td>\n",
       "      <td>0</td>\n",
       "      <td>0</td>\n",
       "      <td>0</td>\n",
       "      <td>1</td>\n",
       "      <td>0</td>\n",
       "      <td>0</td>\n",
       "      <td>0</td>\n",
       "      <td>0</td>\n",
       "      <td>1</td>\n",
       "      <td>0</td>\n",
       "    </tr>\n",
       "    <tr>\n",
       "      <th>2</th>\n",
       "      <td>-1.240</td>\n",
       "      <td>-0.364</td>\n",
       "      <td>-0.960</td>\n",
       "      <td>1</td>\n",
       "      <td>1</td>\n",
       "      <td>0</td>\n",
       "      <td>0</td>\n",
       "      <td>1</td>\n",
       "      <td>0</td>\n",
       "      <td>0</td>\n",
       "      <td>0</td>\n",
       "      <td>0</td>\n",
       "      <td>0</td>\n",
       "      <td>1</td>\n",
       "      <td>0</td>\n",
       "      <td>1</td>\n",
       "      <td>0</td>\n",
       "      <td>0</td>\n",
       "      <td>0</td>\n",
       "      <td>0</td>\n",
       "      <td>0</td>\n",
       "      <td>0</td>\n",
       "      <td>0</td>\n",
       "      <td>0</td>\n",
       "      <td>0</td>\n",
       "      <td>0</td>\n",
       "      <td>1</td>\n",
       "      <td>0</td>\n",
       "      <td>0</td>\n",
       "      <td>1</td>\n",
       "      <td>0</td>\n",
       "    </tr>\n",
       "    <tr>\n",
       "      <th>3</th>\n",
       "      <td>0.512</td>\n",
       "      <td>-0.748</td>\n",
       "      <td>-0.195</td>\n",
       "      <td>0</td>\n",
       "      <td>1</td>\n",
       "      <td>0</td>\n",
       "      <td>0</td>\n",
       "      <td>0</td>\n",
       "      <td>1</td>\n",
       "      <td>0</td>\n",
       "      <td>0</td>\n",
       "      <td>0</td>\n",
       "      <td>0</td>\n",
       "      <td>1</td>\n",
       "      <td>0</td>\n",
       "      <td>0</td>\n",
       "      <td>0</td>\n",
       "      <td>1</td>\n",
       "      <td>0</td>\n",
       "      <td>1</td>\n",
       "      <td>0</td>\n",
       "      <td>0</td>\n",
       "      <td>0</td>\n",
       "      <td>0</td>\n",
       "      <td>1</td>\n",
       "      <td>0</td>\n",
       "      <td>0</td>\n",
       "      <td>0</td>\n",
       "      <td>0</td>\n",
       "      <td>0</td>\n",
       "      <td>0</td>\n",
       "    </tr>\n",
       "    <tr>\n",
       "      <th>4</th>\n",
       "      <td>-1.240</td>\n",
       "      <td>0.196</td>\n",
       "      <td>-0.940</td>\n",
       "      <td>1</td>\n",
       "      <td>0</td>\n",
       "      <td>0</td>\n",
       "      <td>0</td>\n",
       "      <td>1</td>\n",
       "      <td>0</td>\n",
       "      <td>0</td>\n",
       "      <td>1</td>\n",
       "      <td>0</td>\n",
       "      <td>0</td>\n",
       "      <td>0</td>\n",
       "      <td>0</td>\n",
       "      <td>0</td>\n",
       "      <td>0</td>\n",
       "      <td>0</td>\n",
       "      <td>0</td>\n",
       "      <td>0</td>\n",
       "      <td>0</td>\n",
       "      <td>0</td>\n",
       "      <td>0</td>\n",
       "      <td>0</td>\n",
       "      <td>0</td>\n",
       "      <td>0</td>\n",
       "      <td>1</td>\n",
       "      <td>0</td>\n",
       "      <td>1</td>\n",
       "      <td>0</td>\n",
       "      <td>0</td>\n",
       "    </tr>\n",
       "  </tbody>\n",
       "</table>\n",
       "</div>"
      ],
      "text/plain": [
       "   tenure  monthlycharges  totalcharges  churn  gender_Male  partner_Yes  dependents_Yes  phoneservice_Yes  multiplelines_No phone service  multiplelines_Yes  internetservice_Fiber optic  internetservice_No  onlinesecurity_No internet service  onlinesecurity_Yes  onlinebackup_No internet service  onlinebackup_Yes  deviceprotection_No internet service  deviceprotection_Yes  techsupport_No internet service  techsupport_Yes  streamingtv_No internet service  streamingtv_Yes  \\\n",
       "0  -1.280          -1.162        -0.994      0            0            1               0                 0                               1                  0                            0                   0                                   0                   0                                 0                 1                                     0                     0                                0                0                                0                0   \n",
       "1   0.064          -0.261        -0.174      0            1            0               0                 1                               0                  0                            0                   0                                   0                   1                                 0                 0                                     0                     1                                0                0                                0                0   \n",
       "2  -1.240          -0.364        -0.960      1            1            0               0                 1                               0                  0                            0                   0                                   0                   1                                 0                 1                                     0                     0                                0                0                                0                0   \n",
       "3   0.512          -0.748        -0.195      0            1            0               0                 0                               1                  0                            0                   0                                   0                   1                                 0                 0                                     0                     1                                0                1                                0                0   \n",
       "4  -1.240           0.196        -0.940      1            0            0               0                 1                               0                  0                            1                   0                                   0                   0                                 0                 0                                     0                     0                                0                0                                0                0   \n",
       "\n",
       "   streamingmovies_No internet service  streamingmovies_Yes  contract_One year  contract_Two year  paperlessbilling_Yes  paymentmethod_Credit card (automatic)  paymentmethod_Electronic check  paymentmethod_Mailed check  seniorcitizen_1  \n",
       "0                                    0                    0                  0                  0                     1                                      0                               1                           0                0  \n",
       "1                                    0                    0                  1                  0                     0                                      0                               0                           1                0  \n",
       "2                                    0                    0                  0                  0                     1                                      0                               0                           1                0  \n",
       "3                                    0                    0                  1                  0                     0                                      0                               0                           0                0  \n",
       "4                                    0                    0                  0                  0                     1                                      0                               1                           0                0  "
      ]
     },
     "execution_count": 27,
     "metadata": {},
     "output_type": "execute_result"
    }
   ],
   "source": [
    "standard_scaler = StandardScaler()\n",
    "dff = dff.drop('customerid', axis=1)\n",
    "dff[num_cols] = standard_scaler.fit_transform(dff[num_cols])\n",
    "dff.head()"
   ]
  },
  {
   "cell_type": "markdown",
   "id": "b800efe2",
   "metadata": {
    "papermill": {
     "duration": 0.041788,
     "end_time": "2022-12-04T16:14:22.023197",
     "exception": false,
     "start_time": "2022-12-04T16:14:21.981409",
     "status": "completed"
    },
    "tags": []
   },
   "source": [
    "### Let's pick the independent and dependent variables"
   ]
  },
  {
   "cell_type": "code",
   "execution_count": 28,
   "id": "dc916423",
   "metadata": {
    "execution": {
     "iopub.execute_input": "2022-12-04T16:14:22.110639Z",
     "iopub.status.busy": "2022-12-04T16:14:22.109378Z",
     "iopub.status.idle": "2022-12-04T16:14:22.117064Z",
     "shell.execute_reply": "2022-12-04T16:14:22.115859Z"
    },
    "papermill": {
     "duration": 0.054406,
     "end_time": "2022-12-04T16:14:22.119662",
     "exception": false,
     "start_time": "2022-12-04T16:14:22.065256",
     "status": "completed"
    },
    "tags": []
   },
   "outputs": [],
   "source": [
    "X = dff.drop('churn', axis=1)\n",
    "y = dff['churn']"
   ]
  },
  {
   "cell_type": "markdown",
   "id": "da77350c",
   "metadata": {
    "papermill": {
     "duration": 0.041784,
     "end_time": "2022-12-04T16:14:22.203298",
     "exception": false,
     "start_time": "2022-12-04T16:14:22.161514",
     "status": "completed"
    },
    "tags": []
   },
   "source": [
    "## Let's predict whether a customer is churn or not"
   ]
  },
  {
   "cell_type": "markdown",
   "id": "7c5f53c8",
   "metadata": {
    "papermill": {
     "duration": 0.041817,
     "end_time": "2022-12-04T16:14:22.288817",
     "exception": false,
     "start_time": "2022-12-04T16:14:22.247000",
     "status": "completed"
    },
    "tags": []
   },
   "source": [
    "### Let's call the models used"
   ]
  },
  {
   "cell_type": "code",
   "execution_count": 29,
   "id": "bbdab806",
   "metadata": {
    "execution": {
     "iopub.execute_input": "2022-12-04T16:14:22.375729Z",
     "iopub.status.busy": "2022-12-04T16:14:22.374992Z",
     "iopub.status.idle": "2022-12-04T16:14:30.177987Z",
     "shell.execute_reply": "2022-12-04T16:14:30.177090Z"
    },
    "papermill": {
     "duration": 7.849133,
     "end_time": "2022-12-04T16:14:30.180582",
     "exception": false,
     "start_time": "2022-12-04T16:14:22.331449",
     "status": "completed"
    },
    "tags": []
   },
   "outputs": [],
   "source": [
    "logistic_model = LogisticRegression().fit(X, y)\n",
    "cat_boost_model = CatBoostClassifier(verbose=False).fit(X, y)\n",
    "xgboost_model = XGBClassifier(use_label_encoder=False).fit(X, y)\n",
    "gbm_model = GradientBoostingClassifier().fit(X, y)\n",
    "lgbm_model = LGBMClassifier().fit(X, y)\n",
    "rf_model = RandomForestClassifier().fit(X, y)\n",
    "cart_model = DecisionTreeClassifier().fit(X, y)"
   ]
  },
  {
   "cell_type": "markdown",
   "id": "e4085f77",
   "metadata": {
    "papermill": {
     "duration": 0.041918,
     "end_time": "2022-12-04T16:14:30.264829",
     "exception": false,
     "start_time": "2022-12-04T16:14:30.222911",
     "status": "completed"
    },
    "tags": []
   },
   "source": [
    "### Logistic regression model"
   ]
  },
  {
   "cell_type": "code",
   "execution_count": 30,
   "id": "643bc553",
   "metadata": {
    "execution": {
     "iopub.execute_input": "2022-12-04T16:14:30.350796Z",
     "iopub.status.busy": "2022-12-04T16:14:30.350021Z",
     "iopub.status.idle": "2022-12-04T16:14:32.068146Z",
     "shell.execute_reply": "2022-12-04T16:14:32.066609Z"
    },
    "papermill": {
     "duration": 1.767916,
     "end_time": "2022-12-04T16:14:32.074683",
     "exception": false,
     "start_time": "2022-12-04T16:14:30.306767",
     "status": "completed"
    },
    "tags": []
   },
   "outputs": [
    {
     "name": "stdout",
     "output_type": "stream",
     "text": [
      "Accuracy: 0.8038968543902755\n",
      "F1 Score: 0.5983590411094065\n",
      "Recall: 0.550552009660169\n",
      "Precision: 0.6560929687008583\n",
      "Roc Auc Score: 0.845213540524272\n"
     ]
    }
   ],
   "source": [
    "# Logostic regression model\n",
    "cv_results_logistic = cross_validate(logistic_model, X, y, cv=10, scoring=['accuracy', 'f1', 'recall', 'precision', 'roc_auc'])\n",
    "print('Accuracy:', cv_results_logistic['test_accuracy'].mean())\n",
    "print('F1 Score:', cv_results_logistic['test_f1'].mean())\n",
    "print('Recall:', cv_results_logistic['test_recall'].mean())\n",
    "print('Precision:', cv_results_logistic['test_precision'].mean())\n",
    "print('Roc Auc Score:', cv_results_logistic['test_roc_auc'].mean())"
   ]
  },
  {
   "cell_type": "markdown",
   "id": "c6117f0d",
   "metadata": {
    "papermill": {
     "duration": 0.041572,
     "end_time": "2022-12-04T16:14:32.224365",
     "exception": false,
     "start_time": "2022-12-04T16:14:32.182793",
     "status": "completed"
    },
    "tags": []
   },
   "source": [
    "### CatBoost model"
   ]
  },
  {
   "cell_type": "code",
   "execution_count": 31,
   "id": "575d7ce7",
   "metadata": {
    "execution": {
     "iopub.execute_input": "2022-12-04T16:14:32.310080Z",
     "iopub.status.busy": "2022-12-04T16:14:32.308929Z",
     "iopub.status.idle": "2022-12-04T16:15:12.944404Z",
     "shell.execute_reply": "2022-12-04T16:15:12.943225Z"
    },
    "papermill": {
     "duration": 40.720398,
     "end_time": "2022-12-04T16:15:12.986517",
     "exception": false,
     "start_time": "2022-12-04T16:14:32.266119",
     "status": "completed"
    },
    "tags": []
   },
   "outputs": [
    {
     "name": "stdout",
     "output_type": "stream",
     "text": [
      "Accuracy: 0.7992022824259666\n",
      "F1 Score: 0.5775221354010435\n",
      "Recall: 0.5163072853774942\n",
      "Precision: 0.6565382788213955\n",
      "Roc Auc Score: 0.8412856584836845\n"
     ]
    }
   ],
   "source": [
    "# CatBoost model\n",
    "cv_results_catboost = cross_validate(cat_boost_model, X, y, cv=10, scoring=['accuracy', 'f1', 'recall', 'precision', 'roc_auc'])\n",
    "print('Accuracy:', cv_results_catboost['test_accuracy'].mean())\n",
    "print('F1 Score:', cv_results_catboost['test_f1'].mean())\n",
    "print('Recall:', cv_results_catboost['test_recall'].mean())\n",
    "print('Precision:', cv_results_catboost['test_precision'].mean())\n",
    "print('Roc Auc Score:', cv_results_catboost['test_roc_auc'].mean())"
   ]
  },
  {
   "cell_type": "markdown",
   "id": "c89f936e",
   "metadata": {
    "papermill": {
     "duration": 0.041335,
     "end_time": "2022-12-04T16:15:13.070703",
     "exception": false,
     "start_time": "2022-12-04T16:15:13.029368",
     "status": "completed"
    },
    "tags": []
   },
   "source": [
    "### XGBoost model"
   ]
  },
  {
   "cell_type": "code",
   "execution_count": 32,
   "id": "b9dc22b8",
   "metadata": {
    "execution": {
     "iopub.execute_input": "2022-12-04T16:15:13.156899Z",
     "iopub.status.busy": "2022-12-04T16:15:13.155598Z",
     "iopub.status.idle": "2022-12-04T16:15:21.616385Z",
     "shell.execute_reply": "2022-12-04T16:15:21.615430Z"
    },
    "papermill": {
     "duration": 8.507332,
     "end_time": "2022-12-04T16:15:21.620010",
     "exception": false,
     "start_time": "2022-12-04T16:15:13.112678",
     "status": "completed"
    },
    "tags": []
   },
   "outputs": [
    {
     "name": "stdout",
     "output_type": "stream",
     "text": [
      "Accuracy: 0.7868336189059872\n",
      "F1 Score: 0.5592689730415901\n",
      "Recall: 0.5088062791098844\n",
      "Precision: 0.6227760648364572\n",
      "Roc Auc Score: 0.8246766766604507\n"
     ]
    }
   ],
   "source": [
    "# XGBoost model\n",
    "cv_results_xgboost = cross_validate(xgboost_model, X, y, cv=10, scoring=['accuracy', 'f1', 'recall', 'precision', 'roc_auc'])\n",
    "print('Accuracy:', cv_results_xgboost['test_accuracy'].mean())\n",
    "print('F1 Score:', cv_results_xgboost['test_f1'].mean())\n",
    "print('Recall:', cv_results_xgboost['test_recall'].mean())\n",
    "print('Precision:', cv_results_xgboost['test_precision'].mean())\n",
    "print('Roc Auc Score:', cv_results_xgboost['test_roc_auc'].mean())"
   ]
  },
  {
   "cell_type": "markdown",
   "id": "cb13b32e",
   "metadata": {
    "papermill": {
     "duration": 0.043868,
     "end_time": "2022-12-04T16:15:21.708790",
     "exception": false,
     "start_time": "2022-12-04T16:15:21.664922",
     "status": "completed"
    },
    "tags": []
   },
   "source": [
    "### Gradient Boosting model"
   ]
  },
  {
   "cell_type": "code",
   "execution_count": 33,
   "id": "cc497366",
   "metadata": {
    "execution": {
     "iopub.execute_input": "2022-12-04T16:15:21.795741Z",
     "iopub.status.busy": "2022-12-04T16:15:21.795334Z",
     "iopub.status.idle": "2022-12-04T16:15:31.983668Z",
     "shell.execute_reply": "2022-12-04T16:15:31.982301Z"
    },
    "papermill": {
     "duration": 10.234635,
     "end_time": "2022-12-04T16:15:31.986318",
     "exception": false,
     "start_time": "2022-12-04T16:15:21.751683",
     "status": "completed"
    },
    "tags": []
   },
   "outputs": [
    {
     "name": "stdout",
     "output_type": "stream",
     "text": [
      "Accuracy: 0.8061709960558645\n",
      "F1 Score: 0.5917595382424646\n",
      "Recall: 0.5286096256684493\n",
      "Precision: 0.6731110306172982\n",
      "Roc Auc Score: 0.8473666567610572\n"
     ]
    }
   ],
   "source": [
    "# GBM model\n",
    "cv_results_gbm = cross_validate(gbm_model, X, y, cv=10, scoring=['accuracy', 'f1', 'recall', 'precision', 'roc_auc'])\n",
    "print('Accuracy:', cv_results_gbm['test_accuracy'].mean())\n",
    "print('F1 Score:', cv_results_gbm['test_f1'].mean())\n",
    "print('Recall:', cv_results_gbm['test_recall'].mean())\n",
    "print('Precision:', cv_results_gbm['test_precision'].mean())\n",
    "print('Roc Auc Score:', cv_results_gbm['test_roc_auc'].mean())"
   ]
  },
  {
   "cell_type": "markdown",
   "id": "31cb9b49",
   "metadata": {
    "papermill": {
     "duration": 0.042129,
     "end_time": "2022-12-04T16:15:32.070877",
     "exception": false,
     "start_time": "2022-12-04T16:15:32.028748",
     "status": "completed"
    },
    "tags": []
   },
   "source": [
    "### Light GBM"
   ]
  },
  {
   "cell_type": "code",
   "execution_count": 34,
   "id": "987464cf",
   "metadata": {
    "execution": {
     "iopub.execute_input": "2022-12-04T16:15:32.157909Z",
     "iopub.status.busy": "2022-12-04T16:15:32.156748Z",
     "iopub.status.idle": "2022-12-04T16:15:33.792757Z",
     "shell.execute_reply": "2022-12-04T16:15:33.790888Z"
    },
    "papermill": {
     "duration": 1.682173,
     "end_time": "2022-12-04T16:15:33.795572",
     "exception": false,
     "start_time": "2022-12-04T16:15:32.113399",
     "status": "completed"
    },
    "tags": []
   },
   "outputs": [
    {
     "name": "stdout",
     "output_type": "stream",
     "text": [
      "Accuracy: 0.7962160949825423\n",
      "F1 Score: 0.5785111316107152\n",
      "Recall: 0.5259387039273188\n",
      "Precision: 0.6439687546904187\n",
      "Roc Auc Score: 0.8360484503243437\n"
     ]
    }
   ],
   "source": [
    "# LGBM model\n",
    "cv_results_lgbm = cross_validate(lgbm_model, X, y, cv=10, scoring=['accuracy', 'f1', 'recall', 'precision', 'roc_auc'])\n",
    "print('Accuracy:', cv_results_lgbm['test_accuracy'].mean())\n",
    "print('F1 Score:', cv_results_lgbm['test_f1'].mean())\n",
    "print('Recall:', cv_results_lgbm['test_recall'].mean())\n",
    "print('Precision:', cv_results_lgbm['test_precision'].mean())\n",
    "print('Roc Auc Score:', cv_results_lgbm['test_roc_auc'].mean())"
   ]
  },
  {
   "cell_type": "markdown",
   "id": "4bc31dc3",
   "metadata": {
    "papermill": {
     "duration": 0.041791,
     "end_time": "2022-12-04T16:15:33.881097",
     "exception": false,
     "start_time": "2022-12-04T16:15:33.839306",
     "status": "completed"
    },
    "tags": []
   },
   "source": [
    "### Random forest model"
   ]
  },
  {
   "cell_type": "code",
   "execution_count": 35,
   "id": "0649d311",
   "metadata": {
    "execution": {
     "iopub.execute_input": "2022-12-04T16:15:33.968800Z",
     "iopub.status.busy": "2022-12-04T16:15:33.968368Z",
     "iopub.status.idle": "2022-12-04T16:15:42.519823Z",
     "shell.execute_reply": "2022-12-04T16:15:42.518218Z"
    },
    "papermill": {
     "duration": 8.599489,
     "end_time": "2022-12-04T16:15:42.522863",
     "exception": false,
     "start_time": "2022-12-04T16:15:33.923374",
     "status": "completed"
    },
    "tags": []
   },
   "outputs": [
    {
     "name": "stdout",
     "output_type": "stream",
     "text": [
      "Accuracy: 0.7923750080822449\n",
      "F1 Score: 0.5525432318356673\n",
      "Recall: 0.4820711862457593\n",
      "Precision: 0.6478083322768343\n",
      "Roc Auc Score: 0.8251624614875365\n"
     ]
    }
   ],
   "source": [
    "# Random forest model\n",
    "cv_results_rf = cross_validate(rf_model, X, y, cv=10, scoring=['accuracy', 'f1', 'recall', 'precision', 'roc_auc'])\n",
    "print('Accuracy:', cv_results_rf['test_accuracy'].mean())\n",
    "print('F1 Score:', cv_results_rf['test_f1'].mean())\n",
    "print('Recall:', cv_results_rf['test_recall'].mean())\n",
    "print('Precision:', cv_results_rf['test_precision'].mean())\n",
    "print('Roc Auc Score:', cv_results_rf['test_roc_auc'].mean())"
   ]
  },
  {
   "cell_type": "markdown",
   "id": "bc9f5507",
   "metadata": {
    "papermill": {
     "duration": 0.043563,
     "end_time": "2022-12-04T16:15:42.613065",
     "exception": false,
     "start_time": "2022-12-04T16:15:42.569502",
     "status": "completed"
    },
    "tags": []
   },
   "source": [
    "### Decision tree model"
   ]
  },
  {
   "cell_type": "code",
   "execution_count": 36,
   "id": "df2797d6",
   "metadata": {
    "execution": {
     "iopub.execute_input": "2022-12-04T16:15:42.700844Z",
     "iopub.status.busy": "2022-12-04T16:15:42.700418Z",
     "iopub.status.idle": "2022-12-04T16:15:43.210926Z",
     "shell.execute_reply": "2022-12-04T16:15:43.209640Z"
    },
    "papermill": {
     "duration": 0.557569,
     "end_time": "2022-12-04T16:15:43.214232",
     "exception": false,
     "start_time": "2022-12-04T16:15:42.656663",
     "status": "completed"
    },
    "tags": []
   },
   "outputs": [
    {
     "name": "stdout",
     "output_type": "stream",
     "text": [
      "Accuracy: 0.7282419904952799\n",
      "F1 Score: 0.5004243515724291\n",
      "Recall: 0.5125754700707262\n",
      "Precision: 0.48965084674863313\n",
      "Roc Auc Score: 0.6607243699093351\n"
     ]
    }
   ],
   "source": [
    "# Decision tree model\n",
    "cv_results_cart = cross_validate(cart_model, X, y, cv=10, scoring=['accuracy', 'f1', 'recall', 'precision', 'roc_auc'])\n",
    "print('Accuracy:', cv_results_cart['test_accuracy'].mean())\n",
    "print('F1 Score:', cv_results_cart['test_f1'].mean())\n",
    "print('Recall:', cv_results_cart['test_recall'].mean())\n",
    "print('Precision:', cv_results_cart['test_precision'].mean())\n",
    "print('Roc Auc Score:', cv_results_cart['test_roc_auc'].mean())"
   ]
  },
  {
   "cell_type": "markdown",
   "id": "ee6ea182",
   "metadata": {
    "papermill": {
     "duration": 0.041994,
     "end_time": "2022-12-04T16:15:43.299930",
     "exception": false,
     "start_time": "2022-12-04T16:15:43.257936",
     "status": "completed"
    },
    "tags": []
   },
   "source": [
    "### According to the results without feature engineering and hyperparameter optimization, the best model is Gradient Boosting Model based on the accuracy, f1 score, recall, precision, and roc auc value"
   ]
  },
  {
   "cell_type": "markdown",
   "id": "011440b0",
   "metadata": {
    "papermill": {
     "duration": 0.042357,
     "end_time": "2022-12-04T16:15:43.384942",
     "exception": false,
     "start_time": "2022-12-04T16:15:43.342585",
     "status": "completed"
    },
    "tags": []
   },
   "source": [
    "### Let's check the feature importance"
   ]
  },
  {
   "cell_type": "code",
   "execution_count": 37,
   "id": "257ca8b8",
   "metadata": {
    "execution": {
     "iopub.execute_input": "2022-12-04T16:15:43.471840Z",
     "iopub.status.busy": "2022-12-04T16:15:43.471417Z",
     "iopub.status.idle": "2022-12-04T16:15:44.068271Z",
     "shell.execute_reply": "2022-12-04T16:15:44.067115Z"
    },
    "papermill": {
     "duration": 0.643224,
     "end_time": "2022-12-04T16:15:44.070785",
     "exception": false,
     "start_time": "2022-12-04T16:15:43.427561",
     "status": "completed"
    },
    "tags": []
   },
   "outputs": [
    {
     "data": {
      "image/png": "[encoded data removed]",
      "text/plain": [
       "<Figure size 864x504 with 1 Axes>"
      ]
     },
     "metadata": {
      "needs_background": "light"
     },
     "output_type": "display_data"
    }
   ],
   "source": [
    "def plot_importance(model, features, num=len(X), save=False):\n",
    "    feature_imp = pd.DataFrame({'Value': model.feature_importances_, 'Feature': features.columns})\n",
    "    plt.figure(figsize=(12, 7))\n",
    "    sns.set(font_scale=1)\n",
    "    sns.barplot(x=\"Value\", y=\"Feature\", data=feature_imp.sort_values(by=\"Value\", ascending=False)[0:num])\n",
    "    plt.title('Features')\n",
    "    plt.tight_layout()\n",
    "    plt.show()\n",
    "    if save:\n",
    "        plt.savefig('importances.png')\n",
    "\n",
    "plot_importance(gbm_model, X)"
   ]
  },
  {
   "cell_type": "markdown",
   "id": "21f63b22",
   "metadata": {
    "papermill": {
     "duration": 0.044402,
     "end_time": "2022-12-04T16:15:44.160319",
     "exception": false,
     "start_time": "2022-12-04T16:15:44.115917",
     "status": "completed"
    },
    "tags": []
   },
   "source": [
    "# Feature engineering"
   ]
  },
  {
   "cell_type": "code",
   "execution_count": 38,
   "id": "7ebd2e80",
   "metadata": {
    "execution": {
     "iopub.execute_input": "2022-12-04T16:15:44.252272Z",
     "iopub.status.busy": "2022-12-04T16:15:44.251821Z",
     "iopub.status.idle": "2022-12-04T16:15:44.267093Z",
     "shell.execute_reply": "2022-12-04T16:15:44.266138Z"
    },
    "papermill": {
     "duration": 0.06482,
     "end_time": "2022-12-04T16:15:44.269619",
     "exception": false,
     "start_time": "2022-12-04T16:15:44.204799",
     "status": "completed"
    },
    "tags": []
   },
   "outputs": [],
   "source": [
    "# gender_seniorcitizen\n",
    "df.loc[(df['gender'] == 'Male') & (df['seniorcitizen'] == 0), 'gender_seniorcitizen'] = 'young_male'\n",
    "df.loc[(df['gender'] == 'Male') & (df['seniorcitizen'] == 1), 'gender_seniorcitizen'] = 'senior_male'\n",
    "df.loc[(df['gender'] == 'Female') & (df['seniorcitizen'] == 0), 'gender_seniorcitizen'] = 'young_female'\n",
    "df.loc[(df['gender'] == 'Female') & (df['seniorcitizen'] == 1), 'gender_seniorcitizen'] = 'senior_female'"
   ]
  },
  {
   "cell_type": "code",
   "execution_count": 39,
   "id": "a913c45d",
   "metadata": {
    "execution": {
     "iopub.execute_input": "2022-12-04T16:15:44.359205Z",
     "iopub.status.busy": "2022-12-04T16:15:44.358004Z",
     "iopub.status.idle": "2022-12-04T16:15:44.375450Z",
     "shell.execute_reply": "2022-12-04T16:15:44.374018Z"
    },
    "papermill": {
     "duration": 0.065311,
     "end_time": "2022-12-04T16:15:44.378180",
     "exception": false,
     "start_time": "2022-12-04T16:15:44.312869",
     "status": "completed"
    },
    "tags": []
   },
   "outputs": [],
   "source": [
    "# gender_partner\n",
    "df.loc[(df['gender'] == 'Male') & (df['partner'] == 'No'), 'gender_partner'] = 'male_no'\n",
    "df.loc[(df['gender'] == 'Male') & (df['partner'] == 'Yes'), 'gender_partner'] = 'male_yes'\n",
    "df.loc[(df['gender'] == 'Female') & (df['partner'] == 'No'), 'gender_partner'] = 'female_no'\n",
    "df.loc[(df['gender'] == 'Female') & (df['partner'] == 'Yes'), 'gender_partner'] = 'female_yes'"
   ]
  },
  {
   "cell_type": "code",
   "execution_count": 40,
   "id": "49e87c90",
   "metadata": {
    "execution": {
     "iopub.execute_input": "2022-12-04T16:15:44.469227Z",
     "iopub.status.busy": "2022-12-04T16:15:44.468799Z",
     "iopub.status.idle": "2022-12-04T16:15:44.486150Z",
     "shell.execute_reply": "2022-12-04T16:15:44.485023Z"
    },
    "papermill": {
     "duration": 0.067061,
     "end_time": "2022-12-04T16:15:44.488685",
     "exception": false,
     "start_time": "2022-12-04T16:15:44.421624",
     "status": "completed"
    },
    "tags": []
   },
   "outputs": [],
   "source": [
    "# new tenure year\n",
    "df.loc[(df.tenure >= 0) & (df.tenure <= 12), 'new_tenure_year'] = '0-1 year'\n",
    "df.loc[(df.tenure > 12) & (df.tenure <= 24), 'new_tenure_year'] = '1-2 year'\n",
    "df.loc[(df.tenure > 24) & (df.tenure <= 36), 'new_tenure_year'] = '2-3 year'\n",
    "df.loc[(df.tenure > 36) & (df.tenure <= 48), 'new_tenure_year'] = '3-4 year'\n",
    "df.loc[(df.tenure > 48) & (df.tenure <= 60), 'new_tenure_year'] = '4-5 year'\n",
    "df.loc[(df.tenure > 60) & (df.tenure <= 72), 'new_tenure_year'] = '5-6 year'"
   ]
  },
  {
   "cell_type": "code",
   "execution_count": 41,
   "id": "a9a5bb57",
   "metadata": {
    "execution": {
     "iopub.execute_input": "2022-12-04T16:15:44.581491Z",
     "iopub.status.busy": "2022-12-04T16:15:44.581072Z",
     "iopub.status.idle": "2022-12-04T16:15:44.587829Z",
     "shell.execute_reply": "2022-12-04T16:15:44.586773Z"
    },
    "papermill": {
     "duration": 0.055586,
     "end_time": "2022-12-04T16:15:44.590305",
     "exception": false,
     "start_time": "2022-12-04T16:15:44.534719",
     "status": "completed"
    },
    "tags": []
   },
   "outputs": [],
   "source": [
    "# mean mothly fee\n",
    "df['mean_monthly_fee'] = df['totalcharges'] / (df['tenure'] + 1)"
   ]
  },
  {
   "cell_type": "code",
   "execution_count": 42,
   "id": "6d52e218",
   "metadata": {
    "execution": {
     "iopub.execute_input": "2022-12-04T16:15:44.680298Z",
     "iopub.status.busy": "2022-12-04T16:15:44.679472Z",
     "iopub.status.idle": "2022-12-04T16:15:44.686153Z",
     "shell.execute_reply": "2022-12-04T16:15:44.685278Z"
    },
    "papermill": {
     "duration": 0.054081,
     "end_time": "2022-12-04T16:15:44.688608",
     "exception": false,
     "start_time": "2022-12-04T16:15:44.634527",
     "status": "completed"
    },
    "tags": []
   },
   "outputs": [],
   "source": [
    "# increase in current price relative to average price\n",
    "df['increase'] = df['mean_monthly_fee'] / (df['monthlycharges'] + 1)"
   ]
  },
  {
   "cell_type": "code",
   "execution_count": 43,
   "id": "4f85ca10",
   "metadata": {
    "execution": {
     "iopub.execute_input": "2022-12-04T16:15:44.778291Z",
     "iopub.status.busy": "2022-12-04T16:15:44.777463Z",
     "iopub.status.idle": "2022-12-04T16:15:44.793066Z",
     "shell.execute_reply": "2022-12-04T16:15:44.791853Z"
    },
    "papermill": {
     "duration": 0.063764,
     "end_time": "2022-12-04T16:15:44.795783",
     "exception": false,
     "start_time": "2022-12-04T16:15:44.732019",
     "status": "completed"
    },
    "tags": []
   },
   "outputs": [],
   "source": [
    "# total number of services received by the person\n",
    "df['totalservices'] = (df[['phoneservice', 'internetservice', 'onlinesecurity',\n",
    "                               'onlinebackup', 'deviceprotection', 'techsupport',\n",
    "                               'streamingtv', 'streamingmovies']] == 'Yes').sum(axis=1)"
   ]
  },
  {
   "cell_type": "code",
   "execution_count": 44,
   "id": "83a37757",
   "metadata": {
    "execution": {
     "iopub.execute_input": "2022-12-04T16:15:44.885407Z",
     "iopub.status.busy": "2022-12-04T16:15:44.885031Z",
     "iopub.status.idle": "2022-12-04T16:15:44.891274Z",
     "shell.execute_reply": "2022-12-04T16:15:44.890102Z"
    },
    "papermill": {
     "duration": 0.053826,
     "end_time": "2022-12-04T16:15:44.893718",
     "exception": false,
     "start_time": "2022-12-04T16:15:44.839892",
     "status": "completed"
    },
    "tags": []
   },
   "outputs": [],
   "source": [
    "# charge per service\n",
    "df['charge_per_service'] = df[\"monthlycharges\"] / (df['totalservices'] + 1)"
   ]
  },
  {
   "cell_type": "code",
   "execution_count": 45,
   "id": "e7480659",
   "metadata": {
    "execution": {
     "iopub.execute_input": "2022-12-04T16:15:44.983360Z",
     "iopub.status.busy": "2022-12-04T16:15:44.982924Z",
     "iopub.status.idle": "2022-12-04T16:15:45.010639Z",
     "shell.execute_reply": "2022-12-04T16:15:45.009703Z"
    },
    "papermill": {
     "duration": 0.075709,
     "end_time": "2022-12-04T16:15:45.013133",
     "exception": false,
     "start_time": "2022-12-04T16:15:44.937424",
     "status": "completed"
    },
    "tags": []
   },
   "outputs": [],
   "source": [
    "# gender_payment method\n",
    "df.loc[(df['gender'] == 'Male') & (df['paymentmethod'] == 'Electronic check'), 'gender_payment_method'] = 'male_electronic'\n",
    "df.loc[(df['gender'] == 'Male') & (df['paymentmethod'] == 'Mailed check'), 'gender_payment_method'] = 'male_mail'\n",
    "df.loc[(df['gender'] == 'Male') & (df['paymentmethod'] == 'Bank transfer (automatic)'), 'gender_payment_method'] = 'male_bank'\n",
    "df.loc[(df['gender'] == 'Male') & (df['paymentmethod'] == 'Credit card (automatic)'), 'gender_payment_method'] = 'male_credit_card'\n",
    "\n",
    "df.loc[(df['gender'] == 'Female') & (df['paymentmethod'] == 'Electronic check'), 'gender_payment_method'] = 'female_electronic'\n",
    "df.loc[(df['gender'] == 'Female') & (df['paymentmethod'] == 'Mailed check'), 'gender_payment_method'] = 'female_mail'\n",
    "df.loc[(df['gender'] == 'Female') & (df['paymentmethod'] == 'Bank transfer (automatic)'), 'gender_payment_method'] = 'female_bank'\n",
    "df.loc[(df['gender'] == 'Female') & (df['paymentmethod'] == 'Credit card (automatic)'), 'gender_payment_method'] = 'female_credit_card'"
   ]
  },
  {
   "cell_type": "code",
   "execution_count": 46,
   "id": "87365a23",
   "metadata": {
    "execution": {
     "iopub.execute_input": "2022-12-04T16:15:45.101891Z",
     "iopub.status.busy": "2022-12-04T16:15:45.100631Z",
     "iopub.status.idle": "2022-12-04T16:15:45.124619Z",
     "shell.execute_reply": "2022-12-04T16:15:45.123700Z"
    },
    "papermill": {
     "duration": 0.07098,
     "end_time": "2022-12-04T16:15:45.127166",
     "exception": false,
     "start_time": "2022-12-04T16:15:45.056186",
     "status": "completed"
    },
    "tags": []
   },
   "outputs": [],
   "source": [
    "# seniorcitizen_payment method\n",
    "df.loc[(df['seniorcitizen'] == 0) & (df['paymentmethod'] == 'Electronic check'), 'seniorcitizen_payment_method'] = 'young_electronic'\n",
    "df.loc[(df['seniorcitizen'] == 0) & (df['paymentmethod'] == 'Mailed check'), 'seniorcitizen_payment_method'] = 'young_mail'\n",
    "df.loc[(df['seniorcitizen'] == 0) & (df['paymentmethod'] == 'Bank transfer (automatic)'), 'seniorcitizen_payment_method'] = 'young_bank'\n",
    "df.loc[(df['seniorcitizen'] == 0) & (df['paymentmethod'] == 'Credit card (automatic)'), 'seniorcitizen_payment_method'] = 'young_credit_card'\n",
    "\n",
    "df.loc[(df['seniorcitizen'] == 1) & (df['paymentmethod'] == 'Electronic check'), 'seniorcitizen_payment_method'] = 'old_electronic'\n",
    "df.loc[(df['seniorcitizen'] == 1) & (df['paymentmethod'] == 'Mailed check'), 'seniorcitizen_payment_method'] = 'old_mail'\n",
    "df.loc[(df['seniorcitizen'] == 1) & (df['paymentmethod'] == 'Bank transfer (automatic)'), 'seniorcitizen_payment_method'] = 'old_bank'\n",
    "df.loc[(df['seniorcitizen'] == 1) & (df['paymentmethod'] == 'Credit card (automatic)'), 'seniorcitizen_payment_method'] = 'old_credit_card'"
   ]
  },
  {
   "cell_type": "code",
   "execution_count": 47,
   "id": "bd2cc523",
   "metadata": {
    "execution": {
     "iopub.execute_input": "2022-12-04T16:15:45.216554Z",
     "iopub.status.busy": "2022-12-04T16:15:45.215708Z",
     "iopub.status.idle": "2022-12-04T16:15:45.238031Z",
     "shell.execute_reply": "2022-12-04T16:15:45.237079Z"
    },
    "papermill": {
     "duration": 0.069926,
     "end_time": "2022-12-04T16:15:45.240566",
     "exception": false,
     "start_time": "2022-12-04T16:15:45.170640",
     "status": "completed"
    },
    "tags": []
   },
   "outputs": [],
   "source": [
    "# internetservice_paperlessbilling\n",
    "df.loc[(df['internetservice'] == 'Fiber optic') & (df['paperlessbilling'] == 'Yes'), 'internetservice_paperlessbilling'] = 'fiber_yes'\n",
    "df.loc[(df['internetservice'] == 'DSL') & (df['paperlessbilling'] == 'Yes'), 'internetservice_paperlessbilling'] = 'dsl_yes'\n",
    "df.loc[(df['internetservice'] == 'No') & (df['paperlessbilling'] == 'Yes'), 'internetservice_paperlessbilling'] = 'no_yes'\n",
    "\n",
    "df.loc[(df['internetservice'] == 'Fiber optic') & (df['paperlessbilling'] == 'No'), 'internetservice_paperlessbilling'] = 'fiber_no'\n",
    "df.loc[(df['internetservice'] == 'DSL') & (df['paperlessbilling'] == 'No'), 'internetservice_paperlessbilling'] = 'dsl_no'\n",
    "df.loc[(df['internetservice'] == 'No') & (df['paperlessbilling'] == 'No'), 'internetservice_paperlessbilling'] = 'no_no'"
   ]
  },
  {
   "cell_type": "code",
   "execution_count": 48,
   "id": "7ba51319",
   "metadata": {
    "execution": {
     "iopub.execute_input": "2022-12-04T16:15:45.330125Z",
     "iopub.status.busy": "2022-12-04T16:15:45.329710Z",
     "iopub.status.idle": "2022-12-04T16:15:45.353276Z",
     "shell.execute_reply": "2022-12-04T16:15:45.352136Z"
    },
    "papermill": {
     "duration": 0.071555,
     "end_time": "2022-12-04T16:15:45.355967",
     "exception": false,
     "start_time": "2022-12-04T16:15:45.284412",
     "status": "completed"
    },
    "tags": []
   },
   "outputs": [],
   "source": [
    "# multiplelines_paperlessbilling\n",
    "df.loc[(df['multiplelines'] == 'No') & (df['paperlessbilling'] == 'Yes'), 'multiplelines_paperlessbilling'] = 'no_yes'\n",
    "df.loc[(df['multiplelines'] == 'Yes') & (df['paperlessbilling'] == 'Yes'), 'multiplelines_paperlessbilling'] = 'yes_yes'\n",
    "df.loc[(df['multiplelines'] == 'No phone service') & (df['paperlessbilling'] == 'Yes'), 'multiplelines_paperlessbilling'] = 'no_phone_yes'\n",
    "\n",
    "df.loc[(df['multiplelines'] == 'No') & (df['paperlessbilling'] == 'No'), 'multiplelines_paperlessbilling'] = 'no_no'\n",
    "df.loc[(df['multiplelines'] == 'Yes') & (df['paperlessbilling'] == 'No'), 'multiplelines_paperlessbilling'] = 'no_no'\n",
    "df.loc[(df['multiplelines'] == 'No phone service') & (df['paperlessbilling'] == 'No'), 'multiplelines_paperlessbilling'] = 'no_phone_no'"
   ]
  },
  {
   "cell_type": "code",
   "execution_count": 49,
   "id": "d108ccb7",
   "metadata": {
    "execution": {
     "iopub.execute_input": "2022-12-04T16:15:45.445136Z",
     "iopub.status.busy": "2022-12-04T16:15:45.444734Z",
     "iopub.status.idle": "2022-12-04T16:15:45.468582Z",
     "shell.execute_reply": "2022-12-04T16:15:45.467390Z"
    },
    "papermill": {
     "duration": 0.071464,
     "end_time": "2022-12-04T16:15:45.471060",
     "exception": false,
     "start_time": "2022-12-04T16:15:45.399596",
     "status": "completed"
    },
    "tags": []
   },
   "outputs": [],
   "source": [
    "# gender_contract\n",
    "df.loc[(df['gender'] == 'Male') & (df['contract'] == 'Month-to-month'), 'gender_contract'] = 'male_month'\n",
    "df.loc[(df['gender'] == 'Male') & (df['contract'] == 'One year'), 'gender_contract'] = 'male_one_year'\n",
    "df.loc[(df['gender'] == 'Male') & (df['contract'] == 'Two year'), 'gender_contract'] = 'male_two_year'\n",
    "\n",
    "df.loc[(df['gender'] == 'Female') & (df['contract'] == 'Month-to-month'), 'gender_contract'] = 'female_month'\n",
    "df.loc[(df['gender'] == 'Female') & (df['contract'] == 'One year'), 'gender_contract'] = 'female_one_year'\n",
    "df.loc[(df['gender'] == 'Female') & (df['contract'] == 'Two year'), 'gender_contract'] = 'female_two_year'"
   ]
  },
  {
   "cell_type": "code",
   "execution_count": 50,
   "id": "2aa1a7d6",
   "metadata": {
    "execution": {
     "iopub.execute_input": "2022-12-04T16:15:45.567231Z",
     "iopub.status.busy": "2022-12-04T16:15:45.566801Z",
     "iopub.status.idle": "2022-12-04T16:15:45.587602Z",
     "shell.execute_reply": "2022-12-04T16:15:45.586193Z"
    },
    "papermill": {
     "duration": 0.069319,
     "end_time": "2022-12-04T16:15:45.590435",
     "exception": false,
     "start_time": "2022-12-04T16:15:45.521116",
     "status": "completed"
    },
    "tags": []
   },
   "outputs": [],
   "source": [
    "# seniorcitizen_contract\n",
    "df.loc[(df['seniorcitizen'] == 0) & (df['contract'] == 'Month-to-month'), 'seniorcitizen_contract'] = 'young_month'\n",
    "df.loc[(df['seniorcitizen'] == 0) & (df['contract'] == 'One year'), 'seniorcitizen_contract'] = 'young_one_year'\n",
    "df.loc[(df['seniorcitizen'] == 0) & (df['contract'] == 'Two year'), 'seniorcitizen_contract'] = 'young_two_year'\n",
    "\n",
    "df.loc[(df['seniorcitizen'] == 1) & (df['contract'] == 'Month-to-month'), 'seniorcitizen_contract'] = 'old_month'\n",
    "df.loc[(df['seniorcitizen'] == 1) & (df['contract'] == 'One year'), 'seniorcitizen_contract'] = 'old_one_year'\n",
    "df.loc[(df['seniorcitizen'] == 1) & (df['contract'] == 'Two year'), 'seniorcitizen_contract'] = 'old_two_year'"
   ]
  },
  {
   "cell_type": "markdown",
   "id": "65804711",
   "metadata": {
    "papermill": {
     "duration": 0.043649,
     "end_time": "2022-12-04T16:15:45.678111",
     "exception": false,
     "start_time": "2022-12-04T16:15:45.634462",
     "status": "completed"
    },
    "tags": []
   },
   "source": [
    "# Modeling after feature engineering"
   ]
  },
  {
   "cell_type": "code",
   "execution_count": 51,
   "id": "5c1a2c45",
   "metadata": {
    "execution": {
     "iopub.execute_input": "2022-12-04T16:15:45.768487Z",
     "iopub.status.busy": "2022-12-04T16:15:45.768059Z",
     "iopub.status.idle": "2022-12-04T16:15:45.812770Z",
     "shell.execute_reply": "2022-12-04T16:15:45.811461Z"
    },
    "papermill": {
     "duration": 0.092567,
     "end_time": "2022-12-04T16:15:45.815258",
     "exception": false,
     "start_time": "2022-12-04T16:15:45.722691",
     "status": "completed"
    },
    "tags": []
   },
   "outputs": [
    {
     "name": "stdout",
     "output_type": "stream",
     "text": [
      "Observations: 7032\n",
      "Variables: 34\n",
      "cat_cols: 27\n",
      "num_cols: 6\n",
      "cat_but_car: 1\n",
      "num_but_cat: 3\n"
     ]
    }
   ],
   "source": [
    "cat_cols, num_cols, cat_but_car, num_but_cat = grab_col_names(df)"
   ]
  },
  {
   "cell_type": "code",
   "execution_count": 52,
   "id": "34d945c4",
   "metadata": {
    "execution": {
     "iopub.execute_input": "2022-12-04T16:15:45.906524Z",
     "iopub.status.busy": "2022-12-04T16:15:45.905802Z",
     "iopub.status.idle": "2022-12-04T16:15:45.913246Z",
     "shell.execute_reply": "2022-12-04T16:15:45.912021Z"
    },
    "papermill": {
     "duration": 0.055685,
     "end_time": "2022-12-04T16:15:45.915499",
     "exception": false,
     "start_time": "2022-12-04T16:15:45.859814",
     "status": "completed"
    },
    "tags": []
   },
   "outputs": [
    {
     "data": {
      "text/plain": [
       "['gender',\n",
       " 'partner',\n",
       " 'dependents',\n",
       " 'phoneservice',\n",
       " 'multiplelines',\n",
       " 'internetservice',\n",
       " 'onlinesecurity',\n",
       " 'onlinebackup',\n",
       " 'deviceprotection',\n",
       " 'techsupport',\n",
       " 'streamingtv',\n",
       " 'streamingmovies',\n",
       " 'contract',\n",
       " 'paperlessbilling',\n",
       " 'paymentmethod',\n",
       " 'gender_seniorcitizen',\n",
       " 'gender_partner',\n",
       " 'new_tenure_year',\n",
       " 'gender_payment_method',\n",
       " 'seniorcitizen_payment_method',\n",
       " 'internetservice_paperlessbilling',\n",
       " 'multiplelines_paperlessbilling',\n",
       " 'gender_contract',\n",
       " 'seniorcitizen_contract',\n",
       " 'seniorcitizen',\n",
       " 'totalservices']"
      ]
     },
     "execution_count": 52,
     "metadata": {},
     "output_type": "execute_result"
    }
   ],
   "source": [
    "cat_cols = [col for col in cat_cols if col not in 'churn']\n",
    "cat_cols"
   ]
  },
  {
   "cell_type": "code",
   "execution_count": 53,
   "id": "aef64d6b",
   "metadata": {
    "execution": {
     "iopub.execute_input": "2022-12-04T16:15:46.006228Z",
     "iopub.status.busy": "2022-12-04T16:15:46.005255Z",
     "iopub.status.idle": "2022-12-04T16:15:46.011717Z",
     "shell.execute_reply": "2022-12-04T16:15:46.010743Z"
    },
    "papermill": {
     "duration": 0.055009,
     "end_time": "2022-12-04T16:15:46.014105",
     "exception": false,
     "start_time": "2022-12-04T16:15:45.959096",
     "status": "completed"
    },
    "tags": []
   },
   "outputs": [
    {
     "data": {
      "text/plain": [
       "['tenure',\n",
       " 'monthlycharges',\n",
       " 'totalcharges',\n",
       " 'mean_monthly_fee',\n",
       " 'increase',\n",
       " 'charge_per_service']"
      ]
     },
     "execution_count": 53,
     "metadata": {},
     "output_type": "execute_result"
    }
   ],
   "source": [
    "num_cols"
   ]
  },
  {
   "cell_type": "code",
   "execution_count": 54,
   "id": "0e2ed5fc",
   "metadata": {
    "execution": {
     "iopub.execute_input": "2022-12-04T16:15:46.104392Z",
     "iopub.status.busy": "2022-12-04T16:15:46.103765Z",
     "iopub.status.idle": "2022-12-04T16:15:46.109992Z",
     "shell.execute_reply": "2022-12-04T16:15:46.108937Z"
    },
    "papermill": {
     "duration": 0.054088,
     "end_time": "2022-12-04T16:15:46.112439",
     "exception": false,
     "start_time": "2022-12-04T16:15:46.058351",
     "status": "completed"
    },
    "tags": []
   },
   "outputs": [
    {
     "data": {
      "text/plain": [
       "['customerid']"
      ]
     },
     "execution_count": 54,
     "metadata": {},
     "output_type": "execute_result"
    }
   ],
   "source": [
    "cat_but_car"
   ]
  },
  {
   "cell_type": "markdown",
   "id": "1d6ffa09",
   "metadata": {
    "papermill": {
     "duration": 0.043621,
     "end_time": "2022-12-04T16:15:46.200946",
     "exception": false,
     "start_time": "2022-12-04T16:15:46.157325",
     "status": "completed"
    },
    "tags": []
   },
   "source": [
    "## One hot encoding"
   ]
  },
  {
   "cell_type": "code",
   "execution_count": 55,
   "id": "e14266f5",
   "metadata": {
    "execution": {
     "iopub.execute_input": "2022-12-04T16:15:46.362295Z",
     "iopub.status.busy": "2022-12-04T16:15:46.361624Z",
     "iopub.status.idle": "2022-12-04T16:15:46.451790Z",
     "shell.execute_reply": "2022-12-04T16:15:46.450619Z"
    },
    "papermill": {
     "duration": 0.138719,
     "end_time": "2022-12-04T16:15:46.454503",
     "exception": false,
     "start_time": "2022-12-04T16:15:46.315784",
     "status": "completed"
    },
    "tags": []
   },
   "outputs": [
    {
     "data": {
      "text/html": [
       "<div>\n",
       "<style scoped>\n",
       "    .dataframe tbody tr th:only-of-type {\n",
       "        vertical-align: middle;\n",
       "    }\n",
       "\n",
       "    .dataframe tbody tr th {\n",
       "        vertical-align: top;\n",
       "    }\n",
       "\n",
       "    .dataframe thead th {\n",
       "        text-align: right;\n",
       "    }\n",
       "</style>\n",
       "<table border=\"1\" class=\"dataframe\">\n",
       "  <thead>\n",
       "    <tr style=\"text-align: right;\">\n",
       "      <th></th>\n",
       "      <th>customerid</th>\n",
       "      <th>tenure</th>\n",
       "      <th>monthlycharges</th>\n",
       "      <th>totalcharges</th>\n",
       "      <th>churn</th>\n",
       "      <th>mean_monthly_fee</th>\n",
       "      <th>increase</th>\n",
       "      <th>charge_per_service</th>\n",
       "      <th>gender_Male</th>\n",
       "      <th>partner_Yes</th>\n",
       "      <th>dependents_Yes</th>\n",
       "      <th>phoneservice_Yes</th>\n",
       "      <th>multiplelines_No phone service</th>\n",
       "      <th>multiplelines_Yes</th>\n",
       "      <th>internetservice_Fiber optic</th>\n",
       "      <th>internetservice_No</th>\n",
       "      <th>onlinesecurity_No internet service</th>\n",
       "      <th>onlinesecurity_Yes</th>\n",
       "      <th>onlinebackup_No internet service</th>\n",
       "      <th>onlinebackup_Yes</th>\n",
       "      <th>deviceprotection_No internet service</th>\n",
       "      <th>deviceprotection_Yes</th>\n",
       "      <th>techsupport_No internet service</th>\n",
       "      <th>techsupport_Yes</th>\n",
       "      <th>streamingtv_No internet service</th>\n",
       "      <th>streamingtv_Yes</th>\n",
       "      <th>streamingmovies_No internet service</th>\n",
       "      <th>streamingmovies_Yes</th>\n",
       "      <th>contract_One year</th>\n",
       "      <th>contract_Two year</th>\n",
       "      <th>paperlessbilling_Yes</th>\n",
       "      <th>paymentmethod_Credit card (automatic)</th>\n",
       "      <th>paymentmethod_Electronic check</th>\n",
       "      <th>paymentmethod_Mailed check</th>\n",
       "      <th>gender_seniorcitizen_senior_male</th>\n",
       "      <th>gender_seniorcitizen_young_female</th>\n",
       "      <th>gender_seniorcitizen_young_male</th>\n",
       "      <th>gender_partner_female_yes</th>\n",
       "      <th>gender_partner_male_no</th>\n",
       "      <th>gender_partner_male_yes</th>\n",
       "      <th>new_tenure_year_1-2 year</th>\n",
       "      <th>new_tenure_year_2-3 year</th>\n",
       "      <th>new_tenure_year_3-4 year</th>\n",
       "      <th>new_tenure_year_4-5 year</th>\n",
       "      <th>new_tenure_year_5-6 year</th>\n",
       "      <th>gender_payment_method_female_credit_card</th>\n",
       "      <th>gender_payment_method_female_electronic</th>\n",
       "      <th>gender_payment_method_female_mail</th>\n",
       "      <th>gender_payment_method_male_bank</th>\n",
       "      <th>gender_payment_method_male_credit_card</th>\n",
       "      <th>gender_payment_method_male_electronic</th>\n",
       "      <th>gender_payment_method_male_mail</th>\n",
       "      <th>seniorcitizen_payment_method_old_credit_card</th>\n",
       "      <th>seniorcitizen_payment_method_old_electronic</th>\n",
       "      <th>seniorcitizen_payment_method_old_mail</th>\n",
       "      <th>seniorcitizen_payment_method_young_bank</th>\n",
       "      <th>seniorcitizen_payment_method_young_credit_card</th>\n",
       "      <th>seniorcitizen_payment_method_young_electronic</th>\n",
       "      <th>seniorcitizen_payment_method_young_mail</th>\n",
       "      <th>internetservice_paperlessbilling_dsl_yes</th>\n",
       "      <th>internetservice_paperlessbilling_fiber_no</th>\n",
       "      <th>internetservice_paperlessbilling_fiber_yes</th>\n",
       "      <th>internetservice_paperlessbilling_no_no</th>\n",
       "      <th>internetservice_paperlessbilling_no_yes</th>\n",
       "      <th>multiplelines_paperlessbilling_no_phone_no</th>\n",
       "      <th>multiplelines_paperlessbilling_no_phone_yes</th>\n",
       "      <th>multiplelines_paperlessbilling_no_yes</th>\n",
       "      <th>multiplelines_paperlessbilling_yes_yes</th>\n",
       "      <th>gender_contract_female_one_year</th>\n",
       "      <th>gender_contract_female_two_year</th>\n",
       "      <th>gender_contract_male_month</th>\n",
       "      <th>gender_contract_male_one_year</th>\n",
       "      <th>gender_contract_male_two_year</th>\n",
       "      <th>seniorcitizen_contract_old_one_year</th>\n",
       "      <th>seniorcitizen_contract_old_two_year</th>\n",
       "      <th>seniorcitizen_contract_young_month</th>\n",
       "      <th>seniorcitizen_contract_young_one_year</th>\n",
       "      <th>seniorcitizen_contract_young_two_year</th>\n",
       "      <th>seniorcitizen_1</th>\n",
       "      <th>totalservices_1</th>\n",
       "      <th>totalservices_2</th>\n",
       "      <th>totalservices_3</th>\n",
       "      <th>totalservices_4</th>\n",
       "      <th>totalservices_5</th>\n",
       "      <th>totalservices_6</th>\n",
       "      <th>totalservices_7</th>\n",
       "    </tr>\n",
       "  </thead>\n",
       "  <tbody>\n",
       "    <tr>\n",
       "      <th>0</th>\n",
       "      <td>7590-VHVEG</td>\n",
       "      <td>1</td>\n",
       "      <td>29.850</td>\n",
       "      <td>29.850</td>\n",
       "      <td>0</td>\n",
       "      <td>14.925</td>\n",
       "      <td>0.484</td>\n",
       "      <td>14.925</td>\n",
       "      <td>0</td>\n",
       "      <td>1</td>\n",
       "      <td>0</td>\n",
       "      <td>0</td>\n",
       "      <td>1</td>\n",
       "      <td>0</td>\n",
       "      <td>0</td>\n",
       "      <td>0</td>\n",
       "      <td>0</td>\n",
       "      <td>0</td>\n",
       "      <td>0</td>\n",
       "      <td>1</td>\n",
       "      <td>0</td>\n",
       "      <td>0</td>\n",
       "      <td>0</td>\n",
       "      <td>0</td>\n",
       "      <td>0</td>\n",
       "      <td>0</td>\n",
       "      <td>0</td>\n",
       "      <td>0</td>\n",
       "      <td>0</td>\n",
       "      <td>0</td>\n",
       "      <td>1</td>\n",
       "      <td>0</td>\n",
       "      <td>1</td>\n",
       "      <td>0</td>\n",
       "      <td>0</td>\n",
       "      <td>1</td>\n",
       "      <td>0</td>\n",
       "      <td>1</td>\n",
       "      <td>0</td>\n",
       "      <td>0</td>\n",
       "      <td>0</td>\n",
       "      <td>0</td>\n",
       "      <td>0</td>\n",
       "      <td>0</td>\n",
       "      <td>0</td>\n",
       "      <td>0</td>\n",
       "      <td>1</td>\n",
       "      <td>0</td>\n",
       "      <td>0</td>\n",
       "      <td>0</td>\n",
       "      <td>0</td>\n",
       "      <td>0</td>\n",
       "      <td>0</td>\n",
       "      <td>0</td>\n",
       "      <td>0</td>\n",
       "      <td>0</td>\n",
       "      <td>0</td>\n",
       "      <td>1</td>\n",
       "      <td>0</td>\n",
       "      <td>1</td>\n",
       "      <td>0</td>\n",
       "      <td>0</td>\n",
       "      <td>0</td>\n",
       "      <td>0</td>\n",
       "      <td>0</td>\n",
       "      <td>1</td>\n",
       "      <td>0</td>\n",
       "      <td>0</td>\n",
       "      <td>0</td>\n",
       "      <td>0</td>\n",
       "      <td>0</td>\n",
       "      <td>0</td>\n",
       "      <td>0</td>\n",
       "      <td>0</td>\n",
       "      <td>0</td>\n",
       "      <td>1</td>\n",
       "      <td>0</td>\n",
       "      <td>0</td>\n",
       "      <td>0</td>\n",
       "      <td>1</td>\n",
       "      <td>0</td>\n",
       "      <td>0</td>\n",
       "      <td>0</td>\n",
       "      <td>0</td>\n",
       "      <td>0</td>\n",
       "      <td>0</td>\n",
       "    </tr>\n",
       "    <tr>\n",
       "      <th>1</th>\n",
       "      <td>5575-GNVDE</td>\n",
       "      <td>34</td>\n",
       "      <td>56.950</td>\n",
       "      <td>1889.500</td>\n",
       "      <td>0</td>\n",
       "      <td>53.986</td>\n",
       "      <td>0.932</td>\n",
       "      <td>14.238</td>\n",
       "      <td>1</td>\n",
       "      <td>0</td>\n",
       "      <td>0</td>\n",
       "      <td>1</td>\n",
       "      <td>0</td>\n",
       "      <td>0</td>\n",
       "      <td>0</td>\n",
       "      <td>0</td>\n",
       "      <td>0</td>\n",
       "      <td>1</td>\n",
       "      <td>0</td>\n",
       "      <td>0</td>\n",
       "      <td>0</td>\n",
       "      <td>1</td>\n",
       "      <td>0</td>\n",
       "      <td>0</td>\n",
       "      <td>0</td>\n",
       "      <td>0</td>\n",
       "      <td>0</td>\n",
       "      <td>0</td>\n",
       "      <td>1</td>\n",
       "      <td>0</td>\n",
       "      <td>0</td>\n",
       "      <td>0</td>\n",
       "      <td>0</td>\n",
       "      <td>1</td>\n",
       "      <td>0</td>\n",
       "      <td>0</td>\n",
       "      <td>1</td>\n",
       "      <td>0</td>\n",
       "      <td>1</td>\n",
       "      <td>0</td>\n",
       "      <td>0</td>\n",
       "      <td>1</td>\n",
       "      <td>0</td>\n",
       "      <td>0</td>\n",
       "      <td>0</td>\n",
       "      <td>0</td>\n",
       "      <td>0</td>\n",
       "      <td>0</td>\n",
       "      <td>0</td>\n",
       "      <td>0</td>\n",
       "      <td>0</td>\n",
       "      <td>1</td>\n",
       "      <td>0</td>\n",
       "      <td>0</td>\n",
       "      <td>0</td>\n",
       "      <td>0</td>\n",
       "      <td>0</td>\n",
       "      <td>0</td>\n",
       "      <td>1</td>\n",
       "      <td>0</td>\n",
       "      <td>0</td>\n",
       "      <td>0</td>\n",
       "      <td>0</td>\n",
       "      <td>0</td>\n",
       "      <td>0</td>\n",
       "      <td>0</td>\n",
       "      <td>0</td>\n",
       "      <td>0</td>\n",
       "      <td>0</td>\n",
       "      <td>0</td>\n",
       "      <td>0</td>\n",
       "      <td>1</td>\n",
       "      <td>0</td>\n",
       "      <td>0</td>\n",
       "      <td>0</td>\n",
       "      <td>0</td>\n",
       "      <td>1</td>\n",
       "      <td>0</td>\n",
       "      <td>0</td>\n",
       "      <td>0</td>\n",
       "      <td>0</td>\n",
       "      <td>1</td>\n",
       "      <td>0</td>\n",
       "      <td>0</td>\n",
       "      <td>0</td>\n",
       "      <td>0</td>\n",
       "    </tr>\n",
       "    <tr>\n",
       "      <th>2</th>\n",
       "      <td>3668-QPYBK</td>\n",
       "      <td>2</td>\n",
       "      <td>53.850</td>\n",
       "      <td>108.150</td>\n",
       "      <td>1</td>\n",
       "      <td>36.050</td>\n",
       "      <td>0.657</td>\n",
       "      <td>13.463</td>\n",
       "      <td>1</td>\n",
       "      <td>0</td>\n",
       "      <td>0</td>\n",
       "      <td>1</td>\n",
       "      <td>0</td>\n",
       "      <td>0</td>\n",
       "      <td>0</td>\n",
       "      <td>0</td>\n",
       "      <td>0</td>\n",
       "      <td>1</td>\n",
       "      <td>0</td>\n",
       "      <td>1</td>\n",
       "      <td>0</td>\n",
       "      <td>0</td>\n",
       "      <td>0</td>\n",
       "      <td>0</td>\n",
       "      <td>0</td>\n",
       "      <td>0</td>\n",
       "      <td>0</td>\n",
       "      <td>0</td>\n",
       "      <td>0</td>\n",
       "      <td>0</td>\n",
       "      <td>1</td>\n",
       "      <td>0</td>\n",
       "      <td>0</td>\n",
       "      <td>1</td>\n",
       "      <td>0</td>\n",
       "      <td>0</td>\n",
       "      <td>1</td>\n",
       "      <td>0</td>\n",
       "      <td>1</td>\n",
       "      <td>0</td>\n",
       "      <td>0</td>\n",
       "      <td>0</td>\n",
       "      <td>0</td>\n",
       "      <td>0</td>\n",
       "      <td>0</td>\n",
       "      <td>0</td>\n",
       "      <td>0</td>\n",
       "      <td>0</td>\n",
       "      <td>0</td>\n",
       "      <td>0</td>\n",
       "      <td>0</td>\n",
       "      <td>1</td>\n",
       "      <td>0</td>\n",
       "      <td>0</td>\n",
       "      <td>0</td>\n",
       "      <td>0</td>\n",
       "      <td>0</td>\n",
       "      <td>0</td>\n",
       "      <td>1</td>\n",
       "      <td>1</td>\n",
       "      <td>0</td>\n",
       "      <td>0</td>\n",
       "      <td>0</td>\n",
       "      <td>0</td>\n",
       "      <td>0</td>\n",
       "      <td>0</td>\n",
       "      <td>1</td>\n",
       "      <td>0</td>\n",
       "      <td>0</td>\n",
       "      <td>0</td>\n",
       "      <td>1</td>\n",
       "      <td>0</td>\n",
       "      <td>0</td>\n",
       "      <td>0</td>\n",
       "      <td>0</td>\n",
       "      <td>1</td>\n",
       "      <td>0</td>\n",
       "      <td>0</td>\n",
       "      <td>0</td>\n",
       "      <td>0</td>\n",
       "      <td>0</td>\n",
       "      <td>1</td>\n",
       "      <td>0</td>\n",
       "      <td>0</td>\n",
       "      <td>0</td>\n",
       "      <td>0</td>\n",
       "    </tr>\n",
       "    <tr>\n",
       "      <th>3</th>\n",
       "      <td>7795-CFOCW</td>\n",
       "      <td>45</td>\n",
       "      <td>42.300</td>\n",
       "      <td>1840.750</td>\n",
       "      <td>0</td>\n",
       "      <td>40.016</td>\n",
       "      <td>0.924</td>\n",
       "      <td>10.575</td>\n",
       "      <td>1</td>\n",
       "      <td>0</td>\n",
       "      <td>0</td>\n",
       "      <td>0</td>\n",
       "      <td>1</td>\n",
       "      <td>0</td>\n",
       "      <td>0</td>\n",
       "      <td>0</td>\n",
       "      <td>0</td>\n",
       "      <td>1</td>\n",
       "      <td>0</td>\n",
       "      <td>0</td>\n",
       "      <td>0</td>\n",
       "      <td>1</td>\n",
       "      <td>0</td>\n",
       "      <td>1</td>\n",
       "      <td>0</td>\n",
       "      <td>0</td>\n",
       "      <td>0</td>\n",
       "      <td>0</td>\n",
       "      <td>1</td>\n",
       "      <td>0</td>\n",
       "      <td>0</td>\n",
       "      <td>0</td>\n",
       "      <td>0</td>\n",
       "      <td>0</td>\n",
       "      <td>0</td>\n",
       "      <td>0</td>\n",
       "      <td>1</td>\n",
       "      <td>0</td>\n",
       "      <td>1</td>\n",
       "      <td>0</td>\n",
       "      <td>0</td>\n",
       "      <td>0</td>\n",
       "      <td>1</td>\n",
       "      <td>0</td>\n",
       "      <td>0</td>\n",
       "      <td>0</td>\n",
       "      <td>0</td>\n",
       "      <td>0</td>\n",
       "      <td>1</td>\n",
       "      <td>0</td>\n",
       "      <td>0</td>\n",
       "      <td>0</td>\n",
       "      <td>0</td>\n",
       "      <td>0</td>\n",
       "      <td>0</td>\n",
       "      <td>1</td>\n",
       "      <td>0</td>\n",
       "      <td>0</td>\n",
       "      <td>0</td>\n",
       "      <td>0</td>\n",
       "      <td>0</td>\n",
       "      <td>0</td>\n",
       "      <td>0</td>\n",
       "      <td>0</td>\n",
       "      <td>1</td>\n",
       "      <td>0</td>\n",
       "      <td>0</td>\n",
       "      <td>0</td>\n",
       "      <td>0</td>\n",
       "      <td>0</td>\n",
       "      <td>0</td>\n",
       "      <td>1</td>\n",
       "      <td>0</td>\n",
       "      <td>0</td>\n",
       "      <td>0</td>\n",
       "      <td>0</td>\n",
       "      <td>1</td>\n",
       "      <td>0</td>\n",
       "      <td>0</td>\n",
       "      <td>0</td>\n",
       "      <td>0</td>\n",
       "      <td>1</td>\n",
       "      <td>0</td>\n",
       "      <td>0</td>\n",
       "      <td>0</td>\n",
       "      <td>0</td>\n",
       "    </tr>\n",
       "    <tr>\n",
       "      <th>4</th>\n",
       "      <td>9237-HQITU</td>\n",
       "      <td>2</td>\n",
       "      <td>70.700</td>\n",
       "      <td>151.650</td>\n",
       "      <td>1</td>\n",
       "      <td>50.550</td>\n",
       "      <td>0.705</td>\n",
       "      <td>35.350</td>\n",
       "      <td>0</td>\n",
       "      <td>0</td>\n",
       "      <td>0</td>\n",
       "      <td>1</td>\n",
       "      <td>0</td>\n",
       "      <td>0</td>\n",
       "      <td>1</td>\n",
       "      <td>0</td>\n",
       "      <td>0</td>\n",
       "      <td>0</td>\n",
       "      <td>0</td>\n",
       "      <td>0</td>\n",
       "      <td>0</td>\n",
       "      <td>0</td>\n",
       "      <td>0</td>\n",
       "      <td>0</td>\n",
       "      <td>0</td>\n",
       "      <td>0</td>\n",
       "      <td>0</td>\n",
       "      <td>0</td>\n",
       "      <td>0</td>\n",
       "      <td>0</td>\n",
       "      <td>1</td>\n",
       "      <td>0</td>\n",
       "      <td>1</td>\n",
       "      <td>0</td>\n",
       "      <td>0</td>\n",
       "      <td>1</td>\n",
       "      <td>0</td>\n",
       "      <td>0</td>\n",
       "      <td>0</td>\n",
       "      <td>0</td>\n",
       "      <td>0</td>\n",
       "      <td>0</td>\n",
       "      <td>0</td>\n",
       "      <td>0</td>\n",
       "      <td>0</td>\n",
       "      <td>0</td>\n",
       "      <td>1</td>\n",
       "      <td>0</td>\n",
       "      <td>0</td>\n",
       "      <td>0</td>\n",
       "      <td>0</td>\n",
       "      <td>0</td>\n",
       "      <td>0</td>\n",
       "      <td>0</td>\n",
       "      <td>0</td>\n",
       "      <td>0</td>\n",
       "      <td>0</td>\n",
       "      <td>1</td>\n",
       "      <td>0</td>\n",
       "      <td>0</td>\n",
       "      <td>0</td>\n",
       "      <td>1</td>\n",
       "      <td>0</td>\n",
       "      <td>0</td>\n",
       "      <td>0</td>\n",
       "      <td>0</td>\n",
       "      <td>1</td>\n",
       "      <td>0</td>\n",
       "      <td>0</td>\n",
       "      <td>0</td>\n",
       "      <td>0</td>\n",
       "      <td>0</td>\n",
       "      <td>0</td>\n",
       "      <td>0</td>\n",
       "      <td>0</td>\n",
       "      <td>1</td>\n",
       "      <td>0</td>\n",
       "      <td>0</td>\n",
       "      <td>0</td>\n",
       "      <td>1</td>\n",
       "      <td>0</td>\n",
       "      <td>0</td>\n",
       "      <td>0</td>\n",
       "      <td>0</td>\n",
       "      <td>0</td>\n",
       "      <td>0</td>\n",
       "    </tr>\n",
       "  </tbody>\n",
       "</table>\n",
       "</div>"
      ],
      "text/plain": [
       "   customerid  tenure  monthlycharges  totalcharges  churn  mean_monthly_fee  increase  charge_per_service  gender_Male  partner_Yes  dependents_Yes  phoneservice_Yes  multiplelines_No phone service  multiplelines_Yes  internetservice_Fiber optic  internetservice_No  onlinesecurity_No internet service  onlinesecurity_Yes  onlinebackup_No internet service  onlinebackup_Yes  deviceprotection_No internet service  deviceprotection_Yes  techsupport_No internet service  techsupport_Yes  \\\n",
       "0  7590-VHVEG       1          29.850        29.850      0            14.925     0.484              14.925            0            1               0                 0                               1                  0                            0                   0                                   0                   0                                 0                 1                                     0                     0                                0                0   \n",
       "1  5575-GNVDE      34          56.950      1889.500      0            53.986     0.932              14.238            1            0               0                 1                               0                  0                            0                   0                                   0                   1                                 0                 0                                     0                     1                                0                0   \n",
       "2  3668-QPYBK       2          53.850       108.150      1            36.050     0.657              13.463            1            0               0                 1                               0                  0                            0                   0                                   0                   1                                 0                 1                                     0                     0                                0                0   \n",
       "3  7795-CFOCW      45          42.300      1840.750      0            40.016     0.924              10.575            1            0               0                 0                               1                  0                            0                   0                                   0                   1                                 0                 0                                     0                     1                                0                1   \n",
       "4  9237-HQITU       2          70.700       151.650      1            50.550     0.705              35.350            0            0               0                 1                               0                  0                            1                   0                                   0                   0                                 0                 0                                     0                     0                                0                0   \n",
       "\n",
       "   streamingtv_No internet service  streamingtv_Yes  streamingmovies_No internet service  streamingmovies_Yes  contract_One year  contract_Two year  paperlessbilling_Yes  paymentmethod_Credit card (automatic)  paymentmethod_Electronic check  paymentmethod_Mailed check  gender_seniorcitizen_senior_male  gender_seniorcitizen_young_female  gender_seniorcitizen_young_male  gender_partner_female_yes  gender_partner_male_no  gender_partner_male_yes  new_tenure_year_1-2 year  \\\n",
       "0                                0                0                                    0                    0                  0                  0                     1                                      0                               1                           0                                 0                                  1                                0                          1                       0                        0                         0   \n",
       "1                                0                0                                    0                    0                  1                  0                     0                                      0                               0                           1                                 0                                  0                                1                          0                       1                        0                         0   \n",
       "2                                0                0                                    0                    0                  0                  0                     1                                      0                               0                           1                                 0                                  0                                1                          0                       1                        0                         0   \n",
       "3                                0                0                                    0                    0                  1                  0                     0                                      0                               0                           0                                 0                                  0                                1                          0                       1                        0                         0   \n",
       "4                                0                0                                    0                    0                  0                  0                     1                                      0                               1                           0                                 0                                  1                                0                          0                       0                        0                         0   \n",
       "\n",
       "   new_tenure_year_2-3 year  new_tenure_year_3-4 year  new_tenure_year_4-5 year  new_tenure_year_5-6 year  gender_payment_method_female_credit_card  gender_payment_method_female_electronic  gender_payment_method_female_mail  gender_payment_method_male_bank  gender_payment_method_male_credit_card  gender_payment_method_male_electronic  gender_payment_method_male_mail  seniorcitizen_payment_method_old_credit_card  seniorcitizen_payment_method_old_electronic  \\\n",
       "0                         0                         0                         0                         0                                         0                                        1                                  0                                0                                       0                                      0                                0                                             0                                            0   \n",
       "1                         1                         0                         0                         0                                         0                                        0                                  0                                0                                       0                                      0                                1                                             0                                            0   \n",
       "2                         0                         0                         0                         0                                         0                                        0                                  0                                0                                       0                                      0                                1                                             0                                            0   \n",
       "3                         0                         1                         0                         0                                         0                                        0                                  0                                1                                       0                                      0                                0                                             0                                            0   \n",
       "4                         0                         0                         0                         0                                         0                                        1                                  0                                0                                       0                                      0                                0                                             0                                            0   \n",
       "\n",
       "   seniorcitizen_payment_method_old_mail  seniorcitizen_payment_method_young_bank  seniorcitizen_payment_method_young_credit_card  seniorcitizen_payment_method_young_electronic  seniorcitizen_payment_method_young_mail  internetservice_paperlessbilling_dsl_yes  internetservice_paperlessbilling_fiber_no  internetservice_paperlessbilling_fiber_yes  internetservice_paperlessbilling_no_no  internetservice_paperlessbilling_no_yes  multiplelines_paperlessbilling_no_phone_no  \\\n",
       "0                                      0                                        0                                               0                                              1                                        0                                         1                                          0                                           0                                       0                                        0                                           0   \n",
       "1                                      0                                        0                                               0                                              0                                        1                                         0                                          0                                           0                                       0                                        0                                           0   \n",
       "2                                      0                                        0                                               0                                              0                                        1                                         1                                          0                                           0                                       0                                        0                                           0   \n",
       "3                                      0                                        1                                               0                                              0                                        0                                         0                                          0                                           0                                       0                                        0                                           1   \n",
       "4                                      0                                        0                                               0                                              1                                        0                                         0                                          0                                           1                                       0                                        0                                           0   \n",
       "\n",
       "   multiplelines_paperlessbilling_no_phone_yes  multiplelines_paperlessbilling_no_yes  multiplelines_paperlessbilling_yes_yes  gender_contract_female_one_year  gender_contract_female_two_year  gender_contract_male_month  gender_contract_male_one_year  gender_contract_male_two_year  seniorcitizen_contract_old_one_year  seniorcitizen_contract_old_two_year  seniorcitizen_contract_young_month  seniorcitizen_contract_young_one_year  seniorcitizen_contract_young_two_year  seniorcitizen_1  \\\n",
       "0                                            1                                      0                                       0                                0                                0                           0                              0                              0                                    0                                    0                                   1                                      0                                      0                0   \n",
       "1                                            0                                      0                                       0                                0                                0                           0                              1                              0                                    0                                    0                                   0                                      1                                      0                0   \n",
       "2                                            0                                      1                                       0                                0                                0                           1                              0                              0                                    0                                    0                                   1                                      0                                      0                0   \n",
       "3                                            0                                      0                                       0                                0                                0                           0                              1                              0                                    0                                    0                                   0                                      1                                      0                0   \n",
       "4                                            0                                      1                                       0                                0                                0                           0                              0                              0                                    0                                    0                                   1                                      0                                      0                0   \n",
       "\n",
       "   totalservices_1  totalservices_2  totalservices_3  totalservices_4  totalservices_5  totalservices_6  totalservices_7  \n",
       "0                1                0                0                0                0                0                0  \n",
       "1                0                0                1                0                0                0                0  \n",
       "2                0                0                1                0                0                0                0  \n",
       "3                0                0                1                0                0                0                0  \n",
       "4                1                0                0                0                0                0                0  "
      ]
     },
     "execution_count": 55,
     "metadata": {},
     "output_type": "execute_result"
    }
   ],
   "source": [
    "df_new = df.copy()\n",
    "df_new = one_hot_encoder(df_new, cat_cols, drop_first=True)\n",
    "df_new.head()"
   ]
  },
  {
   "cell_type": "markdown",
   "id": "736b794a",
   "metadata": {
    "papermill": {
     "duration": 0.057585,
     "end_time": "2022-12-04T16:15:46.560464",
     "exception": false,
     "start_time": "2022-12-04T16:15:46.502879",
     "status": "completed"
    },
    "tags": []
   },
   "source": [
    "## Standardization using StandardScaler method"
   ]
  },
  {
   "cell_type": "code",
   "execution_count": 56,
   "id": "f2fa4ff8",
   "metadata": {
    "execution": {
     "iopub.execute_input": "2022-12-04T16:15:46.659561Z",
     "iopub.status.busy": "2022-12-04T16:15:46.659157Z",
     "iopub.status.idle": "2022-12-04T16:15:46.707532Z",
     "shell.execute_reply": "2022-12-04T16:15:46.706429Z"
    },
    "papermill": {
     "duration": 0.09884,
     "end_time": "2022-12-04T16:15:46.710974",
     "exception": false,
     "start_time": "2022-12-04T16:15:46.612134",
     "status": "completed"
    },
    "tags": []
   },
   "outputs": [
    {
     "data": {
      "text/html": [
       "<div>\n",
       "<style scoped>\n",
       "    .dataframe tbody tr th:only-of-type {\n",
       "        vertical-align: middle;\n",
       "    }\n",
       "\n",
       "    .dataframe tbody tr th {\n",
       "        vertical-align: top;\n",
       "    }\n",
       "\n",
       "    .dataframe thead th {\n",
       "        text-align: right;\n",
       "    }\n",
       "</style>\n",
       "<table border=\"1\" class=\"dataframe\">\n",
       "  <thead>\n",
       "    <tr style=\"text-align: right;\">\n",
       "      <th></th>\n",
       "      <th>tenure</th>\n",
       "      <th>monthlycharges</th>\n",
       "      <th>totalcharges</th>\n",
       "      <th>churn</th>\n",
       "      <th>mean_monthly_fee</th>\n",
       "      <th>increase</th>\n",
       "      <th>charge_per_service</th>\n",
       "      <th>gender_Male</th>\n",
       "      <th>partner_Yes</th>\n",
       "      <th>dependents_Yes</th>\n",
       "      <th>phoneservice_Yes</th>\n",
       "      <th>multiplelines_No phone service</th>\n",
       "      <th>multiplelines_Yes</th>\n",
       "      <th>internetservice_Fiber optic</th>\n",
       "      <th>internetservice_No</th>\n",
       "      <th>onlinesecurity_No internet service</th>\n",
       "      <th>onlinesecurity_Yes</th>\n",
       "      <th>onlinebackup_No internet service</th>\n",
       "      <th>onlinebackup_Yes</th>\n",
       "      <th>deviceprotection_No internet service</th>\n",
       "      <th>deviceprotection_Yes</th>\n",
       "      <th>techsupport_No internet service</th>\n",
       "      <th>techsupport_Yes</th>\n",
       "      <th>streamingtv_No internet service</th>\n",
       "      <th>streamingtv_Yes</th>\n",
       "      <th>streamingmovies_No internet service</th>\n",
       "      <th>streamingmovies_Yes</th>\n",
       "      <th>contract_One year</th>\n",
       "      <th>contract_Two year</th>\n",
       "      <th>paperlessbilling_Yes</th>\n",
       "      <th>paymentmethod_Credit card (automatic)</th>\n",
       "      <th>paymentmethod_Electronic check</th>\n",
       "      <th>paymentmethod_Mailed check</th>\n",
       "      <th>gender_seniorcitizen_senior_male</th>\n",
       "      <th>gender_seniorcitizen_young_female</th>\n",
       "      <th>gender_seniorcitizen_young_male</th>\n",
       "      <th>gender_partner_female_yes</th>\n",
       "      <th>gender_partner_male_no</th>\n",
       "      <th>gender_partner_male_yes</th>\n",
       "      <th>new_tenure_year_1-2 year</th>\n",
       "      <th>new_tenure_year_2-3 year</th>\n",
       "      <th>new_tenure_year_3-4 year</th>\n",
       "      <th>new_tenure_year_4-5 year</th>\n",
       "      <th>new_tenure_year_5-6 year</th>\n",
       "      <th>gender_payment_method_female_credit_card</th>\n",
       "      <th>gender_payment_method_female_electronic</th>\n",
       "      <th>gender_payment_method_female_mail</th>\n",
       "      <th>gender_payment_method_male_bank</th>\n",
       "      <th>gender_payment_method_male_credit_card</th>\n",
       "      <th>gender_payment_method_male_electronic</th>\n",
       "      <th>gender_payment_method_male_mail</th>\n",
       "      <th>seniorcitizen_payment_method_old_credit_card</th>\n",
       "      <th>seniorcitizen_payment_method_old_electronic</th>\n",
       "      <th>seniorcitizen_payment_method_old_mail</th>\n",
       "      <th>seniorcitizen_payment_method_young_bank</th>\n",
       "      <th>seniorcitizen_payment_method_young_credit_card</th>\n",
       "      <th>seniorcitizen_payment_method_young_electronic</th>\n",
       "      <th>seniorcitizen_payment_method_young_mail</th>\n",
       "      <th>internetservice_paperlessbilling_dsl_yes</th>\n",
       "      <th>internetservice_paperlessbilling_fiber_no</th>\n",
       "      <th>internetservice_paperlessbilling_fiber_yes</th>\n",
       "      <th>internetservice_paperlessbilling_no_no</th>\n",
       "      <th>internetservice_paperlessbilling_no_yes</th>\n",
       "      <th>multiplelines_paperlessbilling_no_phone_no</th>\n",
       "      <th>multiplelines_paperlessbilling_no_phone_yes</th>\n",
       "      <th>multiplelines_paperlessbilling_no_yes</th>\n",
       "      <th>multiplelines_paperlessbilling_yes_yes</th>\n",
       "      <th>gender_contract_female_one_year</th>\n",
       "      <th>gender_contract_female_two_year</th>\n",
       "      <th>gender_contract_male_month</th>\n",
       "      <th>gender_contract_male_one_year</th>\n",
       "      <th>gender_contract_male_two_year</th>\n",
       "      <th>seniorcitizen_contract_old_one_year</th>\n",
       "      <th>seniorcitizen_contract_old_two_year</th>\n",
       "      <th>seniorcitizen_contract_young_month</th>\n",
       "      <th>seniorcitizen_contract_young_one_year</th>\n",
       "      <th>seniorcitizen_contract_young_two_year</th>\n",
       "      <th>seniorcitizen_1</th>\n",
       "      <th>totalservices_1</th>\n",
       "      <th>totalservices_2</th>\n",
       "      <th>totalservices_3</th>\n",
       "      <th>totalservices_4</th>\n",
       "      <th>totalservices_5</th>\n",
       "      <th>totalservices_6</th>\n",
       "      <th>totalservices_7</th>\n",
       "    </tr>\n",
       "  </thead>\n",
       "  <tbody>\n",
       "    <tr>\n",
       "      <th>0</th>\n",
       "      <td>-1.280</td>\n",
       "      <td>-1.162</td>\n",
       "      <td>-0.994</td>\n",
       "      <td>0</td>\n",
       "      <td>-1.447</td>\n",
       "      <td>-2.676</td>\n",
       "      <td>-0.313</td>\n",
       "      <td>0</td>\n",
       "      <td>1</td>\n",
       "      <td>0</td>\n",
       "      <td>0</td>\n",
       "      <td>1</td>\n",
       "      <td>0</td>\n",
       "      <td>0</td>\n",
       "      <td>0</td>\n",
       "      <td>0</td>\n",
       "      <td>0</td>\n",
       "      <td>0</td>\n",
       "      <td>1</td>\n",
       "      <td>0</td>\n",
       "      <td>0</td>\n",
       "      <td>0</td>\n",
       "      <td>0</td>\n",
       "      <td>0</td>\n",
       "      <td>0</td>\n",
       "      <td>0</td>\n",
       "      <td>0</td>\n",
       "      <td>0</td>\n",
       "      <td>0</td>\n",
       "      <td>1</td>\n",
       "      <td>0</td>\n",
       "      <td>1</td>\n",
       "      <td>0</td>\n",
       "      <td>0</td>\n",
       "      <td>1</td>\n",
       "      <td>0</td>\n",
       "      <td>1</td>\n",
       "      <td>0</td>\n",
       "      <td>0</td>\n",
       "      <td>0</td>\n",
       "      <td>0</td>\n",
       "      <td>0</td>\n",
       "      <td>0</td>\n",
       "      <td>0</td>\n",
       "      <td>0</td>\n",
       "      <td>1</td>\n",
       "      <td>0</td>\n",
       "      <td>0</td>\n",
       "      <td>0</td>\n",
       "      <td>0</td>\n",
       "      <td>0</td>\n",
       "      <td>0</td>\n",
       "      <td>0</td>\n",
       "      <td>0</td>\n",
       "      <td>0</td>\n",
       "      <td>0</td>\n",
       "      <td>1</td>\n",
       "      <td>0</td>\n",
       "      <td>1</td>\n",
       "      <td>0</td>\n",
       "      <td>0</td>\n",
       "      <td>0</td>\n",
       "      <td>0</td>\n",
       "      <td>0</td>\n",
       "      <td>1</td>\n",
       "      <td>0</td>\n",
       "      <td>0</td>\n",
       "      <td>0</td>\n",
       "      <td>0</td>\n",
       "      <td>0</td>\n",
       "      <td>0</td>\n",
       "      <td>0</td>\n",
       "      <td>0</td>\n",
       "      <td>0</td>\n",
       "      <td>1</td>\n",
       "      <td>0</td>\n",
       "      <td>0</td>\n",
       "      <td>0</td>\n",
       "      <td>1</td>\n",
       "      <td>0</td>\n",
       "      <td>0</td>\n",
       "      <td>0</td>\n",
       "      <td>0</td>\n",
       "      <td>0</td>\n",
       "      <td>0</td>\n",
       "    </tr>\n",
       "    <tr>\n",
       "      <th>1</th>\n",
       "      <td>0.064</td>\n",
       "      <td>-0.261</td>\n",
       "      <td>-0.174</td>\n",
       "      <td>0</td>\n",
       "      <td>-0.167</td>\n",
       "      <td>0.348</td>\n",
       "      <td>-0.412</td>\n",
       "      <td>1</td>\n",
       "      <td>0</td>\n",
       "      <td>0</td>\n",
       "      <td>1</td>\n",
       "      <td>0</td>\n",
       "      <td>0</td>\n",
       "      <td>0</td>\n",
       "      <td>0</td>\n",
       "      <td>0</td>\n",
       "      <td>1</td>\n",
       "      <td>0</td>\n",
       "      <td>0</td>\n",
       "      <td>0</td>\n",
       "      <td>1</td>\n",
       "      <td>0</td>\n",
       "      <td>0</td>\n",
       "      <td>0</td>\n",
       "      <td>0</td>\n",
       "      <td>0</td>\n",
       "      <td>0</td>\n",
       "      <td>1</td>\n",
       "      <td>0</td>\n",
       "      <td>0</td>\n",
       "      <td>0</td>\n",
       "      <td>0</td>\n",
       "      <td>1</td>\n",
       "      <td>0</td>\n",
       "      <td>0</td>\n",
       "      <td>1</td>\n",
       "      <td>0</td>\n",
       "      <td>1</td>\n",
       "      <td>0</td>\n",
       "      <td>0</td>\n",
       "      <td>1</td>\n",
       "      <td>0</td>\n",
       "      <td>0</td>\n",
       "      <td>0</td>\n",
       "      <td>0</td>\n",
       "      <td>0</td>\n",
       "      <td>0</td>\n",
       "      <td>0</td>\n",
       "      <td>0</td>\n",
       "      <td>0</td>\n",
       "      <td>1</td>\n",
       "      <td>0</td>\n",
       "      <td>0</td>\n",
       "      <td>0</td>\n",
       "      <td>0</td>\n",
       "      <td>0</td>\n",
       "      <td>0</td>\n",
       "      <td>1</td>\n",
       "      <td>0</td>\n",
       "      <td>0</td>\n",
       "      <td>0</td>\n",
       "      <td>0</td>\n",
       "      <td>0</td>\n",
       "      <td>0</td>\n",
       "      <td>0</td>\n",
       "      <td>0</td>\n",
       "      <td>0</td>\n",
       "      <td>0</td>\n",
       "      <td>0</td>\n",
       "      <td>0</td>\n",
       "      <td>1</td>\n",
       "      <td>0</td>\n",
       "      <td>0</td>\n",
       "      <td>0</td>\n",
       "      <td>0</td>\n",
       "      <td>1</td>\n",
       "      <td>0</td>\n",
       "      <td>0</td>\n",
       "      <td>0</td>\n",
       "      <td>0</td>\n",
       "      <td>1</td>\n",
       "      <td>0</td>\n",
       "      <td>0</td>\n",
       "      <td>0</td>\n",
       "      <td>0</td>\n",
       "    </tr>\n",
       "    <tr>\n",
       "      <th>2</th>\n",
       "      <td>-1.240</td>\n",
       "      <td>-0.364</td>\n",
       "      <td>-0.960</td>\n",
       "      <td>1</td>\n",
       "      <td>-0.755</td>\n",
       "      <td>-1.505</td>\n",
       "      <td>-0.523</td>\n",
       "      <td>1</td>\n",
       "      <td>0</td>\n",
       "      <td>0</td>\n",
       "      <td>1</td>\n",
       "      <td>0</td>\n",
       "      <td>0</td>\n",
       "      <td>0</td>\n",
       "      <td>0</td>\n",
       "      <td>0</td>\n",
       "      <td>1</td>\n",
       "      <td>0</td>\n",
       "      <td>1</td>\n",
       "      <td>0</td>\n",
       "      <td>0</td>\n",
       "      <td>0</td>\n",
       "      <td>0</td>\n",
       "      <td>0</td>\n",
       "      <td>0</td>\n",
       "      <td>0</td>\n",
       "      <td>0</td>\n",
       "      <td>0</td>\n",
       "      <td>0</td>\n",
       "      <td>1</td>\n",
       "      <td>0</td>\n",
       "      <td>0</td>\n",
       "      <td>1</td>\n",
       "      <td>0</td>\n",
       "      <td>0</td>\n",
       "      <td>1</td>\n",
       "      <td>0</td>\n",
       "      <td>1</td>\n",
       "      <td>0</td>\n",
       "      <td>0</td>\n",
       "      <td>0</td>\n",
       "      <td>0</td>\n",
       "      <td>0</td>\n",
       "      <td>0</td>\n",
       "      <td>0</td>\n",
       "      <td>0</td>\n",
       "      <td>0</td>\n",
       "      <td>0</td>\n",
       "      <td>0</td>\n",
       "      <td>0</td>\n",
       "      <td>1</td>\n",
       "      <td>0</td>\n",
       "      <td>0</td>\n",
       "      <td>0</td>\n",
       "      <td>0</td>\n",
       "      <td>0</td>\n",
       "      <td>0</td>\n",
       "      <td>1</td>\n",
       "      <td>1</td>\n",
       "      <td>0</td>\n",
       "      <td>0</td>\n",
       "      <td>0</td>\n",
       "      <td>0</td>\n",
       "      <td>0</td>\n",
       "      <td>0</td>\n",
       "      <td>1</td>\n",
       "      <td>0</td>\n",
       "      <td>0</td>\n",
       "      <td>0</td>\n",
       "      <td>1</td>\n",
       "      <td>0</td>\n",
       "      <td>0</td>\n",
       "      <td>0</td>\n",
       "      <td>0</td>\n",
       "      <td>1</td>\n",
       "      <td>0</td>\n",
       "      <td>0</td>\n",
       "      <td>0</td>\n",
       "      <td>0</td>\n",
       "      <td>0</td>\n",
       "      <td>1</td>\n",
       "      <td>0</td>\n",
       "      <td>0</td>\n",
       "      <td>0</td>\n",
       "      <td>0</td>\n",
       "    </tr>\n",
       "    <tr>\n",
       "      <th>3</th>\n",
       "      <td>0.512</td>\n",
       "      <td>-0.748</td>\n",
       "      <td>-0.195</td>\n",
       "      <td>0</td>\n",
       "      <td>-0.625</td>\n",
       "      <td>0.298</td>\n",
       "      <td>-0.940</td>\n",
       "      <td>1</td>\n",
       "      <td>0</td>\n",
       "      <td>0</td>\n",
       "      <td>0</td>\n",
       "      <td>1</td>\n",
       "      <td>0</td>\n",
       "      <td>0</td>\n",
       "      <td>0</td>\n",
       "      <td>0</td>\n",
       "      <td>1</td>\n",
       "      <td>0</td>\n",
       "      <td>0</td>\n",
       "      <td>0</td>\n",
       "      <td>1</td>\n",
       "      <td>0</td>\n",
       "      <td>1</td>\n",
       "      <td>0</td>\n",
       "      <td>0</td>\n",
       "      <td>0</td>\n",
       "      <td>0</td>\n",
       "      <td>1</td>\n",
       "      <td>0</td>\n",
       "      <td>0</td>\n",
       "      <td>0</td>\n",
       "      <td>0</td>\n",
       "      <td>0</td>\n",
       "      <td>0</td>\n",
       "      <td>0</td>\n",
       "      <td>1</td>\n",
       "      <td>0</td>\n",
       "      <td>1</td>\n",
       "      <td>0</td>\n",
       "      <td>0</td>\n",
       "      <td>0</td>\n",
       "      <td>1</td>\n",
       "      <td>0</td>\n",
       "      <td>0</td>\n",
       "      <td>0</td>\n",
       "      <td>0</td>\n",
       "      <td>0</td>\n",
       "      <td>1</td>\n",
       "      <td>0</td>\n",
       "      <td>0</td>\n",
       "      <td>0</td>\n",
       "      <td>0</td>\n",
       "      <td>0</td>\n",
       "      <td>0</td>\n",
       "      <td>1</td>\n",
       "      <td>0</td>\n",
       "      <td>0</td>\n",
       "      <td>0</td>\n",
       "      <td>0</td>\n",
       "      <td>0</td>\n",
       "      <td>0</td>\n",
       "      <td>0</td>\n",
       "      <td>0</td>\n",
       "      <td>1</td>\n",
       "      <td>0</td>\n",
       "      <td>0</td>\n",
       "      <td>0</td>\n",
       "      <td>0</td>\n",
       "      <td>0</td>\n",
       "      <td>0</td>\n",
       "      <td>1</td>\n",
       "      <td>0</td>\n",
       "      <td>0</td>\n",
       "      <td>0</td>\n",
       "      <td>0</td>\n",
       "      <td>1</td>\n",
       "      <td>0</td>\n",
       "      <td>0</td>\n",
       "      <td>0</td>\n",
       "      <td>0</td>\n",
       "      <td>1</td>\n",
       "      <td>0</td>\n",
       "      <td>0</td>\n",
       "      <td>0</td>\n",
       "      <td>0</td>\n",
       "    </tr>\n",
       "    <tr>\n",
       "      <th>4</th>\n",
       "      <td>-1.240</td>\n",
       "      <td>0.196</td>\n",
       "      <td>-0.940</td>\n",
       "      <td>1</td>\n",
       "      <td>-0.280</td>\n",
       "      <td>-1.182</td>\n",
       "      <td>2.634</td>\n",
       "      <td>0</td>\n",
       "      <td>0</td>\n",
       "      <td>0</td>\n",
       "      <td>1</td>\n",
       "      <td>0</td>\n",
       "      <td>0</td>\n",
       "      <td>1</td>\n",
       "      <td>0</td>\n",
       "      <td>0</td>\n",
       "      <td>0</td>\n",
       "      <td>0</td>\n",
       "      <td>0</td>\n",
       "      <td>0</td>\n",
       "      <td>0</td>\n",
       "      <td>0</td>\n",
       "      <td>0</td>\n",
       "      <td>0</td>\n",
       "      <td>0</td>\n",
       "      <td>0</td>\n",
       "      <td>0</td>\n",
       "      <td>0</td>\n",
       "      <td>0</td>\n",
       "      <td>1</td>\n",
       "      <td>0</td>\n",
       "      <td>1</td>\n",
       "      <td>0</td>\n",
       "      <td>0</td>\n",
       "      <td>1</td>\n",
       "      <td>0</td>\n",
       "      <td>0</td>\n",
       "      <td>0</td>\n",
       "      <td>0</td>\n",
       "      <td>0</td>\n",
       "      <td>0</td>\n",
       "      <td>0</td>\n",
       "      <td>0</td>\n",
       "      <td>0</td>\n",
       "      <td>0</td>\n",
       "      <td>1</td>\n",
       "      <td>0</td>\n",
       "      <td>0</td>\n",
       "      <td>0</td>\n",
       "      <td>0</td>\n",
       "      <td>0</td>\n",
       "      <td>0</td>\n",
       "      <td>0</td>\n",
       "      <td>0</td>\n",
       "      <td>0</td>\n",
       "      <td>0</td>\n",
       "      <td>1</td>\n",
       "      <td>0</td>\n",
       "      <td>0</td>\n",
       "      <td>0</td>\n",
       "      <td>1</td>\n",
       "      <td>0</td>\n",
       "      <td>0</td>\n",
       "      <td>0</td>\n",
       "      <td>0</td>\n",
       "      <td>1</td>\n",
       "      <td>0</td>\n",
       "      <td>0</td>\n",
       "      <td>0</td>\n",
       "      <td>0</td>\n",
       "      <td>0</td>\n",
       "      <td>0</td>\n",
       "      <td>0</td>\n",
       "      <td>0</td>\n",
       "      <td>1</td>\n",
       "      <td>0</td>\n",
       "      <td>0</td>\n",
       "      <td>0</td>\n",
       "      <td>1</td>\n",
       "      <td>0</td>\n",
       "      <td>0</td>\n",
       "      <td>0</td>\n",
       "      <td>0</td>\n",
       "      <td>0</td>\n",
       "      <td>0</td>\n",
       "    </tr>\n",
       "  </tbody>\n",
       "</table>\n",
       "</div>"
      ],
      "text/plain": [
       "   tenure  monthlycharges  totalcharges  churn  mean_monthly_fee  increase  charge_per_service  gender_Male  partner_Yes  dependents_Yes  phoneservice_Yes  multiplelines_No phone service  multiplelines_Yes  internetservice_Fiber optic  internetservice_No  onlinesecurity_No internet service  onlinesecurity_Yes  onlinebackup_No internet service  onlinebackup_Yes  deviceprotection_No internet service  deviceprotection_Yes  techsupport_No internet service  techsupport_Yes  \\\n",
       "0  -1.280          -1.162        -0.994      0            -1.447    -2.676              -0.313            0            1               0                 0                               1                  0                            0                   0                                   0                   0                                 0                 1                                     0                     0                                0                0   \n",
       "1   0.064          -0.261        -0.174      0            -0.167     0.348              -0.412            1            0               0                 1                               0                  0                            0                   0                                   0                   1                                 0                 0                                     0                     1                                0                0   \n",
       "2  -1.240          -0.364        -0.960      1            -0.755    -1.505              -0.523            1            0               0                 1                               0                  0                            0                   0                                   0                   1                                 0                 1                                     0                     0                                0                0   \n",
       "3   0.512          -0.748        -0.195      0            -0.625     0.298              -0.940            1            0               0                 0                               1                  0                            0                   0                                   0                   1                                 0                 0                                     0                     1                                0                1   \n",
       "4  -1.240           0.196        -0.940      1            -0.280    -1.182               2.634            0            0               0                 1                               0                  0                            1                   0                                   0                   0                                 0                 0                                     0                     0                                0                0   \n",
       "\n",
       "   streamingtv_No internet service  streamingtv_Yes  streamingmovies_No internet service  streamingmovies_Yes  contract_One year  contract_Two year  paperlessbilling_Yes  paymentmethod_Credit card (automatic)  paymentmethod_Electronic check  paymentmethod_Mailed check  gender_seniorcitizen_senior_male  gender_seniorcitizen_young_female  gender_seniorcitizen_young_male  gender_partner_female_yes  gender_partner_male_no  gender_partner_male_yes  new_tenure_year_1-2 year  \\\n",
       "0                                0                0                                    0                    0                  0                  0                     1                                      0                               1                           0                                 0                                  1                                0                          1                       0                        0                         0   \n",
       "1                                0                0                                    0                    0                  1                  0                     0                                      0                               0                           1                                 0                                  0                                1                          0                       1                        0                         0   \n",
       "2                                0                0                                    0                    0                  0                  0                     1                                      0                               0                           1                                 0                                  0                                1                          0                       1                        0                         0   \n",
       "3                                0                0                                    0                    0                  1                  0                     0                                      0                               0                           0                                 0                                  0                                1                          0                       1                        0                         0   \n",
       "4                                0                0                                    0                    0                  0                  0                     1                                      0                               1                           0                                 0                                  1                                0                          0                       0                        0                         0   \n",
       "\n",
       "   new_tenure_year_2-3 year  new_tenure_year_3-4 year  new_tenure_year_4-5 year  new_tenure_year_5-6 year  gender_payment_method_female_credit_card  gender_payment_method_female_electronic  gender_payment_method_female_mail  gender_payment_method_male_bank  gender_payment_method_male_credit_card  gender_payment_method_male_electronic  gender_payment_method_male_mail  seniorcitizen_payment_method_old_credit_card  seniorcitizen_payment_method_old_electronic  \\\n",
       "0                         0                         0                         0                         0                                         0                                        1                                  0                                0                                       0                                      0                                0                                             0                                            0   \n",
       "1                         1                         0                         0                         0                                         0                                        0                                  0                                0                                       0                                      0                                1                                             0                                            0   \n",
       "2                         0                         0                         0                         0                                         0                                        0                                  0                                0                                       0                                      0                                1                                             0                                            0   \n",
       "3                         0                         1                         0                         0                                         0                                        0                                  0                                1                                       0                                      0                                0                                             0                                            0   \n",
       "4                         0                         0                         0                         0                                         0                                        1                                  0                                0                                       0                                      0                                0                                             0                                            0   \n",
       "\n",
       "   seniorcitizen_payment_method_old_mail  seniorcitizen_payment_method_young_bank  seniorcitizen_payment_method_young_credit_card  seniorcitizen_payment_method_young_electronic  seniorcitizen_payment_method_young_mail  internetservice_paperlessbilling_dsl_yes  internetservice_paperlessbilling_fiber_no  internetservice_paperlessbilling_fiber_yes  internetservice_paperlessbilling_no_no  internetservice_paperlessbilling_no_yes  multiplelines_paperlessbilling_no_phone_no  \\\n",
       "0                                      0                                        0                                               0                                              1                                        0                                         1                                          0                                           0                                       0                                        0                                           0   \n",
       "1                                      0                                        0                                               0                                              0                                        1                                         0                                          0                                           0                                       0                                        0                                           0   \n",
       "2                                      0                                        0                                               0                                              0                                        1                                         1                                          0                                           0                                       0                                        0                                           0   \n",
       "3                                      0                                        1                                               0                                              0                                        0                                         0                                          0                                           0                                       0                                        0                                           1   \n",
       "4                                      0                                        0                                               0                                              1                                        0                                         0                                          0                                           1                                       0                                        0                                           0   \n",
       "\n",
       "   multiplelines_paperlessbilling_no_phone_yes  multiplelines_paperlessbilling_no_yes  multiplelines_paperlessbilling_yes_yes  gender_contract_female_one_year  gender_contract_female_two_year  gender_contract_male_month  gender_contract_male_one_year  gender_contract_male_two_year  seniorcitizen_contract_old_one_year  seniorcitizen_contract_old_two_year  seniorcitizen_contract_young_month  seniorcitizen_contract_young_one_year  seniorcitizen_contract_young_two_year  seniorcitizen_1  \\\n",
       "0                                            1                                      0                                       0                                0                                0                           0                              0                              0                                    0                                    0                                   1                                      0                                      0                0   \n",
       "1                                            0                                      0                                       0                                0                                0                           0                              1                              0                                    0                                    0                                   0                                      1                                      0                0   \n",
       "2                                            0                                      1                                       0                                0                                0                           1                              0                              0                                    0                                    0                                   1                                      0                                      0                0   \n",
       "3                                            0                                      0                                       0                                0                                0                           0                              1                              0                                    0                                    0                                   0                                      1                                      0                0   \n",
       "4                                            0                                      1                                       0                                0                                0                           0                              0                              0                                    0                                    0                                   1                                      0                                      0                0   \n",
       "\n",
       "   totalservices_1  totalservices_2  totalservices_3  totalservices_4  totalservices_5  totalservices_6  totalservices_7  \n",
       "0                1                0                0                0                0                0                0  \n",
       "1                0                0                1                0                0                0                0  \n",
       "2                0                0                1                0                0                0                0  \n",
       "3                0                0                1                0                0                0                0  \n",
       "4                1                0                0                0                0                0                0  "
      ]
     },
     "execution_count": 56,
     "metadata": {},
     "output_type": "execute_result"
    }
   ],
   "source": [
    "standard_scaler = StandardScaler()\n",
    "df_new = df_new.drop('customerid', axis=1)\n",
    "df_new[num_cols] = standard_scaler.fit_transform(df_new[num_cols])\n",
    "df_new.head()"
   ]
  },
  {
   "cell_type": "markdown",
   "id": "6e4cbd2d",
   "metadata": {
    "papermill": {
     "duration": 0.045913,
     "end_time": "2022-12-04T16:15:46.803483",
     "exception": false,
     "start_time": "2022-12-04T16:15:46.757570",
     "status": "completed"
    },
    "tags": []
   },
   "source": [
    "## Let's select the independent and dependent variables again"
   ]
  },
  {
   "cell_type": "code",
   "execution_count": 57,
   "id": "90652a54",
   "metadata": {
    "execution": {
     "iopub.execute_input": "2022-12-04T16:15:46.897785Z",
     "iopub.status.busy": "2022-12-04T16:15:46.897068Z",
     "iopub.status.idle": "2022-12-04T16:15:46.903336Z",
     "shell.execute_reply": "2022-12-04T16:15:46.902597Z"
    },
    "papermill": {
     "duration": 0.056026,
     "end_time": "2022-12-04T16:15:46.905410",
     "exception": false,
     "start_time": "2022-12-04T16:15:46.849384",
     "status": "completed"
    },
    "tags": []
   },
   "outputs": [],
   "source": [
    "X_new = df_new.drop('churn', axis=1)\n",
    "y_new = df_new['churn']"
   ]
  },
  {
   "cell_type": "markdown",
   "id": "f4123bc9",
   "metadata": {
    "papermill": {
     "duration": 0.045982,
     "end_time": "2022-12-04T16:15:46.997192",
     "exception": false,
     "start_time": "2022-12-04T16:15:46.951210",
     "status": "completed"
    },
    "tags": []
   },
   "source": [
    "## Let's predict whether a customer is churn or not after the feature engineering"
   ]
  },
  {
   "cell_type": "markdown",
   "id": "c305dae7",
   "metadata": {
    "papermill": {
     "duration": 0.044977,
     "end_time": "2022-12-04T16:15:47.087836",
     "exception": false,
     "start_time": "2022-12-04T16:15:47.042859",
     "status": "completed"
    },
    "tags": []
   },
   "source": [
    "### Let's call the models used again"
   ]
  },
  {
   "cell_type": "code",
   "execution_count": 58,
   "id": "9c6b6074",
   "metadata": {
    "execution": {
     "iopub.execute_input": "2022-12-04T16:15:47.181733Z",
     "iopub.status.busy": "2022-12-04T16:15:47.180800Z",
     "iopub.status.idle": "2022-12-04T16:15:47.188857Z",
     "shell.execute_reply": "2022-12-04T16:15:47.188047Z"
    },
    "papermill": {
     "duration": 0.057727,
     "end_time": "2022-12-04T16:15:47.191070",
     "exception": false,
     "start_time": "2022-12-04T16:15:47.133343",
     "status": "completed"
    },
    "tags": []
   },
   "outputs": [],
   "source": [
    "logistic_model = LogisticRegression()\n",
    "cat_boost_model = CatBoostClassifier(verbose=False)\n",
    "xgboost_model = XGBClassifier(use_label_encoder=False)\n",
    "gbm_model = GradientBoostingClassifier()\n",
    "lgbm_model = LGBMClassifier()\n",
    "rf_model = RandomForestClassifier()\n",
    "cart_model = DecisionTreeClassifier()"
   ]
  },
  {
   "cell_type": "markdown",
   "id": "df2593a5",
   "metadata": {
    "papermill": {
     "duration": 0.045696,
     "end_time": "2022-12-04T16:15:47.282791",
     "exception": false,
     "start_time": "2022-12-04T16:15:47.237095",
     "status": "completed"
    },
    "tags": []
   },
   "source": [
    "### Logistic regression model"
   ]
  },
  {
   "cell_type": "code",
   "execution_count": 59,
   "id": "3dfb34b6",
   "metadata": {
    "execution": {
     "iopub.execute_input": "2022-12-04T16:15:47.377912Z",
     "iopub.status.busy": "2022-12-04T16:15:47.377036Z",
     "iopub.status.idle": "2022-12-04T16:15:49.673027Z",
     "shell.execute_reply": "2022-12-04T16:15:49.671432Z"
    },
    "papermill": {
     "duration": 2.349093,
     "end_time": "2022-12-04T16:15:49.678096",
     "exception": false,
     "start_time": "2022-12-04T16:15:47.329003",
     "status": "completed"
    },
    "tags": []
   },
   "outputs": [
    {
     "name": "stdout",
     "output_type": "stream",
     "text": [
      "Accuracy: 0.8051756675934308\n",
      "F1 Score: 0.5950379470895799\n",
      "Recall: 0.5387758035765626\n",
      "Precision: 0.6660906058731937\n",
      "Roc Auc Score: 0.8494137417604641\n"
     ]
    }
   ],
   "source": [
    "# Logistic regression model\n",
    "cv_results_logistic = cross_validate(logistic_model, X_new, y_new, cv=10, scoring=['accuracy', 'f1', 'recall', 'precision', 'roc_auc'])\n",
    "print('Accuracy:', cv_results_logistic['test_accuracy'].mean())\n",
    "print('F1 Score:', cv_results_logistic['test_f1'].mean())\n",
    "print('Recall:', cv_results_logistic['test_recall'].mean())\n",
    "print('Precision:', cv_results_logistic['test_precision'].mean())\n",
    "print('Roc Auc Score:', cv_results_logistic['test_roc_auc'].mean())"
   ]
  },
  {
   "cell_type": "markdown",
   "id": "ef91d398",
   "metadata": {
    "papermill": {
     "duration": 0.048288,
     "end_time": "2022-12-04T16:15:49.839650",
     "exception": false,
     "start_time": "2022-12-04T16:15:49.791362",
     "status": "completed"
    },
    "tags": []
   },
   "source": [
    "### CatBoost model"
   ]
  },
  {
   "cell_type": "code",
   "execution_count": 60,
   "id": "2abde65d",
   "metadata": {
    "execution": {
     "iopub.execute_input": "2022-12-04T16:15:49.935261Z",
     "iopub.status.busy": "2022-12-04T16:15:49.934437Z",
     "iopub.status.idle": "2022-12-04T16:16:40.388372Z",
     "shell.execute_reply": "2022-12-04T16:16:40.387132Z"
    },
    "papermill": {
     "duration": 50.549974,
     "end_time": "2022-12-04T16:16:40.436372",
     "exception": false,
     "start_time": "2022-12-04T16:15:49.886398",
     "status": "completed"
    },
    "tags": []
   },
   "outputs": [
    {
     "name": "stdout",
     "output_type": "stream",
     "text": [
      "Accuracy: 0.799203090650459\n",
      "F1 Score: 0.5781135872512995\n",
      "Recall: 0.5173739290437582\n",
      "Precision: 0.6557799391281028\n",
      "Roc Auc Score: 0.8415892116330627\n"
     ]
    }
   ],
   "source": [
    "# CatBoost model\n",
    "cv_results_catboost = cross_validate(cat_boost_model, X_new, y_new, cv=10, scoring=['accuracy', 'f1', 'recall', 'precision', 'roc_auc'])\n",
    "print('Accuracy:', cv_results_catboost['test_accuracy'].mean())\n",
    "print('F1 Score:', cv_results_catboost['test_f1'].mean())\n",
    "print('Recall:', cv_results_catboost['test_recall'].mean())\n",
    "print('Precision:', cv_results_catboost['test_precision'].mean())\n",
    "print('Roc Auc Score:', cv_results_catboost['test_roc_auc'].mean())"
   ]
  },
  {
   "cell_type": "markdown",
   "id": "78450759",
   "metadata": {
    "papermill": {
     "duration": 0.047237,
     "end_time": "2022-12-04T16:16:40.529996",
     "exception": false,
     "start_time": "2022-12-04T16:16:40.482759",
     "status": "completed"
    },
    "tags": []
   },
   "source": [
    "### XGBoost model"
   ]
  },
  {
   "cell_type": "code",
   "execution_count": 61,
   "id": "3ab22533",
   "metadata": {
    "execution": {
     "iopub.execute_input": "2022-12-04T16:16:40.625339Z",
     "iopub.status.busy": "2022-12-04T16:16:40.624620Z",
     "iopub.status.idle": "2022-12-04T16:16:56.732875Z",
     "shell.execute_reply": "2022-12-04T16:16:56.731914Z"
    },
    "papermill": {
     "duration": 16.159085,
     "end_time": "2022-12-04T16:16:56.735691",
     "exception": false,
     "start_time": "2022-12-04T16:16:40.576606",
     "status": "completed"
    },
    "tags": []
   },
   "outputs": [
    {
     "name": "stdout",
     "output_type": "stream",
     "text": [
      "Accuracy: 0.784127885361438\n",
      "F1 Score: 0.5589343445501975\n",
      "Recall: 0.5147030073026277\n",
      "Precision: 0.6123287525737048\n",
      "Roc Auc Score: 0.8239913262767331\n"
     ]
    }
   ],
   "source": [
    "# XGBoost model\n",
    "cv_results_xgboost = cross_validate(xgboost_model, X_new, y_new, cv=10, scoring=['accuracy', 'f1', 'recall', 'precision', 'roc_auc'])\n",
    "print('Accuracy:', cv_results_xgboost['test_accuracy'].mean())\n",
    "print('F1 Score:', cv_results_xgboost['test_f1'].mean())\n",
    "print('Recall:', cv_results_xgboost['test_recall'].mean())\n",
    "print('Precision:', cv_results_xgboost['test_precision'].mean())\n",
    "print('Roc Auc Score:', cv_results_xgboost['test_roc_auc'].mean())"
   ]
  },
  {
   "cell_type": "markdown",
   "id": "397ef350",
   "metadata": {
    "papermill": {
     "duration": 0.046594,
     "end_time": "2022-12-04T16:16:56.830530",
     "exception": false,
     "start_time": "2022-12-04T16:16:56.783936",
     "status": "completed"
    },
    "tags": []
   },
   "source": [
    "### GBM model"
   ]
  },
  {
   "cell_type": "code",
   "execution_count": 62,
   "id": "abb907a5",
   "metadata": {
    "execution": {
     "iopub.execute_input": "2022-12-04T16:16:56.925946Z",
     "iopub.status.busy": "2022-12-04T16:16:56.925220Z",
     "iopub.status.idle": "2022-12-04T16:17:18.805896Z",
     "shell.execute_reply": "2022-12-04T16:17:18.804301Z"
    },
    "papermill": {
     "duration": 21.930641,
     "end_time": "2022-12-04T16:17:18.808371",
     "exception": false,
     "start_time": "2022-12-04T16:16:56.877730",
     "status": "completed"
    },
    "tags": []
   },
   "outputs": [
    {
     "name": "stdout",
     "output_type": "stream",
     "text": [
      "Accuracy: 0.7979238733350577\n",
      "F1 Score: 0.5715915284560087\n",
      "Recall: 0.5072221263872118\n",
      "Precision: 0.6557421447690258\n",
      "Roc Auc Score: 0.8441593509691669\n"
     ]
    }
   ],
   "source": [
    "# GBM model\n",
    "cv_results_gbm = cross_validate(gbm_model, X_new, y_new, cv=10, scoring=['accuracy', 'f1', 'recall', 'precision', 'roc_auc'])\n",
    "print('Accuracy:', cv_results_gbm['test_accuracy'].mean())\n",
    "print('F1 Score:', cv_results_gbm['test_f1'].mean())\n",
    "print('Recall:', cv_results_gbm['test_recall'].mean())\n",
    "print('Precision:', cv_results_gbm['test_precision'].mean())\n",
    "print('Roc Auc Score:', cv_results_gbm['test_roc_auc'].mean())"
   ]
  },
  {
   "cell_type": "markdown",
   "id": "458a37e2",
   "metadata": {
    "papermill": {
     "duration": 0.045762,
     "end_time": "2022-12-04T16:17:18.900790",
     "exception": false,
     "start_time": "2022-12-04T16:17:18.855028",
     "status": "completed"
    },
    "tags": []
   },
   "source": [
    "### LGBM model"
   ]
  },
  {
   "cell_type": "code",
   "execution_count": 63,
   "id": "99a90eca",
   "metadata": {
    "execution": {
     "iopub.execute_input": "2022-12-04T16:17:18.994528Z",
     "iopub.status.busy": "2022-12-04T16:17:18.994136Z",
     "iopub.status.idle": "2022-12-04T16:17:21.353952Z",
     "shell.execute_reply": "2022-12-04T16:17:21.352613Z"
    },
    "papermill": {
     "duration": 2.411189,
     "end_time": "2022-12-04T16:17:21.358004",
     "exception": false,
     "start_time": "2022-12-04T16:17:18.946815",
     "status": "completed"
    },
    "tags": []
   },
   "outputs": [
    {
     "name": "stdout",
     "output_type": "stream",
     "text": [
      "Accuracy: 0.7935162210655632\n",
      "F1 Score: 0.5709657877986245\n",
      "Recall: 0.5173739290437582\n",
      "Precision: 0.6377371745224897\n",
      "Roc Auc Score: 0.8344035995229012\n"
     ]
    }
   ],
   "source": [
    "# LGBM model\n",
    "cv_results_lgbm = cross_validate(lgbm_model, X_new, y_new, cv=10, scoring=['accuracy', 'f1', 'recall', 'precision', 'roc_auc'])\n",
    "print('Accuracy:', cv_results_lgbm['test_accuracy'].mean())\n",
    "print('F1 Score:', cv_results_lgbm['test_f1'].mean())\n",
    "print('Recall:', cv_results_lgbm['test_recall'].mean())\n",
    "print('Precision:', cv_results_lgbm['test_precision'].mean())\n",
    "print('Roc Auc Score:', cv_results_lgbm['test_roc_auc'].mean())"
   ]
  },
  {
   "cell_type": "markdown",
   "id": "ca81206c",
   "metadata": {
    "papermill": {
     "duration": 0.045745,
     "end_time": "2022-12-04T16:17:21.451931",
     "exception": false,
     "start_time": "2022-12-04T16:17:21.406186",
     "status": "completed"
    },
    "tags": []
   },
   "source": [
    "### Random forest model"
   ]
  },
  {
   "cell_type": "code",
   "execution_count": 64,
   "id": "cf45c42c",
   "metadata": {
    "execution": {
     "iopub.execute_input": "2022-12-04T16:17:21.546005Z",
     "iopub.status.busy": "2022-12-04T16:17:21.545579Z",
     "iopub.status.idle": "2022-12-04T16:17:33.091193Z",
     "shell.execute_reply": "2022-12-04T16:17:33.089602Z"
    },
    "papermill": {
     "duration": 11.596108,
     "end_time": "2022-12-04T16:17:33.094000",
     "exception": false,
     "start_time": "2022-12-04T16:17:21.497892",
     "status": "completed"
    },
    "tags": []
   },
   "outputs": [
    {
     "name": "stdout",
     "output_type": "stream",
     "text": [
      "Accuracy: 0.7903827347083926\n",
      "F1 Score: 0.5554438184782537\n",
      "Recall: 0.4932925076188833\n",
      "Precision: 0.6365203522388524\n",
      "Roc Auc Score: 0.8239801813668282\n"
     ]
    }
   ],
   "source": [
    "# Random forest model\n",
    "cv_results_rf = cross_validate(rf_model, X_new, y_new, cv=10, scoring=['accuracy', 'f1', 'recall', 'precision', 'roc_auc'])\n",
    "print('Accuracy:', cv_results_rf['test_accuracy'].mean())\n",
    "print('F1 Score:', cv_results_rf['test_f1'].mean())\n",
    "print('Recall:', cv_results_rf['test_recall'].mean())\n",
    "print('Precision:', cv_results_rf['test_precision'].mean())\n",
    "print('Roc Auc Score:', cv_results_rf['test_roc_auc'].mean())"
   ]
  },
  {
   "cell_type": "markdown",
   "id": "605b45d4",
   "metadata": {
    "papermill": {
     "duration": 0.045839,
     "end_time": "2022-12-04T16:17:33.186450",
     "exception": false,
     "start_time": "2022-12-04T16:17:33.140611",
     "status": "completed"
    },
    "tags": []
   },
   "source": [
    "### Decision tree model"
   ]
  },
  {
   "cell_type": "code",
   "execution_count": 65,
   "id": "b1a04077",
   "metadata": {
    "execution": {
     "iopub.execute_input": "2022-12-04T16:17:33.280334Z",
     "iopub.status.busy": "2022-12-04T16:17:33.279471Z",
     "iopub.status.idle": "2022-12-04T16:17:34.413202Z",
     "shell.execute_reply": "2022-12-04T16:17:34.411487Z"
    },
    "papermill": {
     "duration": 1.184423,
     "end_time": "2022-12-04T16:17:34.416566",
     "exception": false,
     "start_time": "2022-12-04T16:17:33.232143",
     "status": "completed"
    },
    "tags": []
   },
   "outputs": [
    {
     "name": "stdout",
     "output_type": "stream",
     "text": [
      "Accuracy: 0.723972544613992\n",
      "F1 Score: 0.4849780628803774\n",
      "Recall: 0.49008970156977744\n",
      "Precision: 0.4811037359683212\n",
      "Roc Auc Score: 0.6511303942631983\n"
     ]
    }
   ],
   "source": [
    "# Decision tree model\n",
    "cv_results_cart = cross_validate(cart_model, X_new, y_new, cv=10, scoring=['accuracy', 'f1', 'recall', 'precision', 'roc_auc'])\n",
    "print('Accuracy:', cv_results_cart['test_accuracy'].mean())\n",
    "print('F1 Score:', cv_results_cart['test_f1'].mean())\n",
    "print('Recall:', cv_results_cart['test_recall'].mean())\n",
    "print('Precision:', cv_results_cart['test_precision'].mean())\n",
    "print('Roc Auc Score:', cv_results_cart['test_roc_auc'].mean())"
   ]
  },
  {
   "cell_type": "markdown",
   "id": "6e550e36",
   "metadata": {
    "papermill": {
     "duration": 0.046486,
     "end_time": "2022-12-04T16:17:34.520168",
     "exception": false,
     "start_time": "2022-12-04T16:17:34.473682",
     "status": "completed"
    },
    "tags": []
   },
   "source": [
    "### After feature engineering, we can select the CatBoost model as the best"
   ]
  },
  {
   "cell_type": "markdown",
   "id": "5ef09875",
   "metadata": {
    "papermill": {
     "duration": 0.052187,
     "end_time": "2022-12-04T16:17:34.619528",
     "exception": false,
     "start_time": "2022-12-04T16:17:34.567341",
     "status": "completed"
    },
    "tags": []
   },
   "source": [
    "# Hyperparameter optimization"
   ]
  },
  {
   "cell_type": "markdown",
   "id": "e0888401",
   "metadata": {
    "papermill": {
     "duration": 0.046803,
     "end_time": "2022-12-04T16:17:34.713717",
     "exception": false,
     "start_time": "2022-12-04T16:17:34.666914",
     "status": "completed"
    },
    "tags": []
   },
   "source": [
    "### Let's select the catboost hyperparameters"
   ]
  },
  {
   "cell_type": "code",
   "execution_count": 66,
   "id": "9e9f44a1",
   "metadata": {
    "execution": {
     "iopub.execute_input": "2022-12-04T16:17:34.812992Z",
     "iopub.status.busy": "2022-12-04T16:17:34.812621Z",
     "iopub.status.idle": "2022-12-04T16:17:34.818131Z",
     "shell.execute_reply": "2022-12-04T16:17:34.816709Z"
    },
    "papermill": {
     "duration": 0.056333,
     "end_time": "2022-12-04T16:17:34.820660",
     "exception": false,
     "start_time": "2022-12-04T16:17:34.764327",
     "status": "completed"
    },
    "tags": []
   },
   "outputs": [],
   "source": [
    "catboost_params = {\n",
    "    'iterations': [200, 500, 800],\n",
    "    'learning_rate': [0.01, 0.05, 0.1],\n",
    "    'depth': [3, 6, 9]\n",
    "}"
   ]
  },
  {
   "cell_type": "markdown",
   "id": "39ff0619",
   "metadata": {
    "papermill": {
     "duration": 0.046464,
     "end_time": "2022-12-04T16:17:34.914215",
     "exception": false,
     "start_time": "2022-12-04T16:17:34.867751",
     "status": "completed"
    },
    "tags": []
   },
   "source": [
    "### Let's operate the GridSearchCV method to find the best hyperparameters"
   ]
  },
  {
   "cell_type": "code",
   "execution_count": 67,
   "id": "a878a264",
   "metadata": {
    "execution": {
     "iopub.execute_input": "2022-12-04T16:17:35.010876Z",
     "iopub.status.busy": "2022-12-04T16:17:35.010090Z",
     "iopub.status.idle": "2022-12-04T16:39:19.823771Z",
     "shell.execute_reply": "2022-12-04T16:39:19.822436Z"
    },
    "papermill": {
     "duration": 1304.910206,
     "end_time": "2022-12-04T16:39:19.871970",
     "exception": false,
     "start_time": "2022-12-04T16:17:34.961764",
     "status": "completed"
    },
    "tags": []
   },
   "outputs": [
    {
     "name": "stdout",
     "output_type": "stream",
     "text": [
      "Fitting 10 folds for each of 27 candidates, totalling 270 fits\n"
     ]
    },
    {
     "data": {
      "text/plain": [
       "{'depth': 6, 'iterations': 500, 'learning_rate': 0.01}"
      ]
     },
     "execution_count": 67,
     "metadata": {},
     "output_type": "execute_result"
    }
   ],
   "source": [
    "catboost_best_grid = GridSearchCV(cat_boost_model, catboost_params, cv=10, n_jobs = -1, verbose=True).fit(X_new, y_new)\n",
    "catboost_best_grid.best_params_"
   ]
  },
  {
   "cell_type": "markdown",
   "id": "3ed22f72",
   "metadata": {
    "papermill": {
     "duration": 0.04676,
     "end_time": "2022-12-04T16:39:19.966187",
     "exception": false,
     "start_time": "2022-12-04T16:39:19.919427",
     "status": "completed"
    },
    "tags": []
   },
   "source": [
    "### CatBoost final model"
   ]
  },
  {
   "cell_type": "code",
   "execution_count": 68,
   "id": "1cfe76ce",
   "metadata": {
    "execution": {
     "iopub.execute_input": "2022-12-04T16:39:20.063151Z",
     "iopub.status.busy": "2022-12-04T16:39:20.062431Z",
     "iopub.status.idle": "2022-12-04T16:39:22.737335Z",
     "shell.execute_reply": "2022-12-04T16:39:22.736388Z"
    },
    "papermill": {
     "duration": 2.726732,
     "end_time": "2022-12-04T16:39:22.739937",
     "exception": false,
     "start_time": "2022-12-04T16:39:20.013205",
     "status": "completed"
    },
    "tags": []
   },
   "outputs": [],
   "source": [
    "catboost_final = cat_boost_model.set_params(**catboost_best_grid.best_params_).fit(X_new, y_new)"
   ]
  },
  {
   "cell_type": "markdown",
   "id": "5140da7c",
   "metadata": {
    "papermill": {
     "duration": 0.047095,
     "end_time": "2022-12-04T16:39:22.834181",
     "exception": false,
     "start_time": "2022-12-04T16:39:22.787086",
     "status": "completed"
    },
    "tags": []
   },
   "source": [
    "### CatBoost final model errors"
   ]
  },
  {
   "cell_type": "code",
   "execution_count": 69,
   "id": "b6bc485f",
   "metadata": {
    "execution": {
     "iopub.execute_input": "2022-12-04T16:39:22.930527Z",
     "iopub.status.busy": "2022-12-04T16:39:22.929290Z",
     "iopub.status.idle": "2022-12-04T16:39:49.143590Z",
     "shell.execute_reply": "2022-12-04T16:39:49.142123Z"
    },
    "papermill": {
     "duration": 26.264872,
     "end_time": "2022-12-04T16:39:49.146306",
     "exception": false,
     "start_time": "2022-12-04T16:39:22.881434",
     "status": "completed"
    },
    "tags": []
   },
   "outputs": [
    {
     "name": "stdout",
     "output_type": "stream",
     "text": [
      "Accuracy: 0.8047469045001939\n",
      "F1 Score: 0.5838723377027156\n",
      "Recall: 0.5157725260192053\n",
      "Precision: 0.6742619905806482\n",
      "Roc Auc Score: 0.8471028598050847\n"
     ]
    }
   ],
   "source": [
    "# CatBoost model\n",
    "cv_results = cross_validate(catboost_final, X_new, y_new, cv=10, scoring=['accuracy', 'f1', 'recall', 'precision', 'roc_auc'])\n",
    "print('Accuracy:', cv_results['test_accuracy'].mean())\n",
    "print('F1 Score:', cv_results['test_f1'].mean())\n",
    "print('Recall:', cv_results['test_recall'].mean())\n",
    "print('Precision:', cv_results['test_precision'].mean())\n",
    "print('Roc Auc Score:', cv_results['test_roc_auc'].mean())"
   ]
  },
  {
   "cell_type": "markdown",
   "id": "2df17f97",
   "metadata": {
    "papermill": {
     "duration": 0.045859,
     "end_time": "2022-12-04T16:39:49.238611",
     "exception": false,
     "start_time": "2022-12-04T16:39:49.192752",
     "status": "completed"
    },
    "tags": []
   },
   "source": [
    "### Let's check the feature importance of the catboost final model"
   ]
  },
  {
   "cell_type": "code",
   "execution_count": 70,
   "id": "23c87a00",
   "metadata": {
    "execution": {
     "iopub.execute_input": "2022-12-04T16:39:49.332824Z",
     "iopub.status.busy": "2022-12-04T16:39:49.332376Z",
     "iopub.status.idle": "2022-12-04T16:39:51.726917Z",
     "shell.execute_reply": "2022-12-04T16:39:51.725783Z"
    },
    "papermill": {
     "duration": 2.44673,
     "end_time": "2022-12-04T16:39:51.731719",
     "exception": false,
     "start_time": "2022-12-04T16:39:49.284989",
     "status": "completed"
    },
    "tags": []
   },
   "outputs": [
    {
     "data": {
      "image/png": "[encoded data removed]",
      "text/plain": [
       "<Figure size 1296x1296 with 1 Axes>"
      ]
     },
     "metadata": {},
     "output_type": "display_data"
    }
   ],
   "source": [
    "def plot_importance(model, features, num=len(X), save=False):\n",
    "    feature_imp = pd.DataFrame({'Value': model.feature_importances_, 'Feature': features.columns})\n",
    "    plt.figure(figsize=(18, 18))\n",
    "    sns.set(font_scale=1)\n",
    "    sns.barplot(x=\"Value\", y=\"Feature\", data=feature_imp.sort_values(by=\"Value\", ascending=False)[0:num])\n",
    "    plt.title('Features')\n",
    "    plt.tight_layout()\n",
    "    plt.show()\n",
    "    if save:\n",
    "        plt.savefig('importances.png')\n",
    "\n",
    "plot_importance(catboost_final, X_new)"
   ]
  },
  {
   "cell_type": "markdown",
   "id": "a02666f4",
   "metadata": {
    "papermill": {
     "duration": 0.05217,
     "end_time": "2022-12-04T16:39:51.835847",
     "exception": false,
     "start_time": "2022-12-04T16:39:51.783677",
     "status": "completed"
    },
    "tags": []
   },
   "source": [
    "### As a conclusion, after the hyperparameter optimization, some of the feature extracted played a criticial role to predict the customer churn using CatBoost model."
   ]
  },
  {
   "cell_type": "markdown",
   "id": "f5d6057c",
   "metadata": {
    "papermill": {
     "duration": 0.051506,
     "end_time": "2022-12-04T16:39:51.940113",
     "exception": false,
     "start_time": "2022-12-04T16:39:51.888607",
     "status": "completed"
    },
    "tags": []
   },
   "source": [
    "### On the other hand, Lazy Predict helps to build many basic models without using a lot of code and helps to understand which models work better without any parameter adjustments. Let's write some code and predict customer churn fastly. "
   ]
  },
  {
   "cell_type": "markdown",
   "id": "f8ffa7dd",
   "metadata": {
    "papermill": {
     "duration": 0.050375,
     "end_time": "2022-12-04T16:39:52.041392",
     "exception": false,
     "start_time": "2022-12-04T16:39:51.991017",
     "status": "completed"
    },
    "tags": []
   },
   "source": [
    "### Let's install the lazypredict module"
   ]
  },
  {
   "cell_type": "code",
   "execution_count": 71,
   "id": "f542e13e",
   "metadata": {
    "execution": {
     "iopub.execute_input": "2022-12-04T16:39:52.144965Z",
     "iopub.status.busy": "2022-12-04T16:39:52.143742Z",
     "iopub.status.idle": "2022-12-04T16:40:05.617032Z",
     "shell.execute_reply": "2022-12-04T16:40:05.615475Z"
    },
    "papermill": {
     "duration": 13.528514,
     "end_time": "2022-12-04T16:40:05.619984",
     "exception": false,
     "start_time": "2022-12-04T16:39:52.091470",
     "status": "completed"
    },
    "tags": []
   },
   "outputs": [
    {
     "name": "stdout",
     "output_type": "stream",
     "text": [
      "Collecting lazypredict\r\n",
      "  Downloading lazypredict-0.2.12-py2.py3-none-any.whl (12 kB)\r\n",
      "Requirement already satisfied: lightgbm in /opt/conda/lib/python3.7/site-packages (from lazypredict) (3.3.2)\r\n",
      "Requirement already satisfied: tqdm in /opt/conda/lib/python3.7/site-packages (from lazypredict) (4.64.0)\r\n",
      "Requirement already satisfied: joblib in /opt/conda/lib/python3.7/site-packages (from lazypredict) (1.0.1)\r\n",
      "Requirement already satisfied: click in /opt/conda/lib/python3.7/site-packages (from lazypredict) (8.0.4)\r\n",
      "Requirement already satisfied: scikit-learn in /opt/conda/lib/python3.7/site-packages (from lazypredict) (1.0.2)\r\n",
      "Requirement already satisfied: pandas in /opt/conda/lib/python3.7/site-packages (from lazypredict) (1.3.5)\r\n",
      "Requirement already satisfied: xgboost in /opt/conda/lib/python3.7/site-packages (from lazypredict) (1.6.2)\r\n",
      "Requirement already satisfied: importlib-metadata in /opt/conda/lib/python3.7/site-packages (from click->lazypredict) (4.13.0)\r\n",
      "Requirement already satisfied: scipy in /opt/conda/lib/python3.7/site-packages (from lightgbm->lazypredict) (1.7.3)\r\n",
      "Requirement already satisfied: numpy in /opt/conda/lib/python3.7/site-packages (from lightgbm->lazypredict) (1.21.6)\r\n",
      "Requirement already satisfied: wheel in /opt/conda/lib/python3.7/site-packages (from lightgbm->lazypredict) (0.37.1)\r\n",
      "Requirement already satisfied: threadpoolctl>=2.0.0 in /opt/conda/lib/python3.7/site-packages (from scikit-learn->lazypredict) (3.1.0)\r\n",
      "Requirement already satisfied: python-dateutil>=2.7.3 in /opt/conda/lib/python3.7/site-packages (from pandas->lazypredict) (2.8.2)\r\n",
      "Requirement already satisfied: pytz>=2017.3 in /opt/conda/lib/python3.7/site-packages (from pandas->lazypredict) (2022.1)\r\n",
      "Requirement already satisfied: six>=1.5 in /opt/conda/lib/python3.7/site-packages (from python-dateutil>=2.7.3->pandas->lazypredict) (1.15.0)\r\n",
      "Requirement already satisfied: zipp>=0.5 in /opt/conda/lib/python3.7/site-packages (from importlib-metadata->click->lazypredict) (3.8.0)\r\n",
      "Requirement already satisfied: typing-extensions>=3.6.4 in /opt/conda/lib/python3.7/site-packages (from importlib-metadata->click->lazypredict) (4.4.0)\r\n",
      "Installing collected packages: lazypredict\r\n",
      "Successfully installed lazypredict-0.2.12\r\n",
      "\u001b[33mWARNING: Running pip as the 'root' user can result in broken permissions and conflicting behaviour with the system package manager. It is recommended to use a virtual environment instead: https://pip.pypa.io/warnings/venv\u001b[0m\u001b[33m\r\n",
      "\u001b[0m"
     ]
    }
   ],
   "source": [
    "!pip install lazypredict"
   ]
  },
  {
   "cell_type": "code",
   "execution_count": 72,
   "id": "96f80b44",
   "metadata": {
    "execution": {
     "iopub.execute_input": "2022-12-04T16:40:05.726117Z",
     "iopub.status.busy": "2022-12-04T16:40:05.725673Z",
     "iopub.status.idle": "2022-12-04T16:40:06.395057Z",
     "shell.execute_reply": "2022-12-04T16:40:06.393926Z"
    },
    "papermill": {
     "duration": 0.725616,
     "end_time": "2022-12-04T16:40:06.397904",
     "exception": false,
     "start_time": "2022-12-04T16:40:05.672288",
     "status": "completed"
    },
    "tags": []
   },
   "outputs": [],
   "source": [
    "from lazypredict.Supervised import LazyClassifier"
   ]
  },
  {
   "cell_type": "code",
   "execution_count": 73,
   "id": "2bdbd080",
   "metadata": {
    "execution": {
     "iopub.execute_input": "2022-12-04T16:40:06.502065Z",
     "iopub.status.busy": "2022-12-04T16:40:06.501690Z",
     "iopub.status.idle": "2022-12-04T16:40:28.537480Z",
     "shell.execute_reply": "2022-12-04T16:40:28.534808Z"
    },
    "papermill": {
     "duration": 22.091461,
     "end_time": "2022-12-04T16:40:28.540739",
     "exception": false,
     "start_time": "2022-12-04T16:40:06.449278",
     "status": "completed"
    },
    "tags": []
   },
   "outputs": [
    {
     "name": "stderr",
     "output_type": "stream",
     "text": [
      "100%|██████████| 29/29 [00:22<00:00,  1.32it/s]"
     ]
    },
    {
     "name": "stdout",
     "output_type": "stream",
     "text": [
      "                               Accuracy  Balanced Accuracy  ROC AUC  F1 Score  Time Taken\n",
      "Model                                                                                    \n",
      "BernoulliNB                        0.75               0.77     0.77      0.76        0.06\n",
      "NearestCentroid                    0.73               0.77     0.77      0.75        0.07\n",
      "GaussianNB                         0.70               0.76     0.76      0.72        0.04\n",
      "LinearDiscriminantAnalysis         0.81               0.74     0.74      0.81        0.21\n",
      "Perceptron                         0.77               0.73     0.73      0.77        0.09\n",
      "LogisticRegression                 0.81               0.73     0.73      0.80        0.23\n",
      "LinearSVC                          0.81               0.72     0.72      0.80        1.85\n",
      "CalibratedClassifierCV             0.81               0.72     0.72      0.80        6.60\n",
      "AdaBoostClassifier                 0.80               0.72     0.72      0.79        0.61\n",
      "RidgeClassifier                    0.81               0.72     0.72      0.80        0.06\n",
      "RidgeClassifierCV                  0.81               0.71     0.71      0.80        0.12\n",
      "SVC                                0.81               0.71     0.71      0.80        2.00\n",
      "LGBMClassifier                     0.79               0.71     0.71      0.79        0.27\n",
      "RandomForestClassifier             0.79               0.70     0.70      0.78        1.00\n",
      "SGDClassifier                      0.78               0.70     0.70      0.78        0.31\n",
      "XGBClassifier                      0.78               0.70     0.70      0.77        1.42\n",
      "ExtraTreesClassifier               0.78               0.69     0.69      0.77        0.99\n",
      "KNeighborsClassifier               0.76               0.69     0.69      0.76        0.40\n",
      "PassiveAggressiveClassifier        0.72               0.68     0.68      0.73        0.06\n",
      "BaggingClassifier                  0.78               0.68     0.68      0.77        0.49\n",
      "LabelPropagation                   0.73               0.67     0.67      0.73        1.08\n",
      "LabelSpreading                     0.73               0.67     0.67      0.73        1.49\n",
      "NuSVC                              0.80               0.66     0.66      0.77        2.16\n",
      "QuadraticDiscriminantAnalysis      0.68               0.66     0.66      0.70        0.12\n",
      "DecisionTreeClassifier             0.71               0.66     0.66      0.72        0.13\n",
      "ExtraTreeClassifier                0.72               0.65     0.65      0.72        0.04\n",
      "DummyClassifier                    0.74               0.50     0.50      0.62        0.03\n"
     ]
    },
    {
     "name": "stderr",
     "output_type": "stream",
     "text": [
      "\n"
     ]
    }
   ],
   "source": [
    "X_new_train, y_new_train, X_new_test, y_new_test = train_test_split(X_new, y_new, test_size=0.30, random_state=19)\n",
    "clf = LazyClassifier(verbose=0, ignore_warnings=True, custom_metric=None)\n",
    "models, predictions = clf.fit(X_new_train, y_new_train, X_new_test, y_new_test)\n",
    "print(models)"
   ]
  },
  {
   "cell_type": "markdown",
   "id": "f6bc1622",
   "metadata": {
    "papermill": {
     "duration": 0.052673,
     "end_time": "2022-12-04T16:40:28.646658",
     "exception": false,
     "start_time": "2022-12-04T16:40:28.593985",
     "status": "completed"
    },
    "tags": []
   },
   "source": [
    "# **Thank you for checking my notebook!**"
   ]
  }
 ],
 "metadata": {
  "kernelspec": {
   "display_name": "Python 3",
   "language": "python",
   "name": "python3"
  },
  "language_info": {
   "codemirror_mode": {
    "name": "ipython",
    "version": 3
   },
   "file_extension": ".py",
   "mimetype": "text/x-python",
   "name": "python",
   "nbconvert_exporter": "python",
   "pygments_lexer": "ipython3",
   "version": "3.7.12"
  },
  "papermill": {
   "default_parameters": {},
   "duration": 1595.683555,
   "end_time": "2022-12-04T16:40:31.325087",
   "environment_variables": {},
   "exception": null,
   "input_path": "__notebook__.ipynb",
   "output_path": "__notebook__.ipynb",
   "parameters": {},
   "start_time": "2022-12-04T16:13:55.641532",
   "version": "2.3.4"
  }
 },
 "nbformat": 4,
 "nbformat_minor": 5
}
