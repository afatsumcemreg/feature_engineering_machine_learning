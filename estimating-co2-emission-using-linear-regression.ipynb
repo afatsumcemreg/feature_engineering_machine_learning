{
 "cells": [
  {
   "cell_type": "markdown",
   "id": "96732928",
   "metadata": {
    "papermill": {
     "duration": 0.016992,
     "end_time": "2022-12-05T01:05:52.646321",
     "exception": false,
     "start_time": "2022-12-05T01:05:52.629329",
     "status": "completed"
    },
    "tags": []
   },
   "source": [
    "# **Estimating CO2 Emissions using Linear Regression and Lazy Regression** "
   ]
  },
  {
   "cell_type": "markdown",
   "id": "f667c5fd",
   "metadata": {
    "papermill": {
     "duration": 0.015038,
     "end_time": "2022-12-05T01:05:52.676847",
     "exception": false,
     "start_time": "2022-12-05T01:05:52.661809",
     "status": "completed"
    },
    "tags": []
   },
   "source": [
    "# Variables\n",
    "\n",
    "*   **MODELYEAR** e.g. 2014\n",
    "*   **MAKE** e.g. Acura\n",
    "*   **MODEL** e.g. ILX\n",
    "*   **VEHICLE CLASS** e.g. SUV\n",
    "*   **ENGINE SIZE** e.g. 4.7\n",
    "*   **CYLINDERS** e.g 6\n",
    "*   **TRANSMISSION** e.g. A6\n",
    "*   **FUEL CONSUMPTION in CITY(L/100 km)** e.g. 9.9\n",
    "*   **FUEL CONSUMPTION in HWY (L/100 km)** e.g. 8.9\n",
    "*   **FUEL CONSUMPTION COMB (L/100 km)** e.g. 9.2\n",
    "*   **CO2 EMISSIONS (g/km)** e.g. 182   --> low --> 0\n"
   ]
  },
  {
   "cell_type": "markdown",
   "id": "9f3dffd3",
   "metadata": {
    "papermill": {
     "duration": 0.014956,
     "end_time": "2022-12-05T01:05:52.707190",
     "exception": false,
     "start_time": "2022-12-05T01:05:52.692234",
     "status": "completed"
    },
    "tags": []
   },
   "source": [
    "# Importing the libraries"
   ]
  },
  {
   "cell_type": "code",
   "execution_count": 1,
   "id": "a0b7599b",
   "metadata": {
    "_cell_guid": "b1076dfc-b9ad-4769-8c92-a6c4dae69d19",
    "_uuid": "8f2839f25d086af736a60e9eeb907d3b93b6e0e5",
    "execution": {
     "iopub.execute_input": "2022-12-05T01:05:52.740449Z",
     "iopub.status.busy": "2022-12-05T01:05:52.739613Z",
     "iopub.status.idle": "2022-12-05T01:05:54.079632Z",
     "shell.execute_reply": "2022-12-05T01:05:54.077829Z"
    },
    "papermill": {
     "duration": 1.362641,
     "end_time": "2022-12-05T01:05:54.085260",
     "exception": false,
     "start_time": "2022-12-05T01:05:52.722619",
     "status": "completed"
    },
    "tags": []
   },
   "outputs": [],
   "source": [
    "import matplotlib.pyplot as plt\n",
    "import pandas as pd\n",
    "import pylab as pl\n",
    "import numpy as np\n",
    "import seaborn as sns\n",
    "%matplotlib inline\n",
    "import warnings\n",
    "warnings.filterwarnings('ignore')\n",
    "from sklearn.linear_model import LinearRegression\n",
    "from sklearn.metrics import mean_squared_error, mean_absolute_error, r2_score\n",
    "from sklearn.model_selection import train_test_split, cross_val_score\n",
    "from sklearn.preprocessing import RobustScaler\n",
    "\n",
    "pd.set_option('display.max_columns', None)\n",
    "pd.set_option('display.width', 500)"
   ]
  },
  {
   "cell_type": "code",
   "execution_count": 2,
   "id": "151233e9",
   "metadata": {
    "execution": {
     "iopub.execute_input": "2022-12-05T01:05:54.123662Z",
     "iopub.status.busy": "2022-12-05T01:05:54.122617Z",
     "iopub.status.idle": "2022-12-05T01:05:54.199538Z",
     "shell.execute_reply": "2022-12-05T01:05:54.197914Z"
    },
    "papermill": {
     "duration": 0.100712,
     "end_time": "2022-12-05T01:05:54.202715",
     "exception": false,
     "start_time": "2022-12-05T01:05:54.102003",
     "status": "completed"
    },
    "tags": []
   },
   "outputs": [
    {
     "data": {
      "text/html": [
       "<div>\n",
       "<style scoped>\n",
       "    .dataframe tbody tr th:only-of-type {\n",
       "        vertical-align: middle;\n",
       "    }\n",
       "\n",
       "    .dataframe tbody tr th {\n",
       "        vertical-align: top;\n",
       "    }\n",
       "\n",
       "    .dataframe thead th {\n",
       "        text-align: right;\n",
       "    }\n",
       "</style>\n",
       "<table border=\"1\" class=\"dataframe\">\n",
       "  <thead>\n",
       "    <tr style=\"text-align: right;\">\n",
       "      <th></th>\n",
       "      <th>modelyear</th>\n",
       "      <th>make</th>\n",
       "      <th>model</th>\n",
       "      <th>vehicleclass</th>\n",
       "      <th>enginesize</th>\n",
       "      <th>cylinders</th>\n",
       "      <th>transmission</th>\n",
       "      <th>fueltype</th>\n",
       "      <th>fuelconsumption_city</th>\n",
       "      <th>fuelconsumption_hwy</th>\n",
       "      <th>fuelconsumption_comb</th>\n",
       "      <th>fuelconsumption_comb_mpg</th>\n",
       "      <th>co2emissions</th>\n",
       "    </tr>\n",
       "  </thead>\n",
       "  <tbody>\n",
       "    <tr>\n",
       "      <th>0</th>\n",
       "      <td>2014</td>\n",
       "      <td>ACURA</td>\n",
       "      <td>ILX</td>\n",
       "      <td>COMPACT</td>\n",
       "      <td>2.0</td>\n",
       "      <td>4</td>\n",
       "      <td>AS5</td>\n",
       "      <td>Z</td>\n",
       "      <td>9.9</td>\n",
       "      <td>6.7</td>\n",
       "      <td>8.5</td>\n",
       "      <td>33</td>\n",
       "      <td>196</td>\n",
       "    </tr>\n",
       "    <tr>\n",
       "      <th>1</th>\n",
       "      <td>2014</td>\n",
       "      <td>ACURA</td>\n",
       "      <td>ILX</td>\n",
       "      <td>COMPACT</td>\n",
       "      <td>2.4</td>\n",
       "      <td>4</td>\n",
       "      <td>M6</td>\n",
       "      <td>Z</td>\n",
       "      <td>11.2</td>\n",
       "      <td>7.7</td>\n",
       "      <td>9.6</td>\n",
       "      <td>29</td>\n",
       "      <td>221</td>\n",
       "    </tr>\n",
       "    <tr>\n",
       "      <th>2</th>\n",
       "      <td>2014</td>\n",
       "      <td>ACURA</td>\n",
       "      <td>ILX HYBRID</td>\n",
       "      <td>COMPACT</td>\n",
       "      <td>1.5</td>\n",
       "      <td>4</td>\n",
       "      <td>AV7</td>\n",
       "      <td>Z</td>\n",
       "      <td>6.0</td>\n",
       "      <td>5.8</td>\n",
       "      <td>5.9</td>\n",
       "      <td>48</td>\n",
       "      <td>136</td>\n",
       "    </tr>\n",
       "    <tr>\n",
       "      <th>3</th>\n",
       "      <td>2014</td>\n",
       "      <td>ACURA</td>\n",
       "      <td>MDX 4WD</td>\n",
       "      <td>SUV - SMALL</td>\n",
       "      <td>3.5</td>\n",
       "      <td>6</td>\n",
       "      <td>AS6</td>\n",
       "      <td>Z</td>\n",
       "      <td>12.7</td>\n",
       "      <td>9.1</td>\n",
       "      <td>11.1</td>\n",
       "      <td>25</td>\n",
       "      <td>255</td>\n",
       "    </tr>\n",
       "    <tr>\n",
       "      <th>4</th>\n",
       "      <td>2014</td>\n",
       "      <td>ACURA</td>\n",
       "      <td>RDX AWD</td>\n",
       "      <td>SUV - SMALL</td>\n",
       "      <td>3.5</td>\n",
       "      <td>6</td>\n",
       "      <td>AS6</td>\n",
       "      <td>Z</td>\n",
       "      <td>12.1</td>\n",
       "      <td>8.7</td>\n",
       "      <td>10.6</td>\n",
       "      <td>27</td>\n",
       "      <td>244</td>\n",
       "    </tr>\n",
       "    <tr>\n",
       "      <th>...</th>\n",
       "      <td>...</td>\n",
       "      <td>...</td>\n",
       "      <td>...</td>\n",
       "      <td>...</td>\n",
       "      <td>...</td>\n",
       "      <td>...</td>\n",
       "      <td>...</td>\n",
       "      <td>...</td>\n",
       "      <td>...</td>\n",
       "      <td>...</td>\n",
       "      <td>...</td>\n",
       "      <td>...</td>\n",
       "      <td>...</td>\n",
       "    </tr>\n",
       "    <tr>\n",
       "      <th>1062</th>\n",
       "      <td>2014</td>\n",
       "      <td>VOLVO</td>\n",
       "      <td>XC60 AWD</td>\n",
       "      <td>SUV - SMALL</td>\n",
       "      <td>3.0</td>\n",
       "      <td>6</td>\n",
       "      <td>AS6</td>\n",
       "      <td>X</td>\n",
       "      <td>13.4</td>\n",
       "      <td>9.8</td>\n",
       "      <td>11.8</td>\n",
       "      <td>24</td>\n",
       "      <td>271</td>\n",
       "    </tr>\n",
       "    <tr>\n",
       "      <th>1063</th>\n",
       "      <td>2014</td>\n",
       "      <td>VOLVO</td>\n",
       "      <td>XC60 AWD</td>\n",
       "      <td>SUV - SMALL</td>\n",
       "      <td>3.2</td>\n",
       "      <td>6</td>\n",
       "      <td>AS6</td>\n",
       "      <td>X</td>\n",
       "      <td>13.2</td>\n",
       "      <td>9.5</td>\n",
       "      <td>11.5</td>\n",
       "      <td>25</td>\n",
       "      <td>264</td>\n",
       "    </tr>\n",
       "    <tr>\n",
       "      <th>1064</th>\n",
       "      <td>2014</td>\n",
       "      <td>VOLVO</td>\n",
       "      <td>XC70 AWD</td>\n",
       "      <td>SUV - SMALL</td>\n",
       "      <td>3.0</td>\n",
       "      <td>6</td>\n",
       "      <td>AS6</td>\n",
       "      <td>X</td>\n",
       "      <td>13.4</td>\n",
       "      <td>9.8</td>\n",
       "      <td>11.8</td>\n",
       "      <td>24</td>\n",
       "      <td>271</td>\n",
       "    </tr>\n",
       "    <tr>\n",
       "      <th>1065</th>\n",
       "      <td>2014</td>\n",
       "      <td>VOLVO</td>\n",
       "      <td>XC70 AWD</td>\n",
       "      <td>SUV - SMALL</td>\n",
       "      <td>3.2</td>\n",
       "      <td>6</td>\n",
       "      <td>AS6</td>\n",
       "      <td>X</td>\n",
       "      <td>12.9</td>\n",
       "      <td>9.3</td>\n",
       "      <td>11.3</td>\n",
       "      <td>25</td>\n",
       "      <td>260</td>\n",
       "    </tr>\n",
       "    <tr>\n",
       "      <th>1066</th>\n",
       "      <td>2014</td>\n",
       "      <td>VOLVO</td>\n",
       "      <td>XC90 AWD</td>\n",
       "      <td>SUV - STANDARD</td>\n",
       "      <td>3.2</td>\n",
       "      <td>6</td>\n",
       "      <td>AS6</td>\n",
       "      <td>X</td>\n",
       "      <td>14.9</td>\n",
       "      <td>10.2</td>\n",
       "      <td>12.8</td>\n",
       "      <td>22</td>\n",
       "      <td>294</td>\n",
       "    </tr>\n",
       "  </tbody>\n",
       "</table>\n",
       "<p>1067 rows × 13 columns</p>\n",
       "</div>"
      ],
      "text/plain": [
       "      modelyear   make       model    vehicleclass  enginesize  cylinders transmission fueltype  fuelconsumption_city  fuelconsumption_hwy  fuelconsumption_comb  fuelconsumption_comb_mpg  co2emissions\n",
       "0          2014  ACURA         ILX         COMPACT         2.0          4          AS5        Z                   9.9                  6.7                   8.5                        33           196\n",
       "1          2014  ACURA         ILX         COMPACT         2.4          4           M6        Z                  11.2                  7.7                   9.6                        29           221\n",
       "2          2014  ACURA  ILX HYBRID         COMPACT         1.5          4          AV7        Z                   6.0                  5.8                   5.9                        48           136\n",
       "3          2014  ACURA     MDX 4WD     SUV - SMALL         3.5          6          AS6        Z                  12.7                  9.1                  11.1                        25           255\n",
       "4          2014  ACURA     RDX AWD     SUV - SMALL         3.5          6          AS6        Z                  12.1                  8.7                  10.6                        27           244\n",
       "...         ...    ...         ...             ...         ...        ...          ...      ...                   ...                  ...                   ...                       ...           ...\n",
       "1062       2014  VOLVO    XC60 AWD     SUV - SMALL         3.0          6          AS6        X                  13.4                  9.8                  11.8                        24           271\n",
       "1063       2014  VOLVO    XC60 AWD     SUV - SMALL         3.2          6          AS6        X                  13.2                  9.5                  11.5                        25           264\n",
       "1064       2014  VOLVO    XC70 AWD     SUV - SMALL         3.0          6          AS6        X                  13.4                  9.8                  11.8                        24           271\n",
       "1065       2014  VOLVO    XC70 AWD     SUV - SMALL         3.2          6          AS6        X                  12.9                  9.3                  11.3                        25           260\n",
       "1066       2014  VOLVO    XC90 AWD  SUV - STANDARD         3.2          6          AS6        X                  14.9                 10.2                  12.8                        22           294\n",
       "\n",
       "[1067 rows x 13 columns]"
      ]
     },
     "execution_count": 2,
     "metadata": {},
     "output_type": "execute_result"
    }
   ],
   "source": [
    "df = pd.read_csv('/kaggle/input/fuel-consumption-co2/fuel_consumption_CO2.csv')\n",
    "df.columns = [col.lower() for col in df.columns]\n",
    "df"
   ]
  },
  {
   "cell_type": "markdown",
   "id": "e60a3107",
   "metadata": {
    "papermill": {
     "duration": 0.022496,
     "end_time": "2022-12-05T01:05:54.249935",
     "exception": false,
     "start_time": "2022-12-05T01:05:54.227439",
     "status": "completed"
    },
    "tags": []
   },
   "source": [
    "# Exploratory data analysis"
   ]
  },
  {
   "cell_type": "markdown",
   "id": "28f01556",
   "metadata": {
    "papermill": {
     "duration": 0.021375,
     "end_time": "2022-12-05T01:05:54.293914",
     "exception": false,
     "start_time": "2022-12-05T01:05:54.272539",
     "status": "completed"
    },
    "tags": []
   },
   "source": [
    "## Let's check the dataframe"
   ]
  },
  {
   "cell_type": "code",
   "execution_count": 3,
   "id": "099b630a",
   "metadata": {
    "execution": {
     "iopub.execute_input": "2022-12-05T01:05:54.332277Z",
     "iopub.status.busy": "2022-12-05T01:05:54.330919Z",
     "iopub.status.idle": "2022-12-05T01:05:54.442196Z",
     "shell.execute_reply": "2022-12-05T01:05:54.440871Z"
    },
    "papermill": {
     "duration": 0.13129,
     "end_time": "2022-12-05T01:05:54.444791",
     "exception": false,
     "start_time": "2022-12-05T01:05:54.313501",
     "status": "completed"
    },
    "tags": []
   },
   "outputs": [
    {
     "name": "stdout",
     "output_type": "stream",
     "text": [
      "************************************************************************ HEAD ************************************************************************\n"
     ]
    },
    {
     "data": {
      "text/html": [
       "<div>\n",
       "<style scoped>\n",
       "    .dataframe tbody tr th:only-of-type {\n",
       "        vertical-align: middle;\n",
       "    }\n",
       "\n",
       "    .dataframe tbody tr th {\n",
       "        vertical-align: top;\n",
       "    }\n",
       "\n",
       "    .dataframe thead th {\n",
       "        text-align: right;\n",
       "    }\n",
       "</style>\n",
       "<table border=\"1\" class=\"dataframe\">\n",
       "  <thead>\n",
       "    <tr style=\"text-align: right;\">\n",
       "      <th></th>\n",
       "      <th>modelyear</th>\n",
       "      <th>make</th>\n",
       "      <th>model</th>\n",
       "      <th>vehicleclass</th>\n",
       "      <th>enginesize</th>\n",
       "      <th>cylinders</th>\n",
       "      <th>transmission</th>\n",
       "      <th>fueltype</th>\n",
       "      <th>fuelconsumption_city</th>\n",
       "      <th>fuelconsumption_hwy</th>\n",
       "      <th>fuelconsumption_comb</th>\n",
       "      <th>fuelconsumption_comb_mpg</th>\n",
       "      <th>co2emissions</th>\n",
       "    </tr>\n",
       "  </thead>\n",
       "  <tbody>\n",
       "    <tr>\n",
       "      <th>0</th>\n",
       "      <td>2014</td>\n",
       "      <td>ACURA</td>\n",
       "      <td>ILX</td>\n",
       "      <td>COMPACT</td>\n",
       "      <td>2.0</td>\n",
       "      <td>4</td>\n",
       "      <td>AS5</td>\n",
       "      <td>Z</td>\n",
       "      <td>9.9</td>\n",
       "      <td>6.7</td>\n",
       "      <td>8.5</td>\n",
       "      <td>33</td>\n",
       "      <td>196</td>\n",
       "    </tr>\n",
       "    <tr>\n",
       "      <th>1</th>\n",
       "      <td>2014</td>\n",
       "      <td>ACURA</td>\n",
       "      <td>ILX</td>\n",
       "      <td>COMPACT</td>\n",
       "      <td>2.4</td>\n",
       "      <td>4</td>\n",
       "      <td>M6</td>\n",
       "      <td>Z</td>\n",
       "      <td>11.2</td>\n",
       "      <td>7.7</td>\n",
       "      <td>9.6</td>\n",
       "      <td>29</td>\n",
       "      <td>221</td>\n",
       "    </tr>\n",
       "    <tr>\n",
       "      <th>2</th>\n",
       "      <td>2014</td>\n",
       "      <td>ACURA</td>\n",
       "      <td>ILX HYBRID</td>\n",
       "      <td>COMPACT</td>\n",
       "      <td>1.5</td>\n",
       "      <td>4</td>\n",
       "      <td>AV7</td>\n",
       "      <td>Z</td>\n",
       "      <td>6.0</td>\n",
       "      <td>5.8</td>\n",
       "      <td>5.9</td>\n",
       "      <td>48</td>\n",
       "      <td>136</td>\n",
       "    </tr>\n",
       "    <tr>\n",
       "      <th>3</th>\n",
       "      <td>2014</td>\n",
       "      <td>ACURA</td>\n",
       "      <td>MDX 4WD</td>\n",
       "      <td>SUV - SMALL</td>\n",
       "      <td>3.5</td>\n",
       "      <td>6</td>\n",
       "      <td>AS6</td>\n",
       "      <td>Z</td>\n",
       "      <td>12.7</td>\n",
       "      <td>9.1</td>\n",
       "      <td>11.1</td>\n",
       "      <td>25</td>\n",
       "      <td>255</td>\n",
       "    </tr>\n",
       "    <tr>\n",
       "      <th>4</th>\n",
       "      <td>2014</td>\n",
       "      <td>ACURA</td>\n",
       "      <td>RDX AWD</td>\n",
       "      <td>SUV - SMALL</td>\n",
       "      <td>3.5</td>\n",
       "      <td>6</td>\n",
       "      <td>AS6</td>\n",
       "      <td>Z</td>\n",
       "      <td>12.1</td>\n",
       "      <td>8.7</td>\n",
       "      <td>10.6</td>\n",
       "      <td>27</td>\n",
       "      <td>244</td>\n",
       "    </tr>\n",
       "  </tbody>\n",
       "</table>\n",
       "</div>"
      ],
      "text/plain": [
       "   modelyear   make       model vehicleclass  enginesize  cylinders transmission fueltype  fuelconsumption_city  fuelconsumption_hwy  fuelconsumption_comb  fuelconsumption_comb_mpg  co2emissions\n",
       "0       2014  ACURA         ILX      COMPACT         2.0          4          AS5        Z                   9.9                  6.7                   8.5                        33           196\n",
       "1       2014  ACURA         ILX      COMPACT         2.4          4           M6        Z                  11.2                  7.7                   9.6                        29           221\n",
       "2       2014  ACURA  ILX HYBRID      COMPACT         1.5          4          AV7        Z                   6.0                  5.8                   5.9                        48           136\n",
       "3       2014  ACURA     MDX 4WD  SUV - SMALL         3.5          6          AS6        Z                  12.7                  9.1                  11.1                        25           255\n",
       "4       2014  ACURA     RDX AWD  SUV - SMALL         3.5          6          AS6        Z                  12.1                  8.7                  10.6                        27           244"
      ]
     },
     "metadata": {},
     "output_type": "display_data"
    },
    {
     "name": "stdout",
     "output_type": "stream",
     "text": [
      "\n",
      " ************************************************************************ TAIL ************************************************************************\n"
     ]
    },
    {
     "data": {
      "text/html": [
       "<div>\n",
       "<style scoped>\n",
       "    .dataframe tbody tr th:only-of-type {\n",
       "        vertical-align: middle;\n",
       "    }\n",
       "\n",
       "    .dataframe tbody tr th {\n",
       "        vertical-align: top;\n",
       "    }\n",
       "\n",
       "    .dataframe thead th {\n",
       "        text-align: right;\n",
       "    }\n",
       "</style>\n",
       "<table border=\"1\" class=\"dataframe\">\n",
       "  <thead>\n",
       "    <tr style=\"text-align: right;\">\n",
       "      <th></th>\n",
       "      <th>modelyear</th>\n",
       "      <th>make</th>\n",
       "      <th>model</th>\n",
       "      <th>vehicleclass</th>\n",
       "      <th>enginesize</th>\n",
       "      <th>cylinders</th>\n",
       "      <th>transmission</th>\n",
       "      <th>fueltype</th>\n",
       "      <th>fuelconsumption_city</th>\n",
       "      <th>fuelconsumption_hwy</th>\n",
       "      <th>fuelconsumption_comb</th>\n",
       "      <th>fuelconsumption_comb_mpg</th>\n",
       "      <th>co2emissions</th>\n",
       "    </tr>\n",
       "  </thead>\n",
       "  <tbody>\n",
       "    <tr>\n",
       "      <th>1062</th>\n",
       "      <td>2014</td>\n",
       "      <td>VOLVO</td>\n",
       "      <td>XC60 AWD</td>\n",
       "      <td>SUV - SMALL</td>\n",
       "      <td>3.0</td>\n",
       "      <td>6</td>\n",
       "      <td>AS6</td>\n",
       "      <td>X</td>\n",
       "      <td>13.4</td>\n",
       "      <td>9.8</td>\n",
       "      <td>11.8</td>\n",
       "      <td>24</td>\n",
       "      <td>271</td>\n",
       "    </tr>\n",
       "    <tr>\n",
       "      <th>1063</th>\n",
       "      <td>2014</td>\n",
       "      <td>VOLVO</td>\n",
       "      <td>XC60 AWD</td>\n",
       "      <td>SUV - SMALL</td>\n",
       "      <td>3.2</td>\n",
       "      <td>6</td>\n",
       "      <td>AS6</td>\n",
       "      <td>X</td>\n",
       "      <td>13.2</td>\n",
       "      <td>9.5</td>\n",
       "      <td>11.5</td>\n",
       "      <td>25</td>\n",
       "      <td>264</td>\n",
       "    </tr>\n",
       "    <tr>\n",
       "      <th>1064</th>\n",
       "      <td>2014</td>\n",
       "      <td>VOLVO</td>\n",
       "      <td>XC70 AWD</td>\n",
       "      <td>SUV - SMALL</td>\n",
       "      <td>3.0</td>\n",
       "      <td>6</td>\n",
       "      <td>AS6</td>\n",
       "      <td>X</td>\n",
       "      <td>13.4</td>\n",
       "      <td>9.8</td>\n",
       "      <td>11.8</td>\n",
       "      <td>24</td>\n",
       "      <td>271</td>\n",
       "    </tr>\n",
       "    <tr>\n",
       "      <th>1065</th>\n",
       "      <td>2014</td>\n",
       "      <td>VOLVO</td>\n",
       "      <td>XC70 AWD</td>\n",
       "      <td>SUV - SMALL</td>\n",
       "      <td>3.2</td>\n",
       "      <td>6</td>\n",
       "      <td>AS6</td>\n",
       "      <td>X</td>\n",
       "      <td>12.9</td>\n",
       "      <td>9.3</td>\n",
       "      <td>11.3</td>\n",
       "      <td>25</td>\n",
       "      <td>260</td>\n",
       "    </tr>\n",
       "    <tr>\n",
       "      <th>1066</th>\n",
       "      <td>2014</td>\n",
       "      <td>VOLVO</td>\n",
       "      <td>XC90 AWD</td>\n",
       "      <td>SUV - STANDARD</td>\n",
       "      <td>3.2</td>\n",
       "      <td>6</td>\n",
       "      <td>AS6</td>\n",
       "      <td>X</td>\n",
       "      <td>14.9</td>\n",
       "      <td>10.2</td>\n",
       "      <td>12.8</td>\n",
       "      <td>22</td>\n",
       "      <td>294</td>\n",
       "    </tr>\n",
       "  </tbody>\n",
       "</table>\n",
       "</div>"
      ],
      "text/plain": [
       "      modelyear   make     model    vehicleclass  enginesize  cylinders transmission fueltype  fuelconsumption_city  fuelconsumption_hwy  fuelconsumption_comb  fuelconsumption_comb_mpg  co2emissions\n",
       "1062       2014  VOLVO  XC60 AWD     SUV - SMALL         3.0          6          AS6        X                  13.4                  9.8                  11.8                        24           271\n",
       "1063       2014  VOLVO  XC60 AWD     SUV - SMALL         3.2          6          AS6        X                  13.2                  9.5                  11.5                        25           264\n",
       "1064       2014  VOLVO  XC70 AWD     SUV - SMALL         3.0          6          AS6        X                  13.4                  9.8                  11.8                        24           271\n",
       "1065       2014  VOLVO  XC70 AWD     SUV - SMALL         3.2          6          AS6        X                  12.9                  9.3                  11.3                        25           260\n",
       "1066       2014  VOLVO  XC90 AWD  SUV - STANDARD         3.2          6          AS6        X                  14.9                 10.2                  12.8                        22           294"
      ]
     },
     "metadata": {},
     "output_type": "display_data"
    },
    {
     "name": "stdout",
     "output_type": "stream",
     "text": [
      "\n",
      " *********************************************************************** SHAPE ************************************************************************\n",
      "(1067, 13)\n",
      "\n",
      " *********************************************************************** DTYPE ************************************************************************\n",
      "modelyear                     int64\n",
      "make                         object\n",
      "model                        object\n",
      "vehicleclass                 object\n",
      "enginesize                  float64\n",
      "cylinders                     int64\n",
      "transmission                 object\n",
      "fueltype                     object\n",
      "fuelconsumption_city        float64\n",
      "fuelconsumption_hwy         float64\n",
      "fuelconsumption_comb        float64\n",
      "fuelconsumption_comb_mpg      int64\n",
      "co2emissions                  int64\n",
      "dtype: object\n",
      "\n",
      " ********************************************************************** COLUMNS ***********************************************************************\n",
      "Index(['modelyear', 'make', 'model', 'vehicleclass', 'enginesize', 'cylinders', 'transmission', 'fueltype', 'fuelconsumption_city', 'fuelconsumption_hwy', 'fuelconsumption_comb', 'fuelconsumption_comb_mpg', 'co2emissions'], dtype='object')\n",
      "\n",
      " ******************************************************************** DATASET INFO ********************************************************************\n",
      "<class 'pandas.core.frame.DataFrame'>\n",
      "RangeIndex: 1067 entries, 0 to 1066\n",
      "Data columns (total 13 columns):\n",
      " #   Column                    Non-Null Count  Dtype  \n",
      "---  ------                    --------------  -----  \n",
      " 0   modelyear                 1067 non-null   int64  \n",
      " 1   make                      1067 non-null   object \n",
      " 2   model                     1067 non-null   object \n",
      " 3   vehicleclass              1067 non-null   object \n",
      " 4   enginesize                1067 non-null   float64\n",
      " 5   cylinders                 1067 non-null   int64  \n",
      " 6   transmission              1067 non-null   object \n",
      " 7   fueltype                  1067 non-null   object \n",
      " 8   fuelconsumption_city      1067 non-null   float64\n",
      " 9   fuelconsumption_hwy       1067 non-null   float64\n",
      " 10  fuelconsumption_comb      1067 non-null   float64\n",
      " 11  fuelconsumption_comb_mpg  1067 non-null   int64  \n",
      " 12  co2emissions              1067 non-null   int64  \n",
      "dtypes: float64(4), int64(4), object(5)\n",
      "memory usage: 108.5+ KB\n",
      "None\n",
      "\n",
      " ****************************************************************** ANY NULL VALUES *******************************************************************\n",
      "False\n",
      "\n",
      " ******************************************************************** NULL VALUES *********************************************************************\n",
      "modelyear                   0\n",
      "make                        0\n",
      "model                       0\n",
      "vehicleclass                0\n",
      "enginesize                  0\n",
      "cylinders                   0\n",
      "transmission                0\n",
      "fueltype                    0\n",
      "fuelconsumption_city        0\n",
      "fuelconsumption_hwy         0\n",
      "fuelconsumption_comb        0\n",
      "fuelconsumption_comb_mpg    0\n",
      "co2emissions                0\n",
      "dtype: int64\n",
      "\n",
      " *************************************************************** DESCRIPTIVE STATISTICS ***************************************************************\n"
     ]
    },
    {
     "data": {
      "text/html": [
       "<div>\n",
       "<style scoped>\n",
       "    .dataframe tbody tr th:only-of-type {\n",
       "        vertical-align: middle;\n",
       "    }\n",
       "\n",
       "    .dataframe tbody tr th {\n",
       "        vertical-align: top;\n",
       "    }\n",
       "\n",
       "    .dataframe thead th {\n",
       "        text-align: right;\n",
       "    }\n",
       "</style>\n",
       "<table border=\"1\" class=\"dataframe\">\n",
       "  <thead>\n",
       "    <tr style=\"text-align: right;\">\n",
       "      <th></th>\n",
       "      <th>count</th>\n",
       "      <th>mean</th>\n",
       "      <th>std</th>\n",
       "      <th>min</th>\n",
       "      <th>5%</th>\n",
       "      <th>10%</th>\n",
       "      <th>25%</th>\n",
       "      <th>50%</th>\n",
       "      <th>75%</th>\n",
       "      <th>90%</th>\n",
       "      <th>95%</th>\n",
       "      <th>99%</th>\n",
       "      <th>max</th>\n",
       "    </tr>\n",
       "  </thead>\n",
       "  <tbody>\n",
       "    <tr>\n",
       "      <th>modelyear</th>\n",
       "      <td>1067.0</td>\n",
       "      <td>2014.000000</td>\n",
       "      <td>0.000000</td>\n",
       "      <td>2014.0</td>\n",
       "      <td>2014.00</td>\n",
       "      <td>2014.0</td>\n",
       "      <td>2014.00</td>\n",
       "      <td>2014.0</td>\n",
       "      <td>2014.00</td>\n",
       "      <td>2014.0</td>\n",
       "      <td>2014.0</td>\n",
       "      <td>2014.000</td>\n",
       "      <td>2014.0</td>\n",
       "    </tr>\n",
       "    <tr>\n",
       "      <th>enginesize</th>\n",
       "      <td>1067.0</td>\n",
       "      <td>3.346298</td>\n",
       "      <td>1.415895</td>\n",
       "      <td>1.0</td>\n",
       "      <td>1.60</td>\n",
       "      <td>1.6</td>\n",
       "      <td>2.00</td>\n",
       "      <td>3.4</td>\n",
       "      <td>4.30</td>\n",
       "      <td>5.4</td>\n",
       "      <td>6.0</td>\n",
       "      <td>6.534</td>\n",
       "      <td>8.4</td>\n",
       "    </tr>\n",
       "    <tr>\n",
       "      <th>cylinders</th>\n",
       "      <td>1067.0</td>\n",
       "      <td>5.794752</td>\n",
       "      <td>1.797447</td>\n",
       "      <td>3.0</td>\n",
       "      <td>4.00</td>\n",
       "      <td>4.0</td>\n",
       "      <td>4.00</td>\n",
       "      <td>6.0</td>\n",
       "      <td>8.00</td>\n",
       "      <td>8.0</td>\n",
       "      <td>8.0</td>\n",
       "      <td>12.000</td>\n",
       "      <td>12.0</td>\n",
       "    </tr>\n",
       "    <tr>\n",
       "      <th>fuelconsumption_city</th>\n",
       "      <td>1067.0</td>\n",
       "      <td>13.296532</td>\n",
       "      <td>4.101253</td>\n",
       "      <td>4.6</td>\n",
       "      <td>8.10</td>\n",
       "      <td>8.7</td>\n",
       "      <td>10.25</td>\n",
       "      <td>12.6</td>\n",
       "      <td>15.55</td>\n",
       "      <td>18.8</td>\n",
       "      <td>21.1</td>\n",
       "      <td>25.300</td>\n",
       "      <td>30.2</td>\n",
       "    </tr>\n",
       "    <tr>\n",
       "      <th>fuelconsumption_hwy</th>\n",
       "      <td>1067.0</td>\n",
       "      <td>9.474602</td>\n",
       "      <td>2.794510</td>\n",
       "      <td>4.9</td>\n",
       "      <td>6.10</td>\n",
       "      <td>6.6</td>\n",
       "      <td>7.50</td>\n",
       "      <td>8.8</td>\n",
       "      <td>10.85</td>\n",
       "      <td>13.4</td>\n",
       "      <td>14.6</td>\n",
       "      <td>19.234</td>\n",
       "      <td>20.5</td>\n",
       "    </tr>\n",
       "    <tr>\n",
       "      <th>fuelconsumption_comb</th>\n",
       "      <td>1067.0</td>\n",
       "      <td>11.580881</td>\n",
       "      <td>3.485595</td>\n",
       "      <td>4.7</td>\n",
       "      <td>7.23</td>\n",
       "      <td>7.8</td>\n",
       "      <td>9.00</td>\n",
       "      <td>10.9</td>\n",
       "      <td>13.35</td>\n",
       "      <td>16.5</td>\n",
       "      <td>18.0</td>\n",
       "      <td>22.236</td>\n",
       "      <td>25.8</td>\n",
       "    </tr>\n",
       "    <tr>\n",
       "      <th>fuelconsumption_comb_mpg</th>\n",
       "      <td>1067.0</td>\n",
       "      <td>26.441425</td>\n",
       "      <td>7.468702</td>\n",
       "      <td>11.0</td>\n",
       "      <td>16.00</td>\n",
       "      <td>17.0</td>\n",
       "      <td>21.00</td>\n",
       "      <td>26.0</td>\n",
       "      <td>31.00</td>\n",
       "      <td>36.0</td>\n",
       "      <td>39.0</td>\n",
       "      <td>47.000</td>\n",
       "      <td>60.0</td>\n",
       "    </tr>\n",
       "    <tr>\n",
       "      <th>co2emissions</th>\n",
       "      <td>1067.0</td>\n",
       "      <td>256.228679</td>\n",
       "      <td>63.372304</td>\n",
       "      <td>108.0</td>\n",
       "      <td>168.00</td>\n",
       "      <td>182.0</td>\n",
       "      <td>207.00</td>\n",
       "      <td>251.0</td>\n",
       "      <td>294.00</td>\n",
       "      <td>347.0</td>\n",
       "      <td>380.0</td>\n",
       "      <td>415.700</td>\n",
       "      <td>488.0</td>\n",
       "    </tr>\n",
       "  </tbody>\n",
       "</table>\n",
       "</div>"
      ],
      "text/plain": [
       "                           count         mean        std     min       5%     10%      25%     50%      75%     90%     95%       99%     max\n",
       "modelyear                 1067.0  2014.000000   0.000000  2014.0  2014.00  2014.0  2014.00  2014.0  2014.00  2014.0  2014.0  2014.000  2014.0\n",
       "enginesize                1067.0     3.346298   1.415895     1.0     1.60     1.6     2.00     3.4     4.30     5.4     6.0     6.534     8.4\n",
       "cylinders                 1067.0     5.794752   1.797447     3.0     4.00     4.0     4.00     6.0     8.00     8.0     8.0    12.000    12.0\n",
       "fuelconsumption_city      1067.0    13.296532   4.101253     4.6     8.10     8.7    10.25    12.6    15.55    18.8    21.1    25.300    30.2\n",
       "fuelconsumption_hwy       1067.0     9.474602   2.794510     4.9     6.10     6.6     7.50     8.8    10.85    13.4    14.6    19.234    20.5\n",
       "fuelconsumption_comb      1067.0    11.580881   3.485595     4.7     7.23     7.8     9.00    10.9    13.35    16.5    18.0    22.236    25.8\n",
       "fuelconsumption_comb_mpg  1067.0    26.441425   7.468702    11.0    16.00    17.0    21.00    26.0    31.00    36.0    39.0    47.000    60.0\n",
       "co2emissions              1067.0   256.228679  63.372304   108.0   168.00   182.0   207.00   251.0   294.00   347.0   380.0   415.700   488.0"
      ]
     },
     "metadata": {},
     "output_type": "display_data"
    }
   ],
   "source": [
    "def check_dataframe(dataframe, head=5):\n",
    "    print(' head '.upper().center(150, \"*\"))\n",
    "    display(dataframe.head(head))\n",
    "    print('\\n',' tail '.upper().center(150, \"*\"))\n",
    "    display(dataframe.tail(head))\n",
    "    print('\\n',' shape '.upper().center(150, \"*\"))\n",
    "    print(dataframe.shape)\n",
    "    print('\\n',' dtype '.upper().center(150, \"*\"))\n",
    "    print(dataframe.dtypes)\n",
    "    print('\\n',' columns '.upper().center(150, \"*\"))\n",
    "    print(dataframe.columns)\n",
    "    print('\\n',' dataset info '.upper().center(150, \"*\"))\n",
    "    print(dataframe.info())\n",
    "    print('\\n',' any null values '.upper().center(150, \"*\"))\n",
    "    print(dataframe.isnull().values.any())\n",
    "    print('\\n',' null values '.upper().center(150, \"*\"))\n",
    "    print(dataframe.isnull().sum().sort_values(ascending=False))\n",
    "    print('\\n',' descriptive statistics '.upper().center(150, \"*\"))\n",
    "    display(dataframe.describe([0.05, 0.10, 0.25, 0.50, 0.75, 0.90, 0.95, 0.99]).T)\n",
    "\n",
    "check_dataframe(df)"
   ]
  },
  {
   "cell_type": "markdown",
   "id": "121e7ce6",
   "metadata": {
    "papermill": {
     "duration": 0.017589,
     "end_time": "2022-12-05T01:05:54.479426",
     "exception": false,
     "start_time": "2022-12-05T01:05:54.461837",
     "status": "completed"
    },
    "tags": []
   },
   "source": [
    "### Based on the results, there is no missing data and the outliers can be in some variables such as 'fuelconsumption_comb_mpg', However, we should examine them."
   ]
  },
  {
   "cell_type": "markdown",
   "id": "acb93a97",
   "metadata": {
    "papermill": {
     "duration": 0.018094,
     "end_time": "2022-12-05T01:05:54.518407",
     "exception": false,
     "start_time": "2022-12-05T01:05:54.500313",
     "status": "completed"
    },
    "tags": []
   },
   "source": [
    "## Let's grag the categorical, numerical and cardinal variables"
   ]
  },
  {
   "cell_type": "code",
   "execution_count": 4,
   "id": "896c935c",
   "metadata": {
    "execution": {
     "iopub.execute_input": "2022-12-05T01:05:54.555903Z",
     "iopub.status.busy": "2022-12-05T01:05:54.554659Z",
     "iopub.status.idle": "2022-12-05T01:05:54.576052Z",
     "shell.execute_reply": "2022-12-05T01:05:54.574880Z"
    },
    "papermill": {
     "duration": 0.043997,
     "end_time": "2022-12-05T01:05:54.579737",
     "exception": false,
     "start_time": "2022-12-05T01:05:54.535740",
     "status": "completed"
    },
    "tags": []
   },
   "outputs": [
    {
     "name": "stdout",
     "output_type": "stream",
     "text": [
      "Observations: 1067\n",
      "Variables: 13\n",
      "cat_cols: 4\n",
      "num_cols: 6\n",
      "cat_but_car: 3\n",
      "num_but_cat: 2\n"
     ]
    }
   ],
   "source": [
    "def grab_col_names(dataframe, cat_th=10, car_th=20):\n",
    "    # categorical variables\n",
    "    cat_cols = [col for col in dataframe.columns if dataframe[col].dtypes == 'O']\n",
    "    num_but_cat = [col for col in dataframe.columns if\n",
    "                   dataframe[col].nunique() < cat_th and dataframe[col].dtypes != 'O']\n",
    "    cat_but_car = [col for col in dataframe.columns if\n",
    "                   dataframe[col].nunique() > car_th and dataframe[col].dtypes == 'O']\n",
    "    cat_cols = cat_cols + num_but_cat\n",
    "    cat_cols = [col for col in cat_cols if col not in cat_but_car]\n",
    "\n",
    "    # numerical variables\n",
    "    num_cols = [col for col in dataframe.columns if dataframe[col].dtypes != 'O']\n",
    "    num_cols = [col for col in num_cols if col not in num_but_cat]\n",
    "\n",
    "    # reporting section\n",
    "    print(f'Observations: {dataframe.shape[0]}')\n",
    "    print(f'Variables: {dataframe.shape[1]}')\n",
    "    print(f'cat_cols: {len(cat_cols)}')\n",
    "    print(f'num_cols: {len(num_cols)}')\n",
    "    print(f'cat_but_car: {len(cat_but_car)}')\n",
    "    print(f'num_but_cat: {len(num_but_cat)}')\n",
    "\n",
    "    # keeping the calculated values\n",
    "    return cat_cols, num_cols, cat_but_car\n",
    "\n",
    "cat_cols, num_cols, cat_but_car = grab_col_names(df)"
   ]
  },
  {
   "cell_type": "code",
   "execution_count": 5,
   "id": "49547580",
   "metadata": {
    "execution": {
     "iopub.execute_input": "2022-12-05T01:05:54.626896Z",
     "iopub.status.busy": "2022-12-05T01:05:54.626379Z",
     "iopub.status.idle": "2022-12-05T01:05:54.634191Z",
     "shell.execute_reply": "2022-12-05T01:05:54.632999Z"
    },
    "papermill": {
     "duration": 0.037464,
     "end_time": "2022-12-05T01:05:54.636645",
     "exception": false,
     "start_time": "2022-12-05T01:05:54.599181",
     "status": "completed"
    },
    "tags": []
   },
   "outputs": [
    {
     "data": {
      "text/plain": [
       "['vehicleclass', 'fueltype', 'modelyear', 'cylinders']"
      ]
     },
     "execution_count": 5,
     "metadata": {},
     "output_type": "execute_result"
    }
   ],
   "source": [
    "cat_cols"
   ]
  },
  {
   "cell_type": "code",
   "execution_count": 6,
   "id": "2722933a",
   "metadata": {
    "execution": {
     "iopub.execute_input": "2022-12-05T01:05:54.676359Z",
     "iopub.status.busy": "2022-12-05T01:05:54.675512Z",
     "iopub.status.idle": "2022-12-05T01:05:54.682858Z",
     "shell.execute_reply": "2022-12-05T01:05:54.681801Z"
    },
    "papermill": {
     "duration": 0.030288,
     "end_time": "2022-12-05T01:05:54.686168",
     "exception": false,
     "start_time": "2022-12-05T01:05:54.655880",
     "status": "completed"
    },
    "tags": []
   },
   "outputs": [
    {
     "data": {
      "text/plain": [
       "['enginesize',\n",
       " 'fuelconsumption_city',\n",
       " 'fuelconsumption_hwy',\n",
       " 'fuelconsumption_comb',\n",
       " 'fuelconsumption_comb_mpg',\n",
       " 'co2emissions']"
      ]
     },
     "execution_count": 6,
     "metadata": {},
     "output_type": "execute_result"
    }
   ],
   "source": [
    "num_cols"
   ]
  },
  {
   "cell_type": "code",
   "execution_count": 7,
   "id": "3b7f5438",
   "metadata": {
    "execution": {
     "iopub.execute_input": "2022-12-05T01:05:54.734338Z",
     "iopub.status.busy": "2022-12-05T01:05:54.733526Z",
     "iopub.status.idle": "2022-12-05T01:05:54.741532Z",
     "shell.execute_reply": "2022-12-05T01:05:54.740454Z"
    },
    "papermill": {
     "duration": 0.03577,
     "end_time": "2022-12-05T01:05:54.744376",
     "exception": false,
     "start_time": "2022-12-05T01:05:54.708606",
     "status": "completed"
    },
    "tags": []
   },
   "outputs": [
    {
     "data": {
      "text/plain": [
       "['make', 'model', 'transmission']"
      ]
     },
     "execution_count": 7,
     "metadata": {},
     "output_type": "execute_result"
    }
   ],
   "source": [
    "cat_but_car"
   ]
  },
  {
   "cell_type": "markdown",
   "id": "98495627",
   "metadata": {
    "papermill": {
     "duration": 0.025862,
     "end_time": "2022-12-05T01:05:54.796557",
     "exception": false,
     "start_time": "2022-12-05T01:05:54.770695",
     "status": "completed"
    },
    "tags": []
   },
   "source": [
    "### Let's check the cardinal variables"
   ]
  },
  {
   "cell_type": "code",
   "execution_count": 8,
   "id": "9337debd",
   "metadata": {
    "execution": {
     "iopub.execute_input": "2022-12-05T01:05:54.845754Z",
     "iopub.status.busy": "2022-12-05T01:05:54.845280Z",
     "iopub.status.idle": "2022-12-05T01:05:54.860759Z",
     "shell.execute_reply": "2022-12-05T01:05:54.858562Z"
    },
    "papermill": {
     "duration": 0.040734,
     "end_time": "2022-12-05T01:05:54.863588",
     "exception": false,
     "start_time": "2022-12-05T01:05:54.822854",
     "status": "completed"
    },
    "tags": []
   },
   "outputs": [
    {
     "name": "stdout",
     "output_type": "stream",
     "text": [
      "FORD             90\n",
      "CHEVROLET        86\n",
      "BMW              64\n",
      "MERCEDES-BENZ    59\n",
      "GMC              49\n",
      "AUDI             49\n",
      "TOYOTA           49\n",
      "PORSCHE          44\n",
      "VOLKSWAGEN       42\n",
      "DODGE            39\n",
      "MINI             36\n",
      "NISSAN           33\n",
      "KIA              33\n",
      "CADILLAC         32\n",
      "JEEP             31\n",
      "MAZDA            27\n",
      "HYUNDAI          24\n",
      "SUBARU           23\n",
      "JAGUAR           22\n",
      "LEXUS            22\n",
      "HONDA            21\n",
      "INFINITI         21\n",
      "CHRYSLER         19\n",
      "LAND ROVER       19\n",
      "MITSUBISHI       16\n",
      "BUICK            16\n",
      "RAM              13\n",
      "ACURA            12\n",
      "VOLVO            11\n",
      "LINCOLN          11\n",
      "FIAT             10\n",
      "SCION             9\n",
      "BENTLEY           8\n",
      "ROLLS-ROYCE       7\n",
      "ASTON MARTIN      7\n",
      "MASERATI          6\n",
      "LAMBORGHINI       3\n",
      "SMART             2\n",
      "SRT               2\n",
      "Name: make, dtype: int64\n",
      "None\n",
      "----------------------------------------\n",
      "F150 FFV                 8\n",
      "F150 FFV 4X4             8\n",
      "ACCORD                   6\n",
      "FOCUS FFV                6\n",
      "BEETLE                   6\n",
      "                        ..\n",
      "Q50 AWD                  1\n",
      "Q50                      1\n",
      "SONATA HYBRID LIMITED    1\n",
      "SONATA HYBRID            1\n",
      "XC90 AWD                 1\n",
      "Name: model, Length: 663, dtype: int64\n",
      "None\n",
      "----------------------------------------\n",
      "A6     222\n",
      "AS6    189\n",
      "M6     141\n",
      "A8      87\n",
      "AS8     80\n",
      "AS7     76\n",
      "M5      48\n",
      "AV      46\n",
      "A4      45\n",
      "AM7     34\n",
      "A5      30\n",
      "A7      12\n",
      "AV6     11\n",
      "AS5     10\n",
      "M7       9\n",
      "A9       8\n",
      "AM6      6\n",
      "AV7      5\n",
      "AV8      3\n",
      "AS9      2\n",
      "AM5      2\n",
      "AS4      1\n",
      "Name: transmission, dtype: int64\n",
      "None\n"
     ]
    }
   ],
   "source": [
    "def cat_but_car(dataframe, variable):\n",
    "    print(dataframe[variable].value_counts())\n",
    "\n",
    "print(cat_but_car(df, 'make'))\n",
    "print('--'*20)\n",
    "print(cat_but_car(df, 'model'))\n",
    "print('--'*20)\n",
    "print(cat_but_car(df, 'transmission'))"
   ]
  },
  {
   "cell_type": "code",
   "execution_count": 9,
   "id": "1c1c786b",
   "metadata": {
    "execution": {
     "iopub.execute_input": "2022-12-05T01:05:54.902160Z",
     "iopub.status.busy": "2022-12-05T01:05:54.901724Z",
     "iopub.status.idle": "2022-12-05T01:05:55.665809Z",
     "shell.execute_reply": "2022-12-05T01:05:55.664535Z"
    },
    "papermill": {
     "duration": 0.786859,
     "end_time": "2022-12-05T01:05:55.668752",
     "exception": false,
     "start_time": "2022-12-05T01:05:54.881893",
     "status": "completed"
    },
    "tags": []
   },
   "outputs": [
    {
     "data": {
      "image/png": "[encoded data removed]",
      "text/plain": [
       "<Figure size 1080x720 with 2 Axes>"
      ]
     },
     "metadata": {
      "needs_background": "light"
     },
     "output_type": "display_data"
    }
   ],
   "source": [
    "plt.figure(figsize=(15, 10))\n",
    "plt.subplot(1, 2, 1)\n",
    "sns.countplot(y=df['make'])\n",
    "plt.subplot(1, 2, 2)\n",
    "sns.countplot(y=df['transmission'])\n",
    "plt.show()"
   ]
  },
  {
   "cell_type": "markdown",
   "id": "524ff2dd",
   "metadata": {
    "papermill": {
     "duration": 0.018398,
     "end_time": "2022-12-05T01:05:55.705514",
     "exception": false,
     "start_time": "2022-12-05T01:05:55.687116",
     "status": "completed"
    },
    "tags": []
   },
   "source": [
    "### As you see that we can make some detailly analysis on the cardinal variables by using groupby method or pivot table"
   ]
  },
  {
   "cell_type": "markdown",
   "id": "f43a9ae9",
   "metadata": {
    "papermill": {
     "duration": 0.017846,
     "end_time": "2022-12-05T01:05:55.741522",
     "exception": false,
     "start_time": "2022-12-05T01:05:55.723676",
     "status": "completed"
    },
    "tags": []
   },
   "source": [
    "### Let's summarize the categorical variables"
   ]
  },
  {
   "cell_type": "code",
   "execution_count": 10,
   "id": "39ad35ca",
   "metadata": {
    "execution": {
     "iopub.execute_input": "2022-12-05T01:05:55.779537Z",
     "iopub.status.busy": "2022-12-05T01:05:55.779159Z",
     "iopub.status.idle": "2022-12-05T01:05:56.551881Z",
     "shell.execute_reply": "2022-12-05T01:05:56.550641Z"
    },
    "papermill": {
     "duration": 0.795427,
     "end_time": "2022-12-05T01:05:56.555100",
     "exception": false,
     "start_time": "2022-12-05T01:05:55.759673",
     "status": "completed"
    },
    "tags": []
   },
   "outputs": [
    {
     "name": "stdout",
     "output_type": "stream",
     "text": [
      "\n",
      " ########## VEHICLECLASS ##########\n",
      "                          VEHICLECLASS  RATIO (%)\n",
      "MID-SIZE                           178      16.68\n",
      "COMPACT                            172      16.12\n",
      "SUV - SMALL                        154      14.43\n",
      "SUV - STANDARD                     110      10.31\n",
      "FULL-SIZE                           86       8.06\n",
      "TWO-SEATER                          71       6.65\n",
      "SUBCOMPACT                          65       6.09\n",
      "PICKUP TRUCK - STANDARD             62       5.81\n",
      "MINICOMPACT                         47       4.40\n",
      "STATION WAGON - SMALL               36       3.37\n",
      "VAN - PASSENGER                     25       2.34\n",
      "VAN - CARGO                         22       2.06\n",
      "MINIVAN                             14       1.31\n",
      "PICKUP TRUCK - SMALL                12       1.12\n",
      "SPECIAL PURPOSE VEHICLE              7       0.66\n",
      "STATION WAGON - MID-SIZE             6       0.56\n"
     ]
    },
    {
     "data": {
      "image/png": "[encoded data removed]",
      "text/plain": [
       "<Figure size 432x288 with 1 Axes>"
      ]
     },
     "metadata": {
      "needs_background": "light"
     },
     "output_type": "display_data"
    },
    {
     "name": "stdout",
     "output_type": "stream",
     "text": [
      "\n",
      " ########## FUELTYPE ##########\n",
      "   FUELTYPE  RATIO (%)\n",
      "X       514      48.17\n",
      "Z       434      40.67\n",
      "E        92       8.62\n",
      "D        27       2.53\n"
     ]
    },
    {
     "data": {
      "image/png": "[encoded data removed]",
      "text/plain": [
       "<Figure size 432x288 with 1 Axes>"
      ]
     },
     "metadata": {
      "needs_background": "light"
     },
     "output_type": "display_data"
    },
    {
     "name": "stdout",
     "output_type": "stream",
     "text": [
      "\n",
      " ########## MODELYEAR ##########\n",
      "      MODELYEAR  RATIO (%)\n",
      "2014       1067      100.0\n"
     ]
    },
    {
     "data": {
      "image/png": "[encoded data removed]",
      "text/plain": [
       "<Figure size 432x288 with 1 Axes>"
      ]
     },
     "metadata": {
      "needs_background": "light"
     },
     "output_type": "display_data"
    },
    {
     "name": "stdout",
     "output_type": "stream",
     "text": [
      "\n",
      " ########## CYLINDERS ##########\n",
      "    CYLINDERS  RATIO (%)\n",
      "4         420      39.36\n",
      "6         356      33.36\n",
      "8         252      23.62\n",
      "12         17       1.59\n",
      "10          9       0.84\n",
      "5           9       0.84\n",
      "3           4       0.37\n"
     ]
    },
    {
     "data": {
      "image/png": "[encoded data removed]",
      "text/plain": [
       "<Figure size 432x288 with 1 Axes>"
      ]
     },
     "metadata": {
      "needs_background": "light"
     },
     "output_type": "display_data"
    }
   ],
   "source": [
    "def cat_summary(dataframe, col_name, plot=False):\n",
    "    print('\\n', '#' * 10, col_name.upper(), 10 * '#')\n",
    "    print(pd.DataFrame({\n",
    "        col_name.upper(): dataframe[col_name].value_counts(),\n",
    "        'RATIO (%)': round(100 * (dataframe[col_name].value_counts() / len(dataframe)), 2)\n",
    "    }))\n",
    "\n",
    "    if plot:\n",
    "        sns.countplot(y=dataframe[col_name])\n",
    "        plt.xlabel('COUNT')\n",
    "        plt.ylabel(col_name.upper())\n",
    "        plt.show(block=True)\n",
    "        \n",
    "for col in cat_cols:\n",
    "    cat_summary(df, col, plot=True)"
   ]
  },
  {
   "cell_type": "markdown",
   "id": "3d47e84a",
   "metadata": {
    "papermill": {
     "duration": 0.019031,
     "end_time": "2022-12-05T01:05:56.593977",
     "exception": false,
     "start_time": "2022-12-05T01:05:56.574946",
     "status": "completed"
    },
    "tags": []
   },
   "source": [
    "### Let's summarize the numerical variables"
   ]
  },
  {
   "cell_type": "code",
   "execution_count": 11,
   "id": "ba80dd03",
   "metadata": {
    "execution": {
     "iopub.execute_input": "2022-12-05T01:05:56.634963Z",
     "iopub.status.busy": "2022-12-05T01:05:56.633986Z",
     "iopub.status.idle": "2022-12-05T01:05:58.735014Z",
     "shell.execute_reply": "2022-12-05T01:05:58.733833Z"
    },
    "papermill": {
     "duration": 2.124445,
     "end_time": "2022-12-05T01:05:58.737693",
     "exception": false,
     "start_time": "2022-12-05T01:05:56.613248",
     "status": "completed"
    },
    "tags": []
   },
   "outputs": [
    {
     "name": "stdout",
     "output_type": "stream",
     "text": [
      "########## ENGINESIZE ##########\n",
      "       ENGINESIZE\n",
      "count     1067.00\n",
      "mean         3.35\n",
      "std          1.42\n",
      "min          1.00\n",
      "25%          2.00\n",
      "50%          3.40\n",
      "75%          4.30\n",
      "max          8.40\n"
     ]
    },
    {
     "data": {
      "image/png": "[encoded data removed]",
      "text/plain": [
       "<Figure size 720x360 with 2 Axes>"
      ]
     },
     "metadata": {
      "needs_background": "light"
     },
     "output_type": "display_data"
    },
    {
     "name": "stdout",
     "output_type": "stream",
     "text": [
      "########## FUELCONSUMPTION_CITY ##########\n",
      "       FUELCONSUMPTION_CITY\n",
      "count               1067.00\n",
      "mean                  13.30\n",
      "std                    4.10\n",
      "min                    4.60\n",
      "25%                   10.25\n",
      "50%                   12.60\n",
      "75%                   15.55\n",
      "max                   30.20\n"
     ]
    },
    {
     "data": {
      "image/png": "[encoded data removed]",
      "text/plain": [
       "<Figure size 720x360 with 2 Axes>"
      ]
     },
     "metadata": {
      "needs_background": "light"
     },
     "output_type": "display_data"
    },
    {
     "name": "stdout",
     "output_type": "stream",
     "text": [
      "########## FUELCONSUMPTION_HWY ##########\n",
      "       FUELCONSUMPTION_HWY\n",
      "count              1067.00\n",
      "mean                  9.47\n",
      "std                   2.79\n",
      "min                   4.90\n",
      "25%                   7.50\n",
      "50%                   8.80\n",
      "75%                  10.85\n",
      "max                  20.50\n"
     ]
    },
    {
     "data": {
      "image/png": "[encoded data removed]",
      "text/plain": [
       "<Figure size 720x360 with 2 Axes>"
      ]
     },
     "metadata": {
      "needs_background": "light"
     },
     "output_type": "display_data"
    },
    {
     "name": "stdout",
     "output_type": "stream",
     "text": [
      "########## FUELCONSUMPTION_COMB ##########\n",
      "       FUELCONSUMPTION_COMB\n",
      "count               1067.00\n",
      "mean                  11.58\n",
      "std                    3.49\n",
      "min                    4.70\n",
      "25%                    9.00\n",
      "50%                   10.90\n",
      "75%                   13.35\n",
      "max                   25.80\n"
     ]
    },
    {
     "data": {
      "image/png": "[encoded data removed]",
      "text/plain": [
       "<Figure size 720x360 with 2 Axes>"
      ]
     },
     "metadata": {
      "needs_background": "light"
     },
     "output_type": "display_data"
    },
    {
     "name": "stdout",
     "output_type": "stream",
     "text": [
      "########## FUELCONSUMPTION_COMB_MPG ##########\n",
      "       FUELCONSUMPTION_COMB_MPG\n",
      "count                   1067.00\n",
      "mean                      26.44\n",
      "std                        7.47\n",
      "min                       11.00\n",
      "25%                       21.00\n",
      "50%                       26.00\n",
      "75%                       31.00\n",
      "max                       60.00\n"
     ]
    },
    {
     "data": {
      "image/png": "[encoded data removed]",
      "text/plain": [
       "<Figure size 720x360 with 2 Axes>"
      ]
     },
     "metadata": {
      "needs_background": "light"
     },
     "output_type": "display_data"
    },
    {
     "name": "stdout",
     "output_type": "stream",
     "text": [
      "########## CO2EMISSIONS ##########\n",
      "       CO2EMISSIONS\n",
      "count       1067.00\n",
      "mean         256.23\n",
      "std           63.37\n",
      "min          108.00\n",
      "25%          207.00\n",
      "50%          251.00\n",
      "75%          294.00\n",
      "max          488.00\n"
     ]
    },
    {
     "data": {
      "image/png": "[encoded data removed]",
      "text/plain": [
       "<Figure size 720x360 with 2 Axes>"
      ]
     },
     "metadata": {
      "needs_background": "light"
     },
     "output_type": "display_data"
    }
   ],
   "source": [
    "def num_summary(dataframe, numerical_col, plot=False):\n",
    "    print('#' * 10, numerical_col.upper(), '#' * 10)\n",
    "    print(pd.DataFrame({\n",
    "        numerical_col.upper(): round(dataframe[numerical_col].describe().T, 2)\n",
    "    }))\n",
    "\n",
    "    if plot:\n",
    "        plt.figure(figsize=(10, 5))\n",
    "        plt.subplot(1, 2, 1)\n",
    "        sns.boxplot(y=dataframe[numerical_col])\n",
    "        plt.ylabel(numerical_col.upper())\n",
    "        plt.subplot(1, 2, 2)\n",
    "        sns.histplot(x=dataframe[numerical_col])\n",
    "        plt.xlabel(numerical_col.upper())\n",
    "        plt.show(block=True)\n",
    "\n",
    "for col in num_cols:\n",
    "    num_summary(df, col, plot=True)"
   ]
  },
  {
   "cell_type": "markdown",
   "id": "0a1c713e",
   "metadata": {
    "papermill": {
     "duration": 0.021296,
     "end_time": "2022-12-05T01:05:58.780903",
     "exception": false,
     "start_time": "2022-12-05T01:05:58.759607",
     "status": "completed"
    },
    "tags": []
   },
   "source": [
    "### You see that there are some outliers in numerical variables. We can slightly remove them from the dataset"
   ]
  },
  {
   "cell_type": "markdown",
   "id": "d75c8b83",
   "metadata": {
    "papermill": {
     "duration": 0.02118,
     "end_time": "2022-12-05T01:05:58.823732",
     "exception": false,
     "start_time": "2022-12-05T01:05:58.802552",
     "status": "completed"
    },
    "tags": []
   },
   "source": [
    "### Let's analyze a numeric target variable together with numeric variables"
   ]
  },
  {
   "cell_type": "code",
   "execution_count": 12,
   "id": "c90e2ed6",
   "metadata": {
    "execution": {
     "iopub.execute_input": "2022-12-05T01:05:58.869411Z",
     "iopub.status.busy": "2022-12-05T01:05:58.869000Z",
     "iopub.status.idle": "2022-12-05T01:06:09.671497Z",
     "shell.execute_reply": "2022-12-05T01:06:09.670011Z"
    },
    "papermill": {
     "duration": 10.828596,
     "end_time": "2022-12-05T01:06:09.674063",
     "exception": false,
     "start_time": "2022-12-05T01:05:58.845467",
     "status": "completed"
    },
    "tags": []
   },
   "outputs": [
    {
     "name": "stdout",
     "output_type": "stream",
     "text": [
      "            TARGET_MEAN\n",
      "enginesize             \n",
      "1.0              148.67\n",
      "1.2              150.75\n",
      "1.3              143.00\n",
      "1.4              180.20\n",
      "1.5              163.08\n",
      "1.6              190.63\n",
      "1.8              180.46\n",
      "2.0              207.17\n",
      "2.1              212.00\n",
      "2.4              220.38\n",
      "2.5              210.50\n",
      "2.7              237.55\n",
      "3.0              259.57\n",
      "3.2              257.89\n",
      "3.3              261.80\n",
      "3.4              238.50\n",
      "3.5              248.04\n",
      "3.6              264.61\n",
      "3.7              269.26\n",
      "3.8              269.06\n",
      "4.0              301.64\n",
      "4.2              350.00\n",
      "4.3              292.40\n",
      "4.4              312.00\n",
      "4.6              335.00\n",
      "4.7              312.24\n",
      "4.8              348.30\n",
      "5.0              315.13\n",
      "5.2              381.17\n",
      "5.3              330.75\n",
      "5.4              373.38\n",
      "5.5              322.21\n",
      "5.6              343.17\n",
      "5.7              330.88\n",
      "5.8              304.00\n",
      "5.9              359.00\n",
      "6.0              397.21\n",
      "6.2              346.22\n",
      "6.3              361.00\n",
      "6.4              326.80\n",
      "6.5              421.00\n",
      "6.6              365.00\n",
      "6.7              393.00\n",
      "6.8              462.50\n",
      "8.4              389.00\n",
      "\n"
     ]
    },
    {
     "data": {
      "image/png": "[encoded data removed]",
      "text/plain": [
       "<Figure size 576x432 with 1 Axes>"
      ]
     },
     "metadata": {
      "needs_background": "light"
     },
     "output_type": "display_data"
    },
    {
     "name": "stdout",
     "output_type": "stream",
     "text": [
      "                      TARGET_MEAN\n",
      "fuelconsumption_city             \n",
      "4.6                         108.0\n",
      "4.7                         110.0\n",
      "5.3                         126.0\n",
      "5.5                         130.0\n",
      "5.6                         131.0\n",
      "...                           ...\n",
      "25.5                        368.0\n",
      "25.7                        354.0\n",
      "26.7                        382.0\n",
      "30.0                        411.0\n",
      "30.2                        413.0\n",
      "\n",
      "[167 rows x 1 columns]\n",
      "\n"
     ]
    },
    {
     "data": {
      "image/png": "[encoded data removed]",
      "text/plain": [
       "<Figure size 576x432 with 1 Axes>"
      ]
     },
     "metadata": {
      "needs_background": "light"
     },
     "output_type": "display_data"
    },
    {
     "name": "stdout",
     "output_type": "stream",
     "text": [
      "                     TARGET_MEAN\n",
      "fuelconsumption_hwy             \n",
      "4.9                       109.33\n",
      "5.1                       192.00\n",
      "5.2                       124.00\n",
      "5.4                       161.00\n",
      "5.5                       171.33\n",
      "...                          ...\n",
      "19.3                      362.00\n",
      "19.6                      360.00\n",
      "20.0                      368.00\n",
      "20.4                      411.00\n",
      "20.5                      402.67\n",
      "\n",
      "[118 rows x 1 columns]\n",
      "\n"
     ]
    },
    {
     "data": {
      "image/png": "[encoded data removed]",
      "text/plain": [
       "<Figure size 576x432 with 1 Axes>"
      ]
     },
     "metadata": {
      "needs_background": "light"
     },
     "output_type": "display_data"
    },
    {
     "name": "stdout",
     "output_type": "stream",
     "text": [
      "                      TARGET_MEAN\n",
      "fuelconsumption_comb             \n",
      "4.7                         108.0\n",
      "4.8                         110.0\n",
      "5.4                         124.0\n",
      "5.5                         126.0\n",
      "5.6                         129.0\n",
      "...                           ...\n",
      "22.6                        362.0\n",
      "23.0                        368.0\n",
      "23.9                        382.0\n",
      "25.7                        411.0\n",
      "25.8                        413.0\n",
      "\n",
      "[148 rows x 1 columns]\n",
      "\n"
     ]
    },
    {
     "data": {
      "image/png": "[encoded data removed]",
      "text/plain": [
       "<Figure size 576x432 with 1 Axes>"
      ]
     },
     "metadata": {
      "needs_background": "light"
     },
     "output_type": "display_data"
    },
    {
     "name": "stdout",
     "output_type": "stream",
     "text": [
      "                          TARGET_MEAN\n",
      "fuelconsumption_comb_mpg             \n",
      "11                             412.00\n",
      "12                             366.33\n",
      "13                             356.40\n",
      "14                             323.44\n",
      "15                             357.67\n",
      "16                             352.74\n",
      "17                             343.50\n",
      "18                             338.68\n",
      "19                             334.83\n",
      "20                             303.84\n",
      "21                             308.54\n",
      "22                             294.40\n",
      "23                             280.72\n",
      "24                             272.48\n",
      "25                             259.82\n",
      "26                             250.69\n",
      "27                             239.63\n",
      "28                             231.80\n",
      "29                             225.02\n",
      "30                             215.94\n",
      "31                             209.79\n",
      "32                             201.68\n",
      "33                             198.74\n",
      "34                             193.33\n",
      "35                             184.56\n",
      "36                             181.07\n",
      "37                             176.09\n",
      "38                             171.29\n",
      "39                             173.88\n",
      "40                             167.36\n",
      "41                             169.12\n",
      "42                             171.60\n",
      "43                             152.00\n",
      "44                             147.00\n",
      "45                             145.00\n",
      "46                             143.00\n",
      "47                             138.00\n",
      "48                             136.00\n",
      "50                             130.00\n",
      "51                             126.00\n",
      "52                             124.00\n",
      "59                             110.00\n",
      "60                             108.00\n",
      "\n"
     ]
    },
    {
     "data": {
      "image/png": "[encoded data removed]",
      "text/plain": [
       "<Figure size 576x432 with 1 Axes>"
      ]
     },
     "metadata": {
      "needs_background": "light"
     },
     "output_type": "display_data"
    }
   ],
   "source": [
    "def num_target_summary_with_num(dataframe, target, numerical_col, plot=False):\n",
    "    print(pd.DataFrame({\n",
    "        'TARGET_MEAN': round(dataframe.groupby(numerical_col)[target].mean(), 2)\n",
    "    }), end='\\n\\n')\n",
    "\n",
    "    if plot:\n",
    "        plt.figure(figsize=(8, 6))\n",
    "        sns.lineplot(y=dataframe[target], x=dataframe[numerical_col])\n",
    "        plt.ylabel(target.upper())\n",
    "        plt.xlabel(numerical_col.upper())\n",
    "        plt.show(block=True)\n",
    "\n",
    "# Lets remove the target variable from the numerical variables\n",
    "num_cols = [col for col in num_cols if 'co2emissions' not in col]\n",
    "for col in num_cols:\n",
    "    num_target_summary_with_num(df, 'co2emissions', col, plot=True)"
   ]
  },
  {
   "cell_type": "markdown",
   "id": "d01dcb46",
   "metadata": {
    "papermill": {
     "duration": 0.024916,
     "end_time": "2022-12-05T01:06:09.724731",
     "exception": false,
     "start_time": "2022-12-05T01:06:09.699815",
     "status": "completed"
    },
    "tags": []
   },
   "source": [
    "### Let's find the highly correlated variables and delete them if necessary"
   ]
  },
  {
   "cell_type": "code",
   "execution_count": 13,
   "id": "dd71a0e3",
   "metadata": {
    "execution": {
     "iopub.execute_input": "2022-12-05T01:06:09.777512Z",
     "iopub.status.busy": "2022-12-05T01:06:09.777102Z",
     "iopub.status.idle": "2022-12-05T01:06:10.344711Z",
     "shell.execute_reply": "2022-12-05T01:06:10.343472Z"
    },
    "papermill": {
     "duration": 0.597253,
     "end_time": "2022-12-05T01:06:10.347488",
     "exception": false,
     "start_time": "2022-12-05T01:06:09.750235",
     "status": "completed"
    },
    "tags": []
   },
   "outputs": [
    {
     "data": {
      "image/png": "[encoded data removed]",
      "text/plain": [
       "<Figure size 720x576 with 2 Axes>"
      ]
     },
     "metadata": {
      "needs_background": "light"
     },
     "output_type": "display_data"
    },
    {
     "data": {
      "text/plain": [
       "['cylinders',\n",
       " 'fuelconsumption_hwy',\n",
       " 'fuelconsumption_comb',\n",
       " 'fuelconsumption_comb_mpg',\n",
       " 'co2emissions']"
      ]
     },
     "execution_count": 13,
     "metadata": {},
     "output_type": "execute_result"
    }
   ],
   "source": [
    "def high_correlated_cols(dataframe, corr_th=0.90, plot=False):\n",
    "    corr = dataframe.corr()\n",
    "    cor_matrix = corr.abs()\n",
    "    upper_triangle_matrix = cor_matrix.where(np.triu(np.ones(cor_matrix.shape), k=1).astype(np.bool_))\n",
    "    drop_list = [col for col in upper_triangle_matrix.columns if any(upper_triangle_matrix[col] > corr_th)]\n",
    "\n",
    "    if plot:\n",
    "        plt.figure(figsize=(10, 8))\n",
    "        sns.heatmap(corr, cmap='RdBu', annot=True, annot_kws={'fontsize': 12})\n",
    "        plt.show(block=True)\n",
    "\n",
    "    return drop_list\n",
    "\n",
    "drop_list = high_correlated_cols(df, plot=True)\n",
    "drop_list"
   ]
  },
  {
   "cell_type": "markdown",
   "id": "f54e7c1b",
   "metadata": {
    "papermill": {
     "duration": 0.026513,
     "end_time": "2022-12-05T01:06:10.401713",
     "exception": false,
     "start_time": "2022-12-05T01:06:10.375200",
     "status": "completed"
    },
    "tags": []
   },
   "source": [
    "# Feature Engineering"
   ]
  },
  {
   "cell_type": "markdown",
   "id": "5172a2bb",
   "metadata": {
    "papermill": {
     "duration": 0.025755,
     "end_time": "2022-12-05T01:06:10.453701",
     "exception": false,
     "start_time": "2022-12-05T01:06:10.427946",
     "status": "completed"
    },
    "tags": []
   },
   "source": [
    "## Let's check the outliers"
   ]
  },
  {
   "cell_type": "code",
   "execution_count": 14,
   "id": "928d802c",
   "metadata": {
    "execution": {
     "iopub.execute_input": "2022-12-05T01:06:10.509482Z",
     "iopub.status.busy": "2022-12-05T01:06:10.509016Z",
     "iopub.status.idle": "2022-12-05T01:06:10.527976Z",
     "shell.execute_reply": "2022-12-05T01:06:10.526335Z"
    },
    "papermill": {
     "duration": 0.050997,
     "end_time": "2022-12-05T01:06:10.530874",
     "exception": false,
     "start_time": "2022-12-05T01:06:10.479877",
     "status": "completed"
    },
    "tags": []
   },
   "outputs": [
    {
     "name": "stdout",
     "output_type": "stream",
     "text": [
      "-5.0 12.600000000000001\n",
      "-11.400000000000004 40.60000000000001\n",
      "-6.65 27.35\n",
      "-8.925 34.155\n",
      "-18.5 73.5\n"
     ]
    }
   ],
   "source": [
    "def outlier_threshholds(dataframe, col_name, q1=0.05, q3=0.95):\n",
    "    quantile1 = dataframe[col_name].quantile(q1)\n",
    "    quantile3 = dataframe[col_name].quantile(q3)\n",
    "    interquantile_range = quantile3 - quantile1\n",
    "    up_limit = quantile3 + 1.5 * interquantile_range\n",
    "    low_limit = quantile1 - 1.5 * interquantile_range\n",
    "\n",
    "    return low_limit, up_limit\n",
    "\n",
    "\n",
    "for col in num_cols:\n",
    "    low_limit, up_limit = outlier_threshholds(df, col)\n",
    "    print(low_limit, up_limit)"
   ]
  },
  {
   "cell_type": "markdown",
   "id": "c17f4ee0",
   "metadata": {
    "papermill": {
     "duration": 0.025836,
     "end_time": "2022-12-05T01:06:10.584195",
     "exception": false,
     "start_time": "2022-12-05T01:06:10.558359",
     "status": "completed"
    },
    "tags": []
   },
   "source": [
    "### Let's find whether there are outliers or not"
   ]
  },
  {
   "cell_type": "code",
   "execution_count": 15,
   "id": "6aa494e5",
   "metadata": {
    "execution": {
     "iopub.execute_input": "2022-12-05T01:06:10.638514Z",
     "iopub.status.busy": "2022-12-05T01:06:10.638122Z",
     "iopub.status.idle": "2022-12-05T01:06:10.666463Z",
     "shell.execute_reply": "2022-12-05T01:06:10.664586Z"
    },
    "papermill": {
     "duration": 0.059176,
     "end_time": "2022-12-05T01:06:10.669478",
     "exception": false,
     "start_time": "2022-12-05T01:06:10.610302",
     "status": "completed"
    },
    "tags": []
   },
   "outputs": [
    {
     "name": "stdout",
     "output_type": "stream",
     "text": [
      "enginesize False\n",
      "fuelconsumption_city False\n",
      "fuelconsumption_hwy False\n",
      "fuelconsumption_comb False\n",
      "fuelconsumption_comb_mpg False\n"
     ]
    }
   ],
   "source": [
    "def check_outliers(dataframe, col_name):\n",
    "    low_limit, up_limit = outlier_threshholds(dataframe, col_name)\n",
    "    if dataframe[(dataframe[col_name] < low_limit) | (dataframe[col_name] > up_limit)].any(axis=None):\n",
    "        return True\n",
    "    else:\n",
    "        return False\n",
    "\n",
    "\n",
    "for col in num_cols:\n",
    "    print(col, check_outliers(df, col))\n"
   ]
  },
  {
   "cell_type": "markdown",
   "id": "c1fbdfc7",
   "metadata": {
    "papermill": {
     "duration": 0.026434,
     "end_time": "2022-12-05T01:06:10.723210",
     "exception": false,
     "start_time": "2022-12-05T01:06:10.696776",
     "status": "completed"
    },
    "tags": []
   },
   "source": [
    "### Therefore, there is not outlier according the the determined thresholds (q1=0.05, q3=0.95). Since there is no missing value, we can continue with encoding and standardization. Because of this is a basic study, no feature extraction will be made and we are going to apply a linear regression model to predict the C=2 emissions. "
   ]
  },
  {
   "cell_type": "markdown",
   "id": "aae5d947",
   "metadata": {
    "papermill": {
     "duration": 0.026455,
     "end_time": "2022-12-05T01:06:10.776741",
     "exception": false,
     "start_time": "2022-12-05T01:06:10.750286",
     "status": "completed"
    },
    "tags": []
   },
   "source": [
    "## Let's check the ordinality of the categorical variables to determine whether a label encoding is applied or not. "
   ]
  },
  {
   "cell_type": "code",
   "execution_count": 16,
   "id": "f75e9694",
   "metadata": {
    "execution": {
     "iopub.execute_input": "2022-12-05T01:06:10.831520Z",
     "iopub.status.busy": "2022-12-05T01:06:10.831119Z",
     "iopub.status.idle": "2022-12-05T01:06:10.843194Z",
     "shell.execute_reply": "2022-12-05T01:06:10.841670Z"
    },
    "papermill": {
     "duration": 0.042447,
     "end_time": "2022-12-05T01:06:10.845797",
     "exception": false,
     "start_time": "2022-12-05T01:06:10.803350",
     "status": "completed"
    },
    "tags": []
   },
   "outputs": [
    {
     "name": "stdout",
     "output_type": "stream",
     "text": [
      "----------------------------------------------------------------------------------------------------\n",
      "MID-SIZE                    178\n",
      "COMPACT                     172\n",
      "SUV - SMALL                 154\n",
      "SUV - STANDARD              110\n",
      "FULL-SIZE                    86\n",
      "TWO-SEATER                   71\n",
      "SUBCOMPACT                   65\n",
      "PICKUP TRUCK - STANDARD      62\n",
      "MINICOMPACT                  47\n",
      "STATION WAGON - SMALL        36\n",
      "VAN - PASSENGER              25\n",
      "VAN - CARGO                  22\n",
      "MINIVAN                      14\n",
      "PICKUP TRUCK - SMALL         12\n",
      "SPECIAL PURPOSE VEHICLE       7\n",
      "STATION WAGON - MID-SIZE      6\n",
      "Name: vehicleclass, dtype: int64\n",
      "----------------------------------------------------------------------------------------------------\n",
      "X    514\n",
      "Z    434\n",
      "E     92\n",
      "D     27\n",
      "Name: fueltype, dtype: int64\n",
      "----------------------------------------------------------------------------------------------------\n",
      "2014    1067\n",
      "Name: modelyear, dtype: int64\n",
      "----------------------------------------------------------------------------------------------------\n",
      "4     420\n",
      "6     356\n",
      "8     252\n",
      "12     17\n",
      "10      9\n",
      "5       9\n",
      "3       4\n",
      "Name: cylinders, dtype: int64\n"
     ]
    }
   ],
   "source": [
    "def ordinal_columns(dataframe, variable):\n",
    "    print(dataframe[variable].value_counts())\n",
    "    \n",
    "for col in cat_cols:\n",
    "    print('--'*50)\n",
    "    ordinal_columns(df, col)"
   ]
  },
  {
   "cell_type": "markdown",
   "id": "62467fed",
   "metadata": {
    "papermill": {
     "duration": 0.026327,
     "end_time": "2022-12-05T01:06:10.898766",
     "exception": false,
     "start_time": "2022-12-05T01:06:10.872439",
     "status": "completed"
    },
    "tags": []
   },
   "source": [
    "### You see that there is an ordinality between the values of fueltype and cylinders. However, there is no binary variable. Therefore, we should apply onehot encoding to those variables"
   ]
  },
  {
   "cell_type": "markdown",
   "id": "1d682d6d",
   "metadata": {
    "papermill": {
     "duration": 0.026137,
     "end_time": "2022-12-05T01:06:10.951376",
     "exception": false,
     "start_time": "2022-12-05T01:06:10.925239",
     "status": "completed"
    },
    "tags": []
   },
   "source": [
    "## Let's make OneHot encoding"
   ]
  },
  {
   "cell_type": "code",
   "execution_count": 17,
   "id": "795ffedd",
   "metadata": {
    "execution": {
     "iopub.execute_input": "2022-12-05T01:06:11.006871Z",
     "iopub.status.busy": "2022-12-05T01:06:11.006086Z",
     "iopub.status.idle": "2022-12-05T01:06:11.055685Z",
     "shell.execute_reply": "2022-12-05T01:06:11.054458Z"
    },
    "papermill": {
     "duration": 0.080355,
     "end_time": "2022-12-05T01:06:11.058311",
     "exception": false,
     "start_time": "2022-12-05T01:06:10.977956",
     "status": "completed"
    },
    "tags": []
   },
   "outputs": [
    {
     "data": {
      "text/html": [
       "<div>\n",
       "<style scoped>\n",
       "    .dataframe tbody tr th:only-of-type {\n",
       "        vertical-align: middle;\n",
       "    }\n",
       "\n",
       "    .dataframe tbody tr th {\n",
       "        vertical-align: top;\n",
       "    }\n",
       "\n",
       "    .dataframe thead th {\n",
       "        text-align: right;\n",
       "    }\n",
       "</style>\n",
       "<table border=\"1\" class=\"dataframe\">\n",
       "  <thead>\n",
       "    <tr style=\"text-align: right;\">\n",
       "      <th></th>\n",
       "      <th>make</th>\n",
       "      <th>model</th>\n",
       "      <th>enginesize</th>\n",
       "      <th>transmission</th>\n",
       "      <th>fuelconsumption_city</th>\n",
       "      <th>fuelconsumption_hwy</th>\n",
       "      <th>fuelconsumption_comb</th>\n",
       "      <th>fuelconsumption_comb_mpg</th>\n",
       "      <th>co2emissions</th>\n",
       "      <th>vehicleclass_FULL-SIZE</th>\n",
       "      <th>vehicleclass_MID-SIZE</th>\n",
       "      <th>vehicleclass_MINICOMPACT</th>\n",
       "      <th>vehicleclass_MINIVAN</th>\n",
       "      <th>vehicleclass_PICKUP TRUCK - SMALL</th>\n",
       "      <th>vehicleclass_PICKUP TRUCK - STANDARD</th>\n",
       "      <th>vehicleclass_SPECIAL PURPOSE VEHICLE</th>\n",
       "      <th>vehicleclass_STATION WAGON - MID-SIZE</th>\n",
       "      <th>vehicleclass_STATION WAGON - SMALL</th>\n",
       "      <th>vehicleclass_SUBCOMPACT</th>\n",
       "      <th>vehicleclass_SUV - SMALL</th>\n",
       "      <th>vehicleclass_SUV - STANDARD</th>\n",
       "      <th>vehicleclass_TWO-SEATER</th>\n",
       "      <th>vehicleclass_VAN - CARGO</th>\n",
       "      <th>vehicleclass_VAN - PASSENGER</th>\n",
       "      <th>cylinders_4</th>\n",
       "      <th>cylinders_5</th>\n",
       "      <th>cylinders_6</th>\n",
       "      <th>cylinders_8</th>\n",
       "      <th>cylinders_10</th>\n",
       "      <th>cylinders_12</th>\n",
       "      <th>fueltype_E</th>\n",
       "      <th>fueltype_X</th>\n",
       "      <th>fueltype_Z</th>\n",
       "    </tr>\n",
       "  </thead>\n",
       "  <tbody>\n",
       "    <tr>\n",
       "      <th>0</th>\n",
       "      <td>ACURA</td>\n",
       "      <td>ILX</td>\n",
       "      <td>2.0</td>\n",
       "      <td>AS5</td>\n",
       "      <td>9.9</td>\n",
       "      <td>6.7</td>\n",
       "      <td>8.5</td>\n",
       "      <td>33</td>\n",
       "      <td>196</td>\n",
       "      <td>0</td>\n",
       "      <td>0</td>\n",
       "      <td>0</td>\n",
       "      <td>0</td>\n",
       "      <td>0</td>\n",
       "      <td>0</td>\n",
       "      <td>0</td>\n",
       "      <td>0</td>\n",
       "      <td>0</td>\n",
       "      <td>0</td>\n",
       "      <td>0</td>\n",
       "      <td>0</td>\n",
       "      <td>0</td>\n",
       "      <td>0</td>\n",
       "      <td>0</td>\n",
       "      <td>1</td>\n",
       "      <td>0</td>\n",
       "      <td>0</td>\n",
       "      <td>0</td>\n",
       "      <td>0</td>\n",
       "      <td>0</td>\n",
       "      <td>0</td>\n",
       "      <td>0</td>\n",
       "      <td>1</td>\n",
       "    </tr>\n",
       "    <tr>\n",
       "      <th>1</th>\n",
       "      <td>ACURA</td>\n",
       "      <td>ILX</td>\n",
       "      <td>2.4</td>\n",
       "      <td>M6</td>\n",
       "      <td>11.2</td>\n",
       "      <td>7.7</td>\n",
       "      <td>9.6</td>\n",
       "      <td>29</td>\n",
       "      <td>221</td>\n",
       "      <td>0</td>\n",
       "      <td>0</td>\n",
       "      <td>0</td>\n",
       "      <td>0</td>\n",
       "      <td>0</td>\n",
       "      <td>0</td>\n",
       "      <td>0</td>\n",
       "      <td>0</td>\n",
       "      <td>0</td>\n",
       "      <td>0</td>\n",
       "      <td>0</td>\n",
       "      <td>0</td>\n",
       "      <td>0</td>\n",
       "      <td>0</td>\n",
       "      <td>0</td>\n",
       "      <td>1</td>\n",
       "      <td>0</td>\n",
       "      <td>0</td>\n",
       "      <td>0</td>\n",
       "      <td>0</td>\n",
       "      <td>0</td>\n",
       "      <td>0</td>\n",
       "      <td>0</td>\n",
       "      <td>1</td>\n",
       "    </tr>\n",
       "    <tr>\n",
       "      <th>2</th>\n",
       "      <td>ACURA</td>\n",
       "      <td>ILX HYBRID</td>\n",
       "      <td>1.5</td>\n",
       "      <td>AV7</td>\n",
       "      <td>6.0</td>\n",
       "      <td>5.8</td>\n",
       "      <td>5.9</td>\n",
       "      <td>48</td>\n",
       "      <td>136</td>\n",
       "      <td>0</td>\n",
       "      <td>0</td>\n",
       "      <td>0</td>\n",
       "      <td>0</td>\n",
       "      <td>0</td>\n",
       "      <td>0</td>\n",
       "      <td>0</td>\n",
       "      <td>0</td>\n",
       "      <td>0</td>\n",
       "      <td>0</td>\n",
       "      <td>0</td>\n",
       "      <td>0</td>\n",
       "      <td>0</td>\n",
       "      <td>0</td>\n",
       "      <td>0</td>\n",
       "      <td>1</td>\n",
       "      <td>0</td>\n",
       "      <td>0</td>\n",
       "      <td>0</td>\n",
       "      <td>0</td>\n",
       "      <td>0</td>\n",
       "      <td>0</td>\n",
       "      <td>0</td>\n",
       "      <td>1</td>\n",
       "    </tr>\n",
       "    <tr>\n",
       "      <th>3</th>\n",
       "      <td>ACURA</td>\n",
       "      <td>MDX 4WD</td>\n",
       "      <td>3.5</td>\n",
       "      <td>AS6</td>\n",
       "      <td>12.7</td>\n",
       "      <td>9.1</td>\n",
       "      <td>11.1</td>\n",
       "      <td>25</td>\n",
       "      <td>255</td>\n",
       "      <td>0</td>\n",
       "      <td>0</td>\n",
       "      <td>0</td>\n",
       "      <td>0</td>\n",
       "      <td>0</td>\n",
       "      <td>0</td>\n",
       "      <td>0</td>\n",
       "      <td>0</td>\n",
       "      <td>0</td>\n",
       "      <td>0</td>\n",
       "      <td>1</td>\n",
       "      <td>0</td>\n",
       "      <td>0</td>\n",
       "      <td>0</td>\n",
       "      <td>0</td>\n",
       "      <td>0</td>\n",
       "      <td>0</td>\n",
       "      <td>1</td>\n",
       "      <td>0</td>\n",
       "      <td>0</td>\n",
       "      <td>0</td>\n",
       "      <td>0</td>\n",
       "      <td>0</td>\n",
       "      <td>1</td>\n",
       "    </tr>\n",
       "    <tr>\n",
       "      <th>4</th>\n",
       "      <td>ACURA</td>\n",
       "      <td>RDX AWD</td>\n",
       "      <td>3.5</td>\n",
       "      <td>AS6</td>\n",
       "      <td>12.1</td>\n",
       "      <td>8.7</td>\n",
       "      <td>10.6</td>\n",
       "      <td>27</td>\n",
       "      <td>244</td>\n",
       "      <td>0</td>\n",
       "      <td>0</td>\n",
       "      <td>0</td>\n",
       "      <td>0</td>\n",
       "      <td>0</td>\n",
       "      <td>0</td>\n",
       "      <td>0</td>\n",
       "      <td>0</td>\n",
       "      <td>0</td>\n",
       "      <td>0</td>\n",
       "      <td>1</td>\n",
       "      <td>0</td>\n",
       "      <td>0</td>\n",
       "      <td>0</td>\n",
       "      <td>0</td>\n",
       "      <td>0</td>\n",
       "      <td>0</td>\n",
       "      <td>1</td>\n",
       "      <td>0</td>\n",
       "      <td>0</td>\n",
       "      <td>0</td>\n",
       "      <td>0</td>\n",
       "      <td>0</td>\n",
       "      <td>1</td>\n",
       "    </tr>\n",
       "    <tr>\n",
       "      <th>...</th>\n",
       "      <td>...</td>\n",
       "      <td>...</td>\n",
       "      <td>...</td>\n",
       "      <td>...</td>\n",
       "      <td>...</td>\n",
       "      <td>...</td>\n",
       "      <td>...</td>\n",
       "      <td>...</td>\n",
       "      <td>...</td>\n",
       "      <td>...</td>\n",
       "      <td>...</td>\n",
       "      <td>...</td>\n",
       "      <td>...</td>\n",
       "      <td>...</td>\n",
       "      <td>...</td>\n",
       "      <td>...</td>\n",
       "      <td>...</td>\n",
       "      <td>...</td>\n",
       "      <td>...</td>\n",
       "      <td>...</td>\n",
       "      <td>...</td>\n",
       "      <td>...</td>\n",
       "      <td>...</td>\n",
       "      <td>...</td>\n",
       "      <td>...</td>\n",
       "      <td>...</td>\n",
       "      <td>...</td>\n",
       "      <td>...</td>\n",
       "      <td>...</td>\n",
       "      <td>...</td>\n",
       "      <td>...</td>\n",
       "      <td>...</td>\n",
       "      <td>...</td>\n",
       "    </tr>\n",
       "    <tr>\n",
       "      <th>1062</th>\n",
       "      <td>VOLVO</td>\n",
       "      <td>XC60 AWD</td>\n",
       "      <td>3.0</td>\n",
       "      <td>AS6</td>\n",
       "      <td>13.4</td>\n",
       "      <td>9.8</td>\n",
       "      <td>11.8</td>\n",
       "      <td>24</td>\n",
       "      <td>271</td>\n",
       "      <td>0</td>\n",
       "      <td>0</td>\n",
       "      <td>0</td>\n",
       "      <td>0</td>\n",
       "      <td>0</td>\n",
       "      <td>0</td>\n",
       "      <td>0</td>\n",
       "      <td>0</td>\n",
       "      <td>0</td>\n",
       "      <td>0</td>\n",
       "      <td>1</td>\n",
       "      <td>0</td>\n",
       "      <td>0</td>\n",
       "      <td>0</td>\n",
       "      <td>0</td>\n",
       "      <td>0</td>\n",
       "      <td>0</td>\n",
       "      <td>1</td>\n",
       "      <td>0</td>\n",
       "      <td>0</td>\n",
       "      <td>0</td>\n",
       "      <td>0</td>\n",
       "      <td>1</td>\n",
       "      <td>0</td>\n",
       "    </tr>\n",
       "    <tr>\n",
       "      <th>1063</th>\n",
       "      <td>VOLVO</td>\n",
       "      <td>XC60 AWD</td>\n",
       "      <td>3.2</td>\n",
       "      <td>AS6</td>\n",
       "      <td>13.2</td>\n",
       "      <td>9.5</td>\n",
       "      <td>11.5</td>\n",
       "      <td>25</td>\n",
       "      <td>264</td>\n",
       "      <td>0</td>\n",
       "      <td>0</td>\n",
       "      <td>0</td>\n",
       "      <td>0</td>\n",
       "      <td>0</td>\n",
       "      <td>0</td>\n",
       "      <td>0</td>\n",
       "      <td>0</td>\n",
       "      <td>0</td>\n",
       "      <td>0</td>\n",
       "      <td>1</td>\n",
       "      <td>0</td>\n",
       "      <td>0</td>\n",
       "      <td>0</td>\n",
       "      <td>0</td>\n",
       "      <td>0</td>\n",
       "      <td>0</td>\n",
       "      <td>1</td>\n",
       "      <td>0</td>\n",
       "      <td>0</td>\n",
       "      <td>0</td>\n",
       "      <td>0</td>\n",
       "      <td>1</td>\n",
       "      <td>0</td>\n",
       "    </tr>\n",
       "    <tr>\n",
       "      <th>1064</th>\n",
       "      <td>VOLVO</td>\n",
       "      <td>XC70 AWD</td>\n",
       "      <td>3.0</td>\n",
       "      <td>AS6</td>\n",
       "      <td>13.4</td>\n",
       "      <td>9.8</td>\n",
       "      <td>11.8</td>\n",
       "      <td>24</td>\n",
       "      <td>271</td>\n",
       "      <td>0</td>\n",
       "      <td>0</td>\n",
       "      <td>0</td>\n",
       "      <td>0</td>\n",
       "      <td>0</td>\n",
       "      <td>0</td>\n",
       "      <td>0</td>\n",
       "      <td>0</td>\n",
       "      <td>0</td>\n",
       "      <td>0</td>\n",
       "      <td>1</td>\n",
       "      <td>0</td>\n",
       "      <td>0</td>\n",
       "      <td>0</td>\n",
       "      <td>0</td>\n",
       "      <td>0</td>\n",
       "      <td>0</td>\n",
       "      <td>1</td>\n",
       "      <td>0</td>\n",
       "      <td>0</td>\n",
       "      <td>0</td>\n",
       "      <td>0</td>\n",
       "      <td>1</td>\n",
       "      <td>0</td>\n",
       "    </tr>\n",
       "    <tr>\n",
       "      <th>1065</th>\n",
       "      <td>VOLVO</td>\n",
       "      <td>XC70 AWD</td>\n",
       "      <td>3.2</td>\n",
       "      <td>AS6</td>\n",
       "      <td>12.9</td>\n",
       "      <td>9.3</td>\n",
       "      <td>11.3</td>\n",
       "      <td>25</td>\n",
       "      <td>260</td>\n",
       "      <td>0</td>\n",
       "      <td>0</td>\n",
       "      <td>0</td>\n",
       "      <td>0</td>\n",
       "      <td>0</td>\n",
       "      <td>0</td>\n",
       "      <td>0</td>\n",
       "      <td>0</td>\n",
       "      <td>0</td>\n",
       "      <td>0</td>\n",
       "      <td>1</td>\n",
       "      <td>0</td>\n",
       "      <td>0</td>\n",
       "      <td>0</td>\n",
       "      <td>0</td>\n",
       "      <td>0</td>\n",
       "      <td>0</td>\n",
       "      <td>1</td>\n",
       "      <td>0</td>\n",
       "      <td>0</td>\n",
       "      <td>0</td>\n",
       "      <td>0</td>\n",
       "      <td>1</td>\n",
       "      <td>0</td>\n",
       "    </tr>\n",
       "    <tr>\n",
       "      <th>1066</th>\n",
       "      <td>VOLVO</td>\n",
       "      <td>XC90 AWD</td>\n",
       "      <td>3.2</td>\n",
       "      <td>AS6</td>\n",
       "      <td>14.9</td>\n",
       "      <td>10.2</td>\n",
       "      <td>12.8</td>\n",
       "      <td>22</td>\n",
       "      <td>294</td>\n",
       "      <td>0</td>\n",
       "      <td>0</td>\n",
       "      <td>0</td>\n",
       "      <td>0</td>\n",
       "      <td>0</td>\n",
       "      <td>0</td>\n",
       "      <td>0</td>\n",
       "      <td>0</td>\n",
       "      <td>0</td>\n",
       "      <td>0</td>\n",
       "      <td>0</td>\n",
       "      <td>1</td>\n",
       "      <td>0</td>\n",
       "      <td>0</td>\n",
       "      <td>0</td>\n",
       "      <td>0</td>\n",
       "      <td>0</td>\n",
       "      <td>1</td>\n",
       "      <td>0</td>\n",
       "      <td>0</td>\n",
       "      <td>0</td>\n",
       "      <td>0</td>\n",
       "      <td>1</td>\n",
       "      <td>0</td>\n",
       "    </tr>\n",
       "  </tbody>\n",
       "</table>\n",
       "<p>1067 rows × 33 columns</p>\n",
       "</div>"
      ],
      "text/plain": [
       "       make       model  enginesize transmission  fuelconsumption_city  fuelconsumption_hwy  fuelconsumption_comb  fuelconsumption_comb_mpg  co2emissions  vehicleclass_FULL-SIZE  vehicleclass_MID-SIZE  vehicleclass_MINICOMPACT  vehicleclass_MINIVAN  vehicleclass_PICKUP TRUCK - SMALL  vehicleclass_PICKUP TRUCK - STANDARD  vehicleclass_SPECIAL PURPOSE VEHICLE  vehicleclass_STATION WAGON - MID-SIZE  vehicleclass_STATION WAGON - SMALL  vehicleclass_SUBCOMPACT  vehicleclass_SUV - SMALL  \\\n",
       "0     ACURA         ILX         2.0          AS5                   9.9                  6.7                   8.5                        33           196                       0                      0                         0                     0                                  0                                     0                                     0                                      0                                   0                        0                         0   \n",
       "1     ACURA         ILX         2.4           M6                  11.2                  7.7                   9.6                        29           221                       0                      0                         0                     0                                  0                                     0                                     0                                      0                                   0                        0                         0   \n",
       "2     ACURA  ILX HYBRID         1.5          AV7                   6.0                  5.8                   5.9                        48           136                       0                      0                         0                     0                                  0                                     0                                     0                                      0                                   0                        0                         0   \n",
       "3     ACURA     MDX 4WD         3.5          AS6                  12.7                  9.1                  11.1                        25           255                       0                      0                         0                     0                                  0                                     0                                     0                                      0                                   0                        0                         1   \n",
       "4     ACURA     RDX AWD         3.5          AS6                  12.1                  8.7                  10.6                        27           244                       0                      0                         0                     0                                  0                                     0                                     0                                      0                                   0                        0                         1   \n",
       "...     ...         ...         ...          ...                   ...                  ...                   ...                       ...           ...                     ...                    ...                       ...                   ...                                ...                                   ...                                   ...                                    ...                                 ...                      ...                       ...   \n",
       "1062  VOLVO    XC60 AWD         3.0          AS6                  13.4                  9.8                  11.8                        24           271                       0                      0                         0                     0                                  0                                     0                                     0                                      0                                   0                        0                         1   \n",
       "1063  VOLVO    XC60 AWD         3.2          AS6                  13.2                  9.5                  11.5                        25           264                       0                      0                         0                     0                                  0                                     0                                     0                                      0                                   0                        0                         1   \n",
       "1064  VOLVO    XC70 AWD         3.0          AS6                  13.4                  9.8                  11.8                        24           271                       0                      0                         0                     0                                  0                                     0                                     0                                      0                                   0                        0                         1   \n",
       "1065  VOLVO    XC70 AWD         3.2          AS6                  12.9                  9.3                  11.3                        25           260                       0                      0                         0                     0                                  0                                     0                                     0                                      0                                   0                        0                         1   \n",
       "1066  VOLVO    XC90 AWD         3.2          AS6                  14.9                 10.2                  12.8                        22           294                       0                      0                         0                     0                                  0                                     0                                     0                                      0                                   0                        0                         0   \n",
       "\n",
       "      vehicleclass_SUV - STANDARD  vehicleclass_TWO-SEATER  vehicleclass_VAN - CARGO  vehicleclass_VAN - PASSENGER  cylinders_4  cylinders_5  cylinders_6  cylinders_8  cylinders_10  cylinders_12  fueltype_E  fueltype_X  fueltype_Z  \n",
       "0                               0                        0                         0                             0            1            0            0            0             0             0           0           0           1  \n",
       "1                               0                        0                         0                             0            1            0            0            0             0             0           0           0           1  \n",
       "2                               0                        0                         0                             0            1            0            0            0             0             0           0           0           1  \n",
       "3                               0                        0                         0                             0            0            0            1            0             0             0           0           0           1  \n",
       "4                               0                        0                         0                             0            0            0            1            0             0             0           0           0           1  \n",
       "...                           ...                      ...                       ...                           ...          ...          ...          ...          ...           ...           ...         ...         ...         ...  \n",
       "1062                            0                        0                         0                             0            0            0            1            0             0             0           0           1           0  \n",
       "1063                            0                        0                         0                             0            0            0            1            0             0             0           0           1           0  \n",
       "1064                            0                        0                         0                             0            0            0            1            0             0             0           0           1           0  \n",
       "1065                            0                        0                         0                             0            0            0            1            0             0             0           0           1           0  \n",
       "1066                            1                        0                         0                             0            0            0            1            0             0             0           0           1           0  \n",
       "\n",
       "[1067 rows x 33 columns]"
      ]
     },
     "execution_count": 17,
     "metadata": {},
     "output_type": "execute_result"
    }
   ],
   "source": [
    "def one_hot_encoder(dataframe, categorical_cols, dropfirst=True):\n",
    "    dataframe = pd.get_dummies(dataframe, columns=categorical_cols, drop_first=dropfirst)\n",
    "    return dataframe\n",
    "\n",
    "df = pd.read_csv('/kaggle/input/fuel-consumption-co2/fuel_consumption_CO2.csv')\n",
    "df.columns = [col.lower() for col in df.columns]\n",
    "dff = df.copy()\n",
    "ohe_cols = [col for col in dff.columns if 20 >= dff[col].nunique()]\n",
    "dff = one_hot_encoder(dff, ohe_cols)\n",
    "dff"
   ]
  },
  {
   "cell_type": "markdown",
   "id": "aedc7713",
   "metadata": {
    "papermill": {
     "duration": 0.02697,
     "end_time": "2022-12-05T01:06:11.112681",
     "exception": false,
     "start_time": "2022-12-05T01:06:11.085711",
     "status": "completed"
    },
    "tags": []
   },
   "source": [
    "### Let's check the variables again"
   ]
  },
  {
   "cell_type": "code",
   "execution_count": 18,
   "id": "af1512ec",
   "metadata": {
    "execution": {
     "iopub.execute_input": "2022-12-05T01:06:11.171038Z",
     "iopub.status.busy": "2022-12-05T01:06:11.170354Z",
     "iopub.status.idle": "2022-12-05T01:06:11.185860Z",
     "shell.execute_reply": "2022-12-05T01:06:11.184372Z"
    },
    "papermill": {
     "duration": 0.04928,
     "end_time": "2022-12-05T01:06:11.189866",
     "exception": false,
     "start_time": "2022-12-05T01:06:11.140586",
     "status": "completed"
    },
    "tags": []
   },
   "outputs": [
    {
     "name": "stdout",
     "output_type": "stream",
     "text": [
      "Observations: 1067\n",
      "Variables: 33\n",
      "cat_cols: 24\n",
      "num_cols: 6\n",
      "cat_but_car: 3\n",
      "num_but_cat: 24\n"
     ]
    }
   ],
   "source": [
    "cat_cols, num_cols, cat_but_car = grab_col_names(dff)"
   ]
  },
  {
   "cell_type": "markdown",
   "id": "4c83ad5f",
   "metadata": {
    "papermill": {
     "duration": 0.0271,
     "end_time": "2022-12-05T01:06:11.245319",
     "exception": false,
     "start_time": "2022-12-05T01:06:11.218219",
     "status": "completed"
    },
    "tags": []
   },
   "source": [
    "### Let's see the categorical variables"
   ]
  },
  {
   "cell_type": "code",
   "execution_count": 19,
   "id": "e3b535c8",
   "metadata": {
    "execution": {
     "iopub.execute_input": "2022-12-05T01:06:11.303158Z",
     "iopub.status.busy": "2022-12-05T01:06:11.301886Z",
     "iopub.status.idle": "2022-12-05T01:06:11.309450Z",
     "shell.execute_reply": "2022-12-05T01:06:11.308509Z"
    },
    "papermill": {
     "duration": 0.039051,
     "end_time": "2022-12-05T01:06:11.311682",
     "exception": false,
     "start_time": "2022-12-05T01:06:11.272631",
     "status": "completed"
    },
    "tags": []
   },
   "outputs": [
    {
     "data": {
      "text/plain": [
       "['vehicleclass_FULL-SIZE',\n",
       " 'vehicleclass_MID-SIZE',\n",
       " 'vehicleclass_MINICOMPACT',\n",
       " 'vehicleclass_MINIVAN',\n",
       " 'vehicleclass_PICKUP TRUCK - SMALL',\n",
       " 'vehicleclass_PICKUP TRUCK - STANDARD',\n",
       " 'vehicleclass_SPECIAL PURPOSE VEHICLE',\n",
       " 'vehicleclass_STATION WAGON - MID-SIZE',\n",
       " 'vehicleclass_STATION WAGON - SMALL',\n",
       " 'vehicleclass_SUBCOMPACT',\n",
       " 'vehicleclass_SUV - SMALL',\n",
       " 'vehicleclass_SUV - STANDARD',\n",
       " 'vehicleclass_TWO-SEATER',\n",
       " 'vehicleclass_VAN - CARGO',\n",
       " 'vehicleclass_VAN - PASSENGER',\n",
       " 'cylinders_4',\n",
       " 'cylinders_5',\n",
       " 'cylinders_6',\n",
       " 'cylinders_8',\n",
       " 'cylinders_10',\n",
       " 'cylinders_12',\n",
       " 'fueltype_E',\n",
       " 'fueltype_X',\n",
       " 'fueltype_Z']"
      ]
     },
     "execution_count": 19,
     "metadata": {},
     "output_type": "execute_result"
    }
   ],
   "source": [
    "cat_cols"
   ]
  },
  {
   "cell_type": "markdown",
   "id": "88a8c0ed",
   "metadata": {
    "papermill": {
     "duration": 0.027396,
     "end_time": "2022-12-05T01:06:11.367492",
     "exception": false,
     "start_time": "2022-12-05T01:06:11.340096",
     "status": "completed"
    },
    "tags": []
   },
   "source": [
    "### Let's see the numerical variables and remove the target variable from the numerical variables"
   ]
  },
  {
   "cell_type": "code",
   "execution_count": 20,
   "id": "f7cb0a56",
   "metadata": {
    "execution": {
     "iopub.execute_input": "2022-12-05T01:06:11.425241Z",
     "iopub.status.busy": "2022-12-05T01:06:11.424211Z",
     "iopub.status.idle": "2022-12-05T01:06:11.430958Z",
     "shell.execute_reply": "2022-12-05T01:06:11.430143Z"
    },
    "papermill": {
     "duration": 0.037733,
     "end_time": "2022-12-05T01:06:11.433281",
     "exception": false,
     "start_time": "2022-12-05T01:06:11.395548",
     "status": "completed"
    },
    "tags": []
   },
   "outputs": [
    {
     "data": {
      "text/plain": [
       "['enginesize',\n",
       " 'fuelconsumption_city',\n",
       " 'fuelconsumption_hwy',\n",
       " 'fuelconsumption_comb',\n",
       " 'fuelconsumption_comb_mpg']"
      ]
     },
     "execution_count": 20,
     "metadata": {},
     "output_type": "execute_result"
    }
   ],
   "source": [
    "num_cols = [col for col in num_cols if 'co2emissions' not in col]\n",
    "num_cols"
   ]
  },
  {
   "cell_type": "markdown",
   "id": "6a380c8c",
   "metadata": {
    "papermill": {
     "duration": 0.027053,
     "end_time": "2022-12-05T01:06:11.488338",
     "exception": false,
     "start_time": "2022-12-05T01:06:11.461285",
     "status": "completed"
    },
    "tags": []
   },
   "source": [
    "### Let's see the cardinal variables and remove them from the dataset"
   ]
  },
  {
   "cell_type": "code",
   "execution_count": 21,
   "id": "f5f565e1",
   "metadata": {
    "execution": {
     "iopub.execute_input": "2022-12-05T01:06:11.546840Z",
     "iopub.status.busy": "2022-12-05T01:06:11.545753Z",
     "iopub.status.idle": "2022-12-05T01:06:11.576962Z",
     "shell.execute_reply": "2022-12-05T01:06:11.575796Z"
    },
    "papermill": {
     "duration": 0.063148,
     "end_time": "2022-12-05T01:06:11.579677",
     "exception": false,
     "start_time": "2022-12-05T01:06:11.516529",
     "status": "completed"
    },
    "tags": []
   },
   "outputs": [
    {
     "data": {
      "text/html": [
       "<div>\n",
       "<style scoped>\n",
       "    .dataframe tbody tr th:only-of-type {\n",
       "        vertical-align: middle;\n",
       "    }\n",
       "\n",
       "    .dataframe tbody tr th {\n",
       "        vertical-align: top;\n",
       "    }\n",
       "\n",
       "    .dataframe thead th {\n",
       "        text-align: right;\n",
       "    }\n",
       "</style>\n",
       "<table border=\"1\" class=\"dataframe\">\n",
       "  <thead>\n",
       "    <tr style=\"text-align: right;\">\n",
       "      <th></th>\n",
       "      <th>enginesize</th>\n",
       "      <th>fuelconsumption_city</th>\n",
       "      <th>fuelconsumption_hwy</th>\n",
       "      <th>fuelconsumption_comb</th>\n",
       "      <th>fuelconsumption_comb_mpg</th>\n",
       "      <th>co2emissions</th>\n",
       "      <th>vehicleclass_FULL-SIZE</th>\n",
       "      <th>vehicleclass_MID-SIZE</th>\n",
       "      <th>vehicleclass_MINICOMPACT</th>\n",
       "      <th>vehicleclass_MINIVAN</th>\n",
       "      <th>vehicleclass_PICKUP TRUCK - SMALL</th>\n",
       "      <th>vehicleclass_PICKUP TRUCK - STANDARD</th>\n",
       "      <th>vehicleclass_SPECIAL PURPOSE VEHICLE</th>\n",
       "      <th>vehicleclass_STATION WAGON - MID-SIZE</th>\n",
       "      <th>vehicleclass_STATION WAGON - SMALL</th>\n",
       "      <th>vehicleclass_SUBCOMPACT</th>\n",
       "      <th>vehicleclass_SUV - SMALL</th>\n",
       "      <th>vehicleclass_SUV - STANDARD</th>\n",
       "      <th>vehicleclass_TWO-SEATER</th>\n",
       "      <th>vehicleclass_VAN - CARGO</th>\n",
       "      <th>vehicleclass_VAN - PASSENGER</th>\n",
       "      <th>cylinders_4</th>\n",
       "      <th>cylinders_5</th>\n",
       "      <th>cylinders_6</th>\n",
       "      <th>cylinders_8</th>\n",
       "      <th>cylinders_10</th>\n",
       "      <th>cylinders_12</th>\n",
       "      <th>fueltype_E</th>\n",
       "      <th>fueltype_X</th>\n",
       "      <th>fueltype_Z</th>\n",
       "    </tr>\n",
       "  </thead>\n",
       "  <tbody>\n",
       "    <tr>\n",
       "      <th>0</th>\n",
       "      <td>2.0</td>\n",
       "      <td>9.9</td>\n",
       "      <td>6.7</td>\n",
       "      <td>8.5</td>\n",
       "      <td>33</td>\n",
       "      <td>196</td>\n",
       "      <td>0</td>\n",
       "      <td>0</td>\n",
       "      <td>0</td>\n",
       "      <td>0</td>\n",
       "      <td>0</td>\n",
       "      <td>0</td>\n",
       "      <td>0</td>\n",
       "      <td>0</td>\n",
       "      <td>0</td>\n",
       "      <td>0</td>\n",
       "      <td>0</td>\n",
       "      <td>0</td>\n",
       "      <td>0</td>\n",
       "      <td>0</td>\n",
       "      <td>0</td>\n",
       "      <td>1</td>\n",
       "      <td>0</td>\n",
       "      <td>0</td>\n",
       "      <td>0</td>\n",
       "      <td>0</td>\n",
       "      <td>0</td>\n",
       "      <td>0</td>\n",
       "      <td>0</td>\n",
       "      <td>1</td>\n",
       "    </tr>\n",
       "    <tr>\n",
       "      <th>1</th>\n",
       "      <td>2.4</td>\n",
       "      <td>11.2</td>\n",
       "      <td>7.7</td>\n",
       "      <td>9.6</td>\n",
       "      <td>29</td>\n",
       "      <td>221</td>\n",
       "      <td>0</td>\n",
       "      <td>0</td>\n",
       "      <td>0</td>\n",
       "      <td>0</td>\n",
       "      <td>0</td>\n",
       "      <td>0</td>\n",
       "      <td>0</td>\n",
       "      <td>0</td>\n",
       "      <td>0</td>\n",
       "      <td>0</td>\n",
       "      <td>0</td>\n",
       "      <td>0</td>\n",
       "      <td>0</td>\n",
       "      <td>0</td>\n",
       "      <td>0</td>\n",
       "      <td>1</td>\n",
       "      <td>0</td>\n",
       "      <td>0</td>\n",
       "      <td>0</td>\n",
       "      <td>0</td>\n",
       "      <td>0</td>\n",
       "      <td>0</td>\n",
       "      <td>0</td>\n",
       "      <td>1</td>\n",
       "    </tr>\n",
       "    <tr>\n",
       "      <th>2</th>\n",
       "      <td>1.5</td>\n",
       "      <td>6.0</td>\n",
       "      <td>5.8</td>\n",
       "      <td>5.9</td>\n",
       "      <td>48</td>\n",
       "      <td>136</td>\n",
       "      <td>0</td>\n",
       "      <td>0</td>\n",
       "      <td>0</td>\n",
       "      <td>0</td>\n",
       "      <td>0</td>\n",
       "      <td>0</td>\n",
       "      <td>0</td>\n",
       "      <td>0</td>\n",
       "      <td>0</td>\n",
       "      <td>0</td>\n",
       "      <td>0</td>\n",
       "      <td>0</td>\n",
       "      <td>0</td>\n",
       "      <td>0</td>\n",
       "      <td>0</td>\n",
       "      <td>1</td>\n",
       "      <td>0</td>\n",
       "      <td>0</td>\n",
       "      <td>0</td>\n",
       "      <td>0</td>\n",
       "      <td>0</td>\n",
       "      <td>0</td>\n",
       "      <td>0</td>\n",
       "      <td>1</td>\n",
       "    </tr>\n",
       "    <tr>\n",
       "      <th>3</th>\n",
       "      <td>3.5</td>\n",
       "      <td>12.7</td>\n",
       "      <td>9.1</td>\n",
       "      <td>11.1</td>\n",
       "      <td>25</td>\n",
       "      <td>255</td>\n",
       "      <td>0</td>\n",
       "      <td>0</td>\n",
       "      <td>0</td>\n",
       "      <td>0</td>\n",
       "      <td>0</td>\n",
       "      <td>0</td>\n",
       "      <td>0</td>\n",
       "      <td>0</td>\n",
       "      <td>0</td>\n",
       "      <td>0</td>\n",
       "      <td>1</td>\n",
       "      <td>0</td>\n",
       "      <td>0</td>\n",
       "      <td>0</td>\n",
       "      <td>0</td>\n",
       "      <td>0</td>\n",
       "      <td>0</td>\n",
       "      <td>1</td>\n",
       "      <td>0</td>\n",
       "      <td>0</td>\n",
       "      <td>0</td>\n",
       "      <td>0</td>\n",
       "      <td>0</td>\n",
       "      <td>1</td>\n",
       "    </tr>\n",
       "    <tr>\n",
       "      <th>4</th>\n",
       "      <td>3.5</td>\n",
       "      <td>12.1</td>\n",
       "      <td>8.7</td>\n",
       "      <td>10.6</td>\n",
       "      <td>27</td>\n",
       "      <td>244</td>\n",
       "      <td>0</td>\n",
       "      <td>0</td>\n",
       "      <td>0</td>\n",
       "      <td>0</td>\n",
       "      <td>0</td>\n",
       "      <td>0</td>\n",
       "      <td>0</td>\n",
       "      <td>0</td>\n",
       "      <td>0</td>\n",
       "      <td>0</td>\n",
       "      <td>1</td>\n",
       "      <td>0</td>\n",
       "      <td>0</td>\n",
       "      <td>0</td>\n",
       "      <td>0</td>\n",
       "      <td>0</td>\n",
       "      <td>0</td>\n",
       "      <td>1</td>\n",
       "      <td>0</td>\n",
       "      <td>0</td>\n",
       "      <td>0</td>\n",
       "      <td>0</td>\n",
       "      <td>0</td>\n",
       "      <td>1</td>\n",
       "    </tr>\n",
       "    <tr>\n",
       "      <th>...</th>\n",
       "      <td>...</td>\n",
       "      <td>...</td>\n",
       "      <td>...</td>\n",
       "      <td>...</td>\n",
       "      <td>...</td>\n",
       "      <td>...</td>\n",
       "      <td>...</td>\n",
       "      <td>...</td>\n",
       "      <td>...</td>\n",
       "      <td>...</td>\n",
       "      <td>...</td>\n",
       "      <td>...</td>\n",
       "      <td>...</td>\n",
       "      <td>...</td>\n",
       "      <td>...</td>\n",
       "      <td>...</td>\n",
       "      <td>...</td>\n",
       "      <td>...</td>\n",
       "      <td>...</td>\n",
       "      <td>...</td>\n",
       "      <td>...</td>\n",
       "      <td>...</td>\n",
       "      <td>...</td>\n",
       "      <td>...</td>\n",
       "      <td>...</td>\n",
       "      <td>...</td>\n",
       "      <td>...</td>\n",
       "      <td>...</td>\n",
       "      <td>...</td>\n",
       "      <td>...</td>\n",
       "    </tr>\n",
       "    <tr>\n",
       "      <th>1062</th>\n",
       "      <td>3.0</td>\n",
       "      <td>13.4</td>\n",
       "      <td>9.8</td>\n",
       "      <td>11.8</td>\n",
       "      <td>24</td>\n",
       "      <td>271</td>\n",
       "      <td>0</td>\n",
       "      <td>0</td>\n",
       "      <td>0</td>\n",
       "      <td>0</td>\n",
       "      <td>0</td>\n",
       "      <td>0</td>\n",
       "      <td>0</td>\n",
       "      <td>0</td>\n",
       "      <td>0</td>\n",
       "      <td>0</td>\n",
       "      <td>1</td>\n",
       "      <td>0</td>\n",
       "      <td>0</td>\n",
       "      <td>0</td>\n",
       "      <td>0</td>\n",
       "      <td>0</td>\n",
       "      <td>0</td>\n",
       "      <td>1</td>\n",
       "      <td>0</td>\n",
       "      <td>0</td>\n",
       "      <td>0</td>\n",
       "      <td>0</td>\n",
       "      <td>1</td>\n",
       "      <td>0</td>\n",
       "    </tr>\n",
       "    <tr>\n",
       "      <th>1063</th>\n",
       "      <td>3.2</td>\n",
       "      <td>13.2</td>\n",
       "      <td>9.5</td>\n",
       "      <td>11.5</td>\n",
       "      <td>25</td>\n",
       "      <td>264</td>\n",
       "      <td>0</td>\n",
       "      <td>0</td>\n",
       "      <td>0</td>\n",
       "      <td>0</td>\n",
       "      <td>0</td>\n",
       "      <td>0</td>\n",
       "      <td>0</td>\n",
       "      <td>0</td>\n",
       "      <td>0</td>\n",
       "      <td>0</td>\n",
       "      <td>1</td>\n",
       "      <td>0</td>\n",
       "      <td>0</td>\n",
       "      <td>0</td>\n",
       "      <td>0</td>\n",
       "      <td>0</td>\n",
       "      <td>0</td>\n",
       "      <td>1</td>\n",
       "      <td>0</td>\n",
       "      <td>0</td>\n",
       "      <td>0</td>\n",
       "      <td>0</td>\n",
       "      <td>1</td>\n",
       "      <td>0</td>\n",
       "    </tr>\n",
       "    <tr>\n",
       "      <th>1064</th>\n",
       "      <td>3.0</td>\n",
       "      <td>13.4</td>\n",
       "      <td>9.8</td>\n",
       "      <td>11.8</td>\n",
       "      <td>24</td>\n",
       "      <td>271</td>\n",
       "      <td>0</td>\n",
       "      <td>0</td>\n",
       "      <td>0</td>\n",
       "      <td>0</td>\n",
       "      <td>0</td>\n",
       "      <td>0</td>\n",
       "      <td>0</td>\n",
       "      <td>0</td>\n",
       "      <td>0</td>\n",
       "      <td>0</td>\n",
       "      <td>1</td>\n",
       "      <td>0</td>\n",
       "      <td>0</td>\n",
       "      <td>0</td>\n",
       "      <td>0</td>\n",
       "      <td>0</td>\n",
       "      <td>0</td>\n",
       "      <td>1</td>\n",
       "      <td>0</td>\n",
       "      <td>0</td>\n",
       "      <td>0</td>\n",
       "      <td>0</td>\n",
       "      <td>1</td>\n",
       "      <td>0</td>\n",
       "    </tr>\n",
       "    <tr>\n",
       "      <th>1065</th>\n",
       "      <td>3.2</td>\n",
       "      <td>12.9</td>\n",
       "      <td>9.3</td>\n",
       "      <td>11.3</td>\n",
       "      <td>25</td>\n",
       "      <td>260</td>\n",
       "      <td>0</td>\n",
       "      <td>0</td>\n",
       "      <td>0</td>\n",
       "      <td>0</td>\n",
       "      <td>0</td>\n",
       "      <td>0</td>\n",
       "      <td>0</td>\n",
       "      <td>0</td>\n",
       "      <td>0</td>\n",
       "      <td>0</td>\n",
       "      <td>1</td>\n",
       "      <td>0</td>\n",
       "      <td>0</td>\n",
       "      <td>0</td>\n",
       "      <td>0</td>\n",
       "      <td>0</td>\n",
       "      <td>0</td>\n",
       "      <td>1</td>\n",
       "      <td>0</td>\n",
       "      <td>0</td>\n",
       "      <td>0</td>\n",
       "      <td>0</td>\n",
       "      <td>1</td>\n",
       "      <td>0</td>\n",
       "    </tr>\n",
       "    <tr>\n",
       "      <th>1066</th>\n",
       "      <td>3.2</td>\n",
       "      <td>14.9</td>\n",
       "      <td>10.2</td>\n",
       "      <td>12.8</td>\n",
       "      <td>22</td>\n",
       "      <td>294</td>\n",
       "      <td>0</td>\n",
       "      <td>0</td>\n",
       "      <td>0</td>\n",
       "      <td>0</td>\n",
       "      <td>0</td>\n",
       "      <td>0</td>\n",
       "      <td>0</td>\n",
       "      <td>0</td>\n",
       "      <td>0</td>\n",
       "      <td>0</td>\n",
       "      <td>0</td>\n",
       "      <td>1</td>\n",
       "      <td>0</td>\n",
       "      <td>0</td>\n",
       "      <td>0</td>\n",
       "      <td>0</td>\n",
       "      <td>0</td>\n",
       "      <td>1</td>\n",
       "      <td>0</td>\n",
       "      <td>0</td>\n",
       "      <td>0</td>\n",
       "      <td>0</td>\n",
       "      <td>1</td>\n",
       "      <td>0</td>\n",
       "    </tr>\n",
       "  </tbody>\n",
       "</table>\n",
       "<p>1067 rows × 30 columns</p>\n",
       "</div>"
      ],
      "text/plain": [
       "      enginesize  fuelconsumption_city  fuelconsumption_hwy  fuelconsumption_comb  fuelconsumption_comb_mpg  co2emissions  vehicleclass_FULL-SIZE  vehicleclass_MID-SIZE  vehicleclass_MINICOMPACT  vehicleclass_MINIVAN  vehicleclass_PICKUP TRUCK - SMALL  vehicleclass_PICKUP TRUCK - STANDARD  vehicleclass_SPECIAL PURPOSE VEHICLE  vehicleclass_STATION WAGON - MID-SIZE  vehicleclass_STATION WAGON - SMALL  vehicleclass_SUBCOMPACT  vehicleclass_SUV - SMALL  vehicleclass_SUV - STANDARD  \\\n",
       "0            2.0                   9.9                  6.7                   8.5                        33           196                       0                      0                         0                     0                                  0                                     0                                     0                                      0                                   0                        0                         0                            0   \n",
       "1            2.4                  11.2                  7.7                   9.6                        29           221                       0                      0                         0                     0                                  0                                     0                                     0                                      0                                   0                        0                         0                            0   \n",
       "2            1.5                   6.0                  5.8                   5.9                        48           136                       0                      0                         0                     0                                  0                                     0                                     0                                      0                                   0                        0                         0                            0   \n",
       "3            3.5                  12.7                  9.1                  11.1                        25           255                       0                      0                         0                     0                                  0                                     0                                     0                                      0                                   0                        0                         1                            0   \n",
       "4            3.5                  12.1                  8.7                  10.6                        27           244                       0                      0                         0                     0                                  0                                     0                                     0                                      0                                   0                        0                         1                            0   \n",
       "...          ...                   ...                  ...                   ...                       ...           ...                     ...                    ...                       ...                   ...                                ...                                   ...                                   ...                                    ...                                 ...                      ...                       ...                          ...   \n",
       "1062         3.0                  13.4                  9.8                  11.8                        24           271                       0                      0                         0                     0                                  0                                     0                                     0                                      0                                   0                        0                         1                            0   \n",
       "1063         3.2                  13.2                  9.5                  11.5                        25           264                       0                      0                         0                     0                                  0                                     0                                     0                                      0                                   0                        0                         1                            0   \n",
       "1064         3.0                  13.4                  9.8                  11.8                        24           271                       0                      0                         0                     0                                  0                                     0                                     0                                      0                                   0                        0                         1                            0   \n",
       "1065         3.2                  12.9                  9.3                  11.3                        25           260                       0                      0                         0                     0                                  0                                     0                                     0                                      0                                   0                        0                         1                            0   \n",
       "1066         3.2                  14.9                 10.2                  12.8                        22           294                       0                      0                         0                     0                                  0                                     0                                     0                                      0                                   0                        0                         0                            1   \n",
       "\n",
       "      vehicleclass_TWO-SEATER  vehicleclass_VAN - CARGO  vehicleclass_VAN - PASSENGER  cylinders_4  cylinders_5  cylinders_6  cylinders_8  cylinders_10  cylinders_12  fueltype_E  fueltype_X  fueltype_Z  \n",
       "0                           0                         0                             0            1            0            0            0             0             0           0           0           1  \n",
       "1                           0                         0                             0            1            0            0            0             0             0           0           0           1  \n",
       "2                           0                         0                             0            1            0            0            0             0             0           0           0           1  \n",
       "3                           0                         0                             0            0            0            1            0             0             0           0           0           1  \n",
       "4                           0                         0                             0            0            0            1            0             0             0           0           0           1  \n",
       "...                       ...                       ...                           ...          ...          ...          ...          ...           ...           ...         ...         ...         ...  \n",
       "1062                        0                         0                             0            0            0            1            0             0             0           0           1           0  \n",
       "1063                        0                         0                             0            0            0            1            0             0             0           0           1           0  \n",
       "1064                        0                         0                             0            0            0            1            0             0             0           0           1           0  \n",
       "1065                        0                         0                             0            0            0            1            0             0             0           0           1           0  \n",
       "1066                        0                         0                             0            0            0            1            0             0             0           0           1           0  \n",
       "\n",
       "[1067 rows x 30 columns]"
      ]
     },
     "execution_count": 21,
     "metadata": {},
     "output_type": "execute_result"
    }
   ],
   "source": [
    "cat_but_car\n",
    "dff = dff.drop(cat_but_car, axis=1)\n",
    "dff"
   ]
  },
  {
   "cell_type": "markdown",
   "id": "47b405eb",
   "metadata": {
    "papermill": {
     "duration": 0.0283,
     "end_time": "2022-12-05T01:06:11.636954",
     "exception": false,
     "start_time": "2022-12-05T01:06:11.608654",
     "status": "completed"
    },
    "tags": []
   },
   "source": [
    "## Let's make standardization"
   ]
  },
  {
   "cell_type": "markdown",
   "id": "f591033b",
   "metadata": {
    "papermill": {
     "duration": 0.028417,
     "end_time": "2022-12-05T01:06:11.694150",
     "exception": false,
     "start_time": "2022-12-05T01:06:11.665733",
     "status": "completed"
    },
    "tags": []
   },
   "source": [
    "### Let's check the outliers again"
   ]
  },
  {
   "cell_type": "code",
   "execution_count": 22,
   "id": "2f85fb9c",
   "metadata": {
    "execution": {
     "iopub.execute_input": "2022-12-05T01:06:11.753884Z",
     "iopub.status.busy": "2022-12-05T01:06:11.753403Z",
     "iopub.status.idle": "2022-12-05T01:06:13.583337Z",
     "shell.execute_reply": "2022-12-05T01:06:13.581949Z"
    },
    "papermill": {
     "duration": 1.863233,
     "end_time": "2022-12-05T01:06:13.586369",
     "exception": false,
     "start_time": "2022-12-05T01:06:11.723136",
     "status": "completed"
    },
    "tags": []
   },
   "outputs": [
    {
     "name": "stdout",
     "output_type": "stream",
     "text": [
      "########## ENGINESIZE ##########\n",
      "       ENGINESIZE\n",
      "count     1067.00\n",
      "mean         3.35\n",
      "std          1.42\n",
      "min          1.00\n",
      "25%          2.00\n",
      "50%          3.40\n",
      "75%          4.30\n",
      "max          8.40\n"
     ]
    },
    {
     "data": {
      "image/png": "[encoded data removed]",
      "text/plain": [
       "<Figure size 720x360 with 2 Axes>"
      ]
     },
     "metadata": {
      "needs_background": "light"
     },
     "output_type": "display_data"
    },
    {
     "name": "stdout",
     "output_type": "stream",
     "text": [
      "########## FUELCONSUMPTION_CITY ##########\n",
      "       FUELCONSUMPTION_CITY\n",
      "count               1067.00\n",
      "mean                  13.30\n",
      "std                    4.10\n",
      "min                    4.60\n",
      "25%                   10.25\n",
      "50%                   12.60\n",
      "75%                   15.55\n",
      "max                   30.20\n"
     ]
    },
    {
     "data": {
      "image/png": "[encoded data removed]",
      "text/plain": [
       "<Figure size 720x360 with 2 Axes>"
      ]
     },
     "metadata": {
      "needs_background": "light"
     },
     "output_type": "display_data"
    },
    {
     "name": "stdout",
     "output_type": "stream",
     "text": [
      "########## FUELCONSUMPTION_HWY ##########\n",
      "       FUELCONSUMPTION_HWY\n",
      "count              1067.00\n",
      "mean                  9.47\n",
      "std                   2.79\n",
      "min                   4.90\n",
      "25%                   7.50\n",
      "50%                   8.80\n",
      "75%                  10.85\n",
      "max                  20.50\n"
     ]
    },
    {
     "data": {
      "image/png": "[encoded data removed]",
      "text/plain": [
       "<Figure size 720x360 with 2 Axes>"
      ]
     },
     "metadata": {
      "needs_background": "light"
     },
     "output_type": "display_data"
    },
    {
     "name": "stdout",
     "output_type": "stream",
     "text": [
      "########## FUELCONSUMPTION_COMB ##########\n",
      "       FUELCONSUMPTION_COMB\n",
      "count               1067.00\n",
      "mean                  11.58\n",
      "std                    3.49\n",
      "min                    4.70\n",
      "25%                    9.00\n",
      "50%                   10.90\n",
      "75%                   13.35\n",
      "max                   25.80\n"
     ]
    },
    {
     "data": {
      "image/png": "[encoded data removed]",
      "text/plain": [
       "<Figure size 720x360 with 2 Axes>"
      ]
     },
     "metadata": {
      "needs_background": "light"
     },
     "output_type": "display_data"
    },
    {
     "name": "stdout",
     "output_type": "stream",
     "text": [
      "########## FUELCONSUMPTION_COMB_MPG ##########\n",
      "       FUELCONSUMPTION_COMB_MPG\n",
      "count                   1067.00\n",
      "mean                      26.44\n",
      "std                        7.47\n",
      "min                       11.00\n",
      "25%                       21.00\n",
      "50%                       26.00\n",
      "75%                       31.00\n",
      "max                       60.00\n"
     ]
    },
    {
     "data": {
      "image/png": "[encoded data removed]",
      "text/plain": [
       "<Figure size 720x360 with 2 Axes>"
      ]
     },
     "metadata": {
      "needs_background": "light"
     },
     "output_type": "display_data"
    }
   ],
   "source": [
    "for col in num_cols:\n",
    "    num_summary(dff, col, plot=True)"
   ]
  },
  {
   "cell_type": "markdown",
   "id": "e79ca8a2",
   "metadata": {
    "papermill": {
     "duration": 0.029598,
     "end_time": "2022-12-05T01:06:13.647404",
     "exception": false,
     "start_time": "2022-12-05T01:06:13.617806",
     "status": "completed"
    },
    "tags": []
   },
   "source": [
    "### According to the above summary analysis of the numerical variables, there are some outliers in the variables. Therefore, we can make a robust standardization, which does not affect from the outliers"
   ]
  },
  {
   "cell_type": "code",
   "execution_count": 23,
   "id": "d75f86b8",
   "metadata": {
    "execution": {
     "iopub.execute_input": "2022-12-05T01:06:13.709580Z",
     "iopub.status.busy": "2022-12-05T01:06:13.709178Z",
     "iopub.status.idle": "2022-12-05T01:06:13.744496Z",
     "shell.execute_reply": "2022-12-05T01:06:13.743352Z"
    },
    "papermill": {
     "duration": 0.069685,
     "end_time": "2022-12-05T01:06:13.747187",
     "exception": false,
     "start_time": "2022-12-05T01:06:13.677502",
     "status": "completed"
    },
    "tags": []
   },
   "outputs": [
    {
     "data": {
      "text/html": [
       "<div>\n",
       "<style scoped>\n",
       "    .dataframe tbody tr th:only-of-type {\n",
       "        vertical-align: middle;\n",
       "    }\n",
       "\n",
       "    .dataframe tbody tr th {\n",
       "        vertical-align: top;\n",
       "    }\n",
       "\n",
       "    .dataframe thead th {\n",
       "        text-align: right;\n",
       "    }\n",
       "</style>\n",
       "<table border=\"1\" class=\"dataframe\">\n",
       "  <thead>\n",
       "    <tr style=\"text-align: right;\">\n",
       "      <th></th>\n",
       "      <th>enginesize</th>\n",
       "      <th>fuelconsumption_city</th>\n",
       "      <th>fuelconsumption_hwy</th>\n",
       "      <th>fuelconsumption_comb</th>\n",
       "      <th>fuelconsumption_comb_mpg</th>\n",
       "      <th>co2emissions</th>\n",
       "      <th>vehicleclass_FULL-SIZE</th>\n",
       "      <th>vehicleclass_MID-SIZE</th>\n",
       "      <th>vehicleclass_MINICOMPACT</th>\n",
       "      <th>vehicleclass_MINIVAN</th>\n",
       "      <th>vehicleclass_PICKUP TRUCK - SMALL</th>\n",
       "      <th>vehicleclass_PICKUP TRUCK - STANDARD</th>\n",
       "      <th>vehicleclass_SPECIAL PURPOSE VEHICLE</th>\n",
       "      <th>vehicleclass_STATION WAGON - MID-SIZE</th>\n",
       "      <th>vehicleclass_STATION WAGON - SMALL</th>\n",
       "      <th>vehicleclass_SUBCOMPACT</th>\n",
       "      <th>vehicleclass_SUV - SMALL</th>\n",
       "      <th>vehicleclass_SUV - STANDARD</th>\n",
       "      <th>vehicleclass_TWO-SEATER</th>\n",
       "      <th>vehicleclass_VAN - CARGO</th>\n",
       "      <th>vehicleclass_VAN - PASSENGER</th>\n",
       "      <th>cylinders_4</th>\n",
       "      <th>cylinders_5</th>\n",
       "      <th>cylinders_6</th>\n",
       "      <th>cylinders_8</th>\n",
       "      <th>cylinders_10</th>\n",
       "      <th>cylinders_12</th>\n",
       "      <th>fueltype_E</th>\n",
       "      <th>fueltype_X</th>\n",
       "      <th>fueltype_Z</th>\n",
       "    </tr>\n",
       "  </thead>\n",
       "  <tbody>\n",
       "    <tr>\n",
       "      <th>0</th>\n",
       "      <td>-0.608696</td>\n",
       "      <td>-0.509434</td>\n",
       "      <td>-0.626866</td>\n",
       "      <td>-0.551724</td>\n",
       "      <td>0.7</td>\n",
       "      <td>196</td>\n",
       "      <td>0</td>\n",
       "      <td>0</td>\n",
       "      <td>0</td>\n",
       "      <td>0</td>\n",
       "      <td>0</td>\n",
       "      <td>0</td>\n",
       "      <td>0</td>\n",
       "      <td>0</td>\n",
       "      <td>0</td>\n",
       "      <td>0</td>\n",
       "      <td>0</td>\n",
       "      <td>0</td>\n",
       "      <td>0</td>\n",
       "      <td>0</td>\n",
       "      <td>0</td>\n",
       "      <td>1</td>\n",
       "      <td>0</td>\n",
       "      <td>0</td>\n",
       "      <td>0</td>\n",
       "      <td>0</td>\n",
       "      <td>0</td>\n",
       "      <td>0</td>\n",
       "      <td>0</td>\n",
       "      <td>1</td>\n",
       "    </tr>\n",
       "    <tr>\n",
       "      <th>1</th>\n",
       "      <td>-0.434783</td>\n",
       "      <td>-0.264151</td>\n",
       "      <td>-0.328358</td>\n",
       "      <td>-0.298851</td>\n",
       "      <td>0.3</td>\n",
       "      <td>221</td>\n",
       "      <td>0</td>\n",
       "      <td>0</td>\n",
       "      <td>0</td>\n",
       "      <td>0</td>\n",
       "      <td>0</td>\n",
       "      <td>0</td>\n",
       "      <td>0</td>\n",
       "      <td>0</td>\n",
       "      <td>0</td>\n",
       "      <td>0</td>\n",
       "      <td>0</td>\n",
       "      <td>0</td>\n",
       "      <td>0</td>\n",
       "      <td>0</td>\n",
       "      <td>0</td>\n",
       "      <td>1</td>\n",
       "      <td>0</td>\n",
       "      <td>0</td>\n",
       "      <td>0</td>\n",
       "      <td>0</td>\n",
       "      <td>0</td>\n",
       "      <td>0</td>\n",
       "      <td>0</td>\n",
       "      <td>1</td>\n",
       "    </tr>\n",
       "    <tr>\n",
       "      <th>2</th>\n",
       "      <td>-0.826087</td>\n",
       "      <td>-1.245283</td>\n",
       "      <td>-0.895522</td>\n",
       "      <td>-1.149425</td>\n",
       "      <td>2.2</td>\n",
       "      <td>136</td>\n",
       "      <td>0</td>\n",
       "      <td>0</td>\n",
       "      <td>0</td>\n",
       "      <td>0</td>\n",
       "      <td>0</td>\n",
       "      <td>0</td>\n",
       "      <td>0</td>\n",
       "      <td>0</td>\n",
       "      <td>0</td>\n",
       "      <td>0</td>\n",
       "      <td>0</td>\n",
       "      <td>0</td>\n",
       "      <td>0</td>\n",
       "      <td>0</td>\n",
       "      <td>0</td>\n",
       "      <td>1</td>\n",
       "      <td>0</td>\n",
       "      <td>0</td>\n",
       "      <td>0</td>\n",
       "      <td>0</td>\n",
       "      <td>0</td>\n",
       "      <td>0</td>\n",
       "      <td>0</td>\n",
       "      <td>1</td>\n",
       "    </tr>\n",
       "    <tr>\n",
       "      <th>3</th>\n",
       "      <td>0.043478</td>\n",
       "      <td>0.018868</td>\n",
       "      <td>0.089552</td>\n",
       "      <td>0.045977</td>\n",
       "      <td>-0.1</td>\n",
       "      <td>255</td>\n",
       "      <td>0</td>\n",
       "      <td>0</td>\n",
       "      <td>0</td>\n",
       "      <td>0</td>\n",
       "      <td>0</td>\n",
       "      <td>0</td>\n",
       "      <td>0</td>\n",
       "      <td>0</td>\n",
       "      <td>0</td>\n",
       "      <td>0</td>\n",
       "      <td>1</td>\n",
       "      <td>0</td>\n",
       "      <td>0</td>\n",
       "      <td>0</td>\n",
       "      <td>0</td>\n",
       "      <td>0</td>\n",
       "      <td>0</td>\n",
       "      <td>1</td>\n",
       "      <td>0</td>\n",
       "      <td>0</td>\n",
       "      <td>0</td>\n",
       "      <td>0</td>\n",
       "      <td>0</td>\n",
       "      <td>1</td>\n",
       "    </tr>\n",
       "    <tr>\n",
       "      <th>4</th>\n",
       "      <td>0.043478</td>\n",
       "      <td>-0.094340</td>\n",
       "      <td>-0.029851</td>\n",
       "      <td>-0.068966</td>\n",
       "      <td>0.1</td>\n",
       "      <td>244</td>\n",
       "      <td>0</td>\n",
       "      <td>0</td>\n",
       "      <td>0</td>\n",
       "      <td>0</td>\n",
       "      <td>0</td>\n",
       "      <td>0</td>\n",
       "      <td>0</td>\n",
       "      <td>0</td>\n",
       "      <td>0</td>\n",
       "      <td>0</td>\n",
       "      <td>1</td>\n",
       "      <td>0</td>\n",
       "      <td>0</td>\n",
       "      <td>0</td>\n",
       "      <td>0</td>\n",
       "      <td>0</td>\n",
       "      <td>0</td>\n",
       "      <td>1</td>\n",
       "      <td>0</td>\n",
       "      <td>0</td>\n",
       "      <td>0</td>\n",
       "      <td>0</td>\n",
       "      <td>0</td>\n",
       "      <td>1</td>\n",
       "    </tr>\n",
       "    <tr>\n",
       "      <th>...</th>\n",
       "      <td>...</td>\n",
       "      <td>...</td>\n",
       "      <td>...</td>\n",
       "      <td>...</td>\n",
       "      <td>...</td>\n",
       "      <td>...</td>\n",
       "      <td>...</td>\n",
       "      <td>...</td>\n",
       "      <td>...</td>\n",
       "      <td>...</td>\n",
       "      <td>...</td>\n",
       "      <td>...</td>\n",
       "      <td>...</td>\n",
       "      <td>...</td>\n",
       "      <td>...</td>\n",
       "      <td>...</td>\n",
       "      <td>...</td>\n",
       "      <td>...</td>\n",
       "      <td>...</td>\n",
       "      <td>...</td>\n",
       "      <td>...</td>\n",
       "      <td>...</td>\n",
       "      <td>...</td>\n",
       "      <td>...</td>\n",
       "      <td>...</td>\n",
       "      <td>...</td>\n",
       "      <td>...</td>\n",
       "      <td>...</td>\n",
       "      <td>...</td>\n",
       "      <td>...</td>\n",
       "    </tr>\n",
       "    <tr>\n",
       "      <th>1062</th>\n",
       "      <td>-0.173913</td>\n",
       "      <td>0.150943</td>\n",
       "      <td>0.298507</td>\n",
       "      <td>0.206897</td>\n",
       "      <td>-0.2</td>\n",
       "      <td>271</td>\n",
       "      <td>0</td>\n",
       "      <td>0</td>\n",
       "      <td>0</td>\n",
       "      <td>0</td>\n",
       "      <td>0</td>\n",
       "      <td>0</td>\n",
       "      <td>0</td>\n",
       "      <td>0</td>\n",
       "      <td>0</td>\n",
       "      <td>0</td>\n",
       "      <td>1</td>\n",
       "      <td>0</td>\n",
       "      <td>0</td>\n",
       "      <td>0</td>\n",
       "      <td>0</td>\n",
       "      <td>0</td>\n",
       "      <td>0</td>\n",
       "      <td>1</td>\n",
       "      <td>0</td>\n",
       "      <td>0</td>\n",
       "      <td>0</td>\n",
       "      <td>0</td>\n",
       "      <td>1</td>\n",
       "      <td>0</td>\n",
       "    </tr>\n",
       "    <tr>\n",
       "      <th>1063</th>\n",
       "      <td>-0.086957</td>\n",
       "      <td>0.113208</td>\n",
       "      <td>0.208955</td>\n",
       "      <td>0.137931</td>\n",
       "      <td>-0.1</td>\n",
       "      <td>264</td>\n",
       "      <td>0</td>\n",
       "      <td>0</td>\n",
       "      <td>0</td>\n",
       "      <td>0</td>\n",
       "      <td>0</td>\n",
       "      <td>0</td>\n",
       "      <td>0</td>\n",
       "      <td>0</td>\n",
       "      <td>0</td>\n",
       "      <td>0</td>\n",
       "      <td>1</td>\n",
       "      <td>0</td>\n",
       "      <td>0</td>\n",
       "      <td>0</td>\n",
       "      <td>0</td>\n",
       "      <td>0</td>\n",
       "      <td>0</td>\n",
       "      <td>1</td>\n",
       "      <td>0</td>\n",
       "      <td>0</td>\n",
       "      <td>0</td>\n",
       "      <td>0</td>\n",
       "      <td>1</td>\n",
       "      <td>0</td>\n",
       "    </tr>\n",
       "    <tr>\n",
       "      <th>1064</th>\n",
       "      <td>-0.173913</td>\n",
       "      <td>0.150943</td>\n",
       "      <td>0.298507</td>\n",
       "      <td>0.206897</td>\n",
       "      <td>-0.2</td>\n",
       "      <td>271</td>\n",
       "      <td>0</td>\n",
       "      <td>0</td>\n",
       "      <td>0</td>\n",
       "      <td>0</td>\n",
       "      <td>0</td>\n",
       "      <td>0</td>\n",
       "      <td>0</td>\n",
       "      <td>0</td>\n",
       "      <td>0</td>\n",
       "      <td>0</td>\n",
       "      <td>1</td>\n",
       "      <td>0</td>\n",
       "      <td>0</td>\n",
       "      <td>0</td>\n",
       "      <td>0</td>\n",
       "      <td>0</td>\n",
       "      <td>0</td>\n",
       "      <td>1</td>\n",
       "      <td>0</td>\n",
       "      <td>0</td>\n",
       "      <td>0</td>\n",
       "      <td>0</td>\n",
       "      <td>1</td>\n",
       "      <td>0</td>\n",
       "    </tr>\n",
       "    <tr>\n",
       "      <th>1065</th>\n",
       "      <td>-0.086957</td>\n",
       "      <td>0.056604</td>\n",
       "      <td>0.149254</td>\n",
       "      <td>0.091954</td>\n",
       "      <td>-0.1</td>\n",
       "      <td>260</td>\n",
       "      <td>0</td>\n",
       "      <td>0</td>\n",
       "      <td>0</td>\n",
       "      <td>0</td>\n",
       "      <td>0</td>\n",
       "      <td>0</td>\n",
       "      <td>0</td>\n",
       "      <td>0</td>\n",
       "      <td>0</td>\n",
       "      <td>0</td>\n",
       "      <td>1</td>\n",
       "      <td>0</td>\n",
       "      <td>0</td>\n",
       "      <td>0</td>\n",
       "      <td>0</td>\n",
       "      <td>0</td>\n",
       "      <td>0</td>\n",
       "      <td>1</td>\n",
       "      <td>0</td>\n",
       "      <td>0</td>\n",
       "      <td>0</td>\n",
       "      <td>0</td>\n",
       "      <td>1</td>\n",
       "      <td>0</td>\n",
       "    </tr>\n",
       "    <tr>\n",
       "      <th>1066</th>\n",
       "      <td>-0.086957</td>\n",
       "      <td>0.433962</td>\n",
       "      <td>0.417910</td>\n",
       "      <td>0.436782</td>\n",
       "      <td>-0.4</td>\n",
       "      <td>294</td>\n",
       "      <td>0</td>\n",
       "      <td>0</td>\n",
       "      <td>0</td>\n",
       "      <td>0</td>\n",
       "      <td>0</td>\n",
       "      <td>0</td>\n",
       "      <td>0</td>\n",
       "      <td>0</td>\n",
       "      <td>0</td>\n",
       "      <td>0</td>\n",
       "      <td>0</td>\n",
       "      <td>1</td>\n",
       "      <td>0</td>\n",
       "      <td>0</td>\n",
       "      <td>0</td>\n",
       "      <td>0</td>\n",
       "      <td>0</td>\n",
       "      <td>1</td>\n",
       "      <td>0</td>\n",
       "      <td>0</td>\n",
       "      <td>0</td>\n",
       "      <td>0</td>\n",
       "      <td>1</td>\n",
       "      <td>0</td>\n",
       "    </tr>\n",
       "  </tbody>\n",
       "</table>\n",
       "<p>1067 rows × 30 columns</p>\n",
       "</div>"
      ],
      "text/plain": [
       "      enginesize  fuelconsumption_city  fuelconsumption_hwy  fuelconsumption_comb  fuelconsumption_comb_mpg  co2emissions  vehicleclass_FULL-SIZE  vehicleclass_MID-SIZE  vehicleclass_MINICOMPACT  vehicleclass_MINIVAN  vehicleclass_PICKUP TRUCK - SMALL  vehicleclass_PICKUP TRUCK - STANDARD  vehicleclass_SPECIAL PURPOSE VEHICLE  vehicleclass_STATION WAGON - MID-SIZE  vehicleclass_STATION WAGON - SMALL  vehicleclass_SUBCOMPACT  vehicleclass_SUV - SMALL  vehicleclass_SUV - STANDARD  \\\n",
       "0      -0.608696             -0.509434            -0.626866             -0.551724                       0.7           196                       0                      0                         0                     0                                  0                                     0                                     0                                      0                                   0                        0                         0                            0   \n",
       "1      -0.434783             -0.264151            -0.328358             -0.298851                       0.3           221                       0                      0                         0                     0                                  0                                     0                                     0                                      0                                   0                        0                         0                            0   \n",
       "2      -0.826087             -1.245283            -0.895522             -1.149425                       2.2           136                       0                      0                         0                     0                                  0                                     0                                     0                                      0                                   0                        0                         0                            0   \n",
       "3       0.043478              0.018868             0.089552              0.045977                      -0.1           255                       0                      0                         0                     0                                  0                                     0                                     0                                      0                                   0                        0                         1                            0   \n",
       "4       0.043478             -0.094340            -0.029851             -0.068966                       0.1           244                       0                      0                         0                     0                                  0                                     0                                     0                                      0                                   0                        0                         1                            0   \n",
       "...          ...                   ...                  ...                   ...                       ...           ...                     ...                    ...                       ...                   ...                                ...                                   ...                                   ...                                    ...                                 ...                      ...                       ...                          ...   \n",
       "1062   -0.173913              0.150943             0.298507              0.206897                      -0.2           271                       0                      0                         0                     0                                  0                                     0                                     0                                      0                                   0                        0                         1                            0   \n",
       "1063   -0.086957              0.113208             0.208955              0.137931                      -0.1           264                       0                      0                         0                     0                                  0                                     0                                     0                                      0                                   0                        0                         1                            0   \n",
       "1064   -0.173913              0.150943             0.298507              0.206897                      -0.2           271                       0                      0                         0                     0                                  0                                     0                                     0                                      0                                   0                        0                         1                            0   \n",
       "1065   -0.086957              0.056604             0.149254              0.091954                      -0.1           260                       0                      0                         0                     0                                  0                                     0                                     0                                      0                                   0                        0                         1                            0   \n",
       "1066   -0.086957              0.433962             0.417910              0.436782                      -0.4           294                       0                      0                         0                     0                                  0                                     0                                     0                                      0                                   0                        0                         0                            1   \n",
       "\n",
       "      vehicleclass_TWO-SEATER  vehicleclass_VAN - CARGO  vehicleclass_VAN - PASSENGER  cylinders_4  cylinders_5  cylinders_6  cylinders_8  cylinders_10  cylinders_12  fueltype_E  fueltype_X  fueltype_Z  \n",
       "0                           0                         0                             0            1            0            0            0             0             0           0           0           1  \n",
       "1                           0                         0                             0            1            0            0            0             0             0           0           0           1  \n",
       "2                           0                         0                             0            1            0            0            0             0             0           0           0           1  \n",
       "3                           0                         0                             0            0            0            1            0             0             0           0           0           1  \n",
       "4                           0                         0                             0            0            0            1            0             0             0           0           0           1  \n",
       "...                       ...                       ...                           ...          ...          ...          ...          ...           ...           ...         ...         ...         ...  \n",
       "1062                        0                         0                             0            0            0            1            0             0             0           0           1           0  \n",
       "1063                        0                         0                             0            0            0            1            0             0             0           0           1           0  \n",
       "1064                        0                         0                             0            0            0            1            0             0             0           0           1           0  \n",
       "1065                        0                         0                             0            0            0            1            0             0             0           0           1           0  \n",
       "1066                        0                         0                             0            0            0            1            0             0             0           0           1           0  \n",
       "\n",
       "[1067 rows x 30 columns]"
      ]
     },
     "execution_count": 23,
     "metadata": {},
     "output_type": "execute_result"
    }
   ],
   "source": [
    "robust_scaler = RobustScaler()\n",
    "dff[num_cols] = robust_scaler.fit_transform(dff[num_cols])\n",
    "dff"
   ]
  },
  {
   "cell_type": "markdown",
   "id": "09cb5379",
   "metadata": {
    "papermill": {
     "duration": 0.031545,
     "end_time": "2022-12-05T01:06:13.810568",
     "exception": false,
     "start_time": "2022-12-05T01:06:13.779023",
     "status": "completed"
    },
    "tags": []
   },
   "source": [
    "# Simple Linear Regression Modeling"
   ]
  },
  {
   "cell_type": "markdown",
   "id": "e75d6a65",
   "metadata": {
    "papermill": {
     "duration": 0.030311,
     "end_time": "2022-12-05T01:06:13.871779",
     "exception": false,
     "start_time": "2022-12-05T01:06:13.841468",
     "status": "completed"
    },
    "tags": []
   },
   "source": [
    "## Let's select dependent and independent variable"
   ]
  },
  {
   "cell_type": "code",
   "execution_count": 24,
   "id": "1310a6b1",
   "metadata": {
    "execution": {
     "iopub.execute_input": "2022-12-05T01:06:13.936121Z",
     "iopub.status.busy": "2022-12-05T01:06:13.935373Z",
     "iopub.status.idle": "2022-12-05T01:06:13.943225Z",
     "shell.execute_reply": "2022-12-05T01:06:13.942180Z"
    },
    "papermill": {
     "duration": 0.043059,
     "end_time": "2022-12-05T01:06:13.945762",
     "exception": false,
     "start_time": "2022-12-05T01:06:13.902703",
     "status": "completed"
    },
    "tags": []
   },
   "outputs": [],
   "source": [
    "y = dff[['co2emissions']]\n",
    "X = dff.drop('co2emissions', axis=1)"
   ]
  },
  {
   "cell_type": "markdown",
   "id": "a233faa1",
   "metadata": {
    "papermill": {
     "duration": 0.03105,
     "end_time": "2022-12-05T01:06:14.007492",
     "exception": false,
     "start_time": "2022-12-05T01:06:13.976442",
     "status": "completed"
    },
    "tags": []
   },
   "source": [
    "## Let's bulid the train and test sets"
   ]
  },
  {
   "cell_type": "code",
   "execution_count": 25,
   "id": "44c2a887",
   "metadata": {
    "execution": {
     "iopub.execute_input": "2022-12-05T01:06:14.073386Z",
     "iopub.status.busy": "2022-12-05T01:06:14.071761Z",
     "iopub.status.idle": "2022-12-05T01:06:14.082423Z",
     "shell.execute_reply": "2022-12-05T01:06:14.081150Z"
    },
    "papermill": {
     "duration": 0.04708,
     "end_time": "2022-12-05T01:06:14.085591",
     "exception": false,
     "start_time": "2022-12-05T01:06:14.038511",
     "status": "completed"
    },
    "tags": []
   },
   "outputs": [
    {
     "data": {
      "text/plain": [
       "((853, 29), (214, 29))"
      ]
     },
     "execution_count": 25,
     "metadata": {},
     "output_type": "execute_result"
    }
   ],
   "source": [
    "X_train, X_test, y_train, y_test = train_test_split(X, y, test_size=0.2, random_state=1)\n",
    "X_train.shape, X_test.shape"
   ]
  },
  {
   "cell_type": "markdown",
   "id": "518434f3",
   "metadata": {
    "papermill": {
     "duration": 0.032057,
     "end_time": "2022-12-05T01:06:14.149035",
     "exception": false,
     "start_time": "2022-12-05T01:06:14.116978",
     "status": "completed"
    },
    "tags": []
   },
   "source": [
    "## Let's create and fit the model"
   ]
  },
  {
   "cell_type": "code",
   "execution_count": 26,
   "id": "b3068255",
   "metadata": {
    "execution": {
     "iopub.execute_input": "2022-12-05T01:06:14.215492Z",
     "iopub.status.busy": "2022-12-05T01:06:14.215028Z",
     "iopub.status.idle": "2022-12-05T01:06:14.244033Z",
     "shell.execute_reply": "2022-12-05T01:06:14.242765Z"
    },
    "papermill": {
     "duration": 0.065088,
     "end_time": "2022-12-05T01:06:14.247438",
     "exception": false,
     "start_time": "2022-12-05T01:06:14.182350",
     "status": "completed"
    },
    "tags": []
   },
   "outputs": [],
   "source": [
    "linear_model = LinearRegression().fit(X_train, y_train)"
   ]
  },
  {
   "cell_type": "markdown",
   "id": "c79f7d20",
   "metadata": {
    "papermill": {
     "duration": 0.051359,
     "end_time": "2022-12-05T01:06:14.350332",
     "exception": false,
     "start_time": "2022-12-05T01:06:14.298973",
     "status": "completed"
    },
    "tags": []
   },
   "source": [
    "## Let's fing the intercept of the model"
   ]
  },
  {
   "cell_type": "code",
   "execution_count": 27,
   "id": "963a3589",
   "metadata": {
    "execution": {
     "iopub.execute_input": "2022-12-05T01:06:14.416356Z",
     "iopub.status.busy": "2022-12-05T01:06:14.415927Z",
     "iopub.status.idle": "2022-12-05T01:06:14.423401Z",
     "shell.execute_reply": "2022-12-05T01:06:14.422467Z"
    },
    "papermill": {
     "duration": 0.042245,
     "end_time": "2022-12-05T01:06:14.425500",
     "exception": false,
     "start_time": "2022-12-05T01:06:14.383255",
     "status": "completed"
    },
    "tags": []
   },
   "outputs": [
    {
     "data": {
      "text/plain": [
       "array([290.94071261])"
      ]
     },
     "execution_count": 27,
     "metadata": {},
     "output_type": "execute_result"
    }
   ],
   "source": [
    "linear_model.intercept_"
   ]
  },
  {
   "cell_type": "markdown",
   "id": "54729507",
   "metadata": {
    "papermill": {
     "duration": 0.031057,
     "end_time": "2022-12-05T01:06:14.487798",
     "exception": false,
     "start_time": "2022-12-05T01:06:14.456741",
     "status": "completed"
    },
    "tags": []
   },
   "source": [
    "## Let's fing the coefficients of the model"
   ]
  },
  {
   "cell_type": "code",
   "execution_count": 28,
   "id": "e3266402",
   "metadata": {
    "execution": {
     "iopub.execute_input": "2022-12-05T01:06:14.552242Z",
     "iopub.status.busy": "2022-12-05T01:06:14.551080Z",
     "iopub.status.idle": "2022-12-05T01:06:14.558397Z",
     "shell.execute_reply": "2022-12-05T01:06:14.557296Z"
    },
    "papermill": {
     "duration": 0.041716,
     "end_time": "2022-12-05T01:06:14.560510",
     "exception": false,
     "start_time": "2022-12-05T01:06:14.518794",
     "status": "completed"
    },
    "tags": []
   },
   "outputs": [
    {
     "data": {
      "text/plain": [
       "array([[ 3.07807159e+00, -1.05689113e+01, -6.78882916e+00,\n",
       "         9.30137684e+01, -1.60275807e+01, -4.47023353e-02,\n",
       "        -4.42526040e-01, -9.34613616e-01, -3.55672301e-01,\n",
       "         1.18715735e+00,  1.94481952e+00, -1.91598491e+00,\n",
       "         1.49127375e-01, -9.24014765e-01, -8.30542996e-01,\n",
       "        -1.27218855e+00,  1.27736265e+00,  2.90473733e-02,\n",
       "        -1.15909411e+00,  4.37100854e+00, -5.95937361e+00,\n",
       "        -8.63515261e+00, -5.30182272e+00, -3.33258203e+00,\n",
       "         6.95861503e+00,  5.18966174e+00, -1.40477572e+02,\n",
       "        -3.17798888e+01, -3.28549988e+01]])"
      ]
     },
     "execution_count": 28,
     "metadata": {},
     "output_type": "execute_result"
    }
   ],
   "source": [
    "linear_model.coef_"
   ]
  },
  {
   "cell_type": "markdown",
   "id": "d452b383",
   "metadata": {
    "papermill": {
     "duration": 0.030985,
     "end_time": "2022-12-05T01:06:14.622902",
     "exception": false,
     "start_time": "2022-12-05T01:06:14.591917",
     "status": "completed"
    },
    "tags": []
   },
   "source": [
    "## Let's caculate the RMSE and R2 values for train and test sets"
   ]
  },
  {
   "cell_type": "markdown",
   "id": "37d2582f",
   "metadata": {
    "papermill": {
     "duration": 0.031116,
     "end_time": "2022-12-05T01:06:14.685311",
     "exception": false,
     "start_time": "2022-12-05T01:06:14.654195",
     "status": "completed"
    },
    "tags": []
   },
   "source": [
    "### Train set"
   ]
  },
  {
   "cell_type": "code",
   "execution_count": 29,
   "id": "14173ac8",
   "metadata": {
    "execution": {
     "iopub.execute_input": "2022-12-05T01:06:14.753721Z",
     "iopub.status.busy": "2022-12-05T01:06:14.752743Z",
     "iopub.status.idle": "2022-12-05T01:06:14.771059Z",
     "shell.execute_reply": "2022-12-05T01:06:14.769307Z"
    },
    "papermill": {
     "duration": 0.059484,
     "end_time": "2022-12-05T01:06:14.776445",
     "exception": false,
     "start_time": "2022-12-05T01:06:14.716961",
     "status": "completed"
    },
    "tags": []
   },
   "outputs": [
    {
     "name": "stdout",
     "output_type": "stream",
     "text": [
      "The RMSE value for train set is 5.202672625480476\n"
     ]
    }
   ],
   "source": [
    "y_pred_train = linear_model.predict(X_train)\n",
    "print('The RMSE value for train set is', np.sqrt(mean_squared_error(y_train, y_pred_train)))"
   ]
  },
  {
   "cell_type": "code",
   "execution_count": 30,
   "id": "25128ad2",
   "metadata": {
    "execution": {
     "iopub.execute_input": "2022-12-05T01:06:14.888474Z",
     "iopub.status.busy": "2022-12-05T01:06:14.888084Z",
     "iopub.status.idle": "2022-12-05T01:06:14.894486Z",
     "shell.execute_reply": "2022-12-05T01:06:14.893601Z"
    },
    "papermill": {
     "duration": 0.060297,
     "end_time": "2022-12-05T01:06:14.896883",
     "exception": false,
     "start_time": "2022-12-05T01:06:14.836586",
     "status": "completed"
    },
    "tags": []
   },
   "outputs": [
    {
     "name": "stdout",
     "output_type": "stream",
     "text": [
      "The R2 score for train set is 0.9932350879108589\n"
     ]
    }
   ],
   "source": [
    "print('The R2 score for train set is', r2_score(y_train.values, y_pred_train))"
   ]
  },
  {
   "cell_type": "markdown",
   "id": "e02c101e",
   "metadata": {
    "papermill": {
     "duration": 0.030766,
     "end_time": "2022-12-05T01:06:14.960234",
     "exception": false,
     "start_time": "2022-12-05T01:06:14.929468",
     "status": "completed"
    },
    "tags": []
   },
   "source": [
    "#### Test set"
   ]
  },
  {
   "cell_type": "code",
   "execution_count": 31,
   "id": "bab98898",
   "metadata": {
    "execution": {
     "iopub.execute_input": "2022-12-05T01:06:15.025283Z",
     "iopub.status.busy": "2022-12-05T01:06:15.024467Z",
     "iopub.status.idle": "2022-12-05T01:06:15.035480Z",
     "shell.execute_reply": "2022-12-05T01:06:15.034299Z"
    },
    "papermill": {
     "duration": 0.046625,
     "end_time": "2022-12-05T01:06:15.038498",
     "exception": false,
     "start_time": "2022-12-05T01:06:14.991873",
     "status": "completed"
    },
    "tags": []
   },
   "outputs": [
    {
     "name": "stdout",
     "output_type": "stream",
     "text": [
      "The RMSE value for test set is 5.509539184149913\n"
     ]
    }
   ],
   "source": [
    "y_pred_test = linear_model.predict(X_test)\n",
    "print('The RMSE value for test set is', np.sqrt(mean_squared_error(y_test, y_pred_test)))"
   ]
  },
  {
   "cell_type": "code",
   "execution_count": 32,
   "id": "b4604c21",
   "metadata": {
    "execution": {
     "iopub.execute_input": "2022-12-05T01:06:15.109184Z",
     "iopub.status.busy": "2022-12-05T01:06:15.108380Z",
     "iopub.status.idle": "2022-12-05T01:06:15.115287Z",
     "shell.execute_reply": "2022-12-05T01:06:15.113742Z"
    },
    "papermill": {
     "duration": 0.044032,
     "end_time": "2022-12-05T01:06:15.118032",
     "exception": false,
     "start_time": "2022-12-05T01:06:15.074000",
     "status": "completed"
    },
    "tags": []
   },
   "outputs": [
    {
     "name": "stdout",
     "output_type": "stream",
     "text": [
      "The R2 value for test set is 0.9925168457619381\n"
     ]
    }
   ],
   "source": [
    "print('The R2 value for test set is', r2_score(y_test.values, y_pred_test))"
   ]
  },
  {
   "cell_type": "markdown",
   "id": "32656c6c",
   "metadata": {
    "papermill": {
     "duration": 0.033092,
     "end_time": "2022-12-05T01:06:15.183016",
     "exception": false,
     "start_time": "2022-12-05T01:06:15.149924",
     "status": "completed"
    },
    "tags": []
   },
   "source": [
    "## Let's show the correlation between the actual and predicted CO2 emissions"
   ]
  },
  {
   "cell_type": "markdown",
   "id": "a9c66620",
   "metadata": {
    "papermill": {
     "duration": 0.033947,
     "end_time": "2022-12-05T01:06:15.250171",
     "exception": false,
     "start_time": "2022-12-05T01:06:15.216224",
     "status": "completed"
    },
    "tags": []
   },
   "source": [
    "### For train set"
   ]
  },
  {
   "cell_type": "code",
   "execution_count": 33,
   "id": "281a37c4",
   "metadata": {
    "execution": {
     "iopub.execute_input": "2022-12-05T01:06:15.317419Z",
     "iopub.status.busy": "2022-12-05T01:06:15.316621Z",
     "iopub.status.idle": "2022-12-05T01:06:15.681440Z",
     "shell.execute_reply": "2022-12-05T01:06:15.680251Z"
    },
    "papermill": {
     "duration": 0.402631,
     "end_time": "2022-12-05T01:06:15.684792",
     "exception": false,
     "start_time": "2022-12-05T01:06:15.282161",
     "status": "completed"
    },
    "tags": []
   },
   "outputs": [
    {
     "data": {
      "image/png": "[encoded data removed]",
      "text/plain": [
       "<Figure size 432x288 with 1 Axes>"
      ]
     },
     "metadata": {
      "needs_background": "light"
     },
     "output_type": "display_data"
    }
   ],
   "source": [
    "sns.regplot(x=y_train.values, y=y_pred_train)\n",
    "plt.xlabel('Actual CO2 Emissions')\n",
    "plt.ylabel('Predicted CO2 Emissions')\n",
    "plt.show()"
   ]
  },
  {
   "cell_type": "markdown",
   "id": "048a1104",
   "metadata": {
    "papermill": {
     "duration": 0.031999,
     "end_time": "2022-12-05T01:06:15.749833",
     "exception": false,
     "start_time": "2022-12-05T01:06:15.717834",
     "status": "completed"
    },
    "tags": []
   },
   "source": [
    "### For test set"
   ]
  },
  {
   "cell_type": "code",
   "execution_count": 34,
   "id": "798f878c",
   "metadata": {
    "execution": {
     "iopub.execute_input": "2022-12-05T01:06:15.816010Z",
     "iopub.status.busy": "2022-12-05T01:06:15.815602Z",
     "iopub.status.idle": "2022-12-05T01:06:16.122378Z",
     "shell.execute_reply": "2022-12-05T01:06:16.121062Z"
    },
    "papermill": {
     "duration": 0.34343,
     "end_time": "2022-12-05T01:06:16.125472",
     "exception": false,
     "start_time": "2022-12-05T01:06:15.782042",
     "status": "completed"
    },
    "tags": []
   },
   "outputs": [
    {
     "data": {
      "image/png": "[encoded data removed]",
      "text/plain": [
       "<Figure size 432x288 with 1 Axes>"
      ]
     },
     "metadata": {
      "needs_background": "light"
     },
     "output_type": "display_data"
    }
   ],
   "source": [
    "sns.regplot(x=y_test.values, y=y_pred_test)\n",
    "plt.xlabel('Actual CO2 Emissions')\n",
    "plt.ylabel('Predicted CO2 Emissions')\n",
    "plt.show()"
   ]
  },
  {
   "cell_type": "markdown",
   "id": "2038d9e1",
   "metadata": {
    "papermill": {
     "duration": 0.034885,
     "end_time": "2022-12-05T01:06:16.193354",
     "exception": false,
     "start_time": "2022-12-05T01:06:16.158469",
     "status": "completed"
    },
    "tags": []
   },
   "source": [
    "### As you see that there is a high correlation between the observed and predicted values of CO2 emissions for both train set and test set"
   ]
  },
  {
   "cell_type": "markdown",
   "id": "607ae56b",
   "metadata": {
    "papermill": {
     "duration": 0.032285,
     "end_time": "2022-12-05T01:06:16.258679",
     "exception": false,
     "start_time": "2022-12-05T01:06:16.226394",
     "status": "completed"
    },
    "tags": []
   },
   "source": [
    "## Let's make a 10-fold cross validation"
   ]
  },
  {
   "cell_type": "code",
   "execution_count": 35,
   "id": "35003dba",
   "metadata": {
    "execution": {
     "iopub.execute_input": "2022-12-05T01:06:16.327471Z",
     "iopub.status.busy": "2022-12-05T01:06:16.326409Z",
     "iopub.status.idle": "2022-12-05T01:06:16.459747Z",
     "shell.execute_reply": "2022-12-05T01:06:16.458349Z"
    },
    "papermill": {
     "duration": 0.171639,
     "end_time": "2022-12-05T01:06:16.463086",
     "exception": false,
     "start_time": "2022-12-05T01:06:16.291447",
     "status": "completed"
    },
    "tags": []
   },
   "outputs": [
    {
     "name": "stdout",
     "output_type": "stream",
     "text": [
      "The cross validation score of the model is 5.521490169793724\n"
     ]
    }
   ],
   "source": [
    "print('The cross validation score of the model is', np.mean(np.sqrt(-cross_val_score(linear_model, X, y, cv=10, scoring='neg_mean_squared_error'))))"
   ]
  },
  {
   "cell_type": "markdown",
   "id": "03a5f617",
   "metadata": {
    "papermill": {
     "duration": 0.054034,
     "end_time": "2022-12-05T01:06:16.573055",
     "exception": false,
     "start_time": "2022-12-05T01:06:16.519021",
     "status": "completed"
    },
    "tags": []
   },
   "source": [
    "## On the other hand, Lazy Predict helps to build many basic models without using a lot of code and helps to understand which models work better without any parameter adjustments. Let's write some code and predict customer churn fastly.\n",
    "\n",
    "## Let's install the lazypredict module"
   ]
  },
  {
   "cell_type": "code",
   "execution_count": 36,
   "id": "430cfa71",
   "metadata": {
    "execution": {
     "iopub.execute_input": "2022-12-05T01:06:16.640943Z",
     "iopub.status.busy": "2022-12-05T01:06:16.640549Z",
     "iopub.status.idle": "2022-12-05T01:06:31.422876Z",
     "shell.execute_reply": "2022-12-05T01:06:31.421601Z"
    },
    "papermill": {
     "duration": 14.819848,
     "end_time": "2022-12-05T01:06:31.425726",
     "exception": false,
     "start_time": "2022-12-05T01:06:16.605878",
     "status": "completed"
    },
    "tags": []
   },
   "outputs": [
    {
     "name": "stdout",
     "output_type": "stream",
     "text": [
      "Collecting lazypredict\r\n",
      "  Downloading lazypredict-0.2.12-py2.py3-none-any.whl (12 kB)\r\n",
      "Requirement already satisfied: lightgbm in /opt/conda/lib/python3.7/site-packages (from lazypredict) (3.3.2)\r\n",
      "Requirement already satisfied: joblib in /opt/conda/lib/python3.7/site-packages (from lazypredict) (1.0.1)\r\n",
      "Requirement already satisfied: click in /opt/conda/lib/python3.7/site-packages (from lazypredict) (8.0.4)\r\n",
      "Requirement already satisfied: xgboost in /opt/conda/lib/python3.7/site-packages (from lazypredict) (1.6.2)\r\n",
      "Requirement already satisfied: scikit-learn in /opt/conda/lib/python3.7/site-packages (from lazypredict) (1.0.2)\r\n",
      "Requirement already satisfied: pandas in /opt/conda/lib/python3.7/site-packages (from lazypredict) (1.3.5)\r\n",
      "Requirement already satisfied: tqdm in /opt/conda/lib/python3.7/site-packages (from lazypredict) (4.64.0)\r\n",
      "Requirement already satisfied: importlib-metadata in /opt/conda/lib/python3.7/site-packages (from click->lazypredict) (4.13.0)\r\n",
      "Requirement already satisfied: scipy in /opt/conda/lib/python3.7/site-packages (from lightgbm->lazypredict) (1.7.3)\r\n",
      "Requirement already satisfied: numpy in /opt/conda/lib/python3.7/site-packages (from lightgbm->lazypredict) (1.21.6)\r\n",
      "Requirement already satisfied: wheel in /opt/conda/lib/python3.7/site-packages (from lightgbm->lazypredict) (0.37.1)\r\n",
      "Requirement already satisfied: threadpoolctl>=2.0.0 in /opt/conda/lib/python3.7/site-packages (from scikit-learn->lazypredict) (3.1.0)\r\n",
      "Requirement already satisfied: python-dateutil>=2.7.3 in /opt/conda/lib/python3.7/site-packages (from pandas->lazypredict) (2.8.2)\r\n",
      "Requirement already satisfied: pytz>=2017.3 in /opt/conda/lib/python3.7/site-packages (from pandas->lazypredict) (2022.1)\r\n",
      "Requirement already satisfied: six>=1.5 in /opt/conda/lib/python3.7/site-packages (from python-dateutil>=2.7.3->pandas->lazypredict) (1.15.0)\r\n",
      "Requirement already satisfied: typing-extensions>=3.6.4 in /opt/conda/lib/python3.7/site-packages (from importlib-metadata->click->lazypredict) (4.4.0)\r\n",
      "Requirement already satisfied: zipp>=0.5 in /opt/conda/lib/python3.7/site-packages (from importlib-metadata->click->lazypredict) (3.8.0)\r\n",
      "Installing collected packages: lazypredict\r\n",
      "Successfully installed lazypredict-0.2.12\r\n",
      "\u001b[33mWARNING: Running pip as the 'root' user can result in broken permissions and conflicting behaviour with the system package manager. It is recommended to use a virtual environment instead: https://pip.pypa.io/warnings/venv\u001b[0m\u001b[33m\r\n",
      "\u001b[0m"
     ]
    }
   ],
   "source": [
    "!pip install lazypredict"
   ]
  },
  {
   "cell_type": "code",
   "execution_count": 37,
   "id": "62ec5f05",
   "metadata": {
    "execution": {
     "iopub.execute_input": "2022-12-05T01:06:31.501183Z",
     "iopub.status.busy": "2022-12-05T01:06:31.500654Z",
     "iopub.status.idle": "2022-12-05T01:06:33.492405Z",
     "shell.execute_reply": "2022-12-05T01:06:33.491091Z"
    },
    "papermill": {
     "duration": 2.033351,
     "end_time": "2022-12-05T01:06:33.495268",
     "exception": false,
     "start_time": "2022-12-05T01:06:31.461917",
     "status": "completed"
    },
    "tags": []
   },
   "outputs": [
    {
     "data": {
      "text/html": [
       "<style type='text/css'>\n",
       ".datatable table.frame { margin-bottom: 0; }\n",
       ".datatable table.frame thead { border-bottom: none; }\n",
       ".datatable table.frame tr.coltypes td {  color: #FFFFFF;  line-height: 6px;  padding: 0 0.5em;}\n",
       ".datatable .bool    { background: #DDDD99; }\n",
       ".datatable .object  { background: #565656; }\n",
       ".datatable .int     { background: #5D9E5D; }\n",
       ".datatable .float   { background: #4040CC; }\n",
       ".datatable .str     { background: #CC4040; }\n",
       ".datatable .time    { background: #40CC40; }\n",
       ".datatable .row_index {  background: var(--jp-border-color3);  border-right: 1px solid var(--jp-border-color0);  color: var(--jp-ui-font-color3);  font-size: 9px;}\n",
       ".datatable .frame tbody td { text-align: left; }\n",
       ".datatable .frame tr.coltypes .row_index {  background: var(--jp-border-color0);}\n",
       ".datatable th:nth-child(2) { padding-left: 12px; }\n",
       ".datatable .hellipsis {  color: var(--jp-cell-editor-border-color);}\n",
       ".datatable .vellipsis {  background: var(--jp-layout-color0);  color: var(--jp-cell-editor-border-color);}\n",
       ".datatable .na {  color: var(--jp-cell-editor-border-color);  font-size: 80%;}\n",
       ".datatable .sp {  opacity: 0.25;}\n",
       ".datatable .footer { font-size: 9px; }\n",
       ".datatable .frame_dimensions {  background: var(--jp-border-color3);  border-top: 1px solid var(--jp-border-color0);  color: var(--jp-ui-font-color3);  display: inline-block;  opacity: 0.6;  padding: 1px 10px 1px 5px;}\n",
       ".datatable .frame thead tr.colnames {  background-image: url('data:image/png;base64,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');  background-repeat: repeat-x;  background-size: 14px;  height: 28px;}\n",
       "</style>\n"
      ],
      "text/plain": [
       "<IPython.core.display.HTML object>"
      ]
     },
     "metadata": {},
     "output_type": "display_data"
    }
   ],
   "source": [
    "from lazypredict.Supervised import LazyRegressor"
   ]
  },
  {
   "cell_type": "code",
   "execution_count": 38,
   "id": "9afca74f",
   "metadata": {
    "execution": {
     "iopub.execute_input": "2022-12-05T01:06:33.565602Z",
     "iopub.status.busy": "2022-12-05T01:06:33.564807Z",
     "iopub.status.idle": "2022-12-05T01:06:48.094096Z",
     "shell.execute_reply": "2022-12-05T01:06:48.093121Z"
    },
    "papermill": {
     "duration": 14.570877,
     "end_time": "2022-12-05T01:06:48.099890",
     "exception": false,
     "start_time": "2022-12-05T01:06:33.529013",
     "status": "completed"
    },
    "tags": []
   },
   "outputs": [
    {
     "name": "stderr",
     "output_type": "stream",
     "text": [
      "100%|██████████| 42/42 [00:14<00:00,  2.90it/s]"
     ]
    },
    {
     "name": "stdout",
     "output_type": "stream",
     "text": [
      "                               Adjusted R-Squared  R-Squared     RMSE  Time Taken\n",
      "Model                                                                            \n",
      "PoissonRegressor                             1.00       1.00     2.24        0.05\n",
      "XGBRegressor                                 1.00       1.00     3.72        0.57\n",
      "LGBMRegressor                                1.00       1.00     4.05        0.15\n",
      "HuberRegressor                               1.00       1.00     4.13        0.09\n",
      "HistGradientBoostingRegressor                0.99       1.00     4.19        0.43\n",
      "TransformedTargetRegressor                   0.99       0.99     4.40        0.02\n",
      "LinearRegression                             0.99       0.99     4.40        0.02\n",
      "LassoLarsIC                                  0.99       0.99     4.41        0.04\n",
      "LassoLarsCV                                  0.99       0.99     4.42        0.08\n",
      "RidgeCV                                      0.99       0.99     4.42        0.03\n",
      "BayesianRidge                                0.99       0.99     4.44        0.04\n",
      "LassoCV                                      0.99       0.99     4.47        0.25\n",
      "Ridge                                        0.99       0.99     4.49        0.02\n",
      "SGDRegressor                                 0.99       0.99     4.56        0.05\n",
      "GradientBoostingRegressor                    0.99       0.99     4.66        0.17\n",
      "ExtraTreesRegressor                          0.99       0.99     4.91        0.28\n",
      "RandomForestRegressor                        0.99       0.99     5.03        0.38\n",
      "RANSACRegressor                              0.99       0.99     5.04        0.04\n",
      "DecisionTreeRegressor                        0.99       0.99     5.30        0.06\n",
      "BaggingRegressor                             0.99       0.99     5.33        0.05\n",
      "PassiveAggressiveRegressor                   0.99       0.99     5.47        0.03\n",
      "LinearSVR                                    0.99       0.99     7.02        0.07\n",
      "ExtraTreeRegressor                           0.98       0.99     7.31        0.06\n",
      "Lasso                                        0.98       0.99     7.50        0.06\n",
      "ElasticNetCV                                 0.98       0.98     8.24        0.19\n",
      "AdaBoostRegressor                            0.95       0.96    12.80        0.13\n",
      "KNeighborsRegressor                          0.94       0.95    14.32        0.03\n",
      "ElasticNet                                   0.92       0.93    16.24        0.02\n",
      "OrthogonalMatchingPursuitCV                  0.91       0.92    17.38        0.03\n",
      "TweedieRegressor                             0.88       0.90    19.96        0.03\n",
      "OrthogonalMatchingPursuit                    0.88       0.89    20.15        0.02\n",
      "GammaRegressor                               0.88       0.89    20.21        0.02\n",
      "LarsCV                                       0.84       0.86    23.43        0.08\n",
      "SVR                                          0.64       0.68    35.24        0.11\n",
      "LassoLars                                    0.62       0.66    36.25        0.04\n",
      "NuSVR                                        0.58       0.63    37.97        0.11\n",
      "GaussianProcessRegressor                     0.49       0.55    41.75        0.17\n",
      "QuantileRegressor                           -0.12      -0.00    62.18        9.07\n",
      "DummyRegressor                              -0.13      -0.01    62.36        0.04\n",
      "MLPRegressor                                -0.27      -0.13    66.03        1.14\n",
      "KernelRidge                                -18.29     -16.18   257.67        0.08\n",
      "Lars                                   -286034.84 -254850.48 31380.21        0.07\n"
     ]
    },
    {
     "name": "stderr",
     "output_type": "stream",
     "text": [
      "\n"
     ]
    }
   ],
   "source": [
    "X_new_train, y_new_train, X_new_test, y_new_test = train_test_split(X, y, test_size=0.25, random_state=19)\n",
    "clf = LazyRegressor(verbose=0, ignore_warnings=True, custom_metric=None)\n",
    "models, predictions = clf.fit(X_new_train, y_new_train, X_new_test, y_new_test )\n",
    "print(models)"
   ]
  },
  {
   "cell_type": "markdown",
   "id": "73ae0f1a",
   "metadata": {
    "papermill": {
     "duration": 0.035148,
     "end_time": "2022-12-05T01:06:48.171364",
     "exception": false,
     "start_time": "2022-12-05T01:06:48.136216",
     "status": "completed"
    },
    "tags": []
   },
   "source": [
    "# **Thank you for checking my notebook!**"
   ]
  },
  {
   "cell_type": "code",
   "execution_count": null,
   "id": "a950cf03",
   "metadata": {
    "papermill": {
     "duration": 0.035049,
     "end_time": "2022-12-05T01:06:48.242776",
     "exception": false,
     "start_time": "2022-12-05T01:06:48.207727",
     "status": "completed"
    },
    "tags": []
   },
   "outputs": [],
   "source": []
  }
 ],
 "metadata": {
  "kernelspec": {
   "display_name": "Python 3",
   "language": "python",
   "name": "python3"
  },
  "language_info": {
   "codemirror_mode": {
    "name": "ipython",
    "version": 3
   },
   "file_extension": ".py",
   "mimetype": "text/x-python",
   "name": "python",
   "nbconvert_exporter": "python",
   "pygments_lexer": "ipython3",
   "version": "3.7.12"
  },
  "papermill": {
   "default_parameters": {},
   "duration": 65.210129,
   "end_time": "2022-12-05T01:06:49.202709",
   "environment_variables": {},
   "exception": null,
   "input_path": "__notebook__.ipynb",
   "output_path": "__notebook__.ipynb",
   "parameters": {},
   "start_time": "2022-12-05T01:05:43.992580",
   "version": "2.3.4"
  }
 },
 "nbformat": 4,
 "nbformat_minor": 5
}
